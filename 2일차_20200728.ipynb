{
 "cells": [
  {
   "cell_type": "code",
   "execution_count": 1,
   "metadata": {},
   "outputs": [
    {
     "name": "stdout",
     "output_type": "stream",
     "text": [
      "2\n"
     ]
    }
   ],
   "source": [
    "temp=2\n",
    "print(temp)"
   ]
  },
  {
   "cell_type": "code",
   "execution_count": 2,
   "metadata": {},
   "outputs": [
    {
     "name": "stdout",
     "output_type": "stream",
     "text": [
      "10\n",
      "4\n",
      "21\n",
      "2.3333333333333335\n"
     ]
    }
   ],
   "source": [
    "a=7\n",
    "b=3\n",
    "print(a+b)\n",
    "print(a-b)\n",
    "print(a*b)\n",
    "print(a/b)"
   ]
  },
  {
   "cell_type": "code",
   "execution_count": 3,
   "metadata": {},
   "outputs": [
    {
     "data": {
      "text/plain": [
       "int"
      ]
     },
     "execution_count": 3,
     "metadata": {},
     "output_type": "execute_result"
    }
   ],
   "source": [
    "type(a)"
   ]
  },
  {
   "cell_type": "code",
   "execution_count": 4,
   "metadata": {},
   "outputs": [
    {
     "name": "stdout",
     "output_type": "stream",
     "text": [
      "2\n"
     ]
    }
   ],
   "source": [
    "#몫 구하기\n",
    "print(a//b)"
   ]
  },
  {
   "cell_type": "code",
   "execution_count": 5,
   "metadata": {},
   "outputs": [
    {
     "name": "stdout",
     "output_type": "stream",
     "text": [
      "1\n"
     ]
    }
   ],
   "source": [
    "#나머지 구하기\n",
    "print(a%b)"
   ]
  },
  {
   "cell_type": "code",
   "execution_count": 6,
   "metadata": {},
   "outputs": [
    {
     "name": "stdout",
     "output_type": "stream",
     "text": [
      "343\n"
     ]
    }
   ],
   "source": [
    "#지수 구하기\n",
    "print(a**b)"
   ]
  },
  {
   "cell_type": "code",
   "execution_count": 7,
   "metadata": {},
   "outputs": [
    {
     "data": {
      "text/plain": [
       "'python is easy'"
      ]
     },
     "execution_count": 7,
     "metadata": {},
     "output_type": "execute_result"
    }
   ],
   "source": [
    "temp='python is easy'\n",
    "temp"
   ]
  },
  {
   "cell_type": "code",
   "execution_count": 8,
   "metadata": {},
   "outputs": [
    {
     "data": {
      "text/plain": [
       "14"
      ]
     },
     "execution_count": 8,
     "metadata": {},
     "output_type": "execute_result"
    }
   ],
   "source": [
    "#문자열의 길이\n",
    "len(temp)"
   ]
  },
  {
   "cell_type": "code",
   "execution_count": 9,
   "metadata": {},
   "outputs": [
    {
     "data": {
      "text/plain": [
       "'pythonis easy'"
      ]
     },
     "execution_count": 9,
     "metadata": {},
     "output_type": "execute_result"
    }
   ],
   "source": [
    "#공백 없이\n",
    "'python'+'is easy'"
   ]
  },
  {
   "cell_type": "code",
   "execution_count": 10,
   "metadata": {},
   "outputs": [
    {
     "data": {
      "text/plain": [
       "'python is easy'"
      ]
     },
     "execution_count": 10,
     "metadata": {},
     "output_type": "execute_result"
    }
   ],
   "source": [
    "#공백 있이\n",
    "'python '+'is easy'"
   ]
  },
  {
   "cell_type": "code",
   "execution_count": 11,
   "metadata": {},
   "outputs": [
    {
     "data": {
      "text/plain": [
       "'h'"
      ]
     },
     "execution_count": 11,
     "metadata": {},
     "output_type": "execute_result"
    }
   ],
   "source": [
    "#index[]\n",
    "temp='python is easy'\n",
    "temp[3]"
   ]
  },
  {
   "cell_type": "code",
   "execution_count": 12,
   "metadata": {},
   "outputs": [
    {
     "data": {
      "text/plain": [
       "'pytho'"
      ]
     },
     "execution_count": 12,
     "metadata": {},
     "output_type": "execute_result"
    }
   ],
   "source": [
    "#slice[]\n",
    "temp[0:5]"
   ]
  },
  {
   "cell_type": "code",
   "execution_count": 13,
   "metadata": {},
   "outputs": [
    {
     "data": {
      "text/plain": [
       "'easy'"
      ]
     },
     "execution_count": 13,
     "metadata": {},
     "output_type": "execute_result"
    }
   ],
   "source": [
    "temp[10:14]"
   ]
  },
  {
   "cell_type": "code",
   "execution_count": 14,
   "metadata": {},
   "outputs": [
    {
     "data": {
      "text/plain": [
       "'hon is e'"
      ]
     },
     "execution_count": 14,
     "metadata": {},
     "output_type": "execute_result"
    }
   ],
   "source": [
    "temp[3:-3]"
   ]
  },
  {
   "cell_type": "code",
   "execution_count": 15,
   "metadata": {},
   "outputs": [
    {
     "data": {
      "text/plain": [
       "['python', 'is', 'easy']"
      ]
     },
     "execution_count": 15,
     "metadata": {},
     "output_type": "execute_result"
    }
   ],
   "source": [
    "temp.split()"
   ]
  },
  {
   "cell_type": "code",
   "execution_count": 16,
   "metadata": {},
   "outputs": [
    {
     "data": {
      "text/plain": [
       "['python i', ' ea', 'y']"
      ]
     },
     "execution_count": 16,
     "metadata": {},
     "output_type": "execute_result"
    }
   ],
   "source": [
    "temp.split(\"s\")"
   ]
  },
  {
   "cell_type": "code",
   "execution_count": 17,
   "metadata": {},
   "outputs": [
    {
     "data": {
      "text/plain": [
       "['python', 'java', 'R', 'SAS']"
      ]
     },
     "execution_count": 17,
     "metadata": {},
     "output_type": "execute_result"
    }
   ],
   "source": [
    "temp2='python,java,R,SAS'\n",
    "temp2.split(\",\")"
   ]
  },
  {
   "cell_type": "code",
   "execution_count": 18,
   "metadata": {},
   "outputs": [
    {
     "data": {
      "text/plain": [
       "'python,java,R,SAS'"
      ]
     },
     "execution_count": 18,
     "metadata": {},
     "output_type": "execute_result"
    }
   ],
   "source": [
    "temp3 = temp2.split(\",\")\n",
    "\",\".join(temp3)"
   ]
  },
  {
   "cell_type": "code",
   "execution_count": 19,
   "metadata": {},
   "outputs": [
    {
     "name": "stdout",
     "output_type": "stream",
     "text": [
      "4\n",
      "17\n"
     ]
    }
   ],
   "source": [
    "temp4 = \",\".join(temp3)\n",
    "print(len(temp3))\n",
    "print(len(temp4))"
   ]
  },
  {
   "cell_type": "code",
   "execution_count": 20,
   "metadata": {},
   "outputs": [
    {
     "name": "stdout",
     "output_type": "stream",
     "text": [
      "['one', 'two', 'three', 'four']\n",
      "one,two,three,four\n"
     ]
    }
   ],
   "source": [
    "#리스트 생성\n",
    "number=['one','two','three','four']\n",
    "print(number)\n",
    "type(number)\n",
    "print(','.join(number))"
   ]
  },
  {
   "cell_type": "code",
   "execution_count": 21,
   "metadata": {},
   "outputs": [
    {
     "name": "stdout",
     "output_type": "stream",
     "text": [
      "('one', 'two', 'three', 'four')\n"
     ]
    },
    {
     "data": {
      "text/plain": [
       "['one', 'two', 'three', 'four']"
      ]
     },
     "execution_count": 21,
     "metadata": {},
     "output_type": "execute_result"
    }
   ],
   "source": [
    "#리스트 구조로 변환\n",
    "number_tuple=('one','two','three','four')\n",
    "print(number_tuple)\n",
    "list(number_tuple)"
   ]
  },
  {
   "cell_type": "code",
   "execution_count": 22,
   "metadata": {},
   "outputs": [
    {
     "data": {
      "text/plain": [
       "'two'"
      ]
     },
     "execution_count": 22,
     "metadata": {},
     "output_type": "execute_result"
    }
   ],
   "source": [
    "#index[]\n",
    "number[1]"
   ]
  },
  {
   "cell_type": "code",
   "execution_count": 23,
   "metadata": {},
   "outputs": [
    {
     "data": {
      "text/plain": [
       "['three', 'four']"
      ]
     },
     "execution_count": 23,
     "metadata": {},
     "output_type": "execute_result"
    }
   ],
   "source": [
    "#slice[:]\n",
    "number[2:4]"
   ]
  },
  {
   "cell_type": "code",
   "execution_count": 24,
   "metadata": {},
   "outputs": [
    {
     "data": {
      "text/plain": [
       "'pto ses'"
      ]
     },
     "execution_count": 24,
     "metadata": {},
     "output_type": "execute_result"
    }
   ],
   "source": [
    "temp[::2]"
   ]
  },
  {
   "cell_type": "code",
   "execution_count": 25,
   "metadata": {},
   "outputs": [
    {
     "name": "stdout",
     "output_type": "stream",
     "text": [
      "['first', 'two', 'three', 'four']\n"
     ]
    }
   ],
   "source": [
    "#리스트값 변환\n",
    "number[0]='first'\n",
    "print(number)"
   ]
  },
  {
   "cell_type": "code",
   "execution_count": 26,
   "metadata": {},
   "outputs": [
    {
     "name": "stdout",
     "output_type": "stream",
     "text": [
      "['first', 'two', 'three', '4']\n"
     ]
    }
   ],
   "source": [
    "number[3]='4'\n",
    "print(number)"
   ]
  },
  {
   "cell_type": "code",
   "execution_count": 27,
   "metadata": {},
   "outputs": [
    {
     "name": "stdout",
     "output_type": "stream",
     "text": [
      "['one', 'two', 'three', 'four', 'five']\n"
     ]
    }
   ],
   "source": [
    "#리스트값 추가 .append()\n",
    "number=['one','two','three','four']\n",
    "number.append('five')\n",
    "print(number)"
   ]
  },
  {
   "cell_type": "code",
   "execution_count": 28,
   "metadata": {},
   "outputs": [
    {
     "name": "stdout",
     "output_type": "stream",
     "text": [
      "['one', 'three', 'four', 'five']\n"
     ]
    }
   ],
   "source": [
    "#리스트값 삭제 del\n",
    "del number[1]\n",
    "print(number)"
   ]
  },
  {
   "cell_type": "code",
   "execution_count": 29,
   "metadata": {},
   "outputs": [
    {
     "name": "stdout",
     "output_type": "stream",
     "text": [
      "['one', 'four', 'five']\n"
     ]
    }
   ],
   "source": [
    "#리스트값 삭제 .remove\n",
    "number.remove('three')\n",
    "print(number)"
   ]
  },
  {
   "cell_type": "code",
   "execution_count": 30,
   "metadata": {},
   "outputs": [
    {
     "name": "stdout",
     "output_type": "stream",
     "text": [
      "['one', 'two', 'three', 'four', 'six', 'seven', 'eight', 'nine']\n"
     ]
    }
   ],
   "source": [
    "#리스트병합 extend()\n",
    "number1=['one','two','three','four']\n",
    "number2=['six','seven','eight','nine']\n",
    "number1.extend(number2)\n",
    "print(number1)"
   ]
  },
  {
   "cell_type": "code",
   "execution_count": 31,
   "metadata": {},
   "outputs": [
    {
     "name": "stdout",
     "output_type": "stream",
     "text": [
      "['four', 'one', 'three', 'two']\n"
     ]
    }
   ],
   "source": [
    "#리스트 정렬하기 sort()\n",
    "number=['one','two','three','four']\n",
    "number.sort()\n",
    "print(number)"
   ]
  },
  {
   "cell_type": "code",
   "execution_count": 32,
   "metadata": {},
   "outputs": [
    {
     "name": "stdout",
     "output_type": "stream",
     "text": [
      "['four', 'one', 'three', 'two']\n"
     ]
    }
   ],
   "source": [
    "#리스트 정렬하기 sorted()\n",
    "number=['one','two','three','four']\n",
    "new_number=sorted(number)\n",
    "print(new_number)"
   ]
  },
  {
   "cell_type": "code",
   "execution_count": 33,
   "metadata": {},
   "outputs": [
    {
     "name": "stdout",
     "output_type": "stream",
     "text": [
      "[4, 3, 2, 1]\n"
     ]
    }
   ],
   "source": [
    "#리스트 내림차순 정렬하기 srort(reverse=True)\n",
    "number=[1,2,3,4]\n",
    "number.sort(reverse=True)\n",
    "print(number)"
   ]
  },
  {
   "cell_type": "code",
   "execution_count": 34,
   "metadata": {},
   "outputs": [
    {
     "name": "stdout",
     "output_type": "stream",
     "text": [
      "[4, 3, 2, 1]\n"
     ]
    }
   ],
   "source": [
    "#리스트 내림차순 정렬하기 sorted(list.reverse=True)\n",
    "number=[1,2,3,4]\n",
    "new_number=sorted(number,reverse=True)\n",
    "print(new_number)"
   ]
  },
  {
   "cell_type": "code",
   "execution_count": 35,
   "metadata": {},
   "outputs": [
    {
     "name": "stdout",
     "output_type": "stream",
     "text": [
      "(1, 2, 3, 4)\n"
     ]
    },
    {
     "data": {
      "text/plain": [
       "tuple"
      ]
     },
     "execution_count": 35,
     "metadata": {},
     "output_type": "execute_result"
    }
   ],
   "source": [
    "#튜플 tuple()\n",
    "number=(1,2,3,4)\n",
    "print(number)\n",
    "type(number)"
   ]
  },
  {
   "cell_type": "code",
   "execution_count": 36,
   "metadata": {},
   "outputs": [
    {
     "data": {
      "text/plain": [
       "1"
      ]
     },
     "execution_count": 36,
     "metadata": {},
     "output_type": "execute_result"
    }
   ],
   "source": [
    "#튜플 갯수 세기\n",
    "number.count(1)"
   ]
  },
  {
   "cell_type": "code",
   "execution_count": 37,
   "metadata": {},
   "outputs": [
    {
     "data": {
      "text/plain": [
       "3"
      ]
     },
     "execution_count": 37,
     "metadata": {},
     "output_type": "execute_result"
    }
   ],
   "source": [
    "#튜플 위치 찾기\n",
    "number.index(4)"
   ]
  },
  {
   "cell_type": "code",
   "execution_count": 38,
   "metadata": {},
   "outputs": [
    {
     "name": "stdout",
     "output_type": "stream",
     "text": [
      "2500\n"
     ]
    },
    {
     "data": {
      "text/plain": [
       "dict"
      ]
     },
     "execution_count": 38,
     "metadata": {},
     "output_type": "execute_result"
    }
   ],
   "source": [
    "#딕셔너리 생성\n",
    "fruit_price={'apple':3500, 'peer':2500, 'cherry':5000}\n",
    "print(fruit_price['peer'])\n",
    "type(fruit_price)"
   ]
  },
  {
   "cell_type": "code",
   "execution_count": 39,
   "metadata": {},
   "outputs": [
    {
     "name": "stdout",
     "output_type": "stream",
     "text": [
      "{'apple': 3500, 'peer': 2500, 'cherry': 5000}\n"
     ]
    }
   ],
   "source": [
    "#딕셔너리로 변환\n",
    "fruit_price=[['apple',3500],['peer',2500],['cherry',5000]]\n",
    "fruit_price=dict(fruit_price)\n",
    "print(fruit_price)"
   ]
  },
  {
   "cell_type": "code",
   "execution_count": 40,
   "metadata": {},
   "outputs": [
    {
     "data": {
      "text/plain": [
       "dict_keys(['apple', 'peer', 'cherry'])"
      ]
     },
     "execution_count": 40,
     "metadata": {},
     "output_type": "execute_result"
    }
   ],
   "source": [
    "#딕셔너리 키값 찾기\n",
    "fruit_price.keys()"
   ]
  },
  {
   "cell_type": "code",
   "execution_count": 41,
   "metadata": {},
   "outputs": [
    {
     "data": {
      "text/plain": [
       "dict_values([3500, 2500, 5000])"
      ]
     },
     "execution_count": 41,
     "metadata": {},
     "output_type": "execute_result"
    }
   ],
   "source": [
    "fruit_price.values()"
   ]
  },
  {
   "cell_type": "code",
   "execution_count": 42,
   "metadata": {
    "scrolled": true
   },
   "outputs": [
    {
     "name": "stdout",
     "output_type": "stream",
     "text": [
      "['peter', 'pay', 'parker']\n",
      "['mina', 'jane', 'mark']\n"
     ]
    }
   ],
   "source": [
    "school_class={1:['mina','jane','mark'],\n",
    "              2:['peter','pay','parker'],\n",
    "              3:['pay','joy','conan']}\n",
    "print(school_class[2])\n",
    "print(school_class.get(1))"
   ]
  },
  {
   "cell_type": "code",
   "execution_count": 43,
   "metadata": {},
   "outputs": [
    {
     "name": "stdout",
     "output_type": "stream",
     "text": [
      "dict_values([['mina', 'jane', 'mark'], ['peter', 'pay', 'parker'], ['pay', 'joy', 'conan']])\n"
     ]
    }
   ],
   "source": [
    "print(school_class.values())"
   ]
  },
  {
   "cell_type": "code",
   "execution_count": 44,
   "metadata": {},
   "outputs": [
    {
     "name": "stdout",
     "output_type": "stream",
     "text": [
      "dict_items([(1, ['mina', 'jane', 'mark']), (2, ['peter', 'pay', 'parker']), (3, ['pay', 'joy', 'conan'])])\n"
     ]
    }
   ],
   "source": [
    "print(school_class.items())"
   ]
  },
  {
   "cell_type": "code",
   "execution_count": 45,
   "metadata": {},
   "outputs": [
    {
     "name": "stdout",
     "output_type": "stream",
     "text": [
      "{'apple': 3500, 'peer': 2500, 'cherry': 5000, 'banana': 3200, 'grape': 2000}\n"
     ]
    }
   ],
   "source": [
    "#딕셔너리 병합 update()\n",
    "others={'banana':3200,'grape':2000}\n",
    "fruit_price.update(others)\n",
    "print(fruit_price)"
   ]
  },
  {
   "cell_type": "code",
   "execution_count": 46,
   "metadata": {},
   "outputs": [
    {
     "name": "stdout",
     "output_type": "stream",
     "text": [
      "{'peer': 2500, 'cherry': 5000}\n"
     ]
    }
   ],
   "source": [
    "#딕셔너리 삭제 del\n",
    "fruit_price={'apple': 3500, 'peer': 2500, 'cherry': 5000}\n",
    "del fruit_price['apple']\n",
    "print(fruit_price)"
   ]
  },
  {
   "cell_type": "code",
   "execution_count": 47,
   "metadata": {},
   "outputs": [
    {
     "name": "stdout",
     "output_type": "stream",
     "text": [
      "{1: ['mina', 'jane', 'mark'], 2: ['peter', 'pay', 'parker'], 3: ['pay', 'joy', 'conan']}\n",
      "{1: ['mina', 'jane', 'mark'], 2: ['peter', 'pay', 'parker']}\n"
     ]
    }
   ],
   "source": [
    "#딕셔너리 삭제 .pop\n",
    "print(school_class)\n",
    "school_class.pop(3)\n",
    "print(school_class)"
   ]
  },
  {
   "cell_type": "code",
   "execution_count": 48,
   "metadata": {},
   "outputs": [
    {
     "name": "stdout",
     "output_type": "stream",
     "text": [
      "False\n",
      "True\n",
      "True\n",
      "True\n",
      "False\n",
      "False\n",
      "True\n"
     ]
    }
   ],
   "source": [
    "#비교 연산자정리\n",
    "a=10\n",
    "b=20\n",
    "c=30\n",
    "print(a==b)\n",
    "print(a!=b)\n",
    "print(a<b)\n",
    "print(a<=b)\n",
    "print(a>b)\n",
    "print(a>=b)\n",
    "print(a in (10, 20, 30))"
   ]
  },
  {
   "cell_type": "code",
   "execution_count": 49,
   "metadata": {},
   "outputs": [
    {
     "name": "stdout",
     "output_type": "stream",
     "text": [
      "False\n",
      "False\n",
      "False\n",
      "False\n",
      "True\n"
     ]
    }
   ],
   "source": [
    "#논리 연산자정리\n",
    "print(a==b & a==c)\n",
    "print(a==b and a==c)\n",
    "print(a==b | a==c)\n",
    "print(a==b or a==c)\n",
    "print(not(a==b))"
   ]
  },
  {
   "cell_type": "code",
   "execution_count": 50,
   "metadata": {},
   "outputs": [
    {
     "name": "stdout",
     "output_type": "stream",
     "text": [
      "False\n",
      "True\n"
     ]
    }
   ],
   "source": [
    "#식별 연산자정리\n",
    "#숫자뿐만 아니라 객체자체를 비교하는 것\n",
    "print(a is b)\n",
    "print(a is not b)"
   ]
  },
  {
   "cell_type": "code",
   "execution_count": 51,
   "metadata": {},
   "outputs": [
    {
     "name": "stdout",
     "output_type": "stream",
     "text": [
      "조건문이 참입니다.\n"
     ]
    }
   ],
   "source": [
    "# if조건문\n",
    "t=True\n",
    "if(t):\n",
    "    print(\"조건문이 참입니다.\")"
   ]
  },
  {
   "cell_type": "code",
   "execution_count": 52,
   "metadata": {},
   "outputs": [
    {
     "name": "stdout",
     "output_type": "stream",
     "text": [
      "조건문이 참이 아닙니다.\n"
     ]
    }
   ],
   "source": [
    "# else조건문\n",
    "f=False\n",
    "if(f):\n",
    "    print(\"조건문이 참입니다.\")\n",
    "else:\n",
    "    print(\"조건문이 참이 아닙니다.\")"
   ]
  },
  {
   "cell_type": "code",
   "execution_count": 53,
   "metadata": {},
   "outputs": [
    {
     "name": "stdout",
     "output_type": "stream",
     "text": [
      "첫번째 조건문은 참이 아니고 두번째 조건문은 참입니다.\n"
     ]
    }
   ],
   "source": [
    "# elif 조건문\n",
    "t=True\n",
    "f=False\n",
    "if(f):\n",
    "    print(\"첫번째 조건문이 참입니다.\")\n",
    "elif(t):\n",
    "    print(\"첫번째 조건문은 참이 아니고 두번째 조건문은 참입니다.\")\n",
    "else:\n",
    "    print(\"조건문이 참이 아닙니다.\")"
   ]
  },
  {
   "cell_type": "code",
   "execution_count": 54,
   "metadata": {},
   "outputs": [
    {
     "name": "stdout",
     "output_type": "stream",
     "text": [
      "숫자를 입력하세요.1\n"
     ]
    },
    {
     "data": {
      "text/plain": [
       "'1'"
      ]
     },
     "execution_count": 54,
     "metadata": {},
     "output_type": "execute_result"
    }
   ],
   "source": [
    "#데이터를 입력받아서 처리 input함수\n",
    "input('숫자를 입력하세요.')"
   ]
  },
  {
   "cell_type": "code",
   "execution_count": 55,
   "metadata": {},
   "outputs": [
    {
     "name": "stdout",
     "output_type": "stream",
     "text": [
      "숫자를 입력하시오.1\n",
      "Odd\n"
     ]
    }
   ],
   "source": [
    "#홀짝예제\n",
    "\n",
    "i=int(input('숫자를 입력하시오.'))\n",
    "if(i%2==0):\n",
    "    print(\"Even\")\n",
    "else:\n",
    "    print(\"Odd\")"
   ]
  },
  {
   "cell_type": "code",
   "execution_count": 56,
   "metadata": {},
   "outputs": [
    {
     "name": "stdout",
     "output_type": "stream",
     "text": [
      "Score? 1\n",
      "D\n"
     ]
    }
   ],
   "source": [
    "#점수예제\n",
    "\n",
    "score=int(input(\"Score? \"))\n",
    "if(score<=60):\n",
    "    print('D')\n",
    "elif((score>60) & (score<=70)):\n",
    "    print('C')\n",
    "elif((score>70) & (score<=80)):\n",
    "    print('B')\n",
    "elif((score>80) & (score<=100)):\n",
    "    print('A')\n",
    "else:\n",
    "    print(\"Wrong Score\")"
   ]
  },
  {
   "cell_type": "code",
   "execution_count": 57,
   "metadata": {},
   "outputs": [
    {
     "name": "stdout",
     "output_type": "stream",
     "text": [
      "1\n",
      "2\n",
      "3\n",
      "4\n",
      "5\n",
      "6\n",
      "7\n",
      "8\n",
      "9\n"
     ]
    }
   ],
   "source": [
    "#for 반복문\n",
    "for i in range(1,10):\n",
    "    print(i)"
   ]
  },
  {
   "cell_type": "code",
   "execution_count": 58,
   "metadata": {},
   "outputs": [
    {
     "data": {
      "text/plain": [
       "[1, 4, 7, 10, 13, 16, 19, 22, 25, 28]"
      ]
     },
     "execution_count": 58,
     "metadata": {},
     "output_type": "execute_result"
    }
   ],
   "source": [
    "list(range(1,30,3))"
   ]
  },
  {
   "cell_type": "code",
   "execution_count": 59,
   "metadata": {},
   "outputs": [
    {
     "name": "stdout",
     "output_type": "stream",
     "text": [
      "apple\n",
      "peer\n",
      "cherry\n"
     ]
    }
   ],
   "source": [
    "#리스트 for 반복문\n",
    "fruit = ['apple','peer','cherry']\n",
    "for i in fruit:\n",
    "    print(i)"
   ]
  },
  {
   "cell_type": "code",
   "execution_count": 60,
   "metadata": {},
   "outputs": [
    {
     "name": "stdout",
     "output_type": "stream",
     "text": [
      "apple\n",
      "peer\n",
      "cherry\n"
     ]
    }
   ],
   "source": [
    "#딕셔너리 for 반복문 key()\n",
    "fruit_price={'apple':3500,'peer':2500,'cherry':5000}\n",
    "for i in fruit_price.keys():\n",
    "    print(i)"
   ]
  },
  {
   "cell_type": "code",
   "execution_count": 61,
   "metadata": {},
   "outputs": [
    {
     "name": "stdout",
     "output_type": "stream",
     "text": [
      "3500\n",
      "2500\n",
      "5000\n"
     ]
    }
   ],
   "source": [
    "#딕셔너리 for 반복문 value()\n",
    "fruit_price={'apple':3500,'peer':2500,'cherry':5000}\n",
    "for i in fruit_price.values():\n",
    "    print(i)"
   ]
  },
  {
   "cell_type": "code",
   "execution_count": 63,
   "metadata": {},
   "outputs": [
    {
     "name": "stdout",
     "output_type": "stream",
     "text": [
      "과일명 :  apple 가격 :  3500\n",
      "과일명 :  peer 가격 :  2500\n",
      "과일명 :  cherry 가격 :  5000\n"
     ]
    }
   ],
   "source": [
    "#딕셔너리 for 반복문 item()\n",
    "fruit_price={'apple':3500,'peer':2500,'cherry':5000}\n",
    "for i in fruit_price.items():\n",
    "    print('과일명 : ',i[0], '가격 : ',i[1])"
   ]
  },
  {
   "cell_type": "code",
   "execution_count": 70,
   "metadata": {},
   "outputs": [
    {
     "name": "stdout",
     "output_type": "stream",
     "text": [
      "item = ('apple', [3500, 10])\n",
      "item =  apple itme_1 =  3500 item_2 =  10\n",
      "과일명 :  apple 가격 :  3500 갯수 :  10\n",
      "******************************\n",
      "item = ('peer', [2500, 8])\n",
      "item =  peer itme_1 =  2500 item_2 =  8\n",
      "과일명 :  peer 가격 :  2500 갯수 :  8\n",
      "******************************\n",
      "item = ('cherry', [5000, 4])\n",
      "item =  cherry itme_1 =  5000 item_2 =  4\n",
      "과일명 :  cherry 가격 :  5000 갯수 :  4\n",
      "******************************\n"
     ]
    }
   ],
   "source": [
    "#딕셔너리 for 반복문 다중 value item()\n",
    "fruit_price={'apple':[3500, 10],'peer':[2500,8],'cherry':[5000,4]}\n",
    "for i in fruit_price.items():\n",
    "    print(\"item =\", i)\n",
    "    print(\"item = \", i[0], 'itme_1 = ', i[1][0], 'item_2 = ', i[1][1])\n",
    "    print('과일명 : ',i[0], '가격 : ',i[1][0], '갯수 : ',i[1][1])\n",
    "    print('*'*30)"
   ]
  },
  {
   "cell_type": "code",
   "execution_count": 67,
   "metadata": {},
   "outputs": [
    {
     "name": "stdout",
     "output_type": "stream",
     "text": [
      "['apple', 'cherry']\n",
      "['peer']\n"
     ]
    }
   ],
   "source": [
    "hp=[]\n",
    "lp=[]\n",
    "fruit_price={'apple':3500,'peer':2500,'cherry':5000}\n",
    "for i in fruit_price.items():\n",
    "    if i[1]>3000:\n",
    "        hp.append(i[0])\n",
    "    else:\n",
    "        lp.append(i[0])\n",
    "        \n",
    "print(hp)\n",
    "print(lp)"
   ]
  },
  {
   "cell_type": "code",
   "execution_count": 77,
   "metadata": {},
   "outputs": [
    {
     "name": "stdout",
     "output_type": "stream",
     "text": [
      "1 번 과일 =  apple   1 번 과일 가격 = 3500\n",
      "*********************************************\n",
      "2 번 과일 =  peer   2 번 과일 가격 = 2500\n",
      "*********************************************\n",
      "3 번 과일 =  cherry   3 번 과일 가격 = 5000\n",
      "*********************************************\n",
      "['apple', 'cherry']\n",
      "['peer']\n"
     ]
    }
   ],
   "source": [
    "hp=[]\n",
    "lp=[]\n",
    "fruit_price={'apple':3500,'peer':2500,'cherry':5000}\n",
    "\n",
    "for i, item in enumerate(fruit_price.items()):\n",
    "    print(i+1,\"번 과일 = \", item[0], \" \",i+1,\"번 과일 가격 =\", item[1])\n",
    "    if item[1]>3000:\n",
    "        hp.append(item[0])\n",
    "    else:\n",
    "        lp.append(item[0])\n",
    "    print('*'*45)\n",
    "print(hp)\n",
    "print(lp)"
   ]
  },
  {
   "cell_type": "code",
   "execution_count": 83,
   "metadata": {},
   "outputs": [
    {
     "name": "stdout",
     "output_type": "stream",
     "text": [
      "1 등 | 점수 :  97 | 성적 :  A\n",
      "******************************\n",
      "2 등 | 점수 :  88 | 성적 :  A\n",
      "******************************\n",
      "3 등 | 점수 :  85 | 성적 :  A\n",
      "******************************\n",
      "4 등 | 점수 :  50 | 성적 :  D\n",
      "******************************\n",
      "5 등 | 점수 :  30 | 성적 :  D\n",
      "******************************\n"
     ]
    }
   ],
   "source": [
    "#점수예제2\n",
    "\n",
    "score=[50, 85, 97, 30, 88]\n",
    "lank=sorted(score,reverse=True)\n",
    "\n",
    "for i, degree in enumerate(lank):\n",
    "    if(degree<=60):\n",
    "        print(i+1,\"등\",\"| 점수 : \",degree,\"| 성적 : \",'D')\n",
    "    elif((degree>60) & (degree<=70)):\n",
    "        print(i+1,\"등\",\"| 점수 : \",degree,\"| 성적 : \",'C')\n",
    "    elif((degree>70) & (degree<=80)):\n",
    "        print(i+1,\"등\",\"| 점수 : \",degree,\"| 성적 : \",'B')\n",
    "    elif((degree>80) & (degree<=100)):\n",
    "        print(i+1,\"등\",\"| 점수 : \",degree,\"| 성적 : \",'A')\n",
    "    else:\n",
    "        print(\"Wrong Score\")\n",
    "    print('*'*30)\n"
   ]
  },
  {
   "cell_type": "code",
   "execution_count": 86,
   "metadata": {},
   "outputs": [],
   "source": [
    "#txt파일 데이터 출력 open함수\n",
    "fruit=open('C:/ohhhhh/fruit.txt','wt')\n",
    "fruit_price={'apple':3500,'peer':2500,'cherry':5000}\n",
    "for item in fruit_price.items():\n",
    "    print(item,file=fruit)\n",
    "fruit.close()"
   ]
  },
  {
   "cell_type": "code",
   "execution_count": 88,
   "metadata": {},
   "outputs": [],
   "source": [
    "#txt파일 데이터 출력 .write속성\n",
    "fruit=open('c:/ohhhhh/fruit2.txt','wt')\n",
    "fruit.write('apple 3500\\n')\n",
    "fruit.write('peer 250\\n')\n",
    "fruit.write('cherry 5000\\n')\n",
    "fruit.close()"
   ]
  },
  {
   "cell_type": "code",
   "execution_count": 89,
   "metadata": {},
   "outputs": [],
   "source": [
    "#csv파일 데이터 출력 이해 1도 못함\n",
    "import csv\n",
    "with open('c:/ohhhhh/fruit3.csv','w',newline=\"\") as fruit:\n",
    "    wirter=csv.writer(fruit,delimiter=',')\n",
    "    wirter.writerow(['apple'])\n",
    "    wirter.writerow(['peer'])\n",
    "    wirter.writerow(['cherry'])\n",
    "    wirter.writerow(['banana'])\n",
    "    wirter.writerow(['peach'])"
   ]
  },
  {
   "cell_type": "code",
   "execution_count": 91,
   "metadata": {},
   "outputs": [
    {
     "name": "stdout",
     "output_type": "stream",
     "text": [
      "[\"('apple', 3500)\\n\", \"('peer', 2500)\\n\", \"('cherry', 5000)\\n\"]\n"
     ]
    },
    {
     "data": {
      "text/plain": [
       "list"
      ]
     },
     "execution_count": 91,
     "metadata": {},
     "output_type": "execute_result"
    }
   ],
   "source": [
    "#txt파일 데이터 불러오기\n",
    "fruit_path=open('c:/ohhhhh/fruit.txt','rt')\n",
    "fruit_path\n",
    "\n",
    "fruit = fruit_path.readlines()\n",
    "print(fruit)"
   ]
  },
  {
   "cell_type": "code",
   "execution_count": 97,
   "metadata": {},
   "outputs": [
    {
     "data": {
      "text/plain": [
       "<_csv.reader at 0x22044049040>"
      ]
     },
     "execution_count": 97,
     "metadata": {},
     "output_type": "execute_result"
    }
   ],
   "source": [
    "#csv파일을 불러올 때는 데이터 저장 형태가 객체지향이아니기 때문에 for반복문으로 읽어줘야함.\n",
    "import csv\n",
    "\n",
    "f=open('c:/ohhhhh/fruit3.csv','rt')\n",
    "csvRead=csv.reader(f)\n",
    "csvRead"
   ]
  },
  {
   "cell_type": "code",
   "execution_count": 98,
   "metadata": {},
   "outputs": [
    {
     "name": "stdout",
     "output_type": "stream",
     "text": [
      "['apple']\n",
      "['peer']\n",
      "['cherry']\n",
      "['banana']\n",
      "['peach']\n"
     ]
    }
   ],
   "source": [
    "#csv파일 데이터 불러오기\n",
    "import csv\n",
    "\n",
    "f=open('c:/ohhhhh/fruit3.csv','rt')\n",
    "csvRead=csv.reader(f)\n",
    "\n",
    "fruit= []\n",
    "for i in csvRead:\n",
    "    fruit.append(i)\n",
    "    print(i)"
   ]
  },
  {
   "cell_type": "code",
   "execution_count": 105,
   "metadata": {},
   "outputs": [
    {
     "name": "stdout",
     "output_type": "stream",
     "text": [
      "나무를 1번 찍었습니다.\n",
      "나무를 2번 찍었습니다.\n",
      "나무를 3번 찍었습니다.\n",
      "나무를 4번 찍었습니다.\n",
      "나무를 5번 찍었습니다.\n",
      "나무를 6번 찍었습니다.\n",
      "나무를 7번 찍었습니다.\n",
      "나무를 8번 찍었습니다.\n",
      "나무를 9번 찍었습니다.\n",
      "나무를 10번 찍었습니다.\n",
      "나무 넘어갑니다\n"
     ]
    }
   ],
   "source": [
    "#while 반복문\n",
    "\n",
    "treehit=0\n",
    "while treehit<10:\n",
    "    treehit = treehit+1\n",
    "    print(\"나무를 %d번 찍었습니다.\" % treehit)\n",
    "    if treehit == 10:\n",
    "        print(\"나무 넘어갑니다\")"
   ]
  },
  {
   "cell_type": "code",
   "execution_count": 106,
   "metadata": {},
   "outputs": [
    {
     "name": "stdout",
     "output_type": "stream",
     "text": [
      "아경 청년 아카데미\n"
     ]
    }
   ],
   "source": [
    "#format 사용법\n",
    "a = \"아경\"\n",
    "print(\"{} 청년 아카데미\". format(a))"
   ]
  },
  {
   "cell_type": "code",
   "execution_count": 108,
   "metadata": {},
   "outputs": [
    {
     "name": "stdout",
     "output_type": "stream",
     "text": [
      "아경 청년 아카데미\n"
     ]
    }
   ],
   "source": [
    "#%d - 숫자, %s - 문자\n",
    "a=\"청년\"\n",
    "print(\"아경 %s 아카데미\" %a)"
   ]
  },
  {
   "cell_type": "code",
   "execution_count": 109,
   "metadata": {},
   "outputs": [
    {
     "name": "stdout",
     "output_type": "stream",
     "text": [
      "아경 청년 아카데미\n"
     ]
    }
   ],
   "source": [
    "#중복사용 %s\n",
    "a=\"청년\"\n",
    "b=\"데미\"\n",
    "print(\"아경 %s 아카%s\"%(a,b))"
   ]
  },
  {
   "cell_type": "code",
   "execution_count": null,
   "metadata": {},
   "outputs": [],
   "source": []
  }
 ],
 "metadata": {
  "kernelspec": {
   "display_name": "Python 3",
   "language": "python",
   "name": "python3"
  },
  "language_info": {
   "codemirror_mode": {
    "name": "ipython",
    "version": 3
   },
   "file_extension": ".py",
   "mimetype": "text/x-python",
   "name": "python",
   "nbconvert_exporter": "python",
   "pygments_lexer": "ipython3",
   "version": "3.8.3"
  }
 },
 "nbformat": 4,
 "nbformat_minor": 4
}
