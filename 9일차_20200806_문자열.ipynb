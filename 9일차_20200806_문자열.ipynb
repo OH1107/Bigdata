{
 "cells": [
  {
   "cell_type": "markdown",
   "metadata": {},
   "source": [
    "# 문자열 string, 주요 속성과 메소드\n",
    "\n",
    "## https://docs.python.org/2.5/lib/string-methods.html\n",
    "## https://www.quackit.com/python/reference/python_3_string_methods.cfm"
   ]
  },
  {
   "cell_type": "code",
   "execution_count": 4,
   "metadata": {},
   "outputs": [
    {
     "data": {
      "text/plain": [
       "['__add__',\n",
       " '__class__',\n",
       " '__contains__',\n",
       " '__delattr__',\n",
       " '__dir__',\n",
       " '__doc__',\n",
       " '__eq__',\n",
       " '__format__',\n",
       " '__ge__',\n",
       " '__getattribute__',\n",
       " '__getitem__',\n",
       " '__getnewargs__',\n",
       " '__gt__',\n",
       " '__hash__',\n",
       " '__init__',\n",
       " '__init_subclass__',\n",
       " '__iter__',\n",
       " '__le__',\n",
       " '__len__',\n",
       " '__lt__',\n",
       " '__mod__',\n",
       " '__mul__',\n",
       " '__ne__',\n",
       " '__new__',\n",
       " '__reduce__',\n",
       " '__reduce_ex__',\n",
       " '__repr__',\n",
       " '__rmod__',\n",
       " '__rmul__',\n",
       " '__setattr__',\n",
       " '__sizeof__',\n",
       " '__str__',\n",
       " '__subclasshook__',\n",
       " 'capitalize',\n",
       " 'casefold',\n",
       " 'center',\n",
       " 'count',\n",
       " 'encode',\n",
       " 'endswith',\n",
       " 'expandtabs',\n",
       " 'find',\n",
       " 'format',\n",
       " 'format_map',\n",
       " 'index',\n",
       " 'isalnum',\n",
       " 'isalpha',\n",
       " 'isascii',\n",
       " 'isdecimal',\n",
       " 'isdigit',\n",
       " 'isidentifier',\n",
       " 'islower',\n",
       " 'isnumeric',\n",
       " 'isprintable',\n",
       " 'isspace',\n",
       " 'istitle',\n",
       " 'isupper',\n",
       " 'join',\n",
       " 'ljust',\n",
       " 'lower',\n",
       " 'lstrip',\n",
       " 'maketrans',\n",
       " 'partition',\n",
       " 'replace',\n",
       " 'rfind',\n",
       " 'rindex',\n",
       " 'rjust',\n",
       " 'rpartition',\n",
       " 'rsplit',\n",
       " 'rstrip',\n",
       " 'split',\n",
       " 'splitlines',\n",
       " 'startswith',\n",
       " 'strip',\n",
       " 'swapcase',\n",
       " 'title',\n",
       " 'translate',\n",
       " 'upper',\n",
       " 'zfill']"
      ]
     },
     "execution_count": 4,
     "metadata": {},
     "output_type": "execute_result"
    }
   ],
   "source": [
    "dir (str)"
   ]
  },
  {
   "cell_type": "code",
   "execution_count": 5,
   "metadata": {},
   "outputs": [
    {
     "name": "stdout",
     "output_type": "stream",
     "text": [
      "Help on method_descriptor:\n",
      "\n",
      "strip(self, chars=None, /)\n",
      "    Return a copy of the string with leading and trailing whitespace removed.\n",
      "    \n",
      "    If chars is given and not None, remove characters in chars instead.\n",
      "\n"
     ]
    }
   ],
   "source": [
    "help(str.strip)"
   ]
  },
  {
   "cell_type": "code",
   "execution_count": 1,
   "metadata": {},
   "outputs": [
    {
     "name": "stdout",
     "output_type": "stream",
     "text": [
      "Bee sting\n"
     ]
    }
   ],
   "source": [
    "a = \"bee sting\" \n",
    "print(a.capitalize())"
   ]
  },
  {
   "cell_type": "code",
   "execution_count": 2,
   "metadata": {},
   "outputs": [
    {
     "name": "stdout",
     "output_type": "stream",
     "text": [
      "bee\n"
     ]
    }
   ],
   "source": [
    "a = \"BEE\"\n",
    "print(a.casefold())"
   ]
  },
  {
   "cell_type": "code",
   "execution_count": 3,
   "metadata": {},
   "outputs": [
    {
     "name": "stdout",
     "output_type": "stream",
     "text": [
      "----bee-----\n"
     ]
    }
   ],
   "source": [
    "a = \"bee\" \n",
    "b = a.center(12, \"-\")\n",
    "print(b)"
   ]
  },
  {
   "cell_type": "code",
   "execution_count": 6,
   "metadata": {},
   "outputs": [
    {
     "name": "stdout",
     "output_type": "stream",
     "text": [
      "0\n",
      "5\n",
      "2\n",
      "1\n",
      "0\n",
      "2\n",
      "3\n"
     ]
    }
   ],
   "source": [
    "a = \"Mushroooom soup\" \n",
    "print(a.count(\"O\"))\n",
    "print(a.count(\"o\"))\n",
    "print(a.count(\"oo\"))\n",
    "print(a.count(\"ooo\"))\n",
    "print(a.count(\"Homer\"))\n",
    "print(a.count(\"o\", 4, 7))\n",
    "print(a.count(\"o\", 7))"
   ]
  },
  {
   "cell_type": "code",
   "execution_count": 7,
   "metadata": {},
   "outputs": [
    {
     "name": "stdout",
     "output_type": "stream",
     "text": [
      "Banana\n",
      "b'QmFuYW5h'\n"
     ]
    }
   ],
   "source": [
    "from base64 import b64encode\n",
    "\n",
    "a = \"Banana\"\n",
    "print(a)\n",
    "\n",
    "a = b64encode(a.encode())\n",
    "print(a)\n",
    "\n",
    "# encode : 데이터를 바이트타입으로 바꿔줌\n",
    "# decode : 반대로 바이트타입의 문자열을 원상복귀 시켜줌\n",
    "# uts-8타입으로 설정해야 정상적으로 한글이 인코딩됨"
   ]
  },
  {
   "cell_type": "code",
   "execution_count": 8,
   "metadata": {},
   "outputs": [
    {
     "name": "stdout",
     "output_type": "stream",
     "text": [
      "True\n",
      "True\n",
      "False\n",
      "True\n"
     ]
    }
   ],
   "source": [
    "a = \"Banana\"\n",
    "print(a.endswith(\"a\"))\n",
    "print(a.endswith(\"nana\"))\n",
    "print(a.endswith(\"z\"))\n",
    "print(a.endswith(\"an\", 1, 3))"
   ]
  },
  {
   "cell_type": "code",
   "execution_count": 12,
   "metadata": {},
   "outputs": [
    {
     "name": "stdout",
     "output_type": "stream",
     "text": [
      "1\t2\t3\n",
      "1       2       3\n",
      "1           2           3\n",
      "1 2 3\n"
     ]
    }
   ],
   "source": [
    "a = \"1\\t2\\t3\"\n",
    "# \\t는 화이트스페이스 tab으로 tab만큼 이동하시오라는 뜻\n",
    "print(a)\n",
    "print(a.expandtabs())\n",
    "print(a.expandtabs(tabsize=12))\n",
    "print(a.expandtabs(tabsize=2))\n",
    "# \\t의 탭 공백 사이즈를 조절할 수 있음"
   ]
  },
  {
   "cell_type": "code",
   "execution_count": 13,
   "metadata": {},
   "outputs": [
    {
     "name": "stdout",
     "output_type": "stream",
     "text": [
      "0\n",
      "-1\n",
      "3\n",
      "3\n",
      "4\n",
      "-1\n",
      "-1\n"
     ]
    }
   ],
   "source": [
    "a = \"Fitness\"\n",
    "print(a.find(\"F\"))\n",
    "print(a.find(\"f\"))\n",
    "print(a.find(\"n\"))\n",
    "print(a.find(\"ness\"))\n",
    "print(a.find(\"ess\"))\n",
    "print(a.find(\"z\"))\n",
    "print(a.find(\"Homer\"))"
   ]
  },
  {
   "cell_type": "code",
   "execution_count": 14,
   "metadata": {},
   "outputs": [
    {
     "name": "stdout",
     "output_type": "stream",
     "text": [
      "Tea and Coffee\n",
      "Coffee and Tea\n",
      "Peas and Beans\n",
      "1, 2, 3\n",
      "Lunch: Pizza, Wine\n"
     ]
    }
   ],
   "source": [
    "# Example 1\n",
    "print(\"{} and {}\".format(\"Tea\", \"Coffee\"))\n",
    "\n",
    "# Example 2\n",
    "print(\"{1} and {0}\".format(\"Tea\", \"Coffee\"))\n",
    "\n",
    "# Example 3\n",
    "print(\"{lunch} and {dinner}\".format(lunch=\"Peas\", dinner=\"Beans\"))\n",
    "\n",
    "# Example 4 *한개는 숫자열\n",
    "print(\"{0}, {1}, {2}\".format(*\"123\"))\n",
    "\n",
    "# Example 5 **두개는 문자열\n",
    "lunch = {\"food\": \"Pizza\", \"drink\": \"Wine\"} \n",
    "print(\"Lunch: {food}, {drink}\".format(**lunch))"
   ]
  },
  {
   "cell_type": "code",
   "execution_count": 17,
   "metadata": {},
   "outputs": [
    {
     "name": "stdout",
     "output_type": "stream",
     "text": [
      "0\n",
      "3\n",
      "3\n",
      "4\n"
     ]
    },
    {
     "ename": "ValueError",
     "evalue": "substring not found",
     "output_type": "error",
     "traceback": [
      "\u001b[1;31m---------------------------------------------------------------------------\u001b[0m",
      "\u001b[1;31mValueError\u001b[0m                                Traceback (most recent call last)",
      "\u001b[1;32m<ipython-input-17-490d611b26aa>\u001b[0m in \u001b[0;36m<module>\u001b[1;34m\u001b[0m\n\u001b[0;32m      5\u001b[0m \u001b[0mprint\u001b[0m\u001b[1;33m(\u001b[0m\u001b[0ma\u001b[0m\u001b[1;33m.\u001b[0m\u001b[0mindex\u001b[0m\u001b[1;33m(\u001b[0m\u001b[1;34m\"ess\"\u001b[0m\u001b[1;33m)\u001b[0m\u001b[1;33m)\u001b[0m\u001b[1;33m\u001b[0m\u001b[1;33m\u001b[0m\u001b[0m\n\u001b[0;32m      6\u001b[0m \u001b[1;31m# Error\u001b[0m\u001b[1;33m\u001b[0m\u001b[1;33m\u001b[0m\u001b[1;33m\u001b[0m\u001b[0m\n\u001b[1;32m----> 7\u001b[1;33m \u001b[0mprint\u001b[0m\u001b[1;33m(\u001b[0m\u001b[0ma\u001b[0m\u001b[1;33m.\u001b[0m\u001b[0mindex\u001b[0m\u001b[1;33m(\u001b[0m\u001b[1;34m\"z\"\u001b[0m\u001b[1;33m)\u001b[0m\u001b[1;33m)\u001b[0m\u001b[1;33m\u001b[0m\u001b[1;33m\u001b[0m\u001b[0m\n\u001b[0m",
      "\u001b[1;31mValueError\u001b[0m: substring not found"
     ]
    }
   ],
   "source": [
    "a = \"Fitness\"\n",
    "print(a.index(\"F\"))\n",
    "print(a.index(\"n\"))\n",
    "print(a.index(\"ness\"))\n",
    "print(a.index(\"ess\"))\n",
    "# Error\n",
    "print(a.index(\"z\"))"
   ]
  },
  {
   "cell_type": "code",
   "execution_count": 18,
   "metadata": {},
   "outputs": [
    {
     "name": "stdout",
     "output_type": "stream",
     "text": [
      "True\n",
      "True\n",
      "False\n",
      "False\n",
      "False\n"
     ]
    }
   ],
   "source": [
    "# 모든 문자 혹은 적어도 한개 이상이 문자일 경우  True \n",
    "c = \"Fitness\"\n",
    "print(c.isalnum())\n",
    "\n",
    "c = \"123\"\n",
    "print(c.isalnum())\n",
    "\n",
    "c = \"1.23\"\n",
    "print(c.isalnum())\n",
    "\n",
    "c = \"$*%!!!\"\n",
    "print(c.isalnum())\n",
    "\n",
    "c = \"0.34j\"\n",
    "print(c.isalnum())"
   ]
  },
  {
   "cell_type": "code",
   "execution_count": 19,
   "metadata": {},
   "outputs": [
    {
     "name": "stdout",
     "output_type": "stream",
     "text": [
      "True\n",
      "False\n",
      "False\n"
     ]
    }
   ],
   "source": [
    "#num을 제외하고 위랑 똑같음 (숫자도 이젠 False나옴) \n",
    "c = \"Fitness\"\n",
    "print(c.isalpha())\n",
    "\n",
    "c = \"123\"\n",
    "print(c.isalpha())\n",
    "\n",
    "c = \"$*%!!!\"\n",
    "print(c.isalpha())"
   ]
  },
  {
   "cell_type": "code",
   "execution_count": 20,
   "metadata": {},
   "outputs": [
    {
     "name": "stdout",
     "output_type": "stream",
     "text": [
      "True\n",
      "False\n",
      "False\n",
      "False\n",
      "False\n",
      "False\n"
     ]
    }
   ],
   "source": [
    "# ????decimal 완벽한 숫자 문자열을 찾는듯\n",
    "c = \"123\"\n",
    "print(c.isdecimal())\n",
    "\n",
    "c = u\"\\u00B2\"\n",
    "print(c.isdecimal())\n",
    "\n",
    "c = \"1.23\"\n",
    "print(c.isdecimal())\n",
    "\n",
    "c = \"u123\"\n",
    "print(c.isdecimal())\n",
    "\n",
    "c = \"Fitness\"\n",
    "print(c.isdecimal())\n",
    "\n",
    "c = \"$*%!!!\"\n",
    "print(c.isdecimal())"
   ]
  },
  {
   "cell_type": "code",
   "execution_count": 21,
   "metadata": {},
   "outputs": [
    {
     "name": "stdout",
     "output_type": "stream",
     "text": [
      "True\n",
      "True\n",
      "False\n",
      "False\n",
      "False\n",
      "False\n"
     ]
    }
   ],
   "source": [
    "# 숫자 값(2번은 숫자의 주소 같은 거인듯)을 가지고만있으면 되는듯\n",
    "\n",
    "c = \"123\"\n",
    "print(c.isdigit())\n",
    "\n",
    "c = u\"\\u00B2\"\n",
    "print(c.isdigit())\n",
    "\n",
    "c = \"1.23\"\n",
    "print(c.isdigit())\n",
    "\n",
    "c = \"u123\"\n",
    "print(c.isdigit())\n",
    "\n",
    "c = \"Fitness\"\n",
    "print(c.isdigit())\n",
    "\n",
    "c = \"$*%!!!\"\n",
    "print(c.isdigit())"
   ]
  },
  {
   "cell_type": "code",
   "execution_count": 22,
   "metadata": {},
   "outputs": [
    {
     "name": "stdout",
     "output_type": "stream",
     "text": [
      "False\n",
      "True\n",
      "False\n",
      "True\n",
      "True\n"
     ]
    }
   ],
   "source": [
    "# 이미 정의가 되어있는지?\n",
    "# 정의가 되어있으면 True\n",
    "# 정의가 되어있지 않으면 False\n",
    "\n",
    "a = \"123\"\n",
    "print(a.isidentifier())\n",
    "\n",
    "a = \"_user_123\"\n",
    "print(a.isidentifier())\n",
    "\n",
    "a = \"_user-123\"\n",
    "print(a.isidentifier())\n",
    "\n",
    "a = \"Homer\"\n",
    "print(a.isidentifier())\n",
    "\n",
    "a = \"for\"\n",
    "print(a.isidentifier())"
   ]
  },
  {
   "cell_type": "code",
   "execution_count": 23,
   "metadata": {},
   "outputs": [
    {
     "name": "stdout",
     "output_type": "stream",
     "text": [
      "False\n",
      "False\n",
      "True\n",
      "False\n",
      "False\n",
      "True\n",
      "True\n"
     ]
    }
   ],
   "source": [
    "# 전부 소문자인지 판별\n",
    "a = \" \"\n",
    "print(a.islower())\n",
    "\n",
    "a = \"123\"\n",
    "print(a.islower())\n",
    "\n",
    "a = \"_user_123\"\n",
    "print(a.islower())\n",
    "\n",
    "a = \"Homer\"\n",
    "print(a.islower())\n",
    "\n",
    "a = \"HOMER\"\n",
    "print(a.islower())\n",
    "\n",
    "a = \"homer\"\n",
    "print(a.islower())\n",
    "\n",
    "a = \"HOMER\"\n",
    "a = a.casefold() #Force lowercase\n",
    "print(a.islower())"
   ]
  },
  {
   "cell_type": "code",
   "execution_count": 24,
   "metadata": {},
   "outputs": [
    {
     "name": "stdout",
     "output_type": "stream",
     "text": [
      "True\n",
      "True\n",
      "False\n",
      "False\n",
      "False\n",
      "False\n"
     ]
    }
   ],
   "source": [
    "# 전부 숫자인지 판별\n",
    "\n",
    "c = \"123\"\n",
    "print(c.isnumeric())\n",
    "\n",
    "c = u\"\\u00B2\"\n",
    "print(c.isnumeric())\n",
    "\n",
    "c = \"1.23\"\n",
    "print(c.isnumeric())\n",
    "\n",
    "c = \"u123\"\n",
    "print(c.isnumeric())\n",
    "\n",
    "c = \"Fitness\"\n",
    "print(c.isnumeric())\n",
    "\n",
    "c = \"$*%!!!\"\n",
    "print(c.isnumeric())"
   ]
  },
  {
   "cell_type": "code",
   "execution_count": 25,
   "metadata": {},
   "outputs": [
    {
     "name": "stdout",
     "output_type": "stream",
     "text": [
      "True\n",
      "True\n",
      "True\n",
      "True\n",
      "False\n",
      "False\n",
      "False\n"
     ]
    }
   ],
   "source": [
    "# 출력 가능한지 판별\n",
    "a = \"\"\n",
    "print(a.isprintable())\n",
    "\n",
    "a = \" \"\n",
    "print(a.isprintable())\n",
    "\n",
    "a = u\"\\u00B2\"\n",
    "print(a.isprintable())\n",
    "\n",
    "a = \"Bart\"\n",
    "print(a.isprintable())\n",
    "\n",
    "# 화이트 스페이스들어가있는애들은 불가능\n",
    "a = \"\\t\"\n",
    "print(a.isprintable())\n",
    "\n",
    "a = \"\\r\\n\"\n",
    "print(a.isprintable())\n",
    "\n",
    "a = \"Bart \\r\"\n",
    "print(a.isprintable())"
   ]
  },
  {
   "cell_type": "code",
   "execution_count": 26,
   "metadata": {},
   "outputs": [
    {
     "name": "stdout",
     "output_type": "stream",
     "text": [
      "False\n",
      "True\n",
      "False\n",
      "True\n",
      "True\n",
      "False\n"
     ]
    }
   ],
   "source": [
    "#공백이 있는지 판별\n",
    "a = \"\"\n",
    "print(a.isspace())\n",
    "\n",
    "a = \" \"\n",
    "print(a.isspace())\n",
    "\n",
    "a = \"Bart\"\n",
    "print(a.isspace())\n",
    "\n",
    "a = \"\\t\"\n",
    "print(a.isspace())\n",
    "\n",
    "a = \"\\r\\n\"\n",
    "print(a.isspace())\n",
    "\n",
    "a = \"Bart \\r\"\n",
    "print(a.isspace())"
   ]
  },
  {
   "cell_type": "code",
   "execution_count": 27,
   "metadata": {},
   "outputs": [
    {
     "name": "stdout",
     "output_type": "stream",
     "text": [
      "False\n",
      "False\n",
      "False\n",
      "True\n",
      "True\n",
      "False\n",
      "True\n",
      "True\n"
     ]
    }
   ],
   "source": [
    "# 시작하는 첫 알파벳이 대문자인지\n",
    "\n",
    "a = \"\"\n",
    "print(a.istitle())\n",
    "\n",
    "a = \" \"\n",
    "print(a.istitle())\n",
    "\n",
    "a = \" t\"\n",
    "print(a.istitle())\n",
    "\n",
    "a = \" T\"\n",
    "print(a.istitle())\n",
    "\n",
    "a = \"Tea\"\n",
    "print(a.istitle())\n",
    "\n",
    "a = \"Tea and Coffee\"\n",
    "print(a.istitle())\n",
    "\n",
    "a = \"Tea And Coffee\"\n",
    "print(a.istitle())\n",
    "\n",
    "a = \"1. Tea & Coffee \\r\"\n",
    "print(a.istitle())"
   ]
  },
  {
   "cell_type": "code",
   "execution_count": 28,
   "metadata": {},
   "outputs": [
    {
     "name": "stdout",
     "output_type": "stream",
     "text": [
      "False\n",
      "False\n",
      "True\n",
      "False\n",
      "True\n",
      "False\n",
      "False\n"
     ]
    }
   ],
   "source": [
    "# 전부 대문자인지 판별\n",
    "a = \" \"\n",
    "print(a.isupper())\n",
    "\n",
    "a = \"123\"\n",
    "print(a.isupper())\n",
    "\n",
    "a = \"_USER_123\"\n",
    "print(a.isupper())\n",
    "\n",
    "a = \"Homer\"\n",
    "print(a.isupper())\n",
    "\n",
    "a = \"HOMER\"\n",
    "print(a.isupper())\n",
    "\n",
    "a = \"homer\"\n",
    "print(a.isupper())\n",
    "\n",
    "a = \"HOMER\"\n",
    "a = a.casefold() #Force lowercase\n",
    "print(a.isupper())"
   ]
  },
  {
   "cell_type": "code",
   "execution_count": 29,
   "metadata": {},
   "outputs": [
    {
     "name": "stdout",
     "output_type": "stream",
     "text": [
      "1-2-3\n",
      "U.S.A\n",
      "Dr. Who\n"
     ]
    }
   ],
   "source": [
    "# a를 기준으로 다음 문자열과 합성\n",
    "a = \"-\"\n",
    "print(a.join(\"123\"))\n",
    "\n",
    "a = \".\"\n",
    "print(a.join(\"USA\"))\n",
    "\n",
    "a = \". \"\n",
    "print(a.join((\"Dr\", \"Who\")))"
   ]
  },
  {
   "cell_type": "code",
   "execution_count": 30,
   "metadata": {},
   "outputs": [
    {
     "name": "stdout",
     "output_type": "stream",
     "text": [
      "bee---------\n"
     ]
    }
   ],
   "source": [
    "# center와 비슷 하지만 얘는 왼쪽으로 주고 나머지 패딩을 채워라\n",
    "a = \"bee\" \n",
    "b = a.ljust(12, \"-\")\n",
    "print(b)"
   ]
  },
  {
   "cell_type": "code",
   "execution_count": 31,
   "metadata": {},
   "outputs": [
    {
     "name": "stdout",
     "output_type": "stream",
     "text": [
      "bee\n"
     ]
    }
   ],
   "source": [
    "a = \"BEE\"\n",
    "print(a.lower())"
   ]
  },
  {
   "cell_type": "code",
   "execution_count": 33,
   "metadata": {},
   "outputs": [
    {
     "name": "stdout",
     "output_type": "stream",
     "text": [
      "Bee       !\n",
      "Bee-----\n"
     ]
    }
   ],
   "source": [
    "# 왼쪽 문자열을 지워서 출력\n",
    "\n",
    "a = \"      Bee      \"\n",
    "print(a.lstrip(), \"!\")\n",
    "\n",
    "a = \"-----Bee-----\"\n",
    "print(a.lstrip(\"-\"))"
   ]
  },
  {
   "cell_type": "code",
   "execution_count": 34,
   "metadata": {},
   "outputs": [
    {
     "name": "stdout",
     "output_type": "stream",
     "text": [
      "123425 6782\n"
     ]
    }
   ],
   "source": [
    "# 문자열 끼리 트랜스코드르 만듦\n",
    "# 새로운문자열이 오면 기존에 만들어져있는 트랜스코드로 변환해서 출력\n",
    "\n",
    "frm = \"SecrtCod\"\n",
    "to = \"12345678\"\n",
    "trans_table = str.maketrans(frm, to)\n",
    "secret_code = \"Secret Code\".translate(trans_table)\n",
    "print(secret_code)"
   ]
  },
  {
   "cell_type": "code",
   "execution_count": 35,
   "metadata": {},
   "outputs": [
    {
     "name": "stdout",
     "output_type": "stream",
     "text": [
      "('Python', '-', 'program')\n",
      "('Python-program', '', '')\n"
     ]
    }
   ],
   "source": [
    "# 지정해주는 문자를 기준으로 문자열을 분리\n",
    "# 지정해주는 문자가 없으면 그냥 뒤로 동동\n",
    "\n",
    "a = \"Python-program\"\n",
    "\n",
    "print(a.partition(\"-\"))\n",
    "print(a.partition(\".\"))"
   ]
  },
  {
   "cell_type": "code",
   "execution_count": 36,
   "metadata": {},
   "outputs": [
    {
     "name": "stdout",
     "output_type": "stream",
     "text": [
      "Coffee bag. Coffee cup. Coffee leaves.\n",
      "Coffee bag. Coffee cup. Tea leaves.\n"
     ]
    }
   ],
   "source": [
    "# 앞문자를 뒷 문자로 교체, 숫자는 횟수를 지정하는 듯\n",
    "\n",
    "a = \"Tea bag. Tea cup. Tea leaves.\"\n",
    "\n",
    "print(a.replace(\"Tea\", \"Coffee\"))\n",
    "print(a.replace(\"Tea\", \"Coffee\", 2))"
   ]
  },
  {
   "cell_type": "code",
   "execution_count": 37,
   "metadata": {},
   "outputs": [
    {
     "name": "stdout",
     "output_type": "stream",
     "text": [
      "0\n",
      "8\n",
      "10\n",
      "9\n",
      "-1\n",
      "-1\n",
      "-1\n"
     ]
    }
   ],
   "source": [
    "# 위치 확인하기 -1이면 없음\n",
    "\n",
    "a = \"Yes Fitness\"\n",
    "\n",
    "print(a.rfind(\"Y\"))\n",
    "print(a.rfind(\"e\"))\n",
    "print(a.rfind(\"s\"))\n",
    "print(a.rfind(\"ss\"))\n",
    "print(a.rfind(\"y\"))\n",
    "print(a.rfind(\"z\"))\n",
    "print(a.rfind(\"Homer\"))"
   ]
  },
  {
   "cell_type": "code",
   "execution_count": 38,
   "metadata": {},
   "outputs": [
    {
     "name": "stdout",
     "output_type": "stream",
     "text": [
      "0\n",
      "8\n",
      "10\n",
      "9\n"
     ]
    },
    {
     "ename": "ValueError",
     "evalue": "substring not found",
     "output_type": "error",
     "traceback": [
      "\u001b[1;31m---------------------------------------------------------------------------\u001b[0m",
      "\u001b[1;31mValueError\u001b[0m                                Traceback (most recent call last)",
      "\u001b[1;32m<ipython-input-38-3ee59c79808c>\u001b[0m in \u001b[0;36m<module>\u001b[1;34m\u001b[0m\n\u001b[0;32m      5\u001b[0m \u001b[0mprint\u001b[0m\u001b[1;33m(\u001b[0m\u001b[0ma\u001b[0m\u001b[1;33m.\u001b[0m\u001b[0mrindex\u001b[0m\u001b[1;33m(\u001b[0m\u001b[1;34m\"s\"\u001b[0m\u001b[1;33m)\u001b[0m\u001b[1;33m)\u001b[0m\u001b[1;33m\u001b[0m\u001b[1;33m\u001b[0m\u001b[0m\n\u001b[0;32m      6\u001b[0m \u001b[0mprint\u001b[0m\u001b[1;33m(\u001b[0m\u001b[0ma\u001b[0m\u001b[1;33m.\u001b[0m\u001b[0mrindex\u001b[0m\u001b[1;33m(\u001b[0m\u001b[1;34m\"ss\"\u001b[0m\u001b[1;33m)\u001b[0m\u001b[1;33m)\u001b[0m\u001b[1;33m\u001b[0m\u001b[1;33m\u001b[0m\u001b[0m\n\u001b[1;32m----> 7\u001b[1;33m \u001b[0mprint\u001b[0m\u001b[1;33m(\u001b[0m\u001b[0ma\u001b[0m\u001b[1;33m.\u001b[0m\u001b[0mrindex\u001b[0m\u001b[1;33m(\u001b[0m\u001b[1;34m\"y\"\u001b[0m\u001b[1;33m)\u001b[0m\u001b[1;33m)\u001b[0m\u001b[1;33m\u001b[0m\u001b[1;33m\u001b[0m\u001b[0m\n\u001b[0m\u001b[0;32m      8\u001b[0m \u001b[0mprint\u001b[0m\u001b[1;33m(\u001b[0m\u001b[0ma\u001b[0m\u001b[1;33m.\u001b[0m\u001b[0mrindex\u001b[0m\u001b[1;33m(\u001b[0m\u001b[1;34m\"z\"\u001b[0m\u001b[1;33m)\u001b[0m\u001b[1;33m)\u001b[0m\u001b[1;33m\u001b[0m\u001b[1;33m\u001b[0m\u001b[0m\n\u001b[0;32m      9\u001b[0m \u001b[0mprint\u001b[0m\u001b[1;33m(\u001b[0m\u001b[0ma\u001b[0m\u001b[1;33m.\u001b[0m\u001b[0mrindex\u001b[0m\u001b[1;33m(\u001b[0m\u001b[1;34m\"Homer\"\u001b[0m\u001b[1;33m)\u001b[0m\u001b[1;33m)\u001b[0m\u001b[1;33m\u001b[0m\u001b[1;33m\u001b[0m\u001b[0m\n",
      "\u001b[1;31mValueError\u001b[0m: substring not found"
     ]
    }
   ],
   "source": [
    "# 얘도 위랑 똑같음\n",
    "# 근데 없으면 에러로 뜸\n",
    "\n",
    "a = \"Yes Fitness\"\n",
    "\n",
    "print(a.rindex(\"Y\"))\n",
    "print(a.rindex(\"e\"))\n",
    "print(a.rindex(\"s\"))\n",
    "print(a.rindex(\"ss\"))\n",
    "print(a.rindex(\"y\"))\n",
    "print(a.rindex(\"z\"))\n",
    "print(a.rindex(\"Homer\"))"
   ]
  },
  {
   "cell_type": "code",
   "execution_count": 39,
   "metadata": {},
   "outputs": [
    {
     "name": "stdout",
     "output_type": "stream",
     "text": [
      "---------bee\n"
     ]
    }
   ],
   "source": [
    "# ljust rjust 짝궁\n",
    "\n",
    "a = \"bee\" \n",
    "b = a.rjust(12, \"-\")\n",
    "print(b)"
   ]
  },
  {
   "cell_type": "code",
   "execution_count": 40,
   "metadata": {},
   "outputs": [
    {
     "name": "stdout",
     "output_type": "stream",
     "text": [
      "('Homer-Jay', '-', 'Simpson')\n",
      "('', '', 'Homer-Jay-Simpson')\n"
     ]
    }
   ],
   "source": [
    "a = \"Homer-Jay-Simpson\"\n",
    "\n",
    "print(a.rpartition(\"-\"))\n",
    "print(a.rpartition(\".\"))"
   ]
  },
  {
   "cell_type": "code",
   "execution_count": 41,
   "metadata": {},
   "outputs": [
    {
     "name": "stdout",
     "output_type": "stream",
     "text": [
      "['Homer', 'Jay', 'Simpson']\n",
      "['Homer-Jay', 'Simpson']\n"
     ]
    }
   ],
   "source": [
    "a = \"Homer Jay Simpson\"\n",
    "print(a.rsplit())\n",
    "\n",
    "a = \"Homer-Jay-Simpson\"\n",
    "print(a.rsplit(sep=\"-\",maxsplit=1))"
   ]
  },
  {
   "cell_type": "code",
   "execution_count": 42,
   "metadata": {},
   "outputs": [
    {
     "name": "stdout",
     "output_type": "stream",
     "text": [
      "      Bee !\n",
      "-----Bee\n"
     ]
    }
   ],
   "source": [
    "a = \"      Bee      \"\n",
    "print(a.rstrip(), \"!\")\n",
    "\n",
    "a = \"-----Bee-----\"\n",
    "print(a.rstrip(\"-\"))"
   ]
  },
  {
   "cell_type": "code",
   "execution_count": 43,
   "metadata": {},
   "outputs": [
    {
     "name": "stdout",
     "output_type": "stream",
     "text": [
      "['Homer', 'Jay', 'Simpson']\n",
      "['Homer', 'Jay-Simpson']\n",
      "['Homer', '', 'Bart', '']\n",
      "['Homer', ',Bart']\n",
      "['Homer', 'Bart', 'Marge']\n"
     ]
    }
   ],
   "source": [
    "a = \"Homer Jay Simpson\"\n",
    "print(a.split())\n",
    "\n",
    "a = \"Homer-Jay-Simpson\"\n",
    "print(a.split(sep=\"-\",maxsplit=1))\n",
    "\n",
    "a = \"Homer,,Bart,\"\n",
    "print(a.split(\",\"))\n",
    "\n",
    "a = \"Homer,,Bart\"\n",
    "print(a.split(\",\", maxsplit=1))\n",
    "\n",
    "a = \"Homer<>Bart<>Marge\"\n",
    "print(a.split(\"<>\"))"
   ]
  },
  {
   "cell_type": "code",
   "execution_count": 44,
   "metadata": {},
   "outputs": [
    {
     "name": "stdout",
     "output_type": "stream",
     "text": [
      "['Tea', '', 'and coffee', 'cups']\n",
      "['Tea\\n', '\\n', 'and coffee\\r', 'cups\\r\\n']\n"
     ]
    }
   ],
   "source": [
    "# 화이트 스페이스를 기준으로 스플릿\n",
    "# keepends는 뭔지 ...\n",
    "a = \"Tea\\n\\nand coffee\\rcups\\r\\n\"\n",
    "\n",
    "print(a.splitlines())\n",
    "print(a.splitlines(keepends=True))"
   ]
  },
  {
   "cell_type": "code",
   "execution_count": 45,
   "metadata": {},
   "outputs": [
    {
     "name": "stdout",
     "output_type": "stream",
     "text": [
      "True\n",
      "False\n",
      "True\n",
      "False\n",
      "True\n"
     ]
    }
   ],
   "source": [
    "a = \"Homer\"\n",
    "\n",
    "print(a.startswith(\"H\"))\n",
    "print(a.startswith(\"h\"))\n",
    "print(a.startswith(\"Homer\"))\n",
    "print(a.startswith(\"z\"))\n",
    "print(a.startswith(\"om\", 1, 3))"
   ]
  },
  {
   "cell_type": "code",
   "execution_count": 47,
   "metadata": {},
   "outputs": [
    {
     "name": "stdout",
     "output_type": "stream",
     "text": [
      "Bee !\n",
      "Bee\n"
     ]
    }
   ],
   "source": [
    "a = \"      Bee      \"\n",
    "print(a.strip(), \"!\")\n",
    "\n",
    "a = \"-----Bee-----\"\n",
    "print(a.strip(\"-\"))"
   ]
  },
  {
   "cell_type": "code",
   "execution_count": 48,
   "metadata": {},
   "outputs": [
    {
     "name": "stdout",
     "output_type": "stream",
     "text": [
      "hOMER sIMPSON\n"
     ]
    }
   ],
   "source": [
    "# 소문자는 대문자로 대문자는 소문자로\n",
    "a = \"Homer Simpson\"\n",
    "print(a.swapcase())"
   ]
  },
  {
   "cell_type": "code",
   "execution_count": 49,
   "metadata": {},
   "outputs": [
    {
     "name": "stdout",
     "output_type": "stream",
     "text": [
      "Tea And Coffee\n",
      "Tea And Coffee\n"
     ]
    }
   ],
   "source": [
    "a = \"tea and coffee\"\n",
    "print(a.title())\n",
    "\n",
    "a = \"TEA AND COFFEE\"\n",
    "print(a.title())"
   ]
  },
  {
   "cell_type": "code",
   "execution_count": 50,
   "metadata": {},
   "outputs": [
    {
     "name": "stdout",
     "output_type": "stream",
     "text": [
      "123425 6782\n"
     ]
    }
   ],
   "source": [
    "# 트랜스 코드를 다시 해석하는 코드\n",
    "\n",
    "frm = \"SecrtCod\"\n",
    "to = \"12345678\"\n",
    "trans_table = str.maketrans(frm, to)\n",
    "secret_code = \"Secret Code\".translate(trans_table)\n",
    "print(secret_code)"
   ]
  },
  {
   "cell_type": "code",
   "execution_count": 51,
   "metadata": {},
   "outputs": [
    {
     "name": "stdout",
     "output_type": "stream",
     "text": [
      "BEE\n"
     ]
    }
   ],
   "source": [
    "a = \"bee\"\n",
    "print(a.upper())"
   ]
  },
  {
   "cell_type": "code",
   "execution_count": 52,
   "metadata": {},
   "outputs": [
    {
     "name": "stdout",
     "output_type": "stream",
     "text": [
      "00036\n",
      "-0036\n",
      "+0036\n"
     ]
    }
   ],
   "source": [
    "a = \"36\"\n",
    "print(a.zfill(5))\n",
    "\n",
    "a = \"-36\"\n",
    "print(a.zfill(5))\n",
    "\n",
    "a = \"+36\"\n",
    "print(a.zfill(5))"
   ]
  },
  {
   "cell_type": "code",
   "execution_count": null,
   "metadata": {},
   "outputs": [],
   "source": []
  }
 ],
 "metadata": {
  "kernelspec": {
   "display_name": "Python 3",
   "language": "python",
   "name": "python3"
  },
  "language_info": {
   "codemirror_mode": {
    "name": "ipython",
    "version": 3
   },
   "file_extension": ".py",
   "mimetype": "text/x-python",
   "name": "python",
   "nbconvert_exporter": "python",
   "pygments_lexer": "ipython3",
   "version": "3.8.3"
  }
 },
 "nbformat": 4,
 "nbformat_minor": 4
}
