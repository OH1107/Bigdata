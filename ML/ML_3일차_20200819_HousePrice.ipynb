{
  "nbformat": 4,
  "nbformat_minor": 0,
  "metadata": {
    "colab": {
      "name": "ML_3일차_20200819_HousePrice",
      "provenance": [],
      "collapsed_sections": [],
      "authorship_tag": "ABX9TyMnRiISeVdUDzWz3SMMkZU0",
      "include_colab_link": true
    },
    "kernelspec": {
      "name": "python3",
      "display_name": "Python 3"
    }
  },
  "cells": [
    {
      "cell_type": "markdown",
      "metadata": {
        "id": "view-in-github",
        "colab_type": "text"
      },
      "source": [
        "<a href=\"https://colab.research.google.com/github/OH1107/aisa_edu/blob/master/ML/ML_3%EC%9D%BC%EC%B0%A8_20200819_HousePrice.ipynb\" target=\"_parent\"><img src=\"https://colab.research.google.com/assets/colab-badge.svg\" alt=\"Open In Colab\"/></a>"
      ]
    },
    {
      "cell_type": "markdown",
      "metadata": {
        "id": "ce1AFD-cdfxu",
        "colab_type": "text"
      },
      "source": [
        "## I. 사전 준비작업\n",
        "\n",
        "\n",
        "\n",
        "- 구글 드라이브 마운트\n",
        "- 빅쿼리에 데이터 적재"
      ]
    },
    {
      "cell_type": "markdown",
      "metadata": {
        "id": "YnGx1Dyddt_e",
        "colab_type": "text"
      },
      "source": [
        "## (1) Google Drive와 마운트"
      ]
    },
    {
      "cell_type": "code",
      "metadata": {
        "id": "SJWc1vpfQjI1",
        "colab_type": "code",
        "colab": {
          "base_uri": "https://localhost:8080/",
          "height": 145
        },
        "outputId": "298b48a6-61a1-4382-eef6-72fde3b1e938"
      },
      "source": [
        "# Mount Google Drive\n",
        "from google.colab import drive # import drive from google colab\n",
        "\n",
        "ROOT = \"/content/drive\"     # default location for the drive\n",
        "print(ROOT)                 # print content of ROOT (Optional)\n",
        "drive.mount(ROOT)           # we mount the google drive at /content/drive"
      ],
      "execution_count": 1,
      "outputs": [
        {
          "output_type": "stream",
          "text": [
            "/content/drive\n",
            "Go to this URL in a browser: https://accounts.google.com/o/oauth2/auth?client_id=947318989803-6bn6qk8qdgf4n4g3pfee6491hc0brc4i.apps.googleusercontent.com&redirect_uri=urn%3aietf%3awg%3aoauth%3a2.0%3aoob&scope=email%20https%3a%2f%2fwww.googleapis.com%2fauth%2fdocs.test%20https%3a%2f%2fwww.googleapis.com%2fauth%2fdrive%20https%3a%2f%2fwww.googleapis.com%2fauth%2fdrive.photos.readonly%20https%3a%2f%2fwww.googleapis.com%2fauth%2fpeopleapi.readonly&response_type=code\n",
            "\n",
            "Enter your authorization code:\n",
            "··········\n",
            "Mounted at /content/drive\n"
          ],
          "name": "stdout"
        }
      ]
    },
    {
      "cell_type": "code",
      "metadata": {
        "id": "hnLhKHUbQ3HN",
        "colab_type": "code",
        "colab": {
          "base_uri": "https://localhost:8080/",
          "height": 35
        },
        "outputId": "17870d99-2776-4c9c-b509-4e0eada27e7d"
      },
      "source": [
        "# 현재 경로 확인\n",
        "%pwd"
      ],
      "execution_count": 5,
      "outputs": [
        {
          "output_type": "execute_result",
          "data": {
            "application/vnd.google.colaboratory.intrinsic+json": {
              "type": "string"
            },
            "text/plain": [
              "'/content/drive/My Drive/Colab Notebooks/ML_Project/house_price'"
            ]
          },
          "metadata": {
            "tags": []
          },
          "execution_count": 5
        }
      ]
    },
    {
      "cell_type": "code",
      "metadata": {
        "id": "8rwkEe2YQ5rH",
        "colab_type": "code",
        "colab": {
          "base_uri": "https://localhost:8080/",
          "height": 35
        },
        "outputId": "c0db74a7-cfd0-40d3-998d-b552ba306418"
      },
      "source": [
        "# 현재 경로의 파일 확인\n",
        "%ls"
      ],
      "execution_count": 6,
      "outputs": [
        {
          "output_type": "stream",
          "text": [
            "sample_submission.csv  test.csv  train.csv\n"
          ],
          "name": "stdout"
        }
      ]
    },
    {
      "cell_type": "code",
      "metadata": {
        "id": "BEDnFd12Q9Y-",
        "colab_type": "code",
        "colab": {
          "base_uri": "https://localhost:8080/",
          "height": 35
        },
        "outputId": "e204fb34-59b4-4bef-abce-7c95db71322b"
      },
      "source": [
        "# 경로 이동\n",
        "%cd drive/'My Drive'/'Colab Notebooks'/'ML_Project'/'house_price'"
      ],
      "execution_count": 4,
      "outputs": [
        {
          "output_type": "stream",
          "text": [
            "/content/drive/My Drive/Colab Notebooks/ML_Project/house_price\n"
          ],
          "name": "stdout"
        }
      ]
    },
    {
      "cell_type": "markdown",
      "metadata": {
        "id": "AMP5YaE2d11b",
        "colab_type": "text"
      },
      "source": [
        "## (2) BigQuery에 데이터 적재"
      ]
    },
    {
      "cell_type": "code",
      "metadata": {
        "id": "PDYJbWE7RF2X",
        "colab_type": "code",
        "colab": {
          "base_uri": "https://localhost:8080/",
          "height": 91
        },
        "outputId": "d66f3c8d-de02-4c63-9513-ecf8c5be6070"
      },
      "source": [
        "import pandas as pd\n",
        "from pandas.io import gbq\n",
        "\n",
        "# import sample_submission file\n",
        "sample_submission = pd.read_csv('sample_submission.csv')\n",
        "\n",
        "# Connect to Google Cloud API and Upload DataFrame\n",
        "sample_submission.to_gbq(destination_table='house_price.sample_submission', \n",
        "                  project_id='groovy-ego-286903',\n",
        "                  if_exists='replace')"
      ],
      "execution_count": 7,
      "outputs": [
        {
          "output_type": "stream",
          "text": [
            "Please visit this URL to authorize this application: https://accounts.google.com/o/oauth2/auth?response_type=code&client_id=725825577420-unm2gnkiprugilg743tkbig250f4sfsj.apps.googleusercontent.com&redirect_uri=urn%3Aietf%3Awg%3Aoauth%3A2.0%3Aoob&scope=https%3A%2F%2Fwww.googleapis.com%2Fauth%2Fbigquery&state=lHCjE2BIIqJZkFIeWlrnXVo7lIYH1q&prompt=consent&access_type=offline\n",
            "Enter the authorization code: 4/3QFMXk7wgw_AJTiPJ6IxxtPdeEinNC3sjKybMQJkXkErqiDkZXNTcQY\n"
          ],
          "name": "stdout"
        },
        {
          "output_type": "stream",
          "text": [
            "1it [00:05,  5.09s/it]\n"
          ],
          "name": "stderr"
        }
      ]
    },
    {
      "cell_type": "code",
      "metadata": {
        "id": "vVhrLZL3RYtj",
        "colab_type": "code",
        "colab": {}
      },
      "source": [
        "# test.csv 파일 임포트\n",
        "\n",
        "test = pd.read_csv('test.csv')"
      ],
      "execution_count": 9,
      "outputs": []
    },
    {
      "cell_type": "code",
      "metadata": {
        "id": "DXHQhxLpbhQy",
        "colab_type": "code",
        "colab": {
          "base_uri": "https://localhost:8080/",
          "height": 341
        },
        "outputId": "f298e91d-bfc8-4951-9e08-b44a1d0dc80a"
      },
      "source": [
        "# test의 컬럼명 확인\n",
        "test.columns"
      ],
      "execution_count": 10,
      "outputs": [
        {
          "output_type": "execute_result",
          "data": {
            "text/plain": [
              "Index(['Id', 'MSSubClass', 'MSZoning', 'LotFrontage', 'LotArea', 'Street',\n",
              "       'Alley', 'LotShape', 'LandContour', 'Utilities', 'LotConfig',\n",
              "       'LandSlope', 'Neighborhood', 'Condition1', 'Condition2', 'BldgType',\n",
              "       'HouseStyle', 'OverallQual', 'OverallCond', 'YearBuilt', 'YearRemodAdd',\n",
              "       'RoofStyle', 'RoofMatl', 'Exterior1st', 'Exterior2nd', 'MasVnrType',\n",
              "       'MasVnrArea', 'ExterQual', 'ExterCond', 'Foundation', 'BsmtQual',\n",
              "       'BsmtCond', 'BsmtExposure', 'BsmtFinType1', 'BsmtFinSF1',\n",
              "       'BsmtFinType2', 'BsmtFinSF2', 'BsmtUnfSF', 'TotalBsmtSF', 'Heating',\n",
              "       'HeatingQC', 'CentralAir', 'Electrical', '1stFlrSF', '2ndFlrSF',\n",
              "       'LowQualFinSF', 'GrLivArea', 'BsmtFullBath', 'BsmtHalfBath', 'FullBath',\n",
              "       'HalfBath', 'BedroomAbvGr', 'KitchenAbvGr', 'KitchenQual',\n",
              "       'TotRmsAbvGrd', 'Functional', 'Fireplaces', 'FireplaceQu', 'GarageType',\n",
              "       'GarageYrBlt', 'GarageFinish', 'GarageCars', 'GarageArea', 'GarageQual',\n",
              "       'GarageCond', 'PavedDrive', 'WoodDeckSF', 'OpenPorchSF',\n",
              "       'EnclosedPorch', '3SsnPorch', 'ScreenPorch', 'PoolArea', 'PoolQC',\n",
              "       'Fence', 'MiscFeature', 'MiscVal', 'MoSold', 'YrSold', 'SaleType',\n",
              "       'SaleCondition'],\n",
              "      dtype='object')"
            ]
          },
          "metadata": {
            "tags": []
          },
          "execution_count": 10
        }
      ]
    },
    {
      "cell_type": "markdown",
      "metadata": {
        "id": "sHfHPMWyd70i",
        "colab_type": "text"
      },
      "source": [
        "### 에러 발생 해결 과정"
      ]
    },
    {
      "cell_type": "markdown",
      "metadata": {
        "id": "n6oeEx9VeYEU",
        "colab_type": "text"
      },
      "source": [
        "```\n",
        "test.to_gbq(destination_table='house_price.test', \n",
        "                  project_id='groovy-ego-286903', \n",
        "                  if_exists='replace')\n",
        "```\n",
        "---\n",
        "- 다음과 같은 에러 발생\n",
        "---------------------------------------------------------------------------\n",
        "BadRequest                                Traceback (most recent call last)\n",
        "/usr/local/lib/python3.6/dist-packages/pandas_gbq/gbq.py in create(self, table_id, schema)\n",
        "   1323         try:\n",
        "-> 1324             self.client.create_table(table)\n",
        "   1325         except self.http_error as ex:\n",
        "\n",
        "10 frames\n",
        "BadRequest: 400 POST https://bigquery.googleapis.com/bigquery/v2/projects/groovy-ego-286903/datasets/house_price/tables: Invalid field name \"1stFlrSF\". Fields must contain only letters, numbers, and underscores, start with a letter or underscore, and be at most 128 characters long.\n",
        "\n",
        "During handling of the above exception, another exception occurred:\n",
        "\n",
        "GenericGBQException                       Traceback (most recent call last)\n",
        "/usr/local/lib/python3.6/dist-packages/pandas_gbq/gbq.py in process_http_error(ex)\n",
        "    435         # <https://cloud.google.com/bigquery/troubleshooting-errors>`__\n",
        "    436 \n",
        "--> 437         raise GenericGBQException(\"Reason: {0}\".format(ex))\n",
        "    438 \n",
        "    439     def run_query(self, query, **kwargs):\n",
        "\n",
        "GenericGBQException: Reason: 400 POST https://bigquery.googleapis.com/bigquery/v2/projects/groovy-ego-286903/datasets/house_price/tables: Invalid field name \"1stFlrSF\". Fields must contain only letters, numbers, and underscores, start with a letter or underscore, and be at most 128 characters long."
      ]
    },
    {
      "cell_type": "markdown",
      "metadata": {
        "id": "lWGliV58b_Jf",
        "colab_type": "text"
      },
      "source": [
        "- 빅쿼리에 데이터를 `Loading` 할 때는 첫번째 글짜가 숫자가 오면 안되기 때문에, column 명을 수정한다.\n",
        "  + 이 때, 각 숫자 앞에 `my`만 추가한다. "
      ]
    },
    {
      "cell_type": "code",
      "metadata": {
        "id": "Q7HwcXi4cAB2",
        "colab_type": "code",
        "colab": {}
      },
      "source": [
        "colnames_dict = {\"1stFlrSF\": \"my1stFlrSF\", \"2ndFlrSF\": \"my2ndFlrSF\", \"3SsnPorch\": \"my3SsnPorch\"}"
      ],
      "execution_count": 13,
      "outputs": []
    },
    {
      "cell_type": "code",
      "metadata": {
        "id": "-YcZ604ecCj4",
        "colab_type": "code",
        "colab": {
          "base_uri": "https://localhost:8080/",
          "height": 35
        },
        "outputId": "34625dc5-597b-45cf-cdf8-d7c0c376e9d2"
      },
      "source": [
        "# Connect to Google Cloud API and Upload DataFrame\n",
        "test = test.rename(columns=colnames_dict)\n",
        "test.to_gbq(destination_table='house_price.test', \n",
        "                  project_id='groovy-ego-286903', \n",
        "                  if_exists='replace')"
      ],
      "execution_count": 14,
      "outputs": [
        {
          "output_type": "stream",
          "text": [
            "1it [00:04,  4.74s/it]\n"
          ],
          "name": "stderr"
        }
      ]
    },
    {
      "cell_type": "code",
      "metadata": {
        "id": "N7HznrIMcNxl",
        "colab_type": "code",
        "colab": {
          "base_uri": "https://localhost:8080/",
          "height": 341
        },
        "outputId": "c3565d6c-3777-4169-ca27-d782b0f8ac3c"
      },
      "source": [
        "# 컬럼명이 바뀐걸 확인 할 수 있다\n",
        "# 첫 번째 시작이 숫자로 시작하는 컬럼명은 my가 붙음\n",
        "test.columns"
      ],
      "execution_count": 16,
      "outputs": [
        {
          "output_type": "execute_result",
          "data": {
            "text/plain": [
              "Index(['Id', 'MSSubClass', 'MSZoning', 'LotFrontage', 'LotArea', 'Street',\n",
              "       'Alley', 'LotShape', 'LandContour', 'Utilities', 'LotConfig',\n",
              "       'LandSlope', 'Neighborhood', 'Condition1', 'Condition2', 'BldgType',\n",
              "       'HouseStyle', 'OverallQual', 'OverallCond', 'YearBuilt', 'YearRemodAdd',\n",
              "       'RoofStyle', 'RoofMatl', 'Exterior1st', 'Exterior2nd', 'MasVnrType',\n",
              "       'MasVnrArea', 'ExterQual', 'ExterCond', 'Foundation', 'BsmtQual',\n",
              "       'BsmtCond', 'BsmtExposure', 'BsmtFinType1', 'BsmtFinSF1',\n",
              "       'BsmtFinType2', 'BsmtFinSF2', 'BsmtUnfSF', 'TotalBsmtSF', 'Heating',\n",
              "       'HeatingQC', 'CentralAir', 'Electrical', 'my1stFlrSF', 'my2ndFlrSF',\n",
              "       'LowQualFinSF', 'GrLivArea', 'BsmtFullBath', 'BsmtHalfBath', 'FullBath',\n",
              "       'HalfBath', 'BedroomAbvGr', 'KitchenAbvGr', 'KitchenQual',\n",
              "       'TotRmsAbvGrd', 'Functional', 'Fireplaces', 'FireplaceQu', 'GarageType',\n",
              "       'GarageYrBlt', 'GarageFinish', 'GarageCars', 'GarageArea', 'GarageQual',\n",
              "       'GarageCond', 'PavedDrive', 'WoodDeckSF', 'OpenPorchSF',\n",
              "       'EnclosedPorch', 'my3SsnPorch', 'ScreenPorch', 'PoolArea', 'PoolQC',\n",
              "       'Fence', 'MiscFeature', 'MiscVal', 'MoSold', 'YrSold', 'SaleType',\n",
              "       'SaleCondition'],\n",
              "      dtype='object')"
            ]
          },
          "metadata": {
            "tags": []
          },
          "execution_count": 16
        }
      ]
    },
    {
      "cell_type": "code",
      "metadata": {
        "id": "Eobizn_nc3Do",
        "colab_type": "code",
        "colab": {
          "base_uri": "https://localhost:8080/",
          "height": 35
        },
        "outputId": "f10f1844-5b78-4c8b-a269-4470317b2142"
      },
      "source": [
        "# Connect to Google Cloud API and Upload DataFrame\n",
        "train = pd.read_csv('train.csv')\n",
        "train = train.rename(columns=colnames_dict)\n",
        "train.to_gbq(destination_table='house_price.train', \n",
        "            project_id='groovy-ego-286903', \n",
        "            if_exists='replace')"
      ],
      "execution_count": 17,
      "outputs": [
        {
          "output_type": "stream",
          "text": [
            "1it [00:03,  3.67s/it]\n"
          ],
          "name": "stderr"
        }
      ]
    },
    {
      "cell_type": "markdown",
      "metadata": {
        "id": "9hZWw0RGeA4n",
        "colab_type": "text"
      },
      "source": [
        "- 빅쿼리에 적재되어 있는지 확인"
      ]
    },
    {
      "cell_type": "markdown",
      "metadata": {
        "id": "JlXNWCoEeDdX",
        "colab_type": "text"
      },
      "source": [
        "## II. 데이터 피처공학\n",
        "- 사이킷런 패키지는 기본적으로 결측치를 허용하지 않기 때문에, 반드시 확인 후, 처리해야 한다. \n",
        "- 이번에는 `BigQuery`를 통해 데이터를 불러온다. \n",
        "- 주요 데이터 추출을 위한 피처공학에 대해 배워본다. "
      ]
    },
    {
      "cell_type": "markdown",
      "metadata": {
        "id": "oURmeY-OePtH",
        "colab_type": "text"
      },
      "source": [
        "### (1) 주요 패키지 불러오기\n",
        "- 이제 주요 패키지를 불러온다."
      ]
    },
    {
      "cell_type": "code",
      "metadata": {
        "id": "D9Sngq0LeS6o",
        "colab_type": "code",
        "colab": {
          "base_uri": "https://localhost:8080/",
          "height": 53
        },
        "outputId": "737eab74-38af-4d99-cda6-14cd7288f62a"
      },
      "source": [
        "import math\n",
        "import numpy as np\n",
        "import pandas as pd\n",
        "import matplotlib.pyplot as plt\n",
        "%matplotlib inline\n",
        "import seaborn as sns\n",
        "from scipy.stats import norm\n",
        "import lightgbm as lgb\n",
        "from sklearn.model_selection import train_test_split\n",
        "from sklearn.metrics import mean_squared_log_error\n",
        "from sklearn import preprocessing\n",
        "from sklearn.preprocessing import StandardScaler\n",
        "from sklearn.model_selection import cross_val_score, cross_val_predict"
      ],
      "execution_count": 19,
      "outputs": [
        {
          "output_type": "stream",
          "text": [
            "/usr/local/lib/python3.6/dist-packages/statsmodels/tools/_testing.py:19: FutureWarning: pandas.util.testing is deprecated. Use the functions in the public API at pandas.testing instead.\n",
            "  import pandas.util.testing as tm\n"
          ],
          "name": "stderr"
        }
      ]
    },
    {
      "cell_type": "markdown",
      "metadata": {
        "id": "vXd7GuPsezP1",
        "colab_type": "text"
      },
      "source": [
        "### (2) 데이터 불러오기"
      ]
    },
    {
      "cell_type": "code",
      "metadata": {
        "id": "5U7INyM6eUQG",
        "colab_type": "code",
        "colab": {
          "base_uri": "https://localhost:8080/",
          "height": 35
        },
        "outputId": "f7cb1a1b-db2b-4600-9627-cf0e9b702894"
      },
      "source": [
        "# 구글 인증 라이브러리\n",
        "from google.colab import auth\n",
        "auth.authenticate_user()\n",
        "print('Authenticated')"
      ],
      "execution_count": 27,
      "outputs": [
        {
          "output_type": "stream",
          "text": [
            "Authenticated\n"
          ],
          "name": "stdout"
        }
      ]
    },
    {
      "cell_type": "code",
      "metadata": {
        "id": "P0DBVwcJe-X_",
        "colab_type": "code",
        "colab": {}
      },
      "source": [
        "# 빅쿼리 관련 라이브러리\n",
        "from google.cloud import bigquery\n",
        "from tabulate import tabulate"
      ],
      "execution_count": 28,
      "outputs": []
    },
    {
      "cell_type": "markdown",
      "metadata": {
        "id": "5M4K5pdffhck",
        "colab_type": "text"
      },
      "source": [
        "- 훈련 데이터를 불러온다"
      ]
    },
    {
      "cell_type": "code",
      "metadata": {
        "id": "TRJrVGtkfdV9",
        "colab_type": "code",
        "colab": {
          "base_uri": "https://localhost:8080/",
          "height": 53
        },
        "outputId": "4516fa78-70ec-482b-b739-0a00357acd11"
      },
      "source": [
        "from google.colab import auth\n",
        "from google.cloud import bigquery\n",
        "from tabulate import tabulate\n",
        "import pandas as pd\n",
        "\n",
        "project_id = 'groovy-ego-286903'\n",
        "client = bigquery.Client(project=project_id)\n",
        "\n",
        "df_train = client.query('''\n",
        "  SELECT \n",
        "      * \n",
        "  FROM `groovy-ego-286903.house_price.train`\n",
        "  ''').to_dataframe()\n",
        "\n",
        "df_train.shape"
      ],
      "execution_count": 31,
      "outputs": [
        {
          "output_type": "stream",
          "text": [
            "WARNING:google.auth._default:No project ID could be determined. Consider running `gcloud config set project` or setting the GOOGLE_CLOUD_PROJECT environment variable\n"
          ],
          "name": "stderr"
        },
        {
          "output_type": "execute_result",
          "data": {
            "text/plain": [
              "(1460, 81)"
            ]
          },
          "metadata": {
            "tags": []
          },
          "execution_count": 31
        }
      ]
    },
    {
      "cell_type": "markdown",
      "metadata": {
        "id": "cQPMMgFNgVcR",
        "colab_type": "text"
      },
      "source": [
        "- 그 다음은 테스트 데이터를 불러온다. "
      ]
    },
    {
      "cell_type": "code",
      "metadata": {
        "id": "Y0efaDc7fyb-",
        "colab_type": "code",
        "colab": {
          "base_uri": "https://localhost:8080/",
          "height": 35
        },
        "outputId": "6da59025-30f5-460d-82fe-86f6c4af045f"
      },
      "source": [
        "df_test = client.query('''\n",
        "  SELECT \n",
        "      * \n",
        "  FROM `groovy-ego-286903.house_price.test`\n",
        "  ''').to_dataframe()\n",
        "\n",
        "df_train.shape"
      ],
      "execution_count": 32,
      "outputs": [
        {
          "output_type": "execute_result",
          "data": {
            "text/plain": [
              "(1460, 81)"
            ]
          },
          "metadata": {
            "tags": []
          },
          "execution_count": 32
        }
      ]
    },
    {
      "cell_type": "code",
      "metadata": {
        "id": "qcTxZk9FgbTi",
        "colab_type": "code",
        "colab": {}
      },
      "source": [
        ""
      ],
      "execution_count": null,
      "outputs": []
    }
  ]
}