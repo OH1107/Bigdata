{
  "nbformat": 4,
  "nbformat_minor": 0,
  "metadata": {
    "colab": {
      "name": "LSTM_stock_prediction.ipynb",
      "provenance": [],
      "toc_visible": true,
      "include_colab_link": true
    },
    "kernelspec": {
      "name": "python3",
      "display_name": "Python 3"
    }
  },
  "cells": [
    {
      "cell_type": "markdown",
      "metadata": {
        "id": "view-in-github",
        "colab_type": "text"
      },
      "source": [
        "<a href=\"https://colab.research.google.com/github/OH1107/aisa_edu/blob/master/ML/LSTM_stock_prediction.ipynb\" target=\"_parent\"><img src=\"https://colab.research.google.com/assets/colab-badge.svg\" alt=\"Open In Colab\"/></a>"
      ]
    },
    {
      "cell_type": "markdown",
      "metadata": {
        "id": "tSWIxumpHlJ9",
        "colab_type": "text"
      },
      "source": [
        "---\n",
        "title: \"LSTM을 활용한 주택가격 예측\"\n",
        "date: 2020-07-03T18:00:47+09:00\n",
        "tags:\n",
        "  - \"Basic Data Structures\"\n",
        "  - \"Python Basic\"\n",
        "  - \"Python\"\n",
        "  - \"iteration\"\n",
        "categories:\n",
        "  - \"function\"\n",
        "  - \"Python\"\n",
        "  - \"Python Basic\"\n",
        "menu: \n",
        "  kaggle:\n",
        "    name: How to create my own function\n",
        "---\n",
        "\n",
        "## LSTM과 RNN의 개요 \n",
        "- RNN은 자연어처리에서 사용되는 대표적인 알고리즘\n",
        "  + 순환신경망으로 표현됨\n",
        "  + 활용범위: 음성 인식, 언어 모델링, 번역, 이미지 주석 생성\n",
        "\n",
        "![](https://img1.daumcdn.net/thumb/R1280x0/?scode=mtistory2&fname=http%3A%2F%2Fcfile3.uf.tistory.com%2Fimage%2F9901A1415ACB86A0211095)\n",
        "\n",
        "- Long Short-term Memory로 1997년에 소개되었음(Hochreiter and Schmidhuber, 1997). \n",
        "  + 논문: [Long Short-term Memory](https://www.researchgate.net/publication/13853244_Long_Short-term_Memory)\n",
        "\n",
        "- LSTM 네트워크는 recurrent neural network(RNN)의 한 종류임. \n",
        "  + LSTM은 RNN의 특별한 한 종류로, 긴 의존 기간을 필요로 하는 학습을 수행할 능력을 갖고 있다.\n",
        "\n",
        "- 간단하게 영어 단어를 맞춰보자. \n",
        "> The clouds are in the `...`\n",
        "\n",
        "- 위 빈칸에 들어갈 단어의 옵션은 많지 않다. \n",
        "  + 즉, 우리는 위 단어가 `clouds`라는 것을 알게 된다. \n",
        "\n",
        "- 이번에는 조금 더 문장을 늘려나가보다. \n",
        "> I was born in Korea but grew up in France... Nevertheless, I speak fluent ...\n",
        "\n",
        "- 한국어가 올지, 아니면 프랑스어가 올지 모른다. \n",
        "\n",
        "- 즉, 단기 기억은 `RNN`으로 해결할 수 있지만, 문장이 길어지고 복잡해지면 결과적으로 `LSTM` 알고리즘이 필요하다. \n"
      ]
    },
    {
      "cell_type": "markdown",
      "metadata": {
        "id": "_ktBFURoNA4Q",
        "colab_type": "text"
      },
      "source": [
        "## LSTM을 활용한 주식가격 예측 예제\n",
        "- 캐글 데이터를 활용하여 주식 가격 예측을 합니다. "
      ]
    },
    {
      "cell_type": "code",
      "metadata": {
        "id": "g2jRPsyXHR7e",
        "colab_type": "code",
        "colab": {}
      },
      "source": [
        "import numpy as np # linear algebra\n",
        "import pandas as pd # data processing, CSV file I/O (e.g. pd.read_csv)\n",
        "import matplotlib.pyplot as plt\n",
        "import seaborn as sns\n",
        "from sklearn.model_selection import train_test_split"
      ],
      "execution_count": 17,
      "outputs": []
    },
    {
      "cell_type": "markdown",
      "metadata": {
        "id": "IxaYivBlOP9P",
        "colab_type": "text"
      },
      "source": [
        "### (1) 데이터 불러오기\n",
        "- 데이터를 불러옵니다. "
      ]
    },
    {
      "cell_type": "code",
      "metadata": {
        "id": "Paabz7csOUQV",
        "colab_type": "code",
        "colab": {
          "base_uri": "https://localhost:8080/",
          "height": 145
        },
        "outputId": "a62fc057-806c-49c9-9dee-cf1e9d477bbb"
      },
      "source": [
        "# Mount Google Drive\n",
        "from google.colab import drive # import drive from google colab\n",
        "\n",
        "ROOT = \"/content/drive\"     # default location for the drive\n",
        "print(ROOT)                 # print content of ROOT (Optional)\n",
        "drive.mount(ROOT)           # we mount the google drive at /content/drive"
      ],
      "execution_count": 2,
      "outputs": [
        {
          "output_type": "stream",
          "text": [
            "/content/drive\n",
            "Go to this URL in a browser: https://accounts.google.com/o/oauth2/auth?client_id=947318989803-6bn6qk8qdgf4n4g3pfee6491hc0brc4i.apps.googleusercontent.com&redirect_uri=urn%3aietf%3awg%3aoauth%3a2.0%3aoob&scope=email%20https%3a%2f%2fwww.googleapis.com%2fauth%2fdocs.test%20https%3a%2f%2fwww.googleapis.com%2fauth%2fdrive%20https%3a%2f%2fwww.googleapis.com%2fauth%2fdrive.photos.readonly%20https%3a%2f%2fwww.googleapis.com%2fauth%2fpeopleapi.readonly&response_type=code\n",
            "\n",
            "Enter your authorization code:\n",
            "··········\n",
            "Mounted at /content/drive\n"
          ],
          "name": "stdout"
        }
      ]
    },
    {
      "cell_type": "code",
      "metadata": {
        "id": "YZeaWtKhOkG9",
        "colab_type": "code",
        "colab": {
          "base_uri": "https://localhost:8080/",
          "height": 35
        },
        "outputId": "45eadb6e-50d1-4e48-88a0-b6755f7295c2"
      },
      "source": [
        "from os.path import join  \n",
        "\n",
        "MY_GOOGLE_DRIVE_PATH = 'My Drive/Colab Notebooks/ML_Project/stock_price/' # 프로젝트 경로\n",
        "PROJECT_PATH = join(ROOT, MY_GOOGLE_DRIVE_PATH) # 프로젝트 경로\n",
        "print(PROJECT_PATH)"
      ],
      "execution_count": 4,
      "outputs": [
        {
          "output_type": "stream",
          "text": [
            "/content/drive/My Drive/Colab Notebooks/ML_Project/stock_price/\n"
          ],
          "name": "stdout"
        }
      ]
    },
    {
      "cell_type": "code",
      "metadata": {
        "id": "wyciVCjCPaO7",
        "colab_type": "code",
        "colab": {
          "base_uri": "https://localhost:8080/",
          "height": 35
        },
        "outputId": "ed05118e-2f98-40a6-d30a-0caf26d46928"
      },
      "source": [
        "%cd \"{PROJECT_PATH}\""
      ],
      "execution_count": 5,
      "outputs": [
        {
          "output_type": "stream",
          "text": [
            "/content/drive/My Drive/Colab Notebooks/ML_Project/stock_price\n"
          ],
          "name": "stdout"
        }
      ]
    },
    {
      "cell_type": "code",
      "metadata": {
        "id": "eEwByvI2OSUN",
        "colab_type": "code",
        "colab": {
          "base_uri": "https://localhost:8080/",
          "height": 419
        },
        "outputId": "586ea72a-178e-415e-bcaf-840d8996cc92"
      },
      "source": [
        "stocks =  pd.read_csv('data/stock.csv', header=0)\n",
        "stocks"
      ],
      "execution_count": 6,
      "outputs": [
        {
          "output_type": "execute_result",
          "data": {
            "text/html": [
              "<div>\n",
              "<style scoped>\n",
              "    .dataframe tbody tr th:only-of-type {\n",
              "        vertical-align: middle;\n",
              "    }\n",
              "\n",
              "    .dataframe tbody tr th {\n",
              "        vertical-align: top;\n",
              "    }\n",
              "\n",
              "    .dataframe thead th {\n",
              "        text-align: right;\n",
              "    }\n",
              "</style>\n",
              "<table border=\"1\" class=\"dataframe\">\n",
              "  <thead>\n",
              "    <tr style=\"text-align: right;\">\n",
              "      <th></th>\n",
              "      <th>일자</th>\n",
              "      <th>시가</th>\n",
              "      <th>고가</th>\n",
              "      <th>저가</th>\n",
              "      <th>종가</th>\n",
              "      <th>거래량</th>\n",
              "    </tr>\n",
              "  </thead>\n",
              "  <tbody>\n",
              "    <tr>\n",
              "      <th>0</th>\n",
              "      <td>20200107</td>\n",
              "      <td>55700</td>\n",
              "      <td>56400</td>\n",
              "      <td>55600</td>\n",
              "      <td>55800</td>\n",
              "      <td>9893846</td>\n",
              "    </tr>\n",
              "    <tr>\n",
              "      <th>1</th>\n",
              "      <td>20200106</td>\n",
              "      <td>54900</td>\n",
              "      <td>55600</td>\n",
              "      <td>54600</td>\n",
              "      <td>55500</td>\n",
              "      <td>10278951</td>\n",
              "    </tr>\n",
              "    <tr>\n",
              "      <th>2</th>\n",
              "      <td>20200103</td>\n",
              "      <td>56000</td>\n",
              "      <td>56600</td>\n",
              "      <td>54900</td>\n",
              "      <td>55500</td>\n",
              "      <td>15422255</td>\n",
              "    </tr>\n",
              "    <tr>\n",
              "      <th>3</th>\n",
              "      <td>20200102</td>\n",
              "      <td>55500</td>\n",
              "      <td>56000</td>\n",
              "      <td>55000</td>\n",
              "      <td>55200</td>\n",
              "      <td>12993228</td>\n",
              "    </tr>\n",
              "    <tr>\n",
              "      <th>4</th>\n",
              "      <td>20191230</td>\n",
              "      <td>56200</td>\n",
              "      <td>56600</td>\n",
              "      <td>55700</td>\n",
              "      <td>55800</td>\n",
              "      <td>8356767</td>\n",
              "    </tr>\n",
              "    <tr>\n",
              "      <th>...</th>\n",
              "      <td>...</td>\n",
              "      <td>...</td>\n",
              "      <td>...</td>\n",
              "      <td>...</td>\n",
              "      <td>...</td>\n",
              "      <td>...</td>\n",
              "    </tr>\n",
              "    <tr>\n",
              "      <th>9283</th>\n",
              "      <td>19850109</td>\n",
              "      <td>126</td>\n",
              "      <td>126</td>\n",
              "      <td>122</td>\n",
              "      <td>123</td>\n",
              "      <td>324836</td>\n",
              "    </tr>\n",
              "    <tr>\n",
              "      <th>9284</th>\n",
              "      <td>19850108</td>\n",
              "      <td>129</td>\n",
              "      <td>129</td>\n",
              "      <td>127</td>\n",
              "      <td>127</td>\n",
              "      <td>845098</td>\n",
              "    </tr>\n",
              "    <tr>\n",
              "      <th>9285</th>\n",
              "      <td>19850107</td>\n",
              "      <td>129</td>\n",
              "      <td>130</td>\n",
              "      <td>128</td>\n",
              "      <td>129</td>\n",
              "      <td>771895</td>\n",
              "    </tr>\n",
              "    <tr>\n",
              "      <th>9286</th>\n",
              "      <td>19850105</td>\n",
              "      <td>129</td>\n",
              "      <td>129</td>\n",
              "      <td>128</td>\n",
              "      <td>128</td>\n",
              "      <td>108496</td>\n",
              "    </tr>\n",
              "    <tr>\n",
              "      <th>9287</th>\n",
              "      <td>19850104</td>\n",
              "      <td>130</td>\n",
              "      <td>130</td>\n",
              "      <td>129</td>\n",
              "      <td>129</td>\n",
              "      <td>111764</td>\n",
              "    </tr>\n",
              "  </tbody>\n",
              "</table>\n",
              "<p>9288 rows × 6 columns</p>\n",
              "</div>"
            ],
            "text/plain": [
              "            일자     시가     고가     저가     종가       거래량\n",
              "0     20200107  55700  56400  55600  55800   9893846\n",
              "1     20200106  54900  55600  54600  55500  10278951\n",
              "2     20200103  56000  56600  54900  55500  15422255\n",
              "3     20200102  55500  56000  55000  55200  12993228\n",
              "4     20191230  56200  56600  55700  55800   8356767\n",
              "...        ...    ...    ...    ...    ...       ...\n",
              "9283  19850109    126    126    122    123    324836\n",
              "9284  19850108    129    129    127    127    845098\n",
              "9285  19850107    129    130    128    129    771895\n",
              "9286  19850105    129    129    128    128    108496\n",
              "9287  19850104    130    130    129    129    111764\n",
              "\n",
              "[9288 rows x 6 columns]"
            ]
          },
          "metadata": {
            "tags": []
          },
          "execution_count": 6
        }
      ]
    },
    {
      "cell_type": "markdown",
      "metadata": {
        "id": "PSlCiDP5Pt6n",
        "colab_type": "text"
      },
      "source": [
        "### (2) 데이터 전처리 및 시각화\n",
        "- 시각화를 위해 일자를 날짜형으로 변환한다. "
      ]
    },
    {
      "cell_type": "code",
      "metadata": {
        "id": "PEhU1fb0P-Gp",
        "colab_type": "code",
        "colab": {}
      },
      "source": [
        "stocks['일자'] = pd.to_datetime(stocks['일자'], format='%Y%m%d')\n",
        "# stocks['일자'] = pd.to_datetime(stocks['일자'], format='%Y-%m-%d')\n",
        "stocks['연도'] = stocks['일자'].dt.year"
      ],
      "execution_count": 7,
      "outputs": []
    },
    {
      "cell_type": "markdown",
      "metadata": {
        "id": "UOLt-C5M4Ouf",
        "colab_type": "text"
      },
      "source": [
        "- 연도는 1990년 이후로 재분류 한다. "
      ]
    },
    {
      "cell_type": "code",
      "metadata": {
        "id": "UPrPgQvelEIs",
        "colab_type": "code",
        "colab": {}
      },
      "source": [
        "df = stocks.loc[stocks['일자']>=\"1990\"]\n",
        "# df = stocks.loc[(stocks['일자']>=\"1990\") & (df['column_name'] <= B)]"
      ],
      "execution_count": 8,
      "outputs": []
    },
    {
      "cell_type": "markdown",
      "metadata": {
        "id": "DjwQ9XEP4Yn3",
        "colab_type": "text"
      },
      "source": [
        "- 이제 시각화를 작성한다. \n",
        "- 이 때, `거래량` & `종가`를 기준으로 구분해보고, 차이점에 대해 확인해본다. "
      ]
    },
    {
      "cell_type": "code",
      "metadata": {
        "id": "XA6yltrKQNfq",
        "colab_type": "code",
        "colab": {
          "base_uri": "https://localhost:8080/",
          "height": 580
        },
        "outputId": "eb248abf-d5e1-4334-9d0e-8d7d52622ae5"
      },
      "source": [
        "plt.figure(figsize=(16, 9))\n",
        "sns.lineplot(y=df['거래량'], x=df['일자'])\n",
        "plt.xlabel('time')\n",
        "plt.ylabel('amount')"
      ],
      "execution_count": 11,
      "outputs": [
        {
          "output_type": "execute_result",
          "data": {
            "text/plain": [
              "Text(0, 0.5, 'amount')"
            ]
          },
          "metadata": {
            "tags": []
          },
          "execution_count": 11
        },
        {
          "output_type": "display_data",
          "data": {
            "image/png": "[encoded data removed]",
            "text/plain": [
              "<Figure size 1152x648 with 1 Axes>"
            ]
          },
          "metadata": {
            "tags": [],
            "needs_background": "light"
          }
        }
      ]
    },
    {
      "cell_type": "markdown",
      "metadata": {
        "id": "joKQd_PYSe_x",
        "colab_type": "text"
      },
      "source": [
        "- 거래량이 가장 많았던 시기는 IMF 전후로 일어났다.\n",
        "  + 왜 이 시기에 거래가 많이 일어났을까?"
      ]
    },
    {
      "cell_type": "code",
      "metadata": {
        "id": "51bqAH_oSdvt",
        "colab_type": "code",
        "colab": {
          "base_uri": "https://localhost:8080/",
          "height": 573
        },
        "outputId": "47a235a9-72b8-4c26-d5e0-df2b0ffa1a1e"
      },
      "source": [
        "plt.figure(figsize=(16, 9))\n",
        "sns.lineplot(y=df['종가'], x=df['일자'])\n",
        "plt.xlabel('time')\n",
        "plt.ylabel('price')"
      ],
      "execution_count": 10,
      "outputs": [
        {
          "output_type": "execute_result",
          "data": {
            "text/plain": [
              "Text(0, 0.5, 'price')"
            ]
          },
          "metadata": {
            "tags": []
          },
          "execution_count": 10
        },
        {
          "output_type": "display_data",
          "data": {
            "image/png": "[encoded data removed]",
            "text/plain": [
              "<Figure size 1152x648 with 1 Axes>"
            ]
          },
          "metadata": {
            "tags": [],
            "needs_background": "light"
          }
        }
      ]
    },
    {
      "cell_type": "markdown",
      "metadata": {
        "id": "SmHemRFKSxxG",
        "colab_type": "text"
      },
      "source": [
        "- 주식 가격은 2000년대 이후로 계속적으로 우상향 하는 것을 확인 할 수 있다. \n",
        "  + 삼성전자의 주식은 계속 오를까?\n",
        "  + 언제까지 오를까?\n",
        "  + 삼성전자의 주식이 큰폭으로 떨어지던 시기에는 무슨일이 있던 것일까?"
      ]
    },
    {
      "cell_type": "markdown",
      "metadata": {
        "id": "KMOFgqHdTMuU",
        "colab_type": "text"
      },
      "source": [
        "### (3) 데이터 정규화\n",
        "- 이제 데이터 정규화를 진행하도록 한다. "
      ]
    },
    {
      "cell_type": "code",
      "metadata": {
        "id": "HJsxgOOcTPeK",
        "colab_type": "code",
        "colab": {
          "base_uri": "https://localhost:8080/",
          "height": 419
        },
        "outputId": "5e1a0d17-01dd-49de-af2f-4daafe2c544e"
      },
      "source": [
        "from sklearn.preprocessing import MinMaxScaler\n",
        "\n",
        "df.sort_index(ascending=False).reset_index(drop=True)\n",
        "\n",
        "scaler = MinMaxScaler()\n",
        "scale_cols = ['시가', '고가', '저가', '종가', '거래량']\n",
        "df_scaled = scaler.fit_transform(df[scale_cols])\n",
        "df_scaled = pd.DataFrame(df_scaled)\n",
        "df_scaled.columns = scale_cols\n",
        "\n",
        "df_scaled"
      ],
      "execution_count": 12,
      "outputs": [
        {
          "output_type": "execute_result",
          "data": {
            "text/html": [
              "<div>\n",
              "<style scoped>\n",
              "    .dataframe tbody tr th:only-of-type {\n",
              "        vertical-align: middle;\n",
              "    }\n",
              "\n",
              "    .dataframe tbody tr th {\n",
              "        vertical-align: top;\n",
              "    }\n",
              "\n",
              "    .dataframe thead th {\n",
              "        text-align: right;\n",
              "    }\n",
              "</style>\n",
              "<table border=\"1\" class=\"dataframe\">\n",
              "  <thead>\n",
              "    <tr style=\"text-align: right;\">\n",
              "      <th></th>\n",
              "      <th>시가</th>\n",
              "      <th>고가</th>\n",
              "      <th>저가</th>\n",
              "      <th>종가</th>\n",
              "      <th>거래량</th>\n",
              "    </tr>\n",
              "  </thead>\n",
              "  <tbody>\n",
              "    <tr>\n",
              "      <th>0</th>\n",
              "      <td>0.968482</td>\n",
              "      <td>0.980394</td>\n",
              "      <td>0.979423</td>\n",
              "      <td>0.975012</td>\n",
              "      <td>0.030291</td>\n",
              "    </tr>\n",
              "    <tr>\n",
              "      <th>1</th>\n",
              "      <td>0.954474</td>\n",
              "      <td>0.966389</td>\n",
              "      <td>0.961684</td>\n",
              "      <td>0.969733</td>\n",
              "      <td>0.031470</td>\n",
              "    </tr>\n",
              "    <tr>\n",
              "      <th>2</th>\n",
              "      <td>0.973735</td>\n",
              "      <td>0.983895</td>\n",
              "      <td>0.967005</td>\n",
              "      <td>0.969733</td>\n",
              "      <td>0.047217</td>\n",
              "    </tr>\n",
              "    <tr>\n",
              "      <th>3</th>\n",
              "      <td>0.964980</td>\n",
              "      <td>0.973391</td>\n",
              "      <td>0.968779</td>\n",
              "      <td>0.964454</td>\n",
              "      <td>0.039781</td>\n",
              "    </tr>\n",
              "    <tr>\n",
              "      <th>4</th>\n",
              "      <td>0.977237</td>\n",
              "      <td>0.983895</td>\n",
              "      <td>0.981197</td>\n",
              "      <td>0.975012</td>\n",
              "      <td>0.025585</td>\n",
              "    </tr>\n",
              "    <tr>\n",
              "      <th>...</th>\n",
              "      <td>...</td>\n",
              "      <td>...</td>\n",
              "      <td>...</td>\n",
              "      <td>...</td>\n",
              "      <td>...</td>\n",
              "    </tr>\n",
              "    <tr>\n",
              "      <th>7823</th>\n",
              "      <td>0.005095</td>\n",
              "      <td>0.005094</td>\n",
              "      <td>0.005073</td>\n",
              "      <td>0.004927</td>\n",
              "      <td>0.002960</td>\n",
              "    </tr>\n",
              "    <tr>\n",
              "      <th>7824</th>\n",
              "      <td>0.005165</td>\n",
              "      <td>0.005129</td>\n",
              "      <td>0.005215</td>\n",
              "      <td>0.005068</td>\n",
              "      <td>0.005279</td>\n",
              "    </tr>\n",
              "    <tr>\n",
              "      <th>7825</th>\n",
              "      <td>0.005236</td>\n",
              "      <td>0.005199</td>\n",
              "      <td>0.005162</td>\n",
              "      <td>0.005015</td>\n",
              "      <td>0.005483</td>\n",
              "    </tr>\n",
              "    <tr>\n",
              "      <th>7826</th>\n",
              "      <td>0.005236</td>\n",
              "      <td>0.005339</td>\n",
              "      <td>0.005286</td>\n",
              "      <td>0.005279</td>\n",
              "      <td>0.008384</td>\n",
              "    </tr>\n",
              "    <tr>\n",
              "      <th>7827</th>\n",
              "      <td>0.004955</td>\n",
              "      <td>0.005129</td>\n",
              "      <td>0.004860</td>\n",
              "      <td>0.005138</td>\n",
              "      <td>0.005251</td>\n",
              "    </tr>\n",
              "  </tbody>\n",
              "</table>\n",
              "<p>7828 rows × 5 columns</p>\n",
              "</div>"
            ],
            "text/plain": [
              "            시가        고가        저가        종가       거래량\n",
              "0     0.968482  0.980394  0.979423  0.975012  0.030291\n",
              "1     0.954474  0.966389  0.961684  0.969733  0.031470\n",
              "2     0.973735  0.983895  0.967005  0.969733  0.047217\n",
              "3     0.964980  0.973391  0.968779  0.964454  0.039781\n",
              "4     0.977237  0.983895  0.981197  0.975012  0.025585\n",
              "...        ...       ...       ...       ...       ...\n",
              "7823  0.005095  0.005094  0.005073  0.004927  0.002960\n",
              "7824  0.005165  0.005129  0.005215  0.005068  0.005279\n",
              "7825  0.005236  0.005199  0.005162  0.005015  0.005483\n",
              "7826  0.005236  0.005339  0.005286  0.005279  0.008384\n",
              "7827  0.004955  0.005129  0.004860  0.005138  0.005251\n",
              "\n",
              "[7828 rows x 5 columns]"
            ]
          },
          "metadata": {
            "tags": []
          },
          "execution_count": 12
        }
      ]
    },
    {
      "cell_type": "markdown",
      "metadata": {
        "id": "UZobBU96TTsQ",
        "colab_type": "text"
      },
      "source": [
        "- 정규화는 왜 하는 것일까?\n",
        "  + 정규화는 무엇인가?\n",
        "  + 정규화(MinMaxScaler)를 해주면 전체 데이터는 0, 1사이의 값을 갖도록 해준다. "
      ]
    },
    {
      "cell_type": "markdown",
      "metadata": {
        "id": "UQkTiHvNTmIG",
        "colab_type": "text"
      },
      "source": [
        "### (4) 시계열 데이터의 데이터셋 분리\n",
        "- 시계열 데이터의 데이터셋은 보통 `window_size`라고 정의한다. \n",
        "  + `window_size`는 과거 기간의 주가 데이터에 기반하여 다음날의 종가를 예측할 것인가를 정하는 `parameter`이다. \n",
        "  + 만약 과거 20일을 기반으로 내일 데이터를 예측한다라고 가정하면 `window_size=20`이 되는 것이다. \n",
        "- 실제 `100`일의 과거 데이터를 기반으로 데이터셋을 분리하도록 한다. \n",
        "- 이 때, `make_dataset`이라는 함수를 만든다. \n",
        "  + feature_list & label list를 분리한다. "
      ]
    },
    {
      "cell_type": "code",
      "metadata": {
        "id": "o7sWm3ZsVjV9",
        "colab_type": "code",
        "colab": {
          "base_uri": "https://localhost:8080/",
          "height": 419
        },
        "outputId": "ad2f991a-8f37-44ff-851b-c75d35cf5325"
      },
      "source": [
        "TEST_SIZE = 200\n",
        "WINDOW_SIZE = 20\n",
        "\n",
        "train = df_scaled[:-TEST_SIZE]\n",
        "train"
      ],
      "execution_count": 13,
      "outputs": [
        {
          "output_type": "execute_result",
          "data": {
            "text/html": [
              "<div>\n",
              "<style scoped>\n",
              "    .dataframe tbody tr th:only-of-type {\n",
              "        vertical-align: middle;\n",
              "    }\n",
              "\n",
              "    .dataframe tbody tr th {\n",
              "        vertical-align: top;\n",
              "    }\n",
              "\n",
              "    .dataframe thead th {\n",
              "        text-align: right;\n",
              "    }\n",
              "</style>\n",
              "<table border=\"1\" class=\"dataframe\">\n",
              "  <thead>\n",
              "    <tr style=\"text-align: right;\">\n",
              "      <th></th>\n",
              "      <th>시가</th>\n",
              "      <th>고가</th>\n",
              "      <th>저가</th>\n",
              "      <th>종가</th>\n",
              "      <th>거래량</th>\n",
              "    </tr>\n",
              "  </thead>\n",
              "  <tbody>\n",
              "    <tr>\n",
              "      <th>0</th>\n",
              "      <td>0.968482</td>\n",
              "      <td>0.980394</td>\n",
              "      <td>0.979423</td>\n",
              "      <td>0.975012</td>\n",
              "      <td>0.030291</td>\n",
              "    </tr>\n",
              "    <tr>\n",
              "      <th>1</th>\n",
              "      <td>0.954474</td>\n",
              "      <td>0.966389</td>\n",
              "      <td>0.961684</td>\n",
              "      <td>0.969733</td>\n",
              "      <td>0.031470</td>\n",
              "    </tr>\n",
              "    <tr>\n",
              "      <th>2</th>\n",
              "      <td>0.973735</td>\n",
              "      <td>0.983895</td>\n",
              "      <td>0.967005</td>\n",
              "      <td>0.969733</td>\n",
              "      <td>0.047217</td>\n",
              "    </tr>\n",
              "    <tr>\n",
              "      <th>3</th>\n",
              "      <td>0.964980</td>\n",
              "      <td>0.973391</td>\n",
              "      <td>0.968779</td>\n",
              "      <td>0.964454</td>\n",
              "      <td>0.039781</td>\n",
              "    </tr>\n",
              "    <tr>\n",
              "      <th>4</th>\n",
              "      <td>0.977237</td>\n",
              "      <td>0.983895</td>\n",
              "      <td>0.981197</td>\n",
              "      <td>0.975012</td>\n",
              "      <td>0.025585</td>\n",
              "    </tr>\n",
              "    <tr>\n",
              "      <th>...</th>\n",
              "      <td>...</td>\n",
              "      <td>...</td>\n",
              "      <td>...</td>\n",
              "      <td>...</td>\n",
              "      <td>...</td>\n",
              "    </tr>\n",
              "    <tr>\n",
              "      <th>7623</th>\n",
              "      <td>0.001751</td>\n",
              "      <td>0.001716</td>\n",
              "      <td>0.001827</td>\n",
              "      <td>0.001707</td>\n",
              "      <td>0.001409</td>\n",
              "    </tr>\n",
              "    <tr>\n",
              "      <th>7624</th>\n",
              "      <td>0.001856</td>\n",
              "      <td>0.001768</td>\n",
              "      <td>0.001827</td>\n",
              "      <td>0.001707</td>\n",
              "      <td>0.002111</td>\n",
              "    </tr>\n",
              "    <tr>\n",
              "      <th>7625</th>\n",
              "      <td>0.001856</td>\n",
              "      <td>0.001751</td>\n",
              "      <td>0.001792</td>\n",
              "      <td>0.001813</td>\n",
              "      <td>0.006075</td>\n",
              "    </tr>\n",
              "    <tr>\n",
              "      <th>7626</th>\n",
              "      <td>0.001874</td>\n",
              "      <td>0.001768</td>\n",
              "      <td>0.001792</td>\n",
              "      <td>0.001813</td>\n",
              "      <td>0.007916</td>\n",
              "    </tr>\n",
              "    <tr>\n",
              "      <th>7627</th>\n",
              "      <td>0.001856</td>\n",
              "      <td>0.001751</td>\n",
              "      <td>0.001774</td>\n",
              "      <td>0.001813</td>\n",
              "      <td>0.003276</td>\n",
              "    </tr>\n",
              "  </tbody>\n",
              "</table>\n",
              "<p>7628 rows × 5 columns</p>\n",
              "</div>"
            ],
            "text/plain": [
              "            시가        고가        저가        종가       거래량\n",
              "0     0.968482  0.980394  0.979423  0.975012  0.030291\n",
              "1     0.954474  0.966389  0.961684  0.969733  0.031470\n",
              "2     0.973735  0.983895  0.967005  0.969733  0.047217\n",
              "3     0.964980  0.973391  0.968779  0.964454  0.039781\n",
              "4     0.977237  0.983895  0.981197  0.975012  0.025585\n",
              "...        ...       ...       ...       ...       ...\n",
              "7623  0.001751  0.001716  0.001827  0.001707  0.001409\n",
              "7624  0.001856  0.001768  0.001827  0.001707  0.002111\n",
              "7625  0.001856  0.001751  0.001792  0.001813  0.006075\n",
              "7626  0.001874  0.001768  0.001792  0.001813  0.007916\n",
              "7627  0.001856  0.001751  0.001774  0.001813  0.003276\n",
              "\n",
              "[7628 rows x 5 columns]"
            ]
          },
          "metadata": {
            "tags": []
          },
          "execution_count": 13
        }
      ]
    },
    {
      "cell_type": "code",
      "metadata": {
        "id": "s_mrLsx6lbdb",
        "colab_type": "code",
        "colab": {
          "base_uri": "https://localhost:8080/",
          "height": 204
        },
        "outputId": "832e16e0-5001-4aa1-ee2d-154c977a8acd"
      },
      "source": [
        "test = df_scaled[-TEST_SIZE:]\n",
        "test.head()"
      ],
      "execution_count": 14,
      "outputs": [
        {
          "output_type": "execute_result",
          "data": {
            "text/html": [
              "<div>\n",
              "<style scoped>\n",
              "    .dataframe tbody tr th:only-of-type {\n",
              "        vertical-align: middle;\n",
              "    }\n",
              "\n",
              "    .dataframe tbody tr th {\n",
              "        vertical-align: top;\n",
              "    }\n",
              "\n",
              "    .dataframe thead th {\n",
              "        text-align: right;\n",
              "    }\n",
              "</style>\n",
              "<table border=\"1\" class=\"dataframe\">\n",
              "  <thead>\n",
              "    <tr style=\"text-align: right;\">\n",
              "      <th></th>\n",
              "      <th>시가</th>\n",
              "      <th>고가</th>\n",
              "      <th>저가</th>\n",
              "      <th>종가</th>\n",
              "      <th>거래량</th>\n",
              "    </tr>\n",
              "  </thead>\n",
              "  <tbody>\n",
              "    <tr>\n",
              "      <th>7628</th>\n",
              "      <td>0.002014</td>\n",
              "      <td>0.002048</td>\n",
              "      <td>0.001934</td>\n",
              "      <td>0.001813</td>\n",
              "      <td>0.001979</td>\n",
              "    </tr>\n",
              "    <tr>\n",
              "      <th>7629</th>\n",
              "      <td>0.001751</td>\n",
              "      <td>0.001873</td>\n",
              "      <td>0.001738</td>\n",
              "      <td>0.001936</td>\n",
              "      <td>0.002689</td>\n",
              "    </tr>\n",
              "    <tr>\n",
              "      <th>7630</th>\n",
              "      <td>0.001628</td>\n",
              "      <td>0.001646</td>\n",
              "      <td>0.001703</td>\n",
              "      <td>0.001584</td>\n",
              "      <td>0.001365</td>\n",
              "    </tr>\n",
              "    <tr>\n",
              "      <th>7631</th>\n",
              "      <td>0.001558</td>\n",
              "      <td>0.001716</td>\n",
              "      <td>0.001632</td>\n",
              "      <td>0.001584</td>\n",
              "      <td>0.009585</td>\n",
              "    </tr>\n",
              "    <tr>\n",
              "      <th>7632</th>\n",
              "      <td>0.002119</td>\n",
              "      <td>0.002013</td>\n",
              "      <td>0.001898</td>\n",
              "      <td>0.001777</td>\n",
              "      <td>0.002663</td>\n",
              "    </tr>\n",
              "  </tbody>\n",
              "</table>\n",
              "</div>"
            ],
            "text/plain": [
              "            시가        고가        저가        종가       거래량\n",
              "7628  0.002014  0.002048  0.001934  0.001813  0.001979\n",
              "7629  0.001751  0.001873  0.001738  0.001936  0.002689\n",
              "7630  0.001628  0.001646  0.001703  0.001584  0.001365\n",
              "7631  0.001558  0.001716  0.001632  0.001584  0.009585\n",
              "7632  0.002119  0.002013  0.001898  0.001777  0.002663"
            ]
          },
          "metadata": {
            "tags": []
          },
          "execution_count": 14
        }
      ]
    },
    {
      "cell_type": "markdown",
      "metadata": {
        "id": "xmPgYX2yVxZ-",
        "colab_type": "text"
      },
      "source": [
        "- `TEST_SIZE = 200`은 학습은 과거부터 200일 이전의 데이터를 학습하게 되고, TEST를 위해서 이후 100일의 데이터로 모델이 주가를 예측하도록 한 다음, 실제 데이터와 오차가 얼마나 있는지 확인해 보도록 하겠습니다."
      ]
    },
    {
      "cell_type": "code",
      "metadata": {
        "id": "eTal_WrRUI5S",
        "colab_type": "code",
        "colab": {}
      },
      "source": [
        "def make_dataset(data, label, window_size=20):\n",
        "    feature_list = []\n",
        "    label_list = []\n",
        "    for i in range(len(data) - window_size):\n",
        "        feature_list.append(np.array(data.iloc[i:i+window_size]))\n",
        "        label_list.append(np.array(label.iloc[i+window_size]))\n",
        "    return np.array(feature_list), np.array(label_list)"
      ],
      "execution_count": 15,
      "outputs": []
    },
    {
      "cell_type": "markdown",
      "metadata": {
        "id": "ibX4xmbqUnGR",
        "colab_type": "text"
      },
      "source": [
        "- 이렇게 만든 함수를 이제 훈련데이터와 테스트데이터로 분리를 하도록 한다. "
      ]
    },
    {
      "cell_type": "code",
      "metadata": {
        "id": "oXwZK9_2UmkB",
        "colab_type": "code",
        "colab": {
          "base_uri": "https://localhost:8080/",
          "height": 35
        },
        "outputId": "721d15be-e8d6-4a77-e7a5-891d35f1a725"
      },
      "source": [
        "feature_cols = ['시가', '고가', '저가', '거래량']\n",
        "label_cols = ['종가']\n",
        "\n",
        "train_feature = train[feature_cols]\n",
        "train_label = train[label_cols]\n",
        "\n",
        "train_feature, train_label = make_dataset(train_feature, train_label, 20)\n",
        "\n",
        "x_train, x_valid, y_train, y_valid = train_test_split(train_feature, train_label, test_size=0.2)\n",
        "x_train.shape, x_valid.shape"
      ],
      "execution_count": 18,
      "outputs": [
        {
          "output_type": "execute_result",
          "data": {
            "text/plain": [
              "((6086, 20, 4), (1522, 20, 4))"
            ]
          },
          "metadata": {
            "tags": []
          },
          "execution_count": 18
        }
      ]
    },
    {
      "cell_type": "code",
      "metadata": {
        "id": "yxpFfNqdUxKP",
        "colab_type": "code",
        "colab": {
          "base_uri": "https://localhost:8080/",
          "height": 35
        },
        "outputId": "5aa62d41-d202-42fa-90d9-8c3f2ef9c4e5"
      },
      "source": [
        "test_feature = test[feature_cols]\n",
        "test_label = test[label_cols]\n",
        "\n",
        "test_feature.shape, test_label.shape"
      ],
      "execution_count": 19,
      "outputs": [
        {
          "output_type": "execute_result",
          "data": {
            "text/plain": [
              "((200, 4), (200, 1))"
            ]
          },
          "metadata": {
            "tags": []
          },
          "execution_count": 19
        }
      ]
    },
    {
      "cell_type": "code",
      "metadata": {
        "id": "DW6ey5Aaaas2",
        "colab_type": "code",
        "colab": {
          "base_uri": "https://localhost:8080/",
          "height": 35
        },
        "outputId": "91d740ca-1b3d-42de-ff2f-c44e14c87378"
      },
      "source": [
        "test_feature, test_label = make_dataset(test_feature, test_label, 20)\n",
        "test_feature.shape, test_label.shape"
      ],
      "execution_count": 20,
      "outputs": [
        {
          "output_type": "execute_result",
          "data": {
            "text/plain": [
              "((180, 20, 4), (180, 1))"
            ]
          },
          "metadata": {
            "tags": []
          },
          "execution_count": 20
        }
      ]
    },
    {
      "cell_type": "markdown",
      "metadata": {
        "id": "HEeZcecSTbPY",
        "colab_type": "text"
      },
      "source": [
        "### (5) 모형 학습\n",
        "- 이제 `Keras` 모형을 생성하여 학습을 진행합니다. \n",
        "- 먼저 모형을 만듭니다. "
      ]
    },
    {
      "cell_type": "code",
      "metadata": {
        "id": "Vv7YyGZ5WNVh",
        "colab_type": "code",
        "colab": {}
      },
      "source": [
        "from keras.models import Sequential\n",
        "from keras.layers import Dense\n",
        "from keras.callbacks import EarlyStopping, ModelCheckpoint\n",
        "from keras.layers import LSTM\n",
        "\n",
        "model = Sequential()\n",
        "model.add(LSTM(16, \n",
        "               input_shape=(train_feature.shape[1], train_feature.shape[2]), \n",
        "               activation='relu', \n",
        "               return_sequences=False)\n",
        "          )\n",
        "\n",
        "model.add(Dense(1))"
      ],
      "execution_count": 21,
      "outputs": []
    },
    {
      "cell_type": "markdown",
      "metadata": {
        "id": "rWzFvOuUWkat",
        "colab_type": "text"
      },
      "source": [
        "- 이제 모형을 학습합니다. "
      ]
    },
    {
      "cell_type": "code",
      "metadata": {
        "id": "dYydiIcJWXln",
        "colab_type": "code",
        "colab": {
          "base_uri": "https://localhost:8080/",
          "height": 1000
        },
        "outputId": "0a53dcb1-2599-4738-81a8-58d7d55992ca"
      },
      "source": [
        "import os\n",
        "\n",
        "model.compile(loss='mean_squared_error', optimizer='adam')\n",
        "early_stop = EarlyStopping(monitor='val_loss', patience=5)\n",
        "\n",
        "model_path = 'model'\n",
        "filename = os.path.join(model_path, 'tmp_checkpoint.h5')\n",
        "checkpoint = ModelCheckpoint(filename, monitor='val_loss', verbose=1, save_best_only=True, mode='auto')\n",
        "\n",
        "history = model.fit(x_train, y_train, \n",
        "                                    epochs=200, \n",
        "                                    batch_size=16,\n",
        "                                    validation_data=(x_valid, y_valid), \n",
        "                                    callbacks=[early_stop, checkpoint])"
      ],
      "execution_count": 22,
      "outputs": [
        {
          "output_type": "stream",
          "text": [
            "Epoch 1/200\n",
            "377/381 [============================>.] - ETA: 0s - loss: 0.0036\n",
            "Epoch 00001: val_loss improved from inf to 0.00006, saving model to model/tmp_checkpoint.h5\n",
            "381/381 [==============================] - 3s 9ms/step - loss: 0.0036 - val_loss: 5.6291e-05\n",
            "Epoch 2/200\n",
            "380/381 [============================>.] - ETA: 0s - loss: 6.9465e-05\n",
            "Epoch 00002: val_loss improved from 0.00006 to 0.00005, saving model to model/tmp_checkpoint.h5\n",
            "381/381 [==============================] - 3s 7ms/step - loss: 6.9411e-05 - val_loss: 5.1874e-05\n",
            "Epoch 3/200\n",
            "374/381 [============================>.] - ETA: 0s - loss: 7.0481e-05\n",
            "Epoch 00003: val_loss did not improve from 0.00005\n",
            "381/381 [==============================] - 2s 7ms/step - loss: 6.9983e-05 - val_loss: 6.0831e-05\n",
            "Epoch 4/200\n",
            "381/381 [==============================] - ETA: 0s - loss: 6.4573e-05\n",
            "Epoch 00004: val_loss did not improve from 0.00005\n",
            "381/381 [==============================] - 2s 6ms/step - loss: 6.4573e-05 - val_loss: 6.2412e-05\n",
            "Epoch 5/200\n",
            "374/381 [============================>.] - ETA: 0s - loss: 6.2194e-05\n",
            "Epoch 00005: val_loss did not improve from 0.00005\n",
            "381/381 [==============================] - 2s 6ms/step - loss: 6.1934e-05 - val_loss: 5.3512e-05\n",
            "Epoch 6/200\n",
            "376/381 [============================>.] - ETA: 0s - loss: 5.6935e-05\n",
            "Epoch 00006: val_loss improved from 0.00005 to 0.00004, saving model to model/tmp_checkpoint.h5\n",
            "381/381 [==============================] - 3s 8ms/step - loss: 5.6983e-05 - val_loss: 4.4028e-05\n",
            "Epoch 7/200\n",
            "379/381 [============================>.] - ETA: 0s - loss: 5.2827e-05\n",
            "Epoch 00007: val_loss did not improve from 0.00004\n",
            "381/381 [==============================] - 3s 7ms/step - loss: 5.2693e-05 - val_loss: 4.5881e-05\n",
            "Epoch 8/200\n",
            "376/381 [============================>.] - ETA: 0s - loss: 5.2540e-05\n",
            "Epoch 00008: val_loss did not improve from 0.00004\n",
            "381/381 [==============================] - 2s 6ms/step - loss: 5.2645e-05 - val_loss: 5.2738e-05\n",
            "Epoch 9/200\n",
            "378/381 [============================>.] - ETA: 0s - loss: 5.2770e-05\n",
            "Epoch 00009: val_loss improved from 0.00004 to 0.00004, saving model to model/tmp_checkpoint.h5\n",
            "381/381 [==============================] - 3s 9ms/step - loss: 5.2766e-05 - val_loss: 3.8676e-05\n",
            "Epoch 10/200\n",
            "379/381 [============================>.] - ETA: 0s - loss: 4.7622e-05\n",
            "Epoch 00010: val_loss did not improve from 0.00004\n",
            "381/381 [==============================] - 3s 7ms/step - loss: 4.7504e-05 - val_loss: 4.1073e-05\n",
            "Epoch 11/200\n",
            "376/381 [============================>.] - ETA: 0s - loss: 4.3668e-05\n",
            "Epoch 00011: val_loss improved from 0.00004 to 0.00004, saving model to model/tmp_checkpoint.h5\n",
            "381/381 [==============================] - 3s 7ms/step - loss: 4.3562e-05 - val_loss: 3.7734e-05\n",
            "Epoch 12/200\n",
            "381/381 [==============================] - ETA: 0s - loss: 4.2661e-05\n",
            "Epoch 00012: val_loss improved from 0.00004 to 0.00004, saving model to model/tmp_checkpoint.h5\n",
            "381/381 [==============================] - 3s 7ms/step - loss: 4.2661e-05 - val_loss: 3.5233e-05\n",
            "Epoch 13/200\n",
            "376/381 [============================>.] - ETA: 0s - loss: 4.2330e-05\n",
            "Epoch 00013: val_loss improved from 0.00004 to 0.00003, saving model to model/tmp_checkpoint.h5\n",
            "381/381 [==============================] - 3s 7ms/step - loss: 4.2216e-05 - val_loss: 2.9324e-05\n",
            "Epoch 14/200\n",
            "376/381 [============================>.] - ETA: 0s - loss: 3.7584e-05\n",
            "Epoch 00014: val_loss did not improve from 0.00003\n",
            "381/381 [==============================] - 3s 7ms/step - loss: 3.7483e-05 - val_loss: 5.2596e-05\n",
            "Epoch 15/200\n",
            "377/381 [============================>.] - ETA: 0s - loss: 4.0291e-05\n",
            "Epoch 00015: val_loss improved from 0.00003 to 0.00003, saving model to model/tmp_checkpoint.h5\n",
            "381/381 [==============================] - 3s 7ms/step - loss: 4.0389e-05 - val_loss: 2.8251e-05\n",
            "Epoch 16/200\n",
            "381/381 [==============================] - ETA: 0s - loss: 3.4831e-05\n",
            "Epoch 00016: val_loss improved from 0.00003 to 0.00003, saving model to model/tmp_checkpoint.h5\n",
            "381/381 [==============================] - 3s 7ms/step - loss: 3.4831e-05 - val_loss: 2.5791e-05\n",
            "Epoch 17/200\n",
            "381/381 [==============================] - ETA: 0s - loss: 3.4101e-05\n",
            "Epoch 00017: val_loss did not improve from 0.00003\n",
            "381/381 [==============================] - 3s 7ms/step - loss: 3.4101e-05 - val_loss: 3.5643e-05\n",
            "Epoch 18/200\n",
            "379/381 [============================>.] - ETA: 0s - loss: 3.5789e-05\n",
            "Epoch 00018: val_loss did not improve from 0.00003\n",
            "381/381 [==============================] - 3s 7ms/step - loss: 3.5803e-05 - val_loss: 3.4362e-05\n",
            "Epoch 19/200\n",
            "379/381 [============================>.] - ETA: 0s - loss: 3.1751e-05\n",
            "Epoch 00019: val_loss improved from 0.00003 to 0.00002, saving model to model/tmp_checkpoint.h5\n",
            "381/381 [==============================] - 2s 6ms/step - loss: 3.1790e-05 - val_loss: 2.2471e-05\n",
            "Epoch 20/200\n",
            "380/381 [============================>.] - ETA: 0s - loss: 3.0934e-05\n",
            "Epoch 00020: val_loss did not improve from 0.00002\n",
            "381/381 [==============================] - 3s 7ms/step - loss: 3.0908e-05 - val_loss: 3.8803e-05\n",
            "Epoch 21/200\n",
            "375/381 [============================>.] - ETA: 0s - loss: 2.7987e-05\n",
            "Epoch 00021: val_loss did not improve from 0.00002\n",
            "381/381 [==============================] - 3s 7ms/step - loss: 2.7927e-05 - val_loss: 2.3545e-05\n",
            "Epoch 22/200\n",
            "381/381 [==============================] - ETA: 0s - loss: 2.6426e-05\n",
            "Epoch 00022: val_loss did not improve from 0.00002\n",
            "381/381 [==============================] - 3s 7ms/step - loss: 2.6426e-05 - val_loss: 2.6485e-05\n",
            "Epoch 23/200\n",
            "380/381 [============================>.] - ETA: 0s - loss: 2.9522e-05\n",
            "Epoch 00023: val_loss improved from 0.00002 to 0.00002, saving model to model/tmp_checkpoint.h5\n",
            "381/381 [==============================] - 3s 9ms/step - loss: 2.9588e-05 - val_loss: 1.9735e-05\n",
            "Epoch 24/200\n",
            "377/381 [============================>.] - ETA: 0s - loss: 2.6302e-05\n",
            "Epoch 00024: val_loss did not improve from 0.00002\n",
            "381/381 [==============================] - 3s 7ms/step - loss: 2.6192e-05 - val_loss: 2.5855e-05\n",
            "Epoch 25/200\n",
            "380/381 [============================>.] - ETA: 0s - loss: 2.1700e-05\n",
            "Epoch 00025: val_loss did not improve from 0.00002\n",
            "381/381 [==============================] - 3s 7ms/step - loss: 2.1683e-05 - val_loss: 3.0302e-05\n",
            "Epoch 26/200\n",
            "375/381 [============================>.] - ETA: 0s - loss: 2.2899e-05\n",
            "Epoch 00026: val_loss improved from 0.00002 to 0.00002, saving model to model/tmp_checkpoint.h5\n",
            "381/381 [==============================] - 3s 9ms/step - loss: 2.2809e-05 - val_loss: 1.7944e-05\n",
            "Epoch 27/200\n",
            "378/381 [============================>.] - ETA: 0s - loss: 2.3291e-05\n",
            "Epoch 00027: val_loss improved from 0.00002 to 0.00002, saving model to model/tmp_checkpoint.h5\n",
            "381/381 [==============================] - 3s 8ms/step - loss: 2.3213e-05 - val_loss: 1.6540e-05\n",
            "Epoch 28/200\n",
            "375/381 [============================>.] - ETA: 0s - loss: 2.2766e-05\n",
            "Epoch 00028: val_loss did not improve from 0.00002\n",
            "381/381 [==============================] - 3s 7ms/step - loss: 2.2718e-05 - val_loss: 1.8191e-05\n",
            "Epoch 29/200\n",
            "376/381 [============================>.] - ETA: 0s - loss: 2.0039e-05\n",
            "Epoch 00029: val_loss improved from 0.00002 to 0.00002, saving model to model/tmp_checkpoint.h5\n",
            "381/381 [==============================] - 3s 7ms/step - loss: 2.0038e-05 - val_loss: 1.6140e-05\n",
            "Epoch 30/200\n",
            "379/381 [============================>.] - ETA: 0s - loss: 2.1624e-05\n",
            "Epoch 00030: val_loss did not improve from 0.00002\n",
            "381/381 [==============================] - 3s 7ms/step - loss: 2.1799e-05 - val_loss: 2.2162e-05\n",
            "Epoch 31/200\n",
            "378/381 [============================>.] - ETA: 0s - loss: 2.0285e-05\n",
            "Epoch 00031: val_loss did not improve from 0.00002\n",
            "381/381 [==============================] - 3s 7ms/step - loss: 2.0254e-05 - val_loss: 1.7177e-05\n",
            "Epoch 32/200\n",
            "380/381 [============================>.] - ETA: 0s - loss: 2.0838e-05\n",
            "Epoch 00032: val_loss did not improve from 0.00002\n",
            "381/381 [==============================] - 3s 8ms/step - loss: 2.0835e-05 - val_loss: 2.1374e-05\n",
            "Epoch 33/200\n",
            "377/381 [============================>.] - ETA: 0s - loss: 2.0832e-05\n",
            "Epoch 00033: val_loss did not improve from 0.00002\n",
            "381/381 [==============================] - 3s 7ms/step - loss: 2.0910e-05 - val_loss: 2.0300e-05\n",
            "Epoch 34/200\n",
            "381/381 [==============================] - ETA: 0s - loss: 2.0262e-05\n",
            "Epoch 00034: val_loss did not improve from 0.00002\n",
            "381/381 [==============================] - 3s 7ms/step - loss: 2.0262e-05 - val_loss: 1.8689e-05\n"
          ],
          "name": "stdout"
        }
      ]
    },
    {
      "cell_type": "markdown",
      "metadata": {
        "id": "a0BwMdRlWi-I",
        "colab_type": "text"
      },
      "source": [
        "### (6) 주가 예측 \n",
        "- `predict()`를 활용하여 모형을 예측한다. "
      ]
    },
    {
      "cell_type": "code",
      "metadata": {
        "id": "Ddz_AJllWyLD",
        "colab_type": "code",
        "colab": {
          "base_uri": "https://localhost:8080/",
          "height": 35
        },
        "outputId": "7fcff825-3aa0-42bd-a8f9-30969c7e2043"
      },
      "source": [
        "model.load_weights(filename)\n",
        "pred = model.predict(test_feature)\n",
        "\n",
        "pred.shape"
      ],
      "execution_count": 23,
      "outputs": [
        {
          "output_type": "execute_result",
          "data": {
            "text/plain": [
              "(180, 1)"
            ]
          },
          "metadata": {
            "tags": []
          },
          "execution_count": 23
        }
      ]
    },
    {
      "cell_type": "code",
      "metadata": {
        "id": "5_XP11L8j03a",
        "colab_type": "code",
        "colab": {
          "base_uri": "https://localhost:8080/",
          "height": 537
        },
        "outputId": "0533cf72-598a-4dda-d2ed-52642d36713c"
      },
      "source": [
        "plt.figure(figsize=(12, 9))\n",
        "plt.plot(test_label, label = 'actual')\n",
        "plt.plot(pred, label = 'prediction')\n",
        "plt.legend()\n",
        "plt.show()"
      ],
      "execution_count": 24,
      "outputs": [
        {
          "output_type": "display_data",
          "data": {
            "image/png": "[encoded data removed]",
            "text/plain": [
              "<Figure size 864x648 with 1 Axes>"
            ]
          },
          "metadata": {
            "tags": [],
            "needs_background": "light"
          }
        }
      ]
    },
    {
      "cell_type": "markdown",
      "metadata": {
        "id": "kZEMoiTg_YZO",
        "colab_type": "text"
      },
      "source": [
        ""
      ]
    }
  ]
}