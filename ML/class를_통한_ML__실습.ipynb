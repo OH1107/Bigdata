{
  "nbformat": 4,
  "nbformat_minor": 0,
  "metadata": {
    "colab": {
      "name": "class를 통한 ML_ 실습",
      "provenance": [],
      "toc_visible": true,
      "authorship_tag": "ABX9TyNfCIetDxujXE+610vyQ9Zj",
      "include_colab_link": true
    },
    "kernelspec": {
      "name": "python3",
      "display_name": "Python 3"
    }
  },
  "cells": [
    {
      "cell_type": "markdown",
      "metadata": {
        "id": "view-in-github",
        "colab_type": "text"
      },
      "source": [
        "<a href=\"https://colab.research.google.com/github/OH1107/aisa_edu/blob/master/ML/class%EB%A5%BC_%ED%86%B5%ED%95%9C_ML__%EC%8B%A4%EC%8A%B5.ipynb\" target=\"_parent\"><img src=\"https://colab.research.google.com/assets/colab-badge.svg\" alt=\"Open In Colab\"/></a>"
      ]
    },
    {
      "cell_type": "markdown",
      "metadata": {
        "id": "PpjiGbqLNxBd",
        "colab_type": "text"
      },
      "source": [
        "## 클래스를 만드는 이유\n",
        "- 반복적인 행동을 간소화하기 위해"
      ]
    },
    {
      "cell_type": "code",
      "metadata": {
        "id": "os9E5EmlK8Mo",
        "colab_type": "code",
        "colab": {
          "base_uri": "https://localhost:8080/",
          "height": 35
        },
        "outputId": "722af70c-8f12-4551-8425-531db6dee6ce"
      },
      "source": [
        "result1 = 0\n",
        "result2 = 0\n",
        "\n",
        "def add1(num):\n",
        "  global result1\n",
        "  result1 += num\n",
        "  return result1\n",
        "\n",
        "def add2(num):\n",
        "  global result2\n",
        "  result2 += num\n",
        "  return result2\n",
        "\n",
        "print(add1(10), add2(10))"
      ],
      "execution_count": null,
      "outputs": [
        {
          "output_type": "stream",
          "text": [
            "10 10\n"
          ],
          "name": "stdout"
        }
      ]
    },
    {
      "cell_type": "markdown",
      "metadata": {
        "id": "x_KBchgkNDVp",
        "colab_type": "text"
      },
      "source": [
        "## 사람 클래스\n",
        "- 사람의 특징\n",
        "  + 이름, 나이, 취미, etc\n",
        "- 사람의 행동\n",
        "  + 잠자는 행동, 밥 먹는 행동\n",
        "\n",
        "## 프로그래밍\n",
        "- 사람에 대한 변수\n",
        "  + name = 'rain' & age = 20 & wife_name = '김태희'\n",
        "- 사람이 하는 행동\n",
        "  + def dance(): def sing(): "
      ]
    },
    {
      "cell_type": "code",
      "metadata": {
        "id": "oMQmMpS_LJyG",
        "colab_type": "code",
        "colab": {}
      },
      "source": [
        "class Human:\n",
        "  # 사람에 대한 특징\n",
        "  name = \"Rain\"\n",
        "  age = 30 \n",
        "  # 사람에 대한 행동\n",
        "  def dance(self):\n",
        "    print('춤추는 중')\n"
      ],
      "execution_count": null,
      "outputs": []
    },
    {
      "cell_type": "code",
      "metadata": {
        "id": "xfjfSrQiOfNS",
        "colab_type": "code",
        "colab": {
          "base_uri": "https://localhost:8080/",
          "height": 71
        },
        "outputId": "517a8727-270b-4ef2-8bc3-ad3a7861f07c"
      },
      "source": [
        "rain = Human()\n",
        "print(rain.name)\n",
        "print(rain.age)\n",
        "rain.dance()"
      ],
      "execution_count": null,
      "outputs": [
        {
          "output_type": "stream",
          "text": [
            "Rain\n",
            "30\n",
            "춤추는 중\n"
          ],
          "name": "stdout"
        }
      ]
    },
    {
      "cell_type": "markdown",
      "metadata": {
        "id": "l3uyfcFlO207",
        "colab_type": "text"
      },
      "source": [
        "## 일반적인 형태의 클래스"
      ]
    },
    {
      "cell_type": "code",
      "metadata": {
        "id": "ddDUmyktOmmc",
        "colab_type": "code",
        "colab": {
          "base_uri": "https://localhost:8080/",
          "height": 53
        },
        "outputId": "f2612cb8-d2c1-4072-f270-d05369cda20e"
      },
      "source": [
        "class Human:\n",
        "  def __init__(self, name, age, hobby):\n",
        "    self.name = name\n",
        "    self.age = age\n",
        "    self.hobby = hobby\n",
        "  \n",
        "  def describe(self):\n",
        "    return f\"{self.name}의 나이는 {self.age}\"\n",
        " \n",
        "seungchul = Human(\"seungchul\", 26, '영화')\n",
        "hong = Human(\"hong\", 999, '달리기')\n",
        "\n",
        "print(Human.describe(seungchul))\n",
        "print(hong.age, hong.hobby)"
      ],
      "execution_count": null,
      "outputs": [
        {
          "output_type": "stream",
          "text": [
            "seungchul의 나이는 26\n",
            "999 달리기\n"
          ],
          "name": "stdout"
        }
      ]
    },
    {
      "cell_type": "markdown",
      "metadata": {
        "id": "XkC2n2rxS6ja",
        "colab_type": "text"
      },
      "source": [
        "## 상속\n"
      ]
    },
    {
      "cell_type": "code",
      "metadata": {
        "id": "ahn-G3cfPoy5",
        "colab_type": "code",
        "colab": {
          "base_uri": "https://localhost:8080/",
          "height": 35
        },
        "outputId": "5ccd82dd-0e71-427c-f0cf-8880a25695f7"
      },
      "source": [
        "class Human:\n",
        "  def __init__(self, name, age):\n",
        "    self.name = name\n",
        "    self.age = age\n",
        "\n",
        "  def describe(self):\n",
        "    return f\"{self.name}의 나이는 {self.age}\"\n",
        "\n",
        "  def skinColor(self, color):\n",
        "    return f\"{self.name}의 피부 색상은 {color}\"\n",
        "\n",
        "class Asian(Human):\n",
        "  pass\n",
        "\n",
        "seungchul= Asian(\"seungchul\", 26)\n",
        "print(seungchul.skinColor('Yello'))"
      ],
      "execution_count": null,
      "outputs": [
        {
          "output_type": "stream",
          "text": [
            "seungchul의 피부 색상은 Yello\n"
          ],
          "name": "stdout"
        }
      ]
    },
    {
      "cell_type": "markdown",
      "metadata": {
        "id": "cTL9N6KTapFt",
        "colab_type": "text"
      },
      "source": [
        "## 실습"
      ]
    },
    {
      "cell_type": "code",
      "metadata": {
        "id": "50b2jOiJUz7r",
        "colab_type": "code",
        "colab": {
          "base_uri": "https://localhost:8080/",
          "height": 127
        },
        "outputId": "df92ac1e-e14b-442e-9783-21465d4ed130"
      },
      "source": [
        "from google.colab import drive\n",
        "drive.mount('/content/gdrive')"
      ],
      "execution_count": null,
      "outputs": [
        {
          "output_type": "stream",
          "text": [
            "Go to this URL in a browser: https://accounts.google.com/o/oauth2/auth?client_id=947318989803-6bn6qk8qdgf4n4g3pfee6491hc0brc4i.apps.googleusercontent.com&redirect_uri=urn%3aietf%3awg%3aoauth%3a2.0%3aoob&scope=email%20https%3a%2f%2fwww.googleapis.com%2fauth%2fdocs.test%20https%3a%2f%2fwww.googleapis.com%2fauth%2fdrive%20https%3a%2f%2fwww.googleapis.com%2fauth%2fdrive.photos.readonly%20https%3a%2f%2fwww.googleapis.com%2fauth%2fpeopleapi.readonly&response_type=code\n",
            "\n",
            "Enter your authorization code:\n",
            "··········\n",
            "Mounted at /content/gdrive\n"
          ],
          "name": "stdout"
        }
      ]
    },
    {
      "cell_type": "code",
      "metadata": {
        "id": "2uqZ--j-c51Q",
        "colab_type": "code",
        "colab": {}
      },
      "source": [
        "# import join used to join ROOT path and MY_GOOGLE_DRIVE_PATH\n",
        "from os.path import join  \n",
        "\n",
        "# path to your project on Google Drive\n",
        "MY_GOOGLE_DRIVE_PATH = '/content/gdrive/My Drive/Colab Notebooks/ML_Project/weather'\n",
        "PROJECT_PATH = join('/content/gdrive', MY_GOOGLE_DRIVE_PATH)"
      ],
      "execution_count": null,
      "outputs": []
    },
    {
      "cell_type": "code",
      "metadata": {
        "id": "RFiOQ2FSdGMh",
        "colab_type": "code",
        "colab": {
          "base_uri": "https://localhost:8080/",
          "height": 53
        },
        "outputId": "e79b55f8-fe11-4c34-c6df-573040b2beb6"
      },
      "source": [
        "%cd \"{PROJECT_PATH}\"\n",
        "!ls"
      ],
      "execution_count": null,
      "outputs": [
        {
          "output_type": "stream",
          "text": [
            "/content/gdrive/My Drive/Colab Notebooks/ML_Project/weather\n",
            "weather2.csv  weather.csv\n"
          ],
          "name": "stdout"
        }
      ]
    },
    {
      "cell_type": "code",
      "metadata": {
        "id": "exGmYyJ9a4EM",
        "colab_type": "code",
        "colab": {
          "base_uri": "https://localhost:8080/",
          "height": 359
        },
        "outputId": "697b340b-be06-4afe-d91c-edea79cc6768"
      },
      "source": [
        "data = pd.read_csv(\"weather.csv\")\n",
        "data.info()"
      ],
      "execution_count": null,
      "outputs": [
        {
          "output_type": "stream",
          "text": [
            "<class 'pandas.core.frame.DataFrame'>\n",
            "RangeIndex: 96453 entries, 0 to 96452\n",
            "Data columns (total 12 columns):\n",
            " #   Column                    Non-Null Count  Dtype  \n",
            "---  ------                    --------------  -----  \n",
            " 0   Formatted Date            96453 non-null  object \n",
            " 1   Summary                   96453 non-null  object \n",
            " 2   Precip Type               95936 non-null  object \n",
            " 3   Temperature (C)           96453 non-null  float64\n",
            " 4   Apparent Temperature (C)  96453 non-null  float64\n",
            " 5   Humidity                  96453 non-null  float64\n",
            " 6   Wind Speed (km/h)         96453 non-null  float64\n",
            " 7   Wind Bearing (degrees)    96453 non-null  float64\n",
            " 8   Visibility (km)           96453 non-null  float64\n",
            " 9   Loud Cover                96453 non-null  float64\n",
            " 10  Pressure (millibars)      96453 non-null  float64\n",
            " 11  Daily Summary             96453 non-null  object \n",
            "dtypes: float64(8), object(4)\n",
            "memory usage: 8.8+ MB\n"
          ],
          "name": "stdout"
        }
      ]
    },
    {
      "cell_type": "code",
      "metadata": {
        "id": "pCYf5wK6bQkr",
        "colab_type": "code",
        "colab": {
          "base_uri": "https://localhost:8080/",
          "height": 359
        },
        "outputId": "8006c49b-fe2a-440a-e806-27ac49daf9f7"
      },
      "source": [
        "data2 = pd.read_csv(\"weather2.csv\")\n",
        "data2.info()"
      ],
      "execution_count": null,
      "outputs": [
        {
          "output_type": "stream",
          "text": [
            "<class 'pandas.core.frame.DataFrame'>\n",
            "RangeIndex: 10000 entries, 0 to 9999\n",
            "Data columns (total 12 columns):\n",
            " #   Column                    Non-Null Count  Dtype  \n",
            "---  ------                    --------------  -----  \n",
            " 0   Formatted.Date            10000 non-null  object \n",
            " 1   Summary                   10000 non-null  object \n",
            " 2   Precip.Type               10000 non-null  object \n",
            " 3   Temperature..C.           10000 non-null  float64\n",
            " 4   Apparent.Temperature..C.  10000 non-null  float64\n",
            " 5   Humidity                  10000 non-null  float64\n",
            " 6   Wind.Speed..km.h.         10000 non-null  float64\n",
            " 7   Wind.Bearing..degrees.    10000 non-null  int64  \n",
            " 8   Visibility..km.           10000 non-null  float64\n",
            " 9   Loud.Cover                10000 non-null  int64  \n",
            " 10  Pressure..millibars.      10000 non-null  float64\n",
            " 11  Daily.Summary             10000 non-null  object \n",
            "dtypes: float64(6), int64(2), object(4)\n",
            "memory usage: 937.6+ KB\n"
          ],
          "name": "stdout"
        }
      ]
    },
    {
      "cell_type": "markdown",
      "metadata": {
        "id": "PHIdcT5nbSy4",
        "colab_type": "text"
      },
      "source": [
        "- 현재 문제점\n",
        "  - weather , weather간의 컬럼명이 다른 상태"
      ]
    },
    {
      "cell_type": "code",
      "metadata": {
        "id": "ejkFr0UcbSBW",
        "colab_type": "code",
        "colab": {}
      },
      "source": [
        "from sklearn.ensemble import RandomForestRegressor\n",
        "from sklearn.linear_model import LinearRegression\n",
        "from sklearn.model_selection import train_test_split\n",
        "import numpy as np\n",
        "import pandas as pd\n",
        "\n",
        "\n",
        "class Model:\n",
        "    def __init__(self, datafile, model_type = None):\n",
        "       self.datafile = datafile\n",
        "       self.df = pd.read_csv(datafile)\n",
        "       data_columns = ['Formatted Date', 'Summary', 'Precip Type', \n",
        "                       'Temperature (C)', 'Apparent Temperature (C)', \n",
        "                       'Humidity', 'Wind Speed (km/h)', 'Wind Bearing (degrees)',\n",
        "                       'Visibility (km)', 'Loud Cover', 'Pressure (millibars)','Daily Summary']\n",
        "       self.df.columns = data_columns\n",
        "\n",
        "       if model_type == 'rf':\n",
        "            self.user_defined_model = RandomForestRegressor() \n",
        "       else:\n",
        "            self.user_defined_model = LinearRegression()\n",
        "            \n",
        "    def split(self, test_size):\n",
        "        X = np.array(self.df[['Humidity', 'Pressure (millibars)']])\n",
        "        y = np.array(self.df['Temperature (C)'])\n",
        "        self.X_train, self.X_test, self.y_train, self.y_test = train_test_split(X, y, test_size = test_size, random_state = 42)\n",
        "    \n",
        "    def fit(self):\n",
        "        self.model = self.user_defined_model.fit(self.X_train, self.y_train)\n",
        "    \n",
        "    def predict(self, input_value):\n",
        "        if input_value == None:\n",
        "            result = self.user_defined_model.predict(self.X_test)\n",
        "        else: \n",
        "            result = self.user_defined_model.predict(np.array([input_value]))\n",
        "        return result"
      ],
      "execution_count": null,
      "outputs": []
    },
    {
      "cell_type": "code",
      "metadata": {
        "id": "_hA4wRj0cpst",
        "colab_type": "code",
        "colab": {
          "base_uri": "https://localhost:8080/",
          "height": 53
        },
        "outputId": "c7a39dea-fb9a-4577-cbee-9dd120c37862"
      },
      "source": [
        "if __name__ == '__main__':\n",
        "    a_model = Model(datafile=\"weather.csv\", model_type=None)\n",
        "    a_model.split(0.2)\n",
        "    a_model.fit()    \n",
        "    print(a_model.predict([.9, 1000]))\n",
        "    print(\"Accuracy: \", a_model.model.score(a_model.X_test, a_model.y_test))"
      ],
      "execution_count": null,
      "outputs": [
        {
          "output_type": "stream",
          "text": [
            "[6.83625473]\n",
            "Accuracy:  0.39578560465686424\n"
          ],
          "name": "stdout"
        }
      ]
    },
    {
      "cell_type": "code",
      "metadata": {
        "id": "FFvZa7mNcv37",
        "colab_type": "code",
        "colab": {
          "base_uri": "https://localhost:8080/",
          "height": 53
        },
        "outputId": "e0167e61-9591-4dab-933a-f235717a9d13"
      },
      "source": [
        "if __name__ == '__main__':\n",
        "    b_model = Model(datafile=\"weather2.csv\", model_type=None)\n",
        "    b_model.split(0.3)\n",
        "    b_model.fit()\n",
        "    print(b_model.predict([.9, 1000]))\n",
        "    print(\"Accuracy: \", b_model.model.score(b_model.X_test, b_model.y_test))"
      ],
      "execution_count": null,
      "outputs": [
        {
          "output_type": "stream",
          "text": [
            "[7.15581866]\n",
            "Accuracy:  0.35698882811391797\n"
          ],
          "name": "stdout"
        }
      ]
    },
    {
      "cell_type": "code",
      "metadata": {
        "id": "eZyuwD51dSvU",
        "colab_type": "code",
        "colab": {}
      },
      "source": [
        ""
      ],
      "execution_count": null,
      "outputs": []
    }
  ]
}