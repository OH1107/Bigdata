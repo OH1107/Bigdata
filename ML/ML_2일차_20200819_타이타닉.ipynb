{
  "nbformat": 4,
  "nbformat_minor": 0,
  "metadata": {
    "colab": {
      "name": "ML_2일차_20200819_타이타닉",
      "provenance": [],
      "toc_visible": true,
      "authorship_tag": "ABX9TyOHpDdesdgKisdNFilR8Gfp",
      "include_colab_link": true
    },
    "kernelspec": {
      "name": "python3",
      "display_name": "Python 3"
    }
  },
  "cells": [
    {
      "cell_type": "markdown",
      "metadata": {
        "id": "view-in-github",
        "colab_type": "text"
      },
      "source": [
        "<a href=\"https://colab.research.google.com/github/OH1107/aisa_edu/blob/master/ML/ML_2%EC%9D%BC%EC%B0%A8_20200819_%ED%83%80%EC%9D%B4%ED%83%80%EB%8B%89.ipynb\" target=\"_parent\"><img src=\"https://colab.research.google.com/assets/colab-badge.svg\" alt=\"Open In Colab\"/></a>"
      ]
    },
    {
      "cell_type": "markdown",
      "metadata": {
        "id": "qQD2mzjIbEpR",
        "colab_type": "text"
      },
      "source": [
        "## I. 사전 준비작업\n",
        "- `Kaggle API` 설치 및 연동해서 `GCP`에 데이터를 적재하는 것까지 진행한다. "
      ]
    },
    {
      "cell_type": "markdown",
      "metadata": {
        "id": "JOwrTEIFtHai",
        "colab_type": "text"
      },
      "source": [
        "### (1) Kaggle API 설치\n",
        "- 구글 코랩에서 `API`를 불러오려면 다음 소스코드를 실행"
      ]
    },
    {
      "cell_type": "code",
      "metadata": {
        "id": "Mbigbeamu7vr",
        "colab_type": "code",
        "colab": {
          "base_uri": "https://localhost:8080/",
          "height": 215
        },
        "outputId": "f4759174-67e2-4179-9fb9-8e02f8615aa2"
      },
      "source": [
        "!pip install kaggle"
      ],
      "execution_count": 1,
      "outputs": [
        {
          "output_type": "stream",
          "text": [
            "Requirement already satisfied: kaggle in /usr/local/lib/python3.6/dist-packages (1.5.6)\n",
            "Requirement already satisfied: certifi in /usr/local/lib/python3.6/dist-packages (from kaggle) (2020.6.20)\n",
            "Requirement already satisfied: tqdm in /usr/local/lib/python3.6/dist-packages (from kaggle) (4.41.1)\n",
            "Requirement already satisfied: six>=1.10 in /usr/local/lib/python3.6/dist-packages (from kaggle) (1.15.0)\n",
            "Requirement already satisfied: python-slugify in /usr/local/lib/python3.6/dist-packages (from kaggle) (4.0.1)\n",
            "Requirement already satisfied: urllib3<1.25,>=1.21.1 in /usr/local/lib/python3.6/dist-packages (from kaggle) (1.24.3)\n",
            "Requirement already satisfied: requests in /usr/local/lib/python3.6/dist-packages (from kaggle) (2.23.0)\n",
            "Requirement already satisfied: python-dateutil in /usr/local/lib/python3.6/dist-packages (from kaggle) (2.8.1)\n",
            "Requirement already satisfied: text-unidecode>=1.3 in /usr/local/lib/python3.6/dist-packages (from python-slugify->kaggle) (1.3)\n",
            "Requirement already satisfied: chardet<4,>=3.0.2 in /usr/local/lib/python3.6/dist-packages (from requests->kaggle) (3.0.4)\n",
            "Requirement already satisfied: idna<3,>=2.5 in /usr/local/lib/python3.6/dist-packages (from requests->kaggle) (2.10)\n"
          ],
          "name": "stdout"
        }
      ]
    },
    {
      "cell_type": "markdown",
      "metadata": {
        "id": "EZlgcW7TtRkI",
        "colab_type": "text"
      },
      "source": [
        "### (2) Kaggle Token 다운로드\n",
        "- Kaggle에서 API Token을 다운로드\n",
        "- [Kaggle]-[My Account]-[API]-[Create New API Token]을 누르면 `kaggle.json` \n",
        "- 이 파일을 바탕화면에 옮긴 뒤, 아래 코드를 실행\n"
      ]
    },
    {
      "cell_type": "code",
      "metadata": {
        "id": "oH0h2VRDvGta",
        "colab_type": "code",
        "colab": {
          "resources": {
            "http://localhost:8080/nbextensions/google.colab/files.js": {
              "data": "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",
              "ok": true,
              "headers": [
                [
                  "content-type",
                  "application/javascript"
                ]
              ],
              "status": 200,
              "status_text": ""
            }
          },
          "base_uri": "https://localhost:8080/",
          "height": 41
        },
        "outputId": "d3ded761-b23f-4426-e3ae-724860839883"
      },
      "source": [
        "from google.colab import files\n",
        "uploaded = files.upload()\n",
        "for fn in uploaded.keys():\n",
        "  print('uploaded file \"{name}\" with length {length} bytes'.format(name=fn, length=len(uploaded[fn])))"
      ],
      "execution_count": 2,
      "outputs": [
        {
          "output_type": "display_data",
          "data": {
            "text/html": [
              "\n",
              "     <input type=\"file\" id=\"files-cf07e67d-06d7-4346-b6e0-e8ab2927e4f0\" name=\"files[]\" multiple disabled\n",
              "        style=\"border:none\" />\n",
              "     <output id=\"result-cf07e67d-06d7-4346-b6e0-e8ab2927e4f0\">\n",
              "      Upload widget is only available when the cell has been executed in the\n",
              "      current browser session. Please rerun this cell to enable.\n",
              "      </output>\n",
              "      <script src=\"/nbextensions/google.colab/files.js\"></script> "
            ],
            "text/plain": [
              "<IPython.core.display.HTML object>"
            ]
          },
          "metadata": {
            "tags": []
          }
        }
      ]
    },
    {
      "cell_type": "code",
      "metadata": {
        "id": "T33VVmUUvfUe",
        "colab_type": "code",
        "colab": {
          "base_uri": "https://localhost:8080/",
          "height": 35
        },
        "outputId": "586fa8e6-c867-449b-8b21-11d148b9d8ab"
      },
      "source": [
        "# kaggle.json을 아래 폴더로 옮긴 뒤, file을 사용할 수 있도록 권한을 부여한다. \n",
        "!mkdir -p ~/.kaggle/ && mv kaggle.json ~/.kaggle/ && chmod 600 ~/.kaggle/kaggle.json"
      ],
      "execution_count": 3,
      "outputs": [
        {
          "output_type": "stream",
          "text": [
            "mv: cannot stat 'kaggle.json': No such file or directory\n"
          ],
          "name": "stdout"
        }
      ]
    },
    {
      "cell_type": "markdown",
      "metadata": {
        "id": "l_8ZpTERuAoI",
        "colab_type": "text"
      },
      "source": [
        "### (3-1) Kaggle 데이터 불러오기\n",
        "- `Kaggle` 대회 리스트를 불러온다. "
      ]
    },
    {
      "cell_type": "code",
      "metadata": {
        "id": "VauSZxzcySRW",
        "colab_type": "code",
        "colab": {
          "base_uri": "https://localhost:8080/",
          "height": 35
        },
        "outputId": "1f357e38-af9b-4c10-c8d4-306d485277b3"
      },
      "source": [
        "!kaggle competitions list"
      ],
      "execution_count": 4,
      "outputs": [
        {
          "output_type": "stream",
          "text": [
            "401 - Unauthorized\n"
          ],
          "name": "stdout"
        }
      ]
    },
    {
      "cell_type": "markdown",
      "metadata": {
        "id": "7tpS-CotBgQG",
        "colab_type": "text"
      },
      "source": [
        "- 타이타닉데이터를 다운\n"
      ]
    },
    {
      "cell_type": "code",
      "metadata": {
        "id": "YQHYYwfEuTj2",
        "colab_type": "code",
        "colab": {
          "base_uri": "https://localhost:8080/",
          "height": 35
        },
        "outputId": "ce09473e-786b-460a-9409-c16589f68426"
      },
      "source": [
        "!kaggle competitions download -c titanic"
      ],
      "execution_count": 5,
      "outputs": [
        {
          "output_type": "stream",
          "text": [
            "401 - Unauthorized\n"
          ],
          "name": "stdout"
        }
      ]
    },
    {
      "cell_type": "markdown",
      "metadata": {
        "id": "VyZ3EiEt1Rd-",
        "colab_type": "text"
      },
      "source": [
        "### (3-2)구글드라이브 코랩 연동 과정\n",
        "- kaggle 데이터가 뜨지 않으므로 구글드라이브와 연동해서 데이터를 불러올 것"
      ]
    },
    {
      "cell_type": "markdown",
      "metadata": {
        "id": "BVynWPyL2CyQ",
        "colab_type": "text"
      },
      "source": [
        "#### (1) Mount Google Drive to Google Colab\n",
        "- 구글 드라이브(Drive)를 구글 코랩(Colab)에 mount하기 위해 아래 코드를 작성\n",
        "- 이 때 authorization code가 활성화 되는데, 인증을 진행"
      ]
    },
    {
      "cell_type": "code",
      "metadata": {
        "id": "UkJ3Z4lb1U6H",
        "colab_type": "code",
        "colab": {
          "base_uri": "https://localhost:8080/",
          "height": 53
        },
        "outputId": "c1f1d14a-f2ae-4a74-8297-c1a608707657"
      },
      "source": [
        "# Mount Google Drive\n",
        "from google.colab import drive # import drive from google colab\n",
        "\n",
        "ROOT = \"/content/drive\"     # default location for the drive\n",
        "print(ROOT)                 # print content of ROOT (Optional)\n",
        "drive.mount(ROOT)           # we mount the google drive at /content/drive"
      ],
      "execution_count": 6,
      "outputs": [
        {
          "output_type": "stream",
          "text": [
            "/content/drive\n",
            "Drive already mounted at /content/drive; to attempt to forcibly remount, call drive.mount(\"/content/drive\", force_remount=True).\n"
          ],
          "name": "stdout"
        }
      ]
    },
    {
      "cell_type": "code",
      "metadata": {
        "id": "4dpsw4YI2R-i",
        "colab_type": "code",
        "colab": {
          "base_uri": "https://localhost:8080/",
          "height": 35
        },
        "outputId": "051a7c61-e48c-4542-f15e-f5eaaa6bcecb"
      },
      "source": [
        "# 현재 경로 확인\n",
        "%pwd"
      ],
      "execution_count": 7,
      "outputs": [
        {
          "output_type": "execute_result",
          "data": {
            "application/vnd.google.colaboratory.intrinsic+json": {
              "type": "string"
            },
            "text/plain": [
              "'/content'"
            ]
          },
          "metadata": {
            "tags": []
          },
          "execution_count": 7
        }
      ]
    },
    {
      "cell_type": "code",
      "metadata": {
        "id": "EgKwqkZP2ZLH",
        "colab_type": "code",
        "colab": {
          "base_uri": "https://localhost:8080/",
          "height": 35
        },
        "outputId": "fc8f607c-96dc-43cb-9613-e17873a0b4ee"
      },
      "source": [
        "# 현재 경로의 파일 확인\n",
        "%ls"
      ],
      "execution_count": 8,
      "outputs": [
        {
          "output_type": "stream",
          "text": [
            "adc.json  \u001b[0m\u001b[01;34mc:Ohhhhh\u001b[0m/  \u001b[01;34mdrive\u001b[0m/  \u001b[01;34msample_data\u001b[0m/\n"
          ],
          "name": "stdout"
        }
      ]
    },
    {
      "cell_type": "code",
      "metadata": {
        "id": "4A7as-hv2cDg",
        "colab_type": "code",
        "colab": {
          "base_uri": "https://localhost:8080/",
          "height": 35
        },
        "outputId": "1ed1be09-fe3c-493c-88a5-1dfd4f7a5b71"
      },
      "source": [
        "# 경로 이동\n",
        "%cd drive/'My Drive'/'Colab Notebooks'/'ML_Project'/'titanic'"
      ],
      "execution_count": 9,
      "outputs": [
        {
          "output_type": "stream",
          "text": [
            "/content/drive/My Drive/Colab Notebooks/ML_Project/titanic\n"
          ],
          "name": "stdout"
        }
      ]
    },
    {
      "cell_type": "markdown",
      "metadata": {
        "id": "8NYCgyL-uYSI",
        "colab_type": "text"
      },
      "source": [
        "### (4) BigQuery에 데이터 적재\n",
        "- `sample_submission.csv`, `test.csv`, `train.csv` 데이터를 불러와서 빅쿼리에 적재\n",
        "- 로컬에서 빅쿼리로 데이터를 Load하는 방법에는 여러가지가 있다.\n",
        "  + `Local`에서 직접 올리기 (단, 10MB 이하)\n",
        "  + `Google Stroage` 활용\n",
        "  + `Pandas` 활용\n",
        "- `Pandas`패키지를 활용\n",
        "  + `to_gbq`라는 함수를 사용하는데, 이를 위해서는 보통 `pandas-gbq package`패키지를 별도로 설치 `Colab`은 본 패키지가 설치 되어 있음"
      ]
    },
    {
      "cell_type": "code",
      "metadata": {
        "id": "naBmJMD-vBAw",
        "colab_type": "code",
        "colab": {
          "base_uri": "https://localhost:8080/",
          "height": 35
        },
        "outputId": "54971e6a-c0bb-4fe8-b9e8-684ebe076336"
      },
      "source": [
        "import pandas as pd\n",
        "from pandas.io import gbq\n",
        "\n",
        "# import sample_submission file\n",
        "gender_submission = pd.read_csv('gender_submission.csv')\n",
        "\n",
        "# Connect to Google Cloud API and Upload DataFrame\n",
        "gender_submission.to_gbq(destination_table='titanic.gender_submission', \n",
        "                  project_id='groovy-ego-286903',\n",
        "                  if_exists='replace')"
      ],
      "execution_count": 10,
      "outputs": [
        {
          "output_type": "stream",
          "text": [
            "1it [00:05,  5.29s/it]\n"
          ],
          "name": "stderr"
        }
      ]
    },
    {
      "cell_type": "code",
      "metadata": {
        "id": "wH8C-ot1Ngvp",
        "colab_type": "code",
        "colab": {
          "base_uri": "https://localhost:8080/",
          "height": 35
        },
        "outputId": "5ecb3f6a-af30-4b14-c53b-a4968f9f7609"
      },
      "source": [
        "# test.csv 파일 임포트\n",
        "\n",
        "test = pd.read_csv('test.csv')\n",
        "\n",
        "test.to_gbq(destination_table='titanic.test', \n",
        "                  project_id='groovy-ego-286903',\n",
        "                  if_exists='replace')"
      ],
      "execution_count": 11,
      "outputs": [
        {
          "output_type": "stream",
          "text": [
            "1it [00:02,  2.80s/it]\n"
          ],
          "name": "stderr"
        }
      ]
    },
    {
      "cell_type": "code",
      "metadata": {
        "id": "keq8IEq6N_mZ",
        "colab_type": "code",
        "colab": {
          "base_uri": "https://localhost:8080/",
          "height": 35
        },
        "outputId": "74d8e2f8-5ffe-40ff-d6cd-3f1ad68dadd0"
      },
      "source": [
        "# train.csv 파일 임포트\n",
        "\n",
        "train = pd.read_csv('train.csv')\n",
        "\n",
        "train.to_gbq(destination_table='titanic.train', \n",
        "                  project_id='groovy-ego-286903',\n",
        "                  if_exists='replace')"
      ],
      "execution_count": 12,
      "outputs": [
        {
          "output_type": "stream",
          "text": [
            "1it [00:03,  3.31s/it]\n"
          ],
          "name": "stderr"
        }
      ]
    },
    {
      "cell_type": "markdown",
      "metadata": {
        "id": "8FF-lElqOoWe",
        "colab_type": "text"
      },
      "source": [
        "- 임포트가 정상적으로 되었는지 확인"
      ]
    },
    {
      "cell_type": "code",
      "metadata": {
        "id": "p9cEaKusOrPn",
        "colab_type": "code",
        "colab": {
          "base_uri": "https://localhost:8080/",
          "height": 377
        },
        "outputId": "7eba91a3-51fb-4904-a60e-3245df69b547"
      },
      "source": [
        "print(train.info())"
      ],
      "execution_count": 13,
      "outputs": [
        {
          "output_type": "stream",
          "text": [
            "<class 'pandas.core.frame.DataFrame'>\n",
            "RangeIndex: 891 entries, 0 to 890\n",
            "Data columns (total 12 columns):\n",
            " #   Column       Non-Null Count  Dtype  \n",
            "---  ------       --------------  -----  \n",
            " 0   PassengerId  891 non-null    int64  \n",
            " 1   Survived     891 non-null    int64  \n",
            " 2   Pclass       891 non-null    int64  \n",
            " 3   Name         891 non-null    object \n",
            " 4   Sex          891 non-null    object \n",
            " 5   Age          714 non-null    float64\n",
            " 6   SibSp        891 non-null    int64  \n",
            " 7   Parch        891 non-null    int64  \n",
            " 8   Ticket       891 non-null    object \n",
            " 9   Fare         891 non-null    float64\n",
            " 10  Cabin        204 non-null    object \n",
            " 11  Embarked     889 non-null    object \n",
            "dtypes: float64(2), int64(5), object(5)\n",
            "memory usage: 83.7+ KB\n",
            "None\n"
          ],
          "name": "stdout"
        }
      ]
    },
    {
      "cell_type": "markdown",
      "metadata": {
        "id": "N-RUPO23Zhj4",
        "colab_type": "text"
      },
      "source": [
        "## II. 데이터 피처공학\n",
        "- 사이킷런 패키지는 기본적으로 결측치를 허용하지 않기 때문에, 반드시 확인 후, 처리해야함 \n",
        "- `BigQuery`를 통해 데이터 사용\n",
        "- 주요 데이터 추출을 위한 피처공학을 다룰 것임"
      ]
    },
    {
      "cell_type": "markdown",
      "metadata": {
        "id": "SPg5QYfRZvsc",
        "colab_type": "text"
      },
      "source": [
        "### (1) 주요 패키지 불러오기\n",
        "- 이제 주요 패키지 호출"
      ]
    },
    {
      "cell_type": "code",
      "metadata": {
        "id": "Bu1p04FSZvZs",
        "colab_type": "code",
        "colab": {
          "base_uri": "https://localhost:8080/",
          "height": 53
        },
        "outputId": "e8a82c3c-6bb9-4715-bb15-ff490cdbbda4"
      },
      "source": [
        "import numpy as np \n",
        "import pandas as pd \n",
        "\n",
        "from sklearn import preprocessing\n",
        "import matplotlib.pyplot as plt \n",
        "plt.rc(\"font\", size=14)\n",
        "import seaborn as sns\n",
        "sns.set(style=\"white\") #white background style for seaborn plots\n",
        "sns.set(style=\"whitegrid\", color_codes=True)\n",
        "\n",
        "import warnings\n",
        "warnings.simplefilter(action='ignore')"
      ],
      "execution_count": 14,
      "outputs": [
        {
          "output_type": "stream",
          "text": [
            "/usr/local/lib/python3.6/dist-packages/statsmodels/tools/_testing.py:19: FutureWarning: pandas.util.testing is deprecated. Use the functions in the public API at pandas.testing instead.\n",
            "  import pandas.util.testing as tm\n"
          ],
          "name": "stderr"
        }
      ]
    },
    {
      "cell_type": "markdown",
      "metadata": {
        "id": "lH4rJvN5vC52",
        "colab_type": "text"
      },
      "source": [
        "## (2) 데이터 불러오기"
      ]
    },
    {
      "cell_type": "code",
      "metadata": {
        "id": "q8H9M1x4ZvDI",
        "colab_type": "code",
        "colab": {
          "base_uri": "https://localhost:8080/",
          "height": 35
        },
        "outputId": "6a245e18-feb8-4077-a681-a31518943e5c"
      },
      "source": [
        "from google.colab import auth\n",
        "auth.authenticate_user()\n",
        "print('Authenticated')"
      ],
      "execution_count": 15,
      "outputs": [
        {
          "output_type": "stream",
          "text": [
            "Authenticated\n"
          ],
          "name": "stdout"
        }
      ]
    },
    {
      "cell_type": "code",
      "metadata": {
        "id": "T-dGrHXfvHVx",
        "colab_type": "code",
        "colab": {}
      },
      "source": [
        "# 구글 인증 라이브러리\n",
        "from google.colab import auth\n",
        "\n",
        "# 빅쿼리 관련 라이브러리\n",
        "from google.cloud import bigquery\n",
        "from tabulate import tabulate\n",
        "import pandas as pd"
      ],
      "execution_count": 16,
      "outputs": []
    },
    {
      "cell_type": "markdown",
      "metadata": {
        "id": "8hg7QFFQvSkb",
        "colab_type": "text"
      },
      "source": [
        "- 먼저 훈련 데이터를 불러온다."
      ]
    },
    {
      "cell_type": "code",
      "metadata": {
        "id": "Jr7bk7aJvQKl",
        "colab_type": "code",
        "colab": {
          "base_uri": "https://localhost:8080/",
          "height": 35
        },
        "outputId": "d0e30efb-54c4-4738-f644-011d9c78839e"
      },
      "source": [
        "from google.cloud import bigquery\n",
        "from tabulate import tabulate\n",
        "import pandas as pd\n",
        "\n",
        "project_id = 'groovy-ego-286903'\n",
        "client = bigquery.Client(project=project_id)\n",
        "\n",
        "df_train = client.query('''\n",
        "  SELECT \n",
        "      * \n",
        "  FROM `groovy-ego-286903.titanic.train`\n",
        "  ''').to_dataframe()\n",
        "\n",
        "df_train.shape"
      ],
      "execution_count": 17,
      "outputs": [
        {
          "output_type": "execute_result",
          "data": {
            "text/plain": [
              "(891, 12)"
            ]
          },
          "metadata": {
            "tags": []
          },
          "execution_count": 17
        }
      ]
    },
    {
      "cell_type": "markdown",
      "metadata": {
        "id": "xji5djMFvkK1",
        "colab_type": "text"
      },
      "source": [
        "- 그 다음은 테스트 데이터를 불러온다. "
      ]
    },
    {
      "cell_type": "code",
      "metadata": {
        "id": "8ZbgFEFPvUh_",
        "colab_type": "code",
        "colab": {
          "base_uri": "https://localhost:8080/",
          "height": 35
        },
        "outputId": "d2371e67-5b2a-4604-e02b-f3622d4e17a7"
      },
      "source": [
        "df_test = client.query('''\n",
        "  SELECT \n",
        "      * \n",
        "  FROM `groovy-ego-286903.titanic.test`\n",
        "  ''').to_dataframe() # 빅쿼리안의 쿼리문을 여기서 이렇게 써서 전체를 데이터프레임으로가꼬와라\n",
        "\n",
        "df_test.shape"
      ],
      "execution_count": 18,
      "outputs": [
        {
          "output_type": "execute_result",
          "data": {
            "text/plain": [
              "(418, 11)"
            ]
          },
          "metadata": {
            "tags": []
          },
          "execution_count": 18
        }
      ]
    },
    {
      "cell_type": "markdown",
      "metadata": {
        "id": "tlsAdaVnvs-J",
        "colab_type": "text"
      },
      "source": [
        "- 아래 코드는 출력 시, 전체 `Column`에 대해 확인할 수 있음"
      ]
    },
    {
      "cell_type": "code",
      "metadata": {
        "id": "L8vAlRBqvrpr",
        "colab_type": "code",
        "colab": {
          "base_uri": "https://localhost:8080/",
          "height": 204
        },
        "outputId": "c09746b8-d04a-4a69-d05d-e626547ae078"
      },
      "source": [
        "pd.options.display.max_columns = None  # 칼럼이 길어지면 ... 나오는걸로 짤리는거 방지하는 거\n",
        "df_train.head()"
      ],
      "execution_count": 19,
      "outputs": [
        {
          "output_type": "execute_result",
          "data": {
            "text/html": [
              "<div>\n",
              "<style scoped>\n",
              "    .dataframe tbody tr th:only-of-type {\n",
              "        vertical-align: middle;\n",
              "    }\n",
              "\n",
              "    .dataframe tbody tr th {\n",
              "        vertical-align: top;\n",
              "    }\n",
              "\n",
              "    .dataframe thead th {\n",
              "        text-align: right;\n",
              "    }\n",
              "</style>\n",
              "<table border=\"1\" class=\"dataframe\">\n",
              "  <thead>\n",
              "    <tr style=\"text-align: right;\">\n",
              "      <th></th>\n",
              "      <th>PassengerId</th>\n",
              "      <th>Survived</th>\n",
              "      <th>Pclass</th>\n",
              "      <th>Name</th>\n",
              "      <th>Sex</th>\n",
              "      <th>Age</th>\n",
              "      <th>SibSp</th>\n",
              "      <th>Parch</th>\n",
              "      <th>Ticket</th>\n",
              "      <th>Fare</th>\n",
              "      <th>Cabin</th>\n",
              "      <th>Embarked</th>\n",
              "    </tr>\n",
              "  </thead>\n",
              "  <tbody>\n",
              "    <tr>\n",
              "      <th>0</th>\n",
              "      <td>180</td>\n",
              "      <td>0</td>\n",
              "      <td>3</td>\n",
              "      <td>Leonard, Mr. Lionel</td>\n",
              "      <td>male</td>\n",
              "      <td>36.0</td>\n",
              "      <td>0</td>\n",
              "      <td>0</td>\n",
              "      <td>LINE</td>\n",
              "      <td>0.0</td>\n",
              "      <td>None</td>\n",
              "      <td>S</td>\n",
              "    </tr>\n",
              "    <tr>\n",
              "      <th>1</th>\n",
              "      <td>264</td>\n",
              "      <td>0</td>\n",
              "      <td>1</td>\n",
              "      <td>Harrison, Mr. William</td>\n",
              "      <td>male</td>\n",
              "      <td>40.0</td>\n",
              "      <td>0</td>\n",
              "      <td>0</td>\n",
              "      <td>112059</td>\n",
              "      <td>0.0</td>\n",
              "      <td>B94</td>\n",
              "      <td>S</td>\n",
              "    </tr>\n",
              "    <tr>\n",
              "      <th>2</th>\n",
              "      <td>278</td>\n",
              "      <td>0</td>\n",
              "      <td>2</td>\n",
              "      <td>Parkes, Mr. Francis \"Frank\"</td>\n",
              "      <td>male</td>\n",
              "      <td>NaN</td>\n",
              "      <td>0</td>\n",
              "      <td>0</td>\n",
              "      <td>239853</td>\n",
              "      <td>0.0</td>\n",
              "      <td>None</td>\n",
              "      <td>S</td>\n",
              "    </tr>\n",
              "    <tr>\n",
              "      <th>3</th>\n",
              "      <td>303</td>\n",
              "      <td>0</td>\n",
              "      <td>3</td>\n",
              "      <td>Johnson, Mr. William Cahoone Jr</td>\n",
              "      <td>male</td>\n",
              "      <td>19.0</td>\n",
              "      <td>0</td>\n",
              "      <td>0</td>\n",
              "      <td>LINE</td>\n",
              "      <td>0.0</td>\n",
              "      <td>None</td>\n",
              "      <td>S</td>\n",
              "    </tr>\n",
              "    <tr>\n",
              "      <th>4</th>\n",
              "      <td>414</td>\n",
              "      <td>0</td>\n",
              "      <td>2</td>\n",
              "      <td>Cunningham, Mr. Alfred Fleming</td>\n",
              "      <td>male</td>\n",
              "      <td>NaN</td>\n",
              "      <td>0</td>\n",
              "      <td>0</td>\n",
              "      <td>239853</td>\n",
              "      <td>0.0</td>\n",
              "      <td>None</td>\n",
              "      <td>S</td>\n",
              "    </tr>\n",
              "  </tbody>\n",
              "</table>\n",
              "</div>"
            ],
            "text/plain": [
              "   PassengerId  Survived  Pclass                             Name   Sex   Age  \\\n",
              "0          180         0       3              Leonard, Mr. Lionel  male  36.0   \n",
              "1          264         0       1            Harrison, Mr. William  male  40.0   \n",
              "2          278         0       2      Parkes, Mr. Francis \"Frank\"  male   NaN   \n",
              "3          303         0       3  Johnson, Mr. William Cahoone Jr  male  19.0   \n",
              "4          414         0       2   Cunningham, Mr. Alfred Fleming  male   NaN   \n",
              "\n",
              "   SibSp  Parch  Ticket  Fare Cabin Embarked  \n",
              "0      0      0    LINE   0.0  None        S  \n",
              "1      0      0  112059   0.0   B94        S  \n",
              "2      0      0  239853   0.0  None        S  \n",
              "3      0      0    LINE   0.0  None        S  \n",
              "4      0      0  239853   0.0  None        S  "
            ]
          },
          "metadata": {
            "tags": []
          },
          "execution_count": 19
        }
      ]
    },
    {
      "cell_type": "markdown",
      "metadata": {
        "id": "-pO4Pg3Ovx5o",
        "colab_type": "text"
      },
      "source": [
        "- 각 데이터에 대한 설명은 다음을 참조한다. \n",
        "  + 참조: https://www.kaggle.com/c/titanic/data"
      ]
    },
    {
      "cell_type": "markdown",
      "metadata": {
        "id": "pwNk5SalvzT7",
        "colab_type": "text"
      },
      "source": [
        "### (3) 결측 데이터 확인"
      ]
    },
    {
      "cell_type": "code",
      "metadata": {
        "id": "T-P0DNlxvpRm",
        "colab_type": "code",
        "colab": {
          "base_uri": "https://localhost:8080/",
          "height": 89
        },
        "outputId": "457db046-52bb-4441-d8d8-5a36a941b8f7"
      },
      "source": [
        "# data set의 Percent 구하는 함수를 짜보자. \n",
        "def check_fill_na(data):\n",
        "  new_df = data.copy()\n",
        "  new_df_na = (new_df.isnull().sum() / len(new_df)) * 100\n",
        "  new_df_na.sort_values(ascending=False).reset_index(drop=True)\n",
        "  new_df_na = new_df_na.drop(new_df_na[new_df_na == 0].index).sort_values(ascending=False)\n",
        "  return new_df_na\n",
        "\n",
        "check_fill_na(df_train)"
      ],
      "execution_count": 20,
      "outputs": [
        {
          "output_type": "execute_result",
          "data": {
            "text/plain": [
              "Cabin       77.104377\n",
              "Age         19.865320\n",
              "Embarked     0.224467\n",
              "dtype: float64"
            ]
          },
          "metadata": {
            "tags": []
          },
          "execution_count": 20
        }
      ]
    },
    {
      "cell_type": "markdown",
      "metadata": {
        "id": "O7ER9jA-v54L",
        "colab_type": "text"
      },
      "source": [
        "- 결측치에 대한 보간을 진행한다. \n",
        "  + `Age`는 중간값 \n",
        "  + `Embarked`는 `S`로 채웠다. \n",
        "  + `Cabin`은 삭제하기로 했다. "
      ]
    },
    {
      "cell_type": "code",
      "metadata": {
        "id": "VcxaFoEovxs0",
        "colab_type": "code",
        "colab": {}
      },
      "source": [
        "train_data = df_train.copy()\n",
        "train_data[\"Age\"].fillna(df_train[\"Age\"].median(skipna=True), inplace=True)\n",
        "train_data[\"Embarked\"].fillna(df_train['Embarked'].value_counts().idxmax(), inplace=True)\n",
        "train_data.drop('Cabin', axis=1, inplace=True)"
      ],
      "execution_count": 21,
      "outputs": []
    },
    {
      "cell_type": "markdown",
      "metadata": {
        "id": "RNZSWFy2v-Kt",
        "colab_type": "text"
      },
      "source": [
        "- 위 데이터에 결측치가 없도록 처리하였다. "
      ]
    },
    {
      "cell_type": "code",
      "metadata": {
        "id": "p3Imu1Y5v7xj",
        "colab_type": "code",
        "colab": {
          "base_uri": "https://localhost:8080/",
          "height": 35
        },
        "outputId": "6af4df52-cb4a-4137-8a35-0df3772fa6e2"
      },
      "source": [
        "check_fill_na(train_data)"
      ],
      "execution_count": 22,
      "outputs": [
        {
          "output_type": "execute_result",
          "data": {
            "text/plain": [
              "Series([], dtype: float64)"
            ]
          },
          "metadata": {
            "tags": []
          },
          "execution_count": 22
        }
      ]
    },
    {
      "cell_type": "markdown",
      "metadata": {
        "id": "7624RY5UwBL6",
        "colab_type": "text"
      },
      "source": [
        "### (4) 도출변수\n",
        "- `SilSp` + `Parch` 변수를 조합하여 혼자 여행을 온 것인지 아닌지 구분하는 도출 변수를 만든 후, 위 변수는 삭제 한다. "
      ]
    },
    {
      "cell_type": "code",
      "metadata": {
        "id": "ACYz7BWyv_ij",
        "colab_type": "code",
        "colab": {}
      },
      "source": [
        "## Create categorical variable for traveling alone\n",
        "train_data['TravelAlone']=np.where((train_data[\"SibSp\"]+train_data[\"Parch\"])>0, 0, 1)\n",
        "train_data.drop('SibSp', axis=1, inplace=True)\n",
        "train_data.drop('Parch', axis=1, inplace=True)"
      ],
      "execution_count": 23,
      "outputs": []
    },
    {
      "cell_type": "markdown",
      "metadata": {
        "id": "adwkoZzNwN6M",
        "colab_type": "text"
      },
      "source": [
        "- `Age`별 생존여부에 관한 그래프를 작성한다. "
      ]
    },
    {
      "cell_type": "code",
      "metadata": {
        "id": "ZgkTANUdwDf_",
        "colab_type": "code",
        "colab": {
          "base_uri": "https://localhost:8080/",
          "height": 502
        },
        "outputId": "fc812fb4-5ef3-443a-c12e-568fb2ad22ce"
      },
      "source": [
        "plt.figure(figsize=(20,8))\n",
        "avg_survival_byage = train_data[[\"Age\", \"Survived\"]].groupby(['Age'], as_index=False).mean()\n",
        "g = sns.barplot(x='Age', y='Survived', data=avg_survival_byage, color=\"LightSeaGreen\")\n",
        "plt.show()"
      ],
      "execution_count": 24,
      "outputs": [
        {
          "output_type": "display_data",
          "data": {
            "image/png": "[encoded data removed]",
            "text/plain": [
              "<Figure size 1440x576 with 1 Axes>"
            ]
          },
          "metadata": {
            "tags": []
          }
        }
      ]
    },
    {
      "cell_type": "markdown",
      "metadata": {
        "id": "xdhXoTfkwUyk",
        "colab_type": "text"
      },
      "source": [
        "- 그 후에 `under_age`에 대한 도출변수를 추가로 만든다. "
      ]
    },
    {
      "cell_type": "code",
      "metadata": {
        "id": "QtPQbiF0wRHM",
        "colab_type": "code",
        "colab": {}
      },
      "source": [
        "train_data['IsMinor']=np.where(train_data['Age']<=16, 1, 0)"
      ],
      "execution_count": 25,
      "outputs": []
    },
    {
      "cell_type": "markdown",
      "metadata": {
        "id": "uUbncnMtwXj4",
        "colab_type": "text"
      },
      "source": [
        "### (5) 원-핫 인코딩\n",
        "- 각 `Column` 특히, `문자형 변수`에 대해 원-핫 인코딩을 진행한다. "
      ]
    },
    {
      "cell_type": "code",
      "metadata": {
        "id": "Lv5PTScPwWvW",
        "colab_type": "code",
        "colab": {
          "base_uri": "https://localhost:8080/",
          "height": 359
        },
        "outputId": "91c857d4-597b-4d1f-8536-36a3f947c17e"
      },
      "source": [
        "#create categorical variables and drop some variables\n",
        "training=pd.get_dummies(train_data, columns=[\"Pclass\",\"Embarked\",\"Sex\"])\n",
        "training.drop('Sex_female', axis=1, inplace=True)\n",
        "training.drop('PassengerId', axis=1, inplace=True)\n",
        "training.drop('Name', axis=1, inplace=True)\n",
        "training.drop('Ticket', axis=1, inplace=True)\n",
        "\n",
        "final_train = training\n",
        "final_train.info()"
      ],
      "execution_count": 26,
      "outputs": [
        {
          "output_type": "stream",
          "text": [
            "<class 'pandas.core.frame.DataFrame'>\n",
            "RangeIndex: 891 entries, 0 to 890\n",
            "Data columns (total 12 columns):\n",
            " #   Column       Non-Null Count  Dtype  \n",
            "---  ------       --------------  -----  \n",
            " 0   Survived     891 non-null    int64  \n",
            " 1   Age          891 non-null    float64\n",
            " 2   Fare         891 non-null    float64\n",
            " 3   TravelAlone  891 non-null    int64  \n",
            " 4   IsMinor      891 non-null    int64  \n",
            " 5   Pclass_1     891 non-null    uint8  \n",
            " 6   Pclass_2     891 non-null    uint8  \n",
            " 7   Pclass_3     891 non-null    uint8  \n",
            " 8   Embarked_C   891 non-null    uint8  \n",
            " 9   Embarked_Q   891 non-null    uint8  \n",
            " 10  Embarked_S   891 non-null    uint8  \n",
            " 11  Sex_male     891 non-null    uint8  \n",
            "dtypes: float64(2), int64(3), uint8(7)\n",
            "memory usage: 41.0 KB\n"
          ],
          "name": "stdout"
        }
      ]
    },
    {
      "cell_type": "markdown",
      "metadata": {
        "id": "6htCSCcnwbEq",
        "colab_type": "text"
      },
      "source": [
        "- 위에 했던 작업을 동일하게 `test` 데이터에도 적용한다. "
      ]
    },
    {
      "cell_type": "code",
      "metadata": {
        "id": "DBmLaieUwZYQ",
        "colab_type": "code",
        "colab": {
          "base_uri": "https://localhost:8080/",
          "height": 341
        },
        "outputId": "c19a7e88-0876-4aa3-c0b2-0ffb83db2b39"
      },
      "source": [
        "test_data = df_test.copy()\n",
        "test_data[\"Age\"].fillna(df_test[\"Age\"].median(skipna=True), inplace=True)\n",
        "test_data[\"Fare\"].fillna(df_test[\"Fare\"].median(skipna=True), inplace=True)\n",
        "test_data.drop('Cabin', axis=1, inplace=True)\n",
        "\n",
        "test_data['TravelAlone']=np.where((test_data[\"SibSp\"]+test_data[\"Parch\"])>0, 0, 1)\n",
        "\n",
        "test_data.drop('SibSp', axis=1, inplace=True)\n",
        "test_data.drop('Parch', axis=1, inplace=True)\n",
        "\n",
        "test_data['IsMinor']=np.where(test_data['Age']<=16, 1, 0)\n",
        "\n",
        "testing = pd.get_dummies(test_data, columns=[\"Pclass\",\"Embarked\",\"Sex\"])\n",
        "testing.drop('Sex_female', axis=1, inplace=True)\n",
        "testing.drop('PassengerId', axis=1, inplace=True)\n",
        "testing.drop('Name', axis=1, inplace=True)\n",
        "testing.drop('Ticket', axis=1, inplace=True)\n",
        "\n",
        "final_test = testing\n",
        "final_test.info()"
      ],
      "execution_count": 27,
      "outputs": [
        {
          "output_type": "stream",
          "text": [
            "<class 'pandas.core.frame.DataFrame'>\n",
            "RangeIndex: 418 entries, 0 to 417\n",
            "Data columns (total 11 columns):\n",
            " #   Column       Non-Null Count  Dtype  \n",
            "---  ------       --------------  -----  \n",
            " 0   Age          418 non-null    float64\n",
            " 1   Fare         418 non-null    float64\n",
            " 2   TravelAlone  418 non-null    int64  \n",
            " 3   IsMinor      418 non-null    int64  \n",
            " 4   Pclass_1     418 non-null    uint8  \n",
            " 5   Pclass_2     418 non-null    uint8  \n",
            " 6   Pclass_3     418 non-null    uint8  \n",
            " 7   Embarked_C   418 non-null    uint8  \n",
            " 8   Embarked_Q   418 non-null    uint8  \n",
            " 9   Embarked_S   418 non-null    uint8  \n",
            " 10  Sex_male     418 non-null    uint8  \n",
            "dtypes: float64(2), int64(2), uint8(7)\n",
            "memory usage: 16.0 KB\n"
          ],
          "name": "stdout"
        }
      ]
    },
    {
      "cell_type": "markdown",
      "metadata": {
        "id": "VjpNaH-kwg8y",
        "colab_type": "text"
      },
      "source": [
        "### (6) 피처 선택 (Feature Selection)\n",
        "- Feature Selection을 통해 학습을 진행한다.\n",
        "  + 방법론: Recursive Feature Elimination (RFE)\n",
        "  + 참조: http://scikit-learn.org/stable/modules/feature_selection.html\n",
        "  + 목적, Backward 방식 중 하나로, 모든 변수를 우선 다 포함시킨 후 반복해서 학습을 진행하면서 중요도가 낮은 변수를 하나씩 제거하는 방식."
      ]
    },
    {
      "cell_type": "code",
      "metadata": {
        "id": "l7jIu1JOwcUm",
        "colab_type": "code",
        "colab": {
          "base_uri": "https://localhost:8080/",
          "height": 35
        },
        "outputId": "903f3159-a9e2-4251-88c7-0e3c3d41f9aa"
      },
      "source": [
        "from sklearn.linear_model import LogisticRegression\n",
        "from sklearn.feature_selection import RFE\n",
        "\n",
        "cols = [\"Age\",\"Fare\",\"TravelAlone\",\"Pclass_1\",\"Pclass_2\",\"Embarked_C\",\"Embarked_S\",\"Sex_male\",\"IsMinor\"] \n",
        "X = final_train[cols]\n",
        "y = final_train['Survived']\n",
        "model = LogisticRegression()\n",
        "rfe = RFE(model, 8) # 변수 8개만 선택\n",
        "rfe = rfe.fit(X, y)\n",
        "print('Selected features: %s' % list(X.columns[rfe.support_]))"
      ],
      "execution_count": 28,
      "outputs": [
        {
          "output_type": "stream",
          "text": [
            "Selected features: ['Age', 'TravelAlone', 'Pclass_1', 'Pclass_2', 'Embarked_C', 'Embarked_S', 'Sex_male', 'IsMinor']\n"
          ],
          "name": "stdout"
        }
      ]
    },
    {
      "cell_type": "markdown",
      "metadata": {
        "id": "hjS50jgEwlqo",
        "colab_type": "text"
      },
      "source": [
        "- 이번에는 변수의 갯수에 따라 `classification` 정확도를 시각화 하여 변수의 개수를 정해본다. "
      ]
    },
    {
      "cell_type": "code",
      "metadata": {
        "id": "ZBmCGU29wkG6",
        "colab_type": "code",
        "colab": {
          "base_uri": "https://localhost:8080/",
          "height": 430
        },
        "outputId": "603c210c-fd03-43f1-a858-110b92cfe369"
      },
      "source": [
        "from sklearn.feature_selection import RFECV\n",
        "rfecv = RFECV(estimator=LogisticRegression(), step=1, cv=10, scoring='accuracy')\n",
        "rfecv.fit(X, y)\n",
        "\n",
        "print(\"Optimal number of features: %d\" % rfecv.n_features_)\n",
        "print('Selected features: %s' % list(X.columns[rfecv.support_]))\n",
        "\n",
        "plt.figure(figsize=(10,6))\n",
        "plt.xlabel(\"Number of features selected\")\n",
        "plt.ylabel(\"Cross validation score (nb of correct classifications)\")\n",
        "plt.plot(range(1, len(rfecv.grid_scores_) + 1), rfecv.grid_scores_)\n",
        "plt.show()"
      ],
      "execution_count": 29,
      "outputs": [
        {
          "output_type": "stream",
          "text": [
            "Optimal number of features: 8\n",
            "Selected features: ['Age', 'TravelAlone', 'Pclass_1', 'Pclass_2', 'Embarked_C', 'Embarked_S', 'Sex_male', 'IsMinor']\n"
          ],
          "name": "stdout"
        },
        {
          "output_type": "display_data",
          "data": {
            "image/png": "[encoded data removed]",
            "text/plain": [
              "<Figure size 720x432 with 1 Axes>"
            ]
          },
          "metadata": {
            "tags": []
          }
        }
      ]
    },
    {
      "cell_type": "markdown",
      "metadata": {
        "id": "weIs8BH7w922",
        "colab_type": "text"
      },
      "source": [
        "- 해당 주요 변수를 `Selected_features`로 저장한다."
      ]
    },
    {
      "cell_type": "code",
      "metadata": {
        "id": "ij7-yj9dwnrU",
        "colab_type": "code",
        "colab": {}
      },
      "source": [
        "Selected_features = ['Age', 'TravelAlone', 'Pclass_1', 'Pclass_2', 'Embarked_C', \n",
        "                     'Embarked_S', 'Sex_male', 'IsMinor']"
      ],
      "execution_count": 30,
      "outputs": []
    },
    {
      "cell_type": "markdown",
      "metadata": {
        "id": "Kr1tNLX_xAQN",
        "colab_type": "text"
      },
      "source": [
        "## III. 머신러닝\n",
        "- 로지스틱 회귀모형을 통해 머신러닝을 수행한다. \n"
      ]
    },
    {
      "cell_type": "markdown",
      "metadata": {
        "id": "lZ345t1gxCRx",
        "colab_type": "text"
      },
      "source": [
        "### (1) 머신러닝 모형 개발\n",
        "- 데이터셋 분리 부터 모형 개발까지 진행해본다. "
      ]
    },
    {
      "cell_type": "code",
      "metadata": {
        "id": "sM58yz36w_Ue",
        "colab_type": "code",
        "colab": {
          "base_uri": "https://localhost:8080/",
          "height": 392
        },
        "outputId": "121102db-a277-4a71-8c72-df35d6ff1d2a"
      },
      "source": [
        "from sklearn.model_selection import train_test_split, cross_val_score\n",
        "from sklearn.metrics import accuracy_score, classification_report, precision_score, recall_score \n",
        "from sklearn.metrics import confusion_matrix, precision_recall_curve, roc_curve, auc, log_loss\n",
        "\n",
        "# 데이터 셋 분리 \n",
        "X = final_train[Selected_features]\n",
        "y = final_train['Survived']\n",
        "\n",
        "X_train, X_test, y_train, y_test = train_test_split(X, y, test_size=0.2, random_state=2)\n",
        "\n",
        "# 로지스틱 회귀모형\n",
        "logreg = LogisticRegression()\n",
        "logreg.fit(X_train, y_train)\n",
        "y_pred = logreg.predict(X_test)\n",
        "y_pred_proba = logreg.predict_proba(X_test)[:, 1]\n",
        "[fpr, tpr, thr] = roc_curve(y_test, y_pred_proba)\n",
        "print('Train/Test split results:')\n",
        "print(logreg.__class__.__name__+\" accuracy is %2.3f\" % accuracy_score(y_test, y_pred))\n",
        "print(logreg.__class__.__name__+\" log_loss is %2.3f\" % log_loss(y_test, y_pred_proba))\n",
        "print(logreg.__class__.__name__+\" auc is %2.3f\" % auc(fpr, tpr))\n",
        "\n",
        "idx = np.min(np.where(tpr > 0.95)) # threshold \n",
        "\n",
        "plt.figure()\n",
        "plt.plot(fpr, tpr, color='coral', label='ROC curve (area = %0.3f)' % auc(fpr, tpr))\n",
        "plt.plot([0, 1], [0, 1], 'k--')\n",
        "plt.plot([0,fpr[idx]], [tpr[idx],tpr[idx]], 'k--', color='blue')\n",
        "plt.plot([fpr[idx],fpr[idx]], [0,tpr[idx]], 'k--', color='blue')\n",
        "plt.xlim([0.0, 1.0])\n",
        "plt.ylim([0.0, 1.05])\n",
        "plt.xlabel('False Positive Rate (1 - specificity)', fontsize=14)\n",
        "plt.ylabel('True Positive Rate (recall)', fontsize=14)\n",
        "plt.title('Receiver operating characteristic (ROC) curve')\n",
        "plt.legend(loc=\"lower right\")\n",
        "plt.show()\n",
        "\n",
        "print(\"Using a threshold of %.3f \" % thr[idx] + \"guarantees a sensitivity of %.3f \" % tpr[idx] +  \n",
        "      \"and a specificity of %.3f\" % (1-fpr[idx]) + \n",
        "      \", i.e. a false positive rate of %.2f%%.\" % (np.array(fpr[idx])*100))"
      ],
      "execution_count": 31,
      "outputs": [
        {
          "output_type": "stream",
          "text": [
            "Train/Test split results:\n",
            "LogisticRegression accuracy is 0.799\n",
            "LogisticRegression log_loss is 0.460\n",
            "LogisticRegression auc is 0.852\n"
          ],
          "name": "stdout"
        },
        {
          "output_type": "display_data",
          "data": {
            "image/png": "[encoded data removed]",
            "text/plain": [
              "<Figure size 432x288 with 1 Axes>"
            ]
          },
          "metadata": {
            "tags": []
          }
        },
        {
          "output_type": "stream",
          "text": [
            "Using a threshold of 0.086 guarantees a sensitivity of 0.959 and a specificity of 0.226, i.e. a false positive rate of 77.36%.\n"
          ],
          "name": "stdout"
        }
      ]
    },
    {
      "cell_type": "markdown",
      "metadata": {
        "id": "0run_9EJxH4v",
        "colab_type": "text"
      },
      "source": [
        "- Using a threshold of 0.086 guarantees a sensitivity of 0.959 and a specificity of 0.226, i.e. a false positive rate of 77.36%.\n",
        "\n",
        "- Using a threshold of 0.672 guarantees a sensitivity of 0.521 and a specificity of 0.953, i.e. a false positive rate of 4.72%."
      ]
    },
    {
      "cell_type": "markdown",
      "metadata": {
        "id": "fn4BjCtNxLcp",
        "colab_type": "text"
      },
      "source": [
        "### (2) 예측 테이블 생성\n",
        "- 예측 테이블을 만들어 제출한다. "
      ]
    },
    {
      "cell_type": "code",
      "metadata": {
        "id": "qEEBW5p3xF1x",
        "colab_type": "code",
        "colab": {
          "base_uri": "https://localhost:8080/",
          "height": 125
        },
        "outputId": "f93adbbd-c137-4b64-c8b4-410b1978f4cd"
      },
      "source": [
        "final_test['Survived'] = logreg.predict(final_test[Selected_features])\n",
        "final_test['PassengerId'] = df_test['PassengerId']\n",
        "submission = final_test[['PassengerId','Survived']]\n",
        "submission.to_csv(\"submission.csv\", index=False)\n",
        "print(submission.tail())"
      ],
      "execution_count": 32,
      "outputs": [
        {
          "output_type": "stream",
          "text": [
            "     PassengerId  Survived\n",
            "413         1043         0\n",
            "414         1101         0\n",
            "415         1157         0\n",
            "416         1187         0\n",
            "417         1226         0\n"
          ],
          "name": "stdout"
        }
      ]
    },
    {
      "cell_type": "code",
      "metadata": {
        "id": "-tDjWNiBxNhQ",
        "colab_type": "code",
        "colab": {}
      },
      "source": [
        ""
      ],
      "execution_count": 32,
      "outputs": []
    }
  ]
}