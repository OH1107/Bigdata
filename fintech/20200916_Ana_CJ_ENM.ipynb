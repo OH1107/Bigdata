{
  "nbformat": 4,
  "nbformat_minor": 0,
  "metadata": {
    "kernelspec": {
      "display_name": "Python 3",
      "language": "python",
      "name": "python3"
    },
    "language_info": {
      "codemirror_mode": {
        "name": "ipython",
        "version": 3
      },
      "file_extension": ".py",
      "mimetype": "text/x-python",
      "name": "python",
      "nbconvert_exporter": "python",
      "pygments_lexer": "ipython3",
      "version": "3.8.3"
    },
    "colab": {
      "name": "20200916_AnaCJ_ENM.ipynb",
      "provenance": [],
      "include_colab_link": true
    }
  },
  "cells": [
    {
      "cell_type": "markdown",
      "metadata": {
        "id": "view-in-github",
        "colab_type": "text"
      },
      "source": [
        "<a href=\"https://colab.research.google.com/github/OH1107/edu/blob/master/fintech/20200916_Ana_CJ_ENM.ipynb\" target=\"_parent\"><img src=\"https://colab.research.google.com/assets/colab-badge.svg\" alt=\"Open In Colab\"/></a>"
      ]
    },
    {
      "cell_type": "code",
      "metadata": {
        "id": "bth6bx4CE1DK",
        "colab_type": "code",
        "colab": {}
      },
      "source": [
        "import sqlite3 \n",
        "import numpy as np\n",
        "import pandas as pd\n",
        "import matplotlib as mpl\n",
        "import matplotlib.pyplot as plt\n",
        "import matplotlib.font_manager as fm\n",
        "fname=fm.FontProperties(fname='malgun.ttf').get_name()\n",
        "mpl.rc('font',family=fname)\n",
        "import matplotlib.gridspec as gridspec"
      ],
      "execution_count": null,
      "outputs": []
    },
    {
      "cell_type": "code",
      "metadata": {
        "id": "QOnVH9oIE1DO",
        "colab_type": "code",
        "colab": {}
      },
      "source": [
        "dbname='NaverStock.db'\n",
        "def selData(whr=' where SIDX=0'):\n",
        "    with sqlite3.connect(dbname) as conn:\n",
        "        cur=conn.cursor()\n",
        "        sql='select SDAY,OPENP,HIGHP,LOWP,CLOSEP,VOL from StockDay '+whr\n",
        "        cur.execute(sql)\n",
        "        rows=cur.fetchall()\n",
        "        cur.close()\n",
        "    return rows"
      ],
      "execution_count": null,
      "outputs": []
    },
    {
      "cell_type": "code",
      "metadata": {
        "id": "GQC6UUKTE1DQ",
        "colab_type": "code",
        "colab": {},
        "outputId": "ce941985-4a55-4e07-9446-70ccfe6e83b2"
      },
      "source": [
        "whr='where SDAY>20200101 and SCODE=\"028150\" order by SDAY  asc limit 250'\n",
        "res=selData(whr)\n",
        "cols=['SDAY','OPENP','HIGHP','LOWP','CLOSEP','VOL']\n",
        "dfgs=pd.DataFrame(data=res,columns=cols)\n",
        "dfgs.head()"
      ],
      "execution_count": null,
      "outputs": [
        {
          "output_type": "execute_result",
          "data": {
            "text/html": [
              "<div>\n",
              "<style scoped>\n",
              "    .dataframe tbody tr th:only-of-type {\n",
              "        vertical-align: middle;\n",
              "    }\n",
              "\n",
              "    .dataframe tbody tr th {\n",
              "        vertical-align: top;\n",
              "    }\n",
              "\n",
              "    .dataframe thead th {\n",
              "        text-align: right;\n",
              "    }\n",
              "</style>\n",
              "<table border=\"1\" class=\"dataframe\">\n",
              "  <thead>\n",
              "    <tr style=\"text-align: right;\">\n",
              "      <th></th>\n",
              "      <th>SDAY</th>\n",
              "      <th>OPENP</th>\n",
              "      <th>HIGHP</th>\n",
              "      <th>LOWP</th>\n",
              "      <th>CLOSEP</th>\n",
              "      <th>VOL</th>\n",
              "    </tr>\n",
              "  </thead>\n",
              "  <tbody>\n",
              "    <tr>\n",
              "      <th>0</th>\n",
              "      <td>20200102</td>\n",
              "      <td>148600</td>\n",
              "      <td>148600</td>\n",
              "      <td>146400</td>\n",
              "      <td>146500</td>\n",
              "      <td>14920</td>\n",
              "    </tr>\n",
              "    <tr>\n",
              "      <th>1</th>\n",
              "      <td>20200103</td>\n",
              "      <td>148200</td>\n",
              "      <td>148200</td>\n",
              "      <td>145800</td>\n",
              "      <td>145800</td>\n",
              "      <td>16373</td>\n",
              "    </tr>\n",
              "    <tr>\n",
              "      <th>2</th>\n",
              "      <td>20200106</td>\n",
              "      <td>145700</td>\n",
              "      <td>146400</td>\n",
              "      <td>143000</td>\n",
              "      <td>143000</td>\n",
              "      <td>16978</td>\n",
              "    </tr>\n",
              "    <tr>\n",
              "      <th>3</th>\n",
              "      <td>20200107</td>\n",
              "      <td>142700</td>\n",
              "      <td>144400</td>\n",
              "      <td>141200</td>\n",
              "      <td>142000</td>\n",
              "      <td>12613</td>\n",
              "    </tr>\n",
              "    <tr>\n",
              "      <th>4</th>\n",
              "      <td>20200108</td>\n",
              "      <td>141800</td>\n",
              "      <td>141800</td>\n",
              "      <td>138100</td>\n",
              "      <td>139400</td>\n",
              "      <td>21254</td>\n",
              "    </tr>\n",
              "  </tbody>\n",
              "</table>\n",
              "</div>"
            ],
            "text/plain": [
              "       SDAY   OPENP   HIGHP    LOWP  CLOSEP    VOL\n",
              "0  20200102  148600  148600  146400  146500  14920\n",
              "1  20200103  148200  148200  145800  145800  16373\n",
              "2  20200106  145700  146400  143000  143000  16978\n",
              "3  20200107  142700  144400  141200  142000  12613\n",
              "4  20200108  141800  141800  138100  139400  21254"
            ]
          },
          "metadata": {
            "tags": []
          },
          "execution_count": 30
        }
      ]
    },
    {
      "cell_type": "code",
      "metadata": {
        "id": "ryme-RUbE1DU",
        "colab_type": "code",
        "colab": {},
        "outputId": "459ce027-7449-4a19-c9cf-8bde6dc184a1"
      },
      "source": [
        "whr='where SDAY>20200101 and SCODE=\"035760\" order by SDAY  asc limit 250'\n",
        "res=selData(whr)\n",
        "cols=['SDAY','OPENP','HIGHP','LOWP','CLOSEP','VOL']\n",
        "df=pd.DataFrame(data=res,columns=cols)\n",
        "df.head()"
      ],
      "execution_count": null,
      "outputs": [
        {
          "output_type": "execute_result",
          "data": {
            "text/html": [
              "<div>\n",
              "<style scoped>\n",
              "    .dataframe tbody tr th:only-of-type {\n",
              "        vertical-align: middle;\n",
              "    }\n",
              "\n",
              "    .dataframe tbody tr th {\n",
              "        vertical-align: top;\n",
              "    }\n",
              "\n",
              "    .dataframe thead th {\n",
              "        text-align: right;\n",
              "    }\n",
              "</style>\n",
              "<table border=\"1\" class=\"dataframe\">\n",
              "  <thead>\n",
              "    <tr style=\"text-align: right;\">\n",
              "      <th></th>\n",
              "      <th>SDAY</th>\n",
              "      <th>OPENP</th>\n",
              "      <th>HIGHP</th>\n",
              "      <th>LOWP</th>\n",
              "      <th>CLOSEP</th>\n",
              "      <th>VOL</th>\n",
              "    </tr>\n",
              "  </thead>\n",
              "  <tbody>\n",
              "    <tr>\n",
              "      <th>0</th>\n",
              "      <td>20200102</td>\n",
              "      <td>159300</td>\n",
              "      <td>159400</td>\n",
              "      <td>151000</td>\n",
              "      <td>155600</td>\n",
              "      <td>125376</td>\n",
              "    </tr>\n",
              "    <tr>\n",
              "      <th>1</th>\n",
              "      <td>20200103</td>\n",
              "      <td>155800</td>\n",
              "      <td>157500</td>\n",
              "      <td>153100</td>\n",
              "      <td>154700</td>\n",
              "      <td>98855</td>\n",
              "    </tr>\n",
              "    <tr>\n",
              "      <th>2</th>\n",
              "      <td>20200106</td>\n",
              "      <td>153000</td>\n",
              "      <td>153900</td>\n",
              "      <td>150200</td>\n",
              "      <td>150200</td>\n",
              "      <td>78272</td>\n",
              "    </tr>\n",
              "    <tr>\n",
              "      <th>3</th>\n",
              "      <td>20200107</td>\n",
              "      <td>150300</td>\n",
              "      <td>154600</td>\n",
              "      <td>150300</td>\n",
              "      <td>154600</td>\n",
              "      <td>65431</td>\n",
              "    </tr>\n",
              "    <tr>\n",
              "      <th>4</th>\n",
              "      <td>20200108</td>\n",
              "      <td>152700</td>\n",
              "      <td>153200</td>\n",
              "      <td>150700</td>\n",
              "      <td>151300</td>\n",
              "      <td>75841</td>\n",
              "    </tr>\n",
              "  </tbody>\n",
              "</table>\n",
              "</div>"
            ],
            "text/plain": [
              "       SDAY   OPENP   HIGHP    LOWP  CLOSEP     VOL\n",
              "0  20200102  159300  159400  151000  155600  125376\n",
              "1  20200103  155800  157500  153100  154700   98855\n",
              "2  20200106  153000  153900  150200  150200   78272\n",
              "3  20200107  150300  154600  150300  154600   65431\n",
              "4  20200108  152700  153200  150700  151300   75841"
            ]
          },
          "metadata": {
            "tags": []
          },
          "execution_count": 3
        }
      ]
    },
    {
      "cell_type": "code",
      "metadata": {
        "id": "woKBVz46E1DY",
        "colab_type": "code",
        "colab": {},
        "outputId": "de294fa5-1594-46d1-8b0c-3e1895722dc9"
      },
      "source": [
        "sels=['CLOSEP','OPENP']\n",
        "df[sels].plot()\n",
        "#plt.xlim(50,75)\n",
        "#plt.ylim(50000,70000)\n",
        "plt.show()"
      ],
      "execution_count": null,
      "outputs": [
        {
          "output_type": "display_data",
          "data": {
            "image/png": "[encoded data removed]",
            "text/plain": [
              "<Figure size 432x288 with 1 Axes>"
            ]
          },
          "metadata": {
            "tags": [],
            "needs_background": "light"
          }
        }
      ]
    },
    {
      "cell_type": "markdown",
      "metadata": {
        "id": "5r1z7wS3E1Df",
        "colab_type": "text"
      },
      "source": [
        "# 이동평균선\n",
        "* 주가 기술분석\n",
        "* 단기 이평선(5일 이평선) 장기 이평선(30일 이평선)을 설정\n",
        "* 장단기 이평선을 분석\n",
        "* 골든크로스 (단기 이평선이 장기 이평선을 아래서 위로 통과)\n",
        "* 데드크로스 (단기 이평선이 장기 이평선을 위에서 아래로 통과)\n",
        "* 마케팅의 시장평가 지점을 지정"
      ]
    },
    {
      "cell_type": "code",
      "metadata": {
        "id": "zGtXPfJ7E1Df",
        "colab_type": "code",
        "colab": {}
      },
      "source": [
        "def makeMV(baseday=5,basedata=df['CLOSEP']):\n",
        "    res=[]\n",
        "    # 초기화 하기\n",
        "    for i in range(baseday-1):\n",
        "        res.append(0)\n",
        "    # 이동평균 데이터 만들기\n",
        "    n=len(basedata)-(baseday-1)\n",
        "    print(\"총 데이터수:\",len(basedata),\"초기화 안되고 채워야할 부분:\",n)\n",
        "    for i in range(n):\n",
        "        mvdata=np.average(basedata[i:i+baseday])\n",
        "        res.append(mvdata)\n",
        "    return res\n"
      ],
      "execution_count": null,
      "outputs": []
    },
    {
      "cell_type": "code",
      "metadata": {
        "id": "NPMRKU6qE1Di",
        "colab_type": "code",
        "colab": {},
        "outputId": "be66c292-79c8-4c3b-f053-e8c366851701"
      },
      "source": [
        "df['MV5']=makeMV(5)\n",
        "df['MV30']=makeMV(30)\n",
        "df['gsClose']=dfgs['CLOSEP']\n",
        "df.head()"
      ],
      "execution_count": null,
      "outputs": [
        {
          "output_type": "stream",
          "text": [
            "총 데이터수: 178 초기화 안되고 채워야할 부분: 174\n",
            "총 데이터수: 178 초기화 안되고 채워야할 부분: 149\n"
          ],
          "name": "stdout"
        },
        {
          "output_type": "execute_result",
          "data": {
            "text/html": [
              "<div>\n",
              "<style scoped>\n",
              "    .dataframe tbody tr th:only-of-type {\n",
              "        vertical-align: middle;\n",
              "    }\n",
              "\n",
              "    .dataframe tbody tr th {\n",
              "        vertical-align: top;\n",
              "    }\n",
              "\n",
              "    .dataframe thead th {\n",
              "        text-align: right;\n",
              "    }\n",
              "</style>\n",
              "<table border=\"1\" class=\"dataframe\">\n",
              "  <thead>\n",
              "    <tr style=\"text-align: right;\">\n",
              "      <th></th>\n",
              "      <th>SDAY</th>\n",
              "      <th>OPENP</th>\n",
              "      <th>HIGHP</th>\n",
              "      <th>LOWP</th>\n",
              "      <th>CLOSEP</th>\n",
              "      <th>VOL</th>\n",
              "      <th>MV5</th>\n",
              "      <th>MV30</th>\n",
              "      <th>gsClose</th>\n",
              "    </tr>\n",
              "  </thead>\n",
              "  <tbody>\n",
              "    <tr>\n",
              "      <th>0</th>\n",
              "      <td>20200102</td>\n",
              "      <td>159300</td>\n",
              "      <td>159400</td>\n",
              "      <td>151000</td>\n",
              "      <td>155600</td>\n",
              "      <td>125376</td>\n",
              "      <td>0.0</td>\n",
              "      <td>0.0</td>\n",
              "      <td>146500</td>\n",
              "    </tr>\n",
              "    <tr>\n",
              "      <th>1</th>\n",
              "      <td>20200103</td>\n",
              "      <td>155800</td>\n",
              "      <td>157500</td>\n",
              "      <td>153100</td>\n",
              "      <td>154700</td>\n",
              "      <td>98855</td>\n",
              "      <td>0.0</td>\n",
              "      <td>0.0</td>\n",
              "      <td>145800</td>\n",
              "    </tr>\n",
              "    <tr>\n",
              "      <th>2</th>\n",
              "      <td>20200106</td>\n",
              "      <td>153000</td>\n",
              "      <td>153900</td>\n",
              "      <td>150200</td>\n",
              "      <td>150200</td>\n",
              "      <td>78272</td>\n",
              "      <td>0.0</td>\n",
              "      <td>0.0</td>\n",
              "      <td>143000</td>\n",
              "    </tr>\n",
              "    <tr>\n",
              "      <th>3</th>\n",
              "      <td>20200107</td>\n",
              "      <td>150300</td>\n",
              "      <td>154600</td>\n",
              "      <td>150300</td>\n",
              "      <td>154600</td>\n",
              "      <td>65431</td>\n",
              "      <td>0.0</td>\n",
              "      <td>0.0</td>\n",
              "      <td>142000</td>\n",
              "    </tr>\n",
              "    <tr>\n",
              "      <th>4</th>\n",
              "      <td>20200108</td>\n",
              "      <td>152700</td>\n",
              "      <td>153200</td>\n",
              "      <td>150700</td>\n",
              "      <td>151300</td>\n",
              "      <td>75841</td>\n",
              "      <td>153280.0</td>\n",
              "      <td>0.0</td>\n",
              "      <td>139400</td>\n",
              "    </tr>\n",
              "  </tbody>\n",
              "</table>\n",
              "</div>"
            ],
            "text/plain": [
              "       SDAY   OPENP   HIGHP    LOWP  CLOSEP     VOL       MV5  MV30  gsClose\n",
              "0  20200102  159300  159400  151000  155600  125376       0.0   0.0   146500\n",
              "1  20200103  155800  157500  153100  154700   98855       0.0   0.0   145800\n",
              "2  20200106  153000  153900  150200  150200   78272       0.0   0.0   143000\n",
              "3  20200107  150300  154600  150300  154600   65431       0.0   0.0   142000\n",
              "4  20200108  152700  153200  150700  151300   75841  153280.0   0.0   139400"
            ]
          },
          "metadata": {
            "tags": []
          },
          "execution_count": 31
        }
      ]
    },
    {
      "cell_type": "markdown",
      "metadata": {
        "id": "mBdbvhbPE1Dm",
        "colab_type": "text"
      },
      "source": [
        "# 경쟁사 분석\n",
        "* 동종 유사 주가의 경쟁사 분석을 통해 시장기준 주가 분석"
      ]
    },
    {
      "cell_type": "code",
      "metadata": {
        "id": "mafwQpBVE1Dn",
        "colab_type": "code",
        "colab": {},
        "outputId": "ad42d27e-3f70-4e38-f46b-9165fdbfb199"
      },
      "source": [
        "df[['CLOSEP','gsClose']].plot()\n",
        "#plt.xlim(0,10)\n",
        "#plt.ylim(150000,170000)\n",
        "plt.legend()\n",
        "plt.show()"
      ],
      "execution_count": null,
      "outputs": [
        {
          "output_type": "display_data",
          "data": {
            "image/png": "[encoded data removed]",
            "text/plain": [
              "<Figure size 432x288 with 1 Axes>"
            ]
          },
          "metadata": {
            "tags": [],
            "needs_background": "light"
          }
        }
      ]
    },
    {
      "cell_type": "markdown",
      "metadata": {
        "id": "yw5a7dirE1Dp",
        "colab_type": "text"
      },
      "source": [
        "### 장단기 크로스 포인트 분석\n",
        "* 주가 장단기 이평선에 관한 크로스 포인트 분석\n",
        "* 이를 통해 시장에 반영된 마케팅 기준선을 부여"
      ]
    },
    {
      "cell_type": "code",
      "metadata": {
        "id": "ay0y61fsE1Dq",
        "colab_type": "code",
        "colab": {},
        "outputId": "c027c131-9e01-4107-9065-5cdfc2091d07"
      },
      "source": [
        "df[['MV5','MV30']].plot()\n",
        "#plt.xlim(0,10)\n",
        "#plt.ylim(150000,170000)\n",
        "plt.legend()\n",
        "plt.show()"
      ],
      "execution_count": null,
      "outputs": [
        {
          "output_type": "display_data",
          "data": {
            "image/png": "[encoded data removed]",
            "text/plain": [
              "<Figure size 432x288 with 1 Axes>"
            ]
          },
          "metadata": {
            "tags": [],
            "needs_background": "light"
          }
        }
      ]
    },
    {
      "cell_type": "code",
      "metadata": {
        "collapsed": true,
        "jupyter": {
          "outputs_hidden": true
        },
        "id": "tRzjzqLJE1Du",
        "colab_type": "code",
        "colab": {},
        "outputId": "0164c7ba-7492-456b-8083-943ae309eea5"
      },
      "source": [
        "short=df['MV5']\n",
        "long=df['MV30']\n",
        "res=[]\n",
        "longday=30\n",
        "for i in range(longday):\n",
        "    res.append(0)\n",
        "    \n",
        "for i in range(longday,len(short)):\n",
        "    if(short[i]>long[i]):\n",
        "        res.append(1)\n",
        "    else:\n",
        "        res.append(-1)\n",
        "df['holdPos']=res\n",
        "df.head()\n"
      ],
      "execution_count": null,
      "outputs": [
        {
          "output_type": "execute_result",
          "data": {
            "text/html": [
              "<div>\n",
              "<style scoped>\n",
              "    .dataframe tbody tr th:only-of-type {\n",
              "        vertical-align: middle;\n",
              "    }\n",
              "\n",
              "    .dataframe tbody tr th {\n",
              "        vertical-align: top;\n",
              "    }\n",
              "\n",
              "    .dataframe thead th {\n",
              "        text-align: right;\n",
              "    }\n",
              "</style>\n",
              "<table border=\"1\" class=\"dataframe\">\n",
              "  <thead>\n",
              "    <tr style=\"text-align: right;\">\n",
              "      <th></th>\n",
              "      <th>SDAY</th>\n",
              "      <th>OPENP</th>\n",
              "      <th>HIGHP</th>\n",
              "      <th>LOWP</th>\n",
              "      <th>CLOSEP</th>\n",
              "      <th>VOL</th>\n",
              "      <th>MV5</th>\n",
              "      <th>MV30</th>\n",
              "      <th>gsClose</th>\n",
              "      <th>holdPos</th>\n",
              "    </tr>\n",
              "  </thead>\n",
              "  <tbody>\n",
              "    <tr>\n",
              "      <th>0</th>\n",
              "      <td>20200102</td>\n",
              "      <td>159300</td>\n",
              "      <td>159400</td>\n",
              "      <td>151000</td>\n",
              "      <td>155600</td>\n",
              "      <td>125376</td>\n",
              "      <td>0.0</td>\n",
              "      <td>0.0</td>\n",
              "      <td>146500</td>\n",
              "      <td>0</td>\n",
              "    </tr>\n",
              "    <tr>\n",
              "      <th>1</th>\n",
              "      <td>20200103</td>\n",
              "      <td>155800</td>\n",
              "      <td>157500</td>\n",
              "      <td>153100</td>\n",
              "      <td>154700</td>\n",
              "      <td>98855</td>\n",
              "      <td>0.0</td>\n",
              "      <td>0.0</td>\n",
              "      <td>145800</td>\n",
              "      <td>0</td>\n",
              "    </tr>\n",
              "    <tr>\n",
              "      <th>2</th>\n",
              "      <td>20200106</td>\n",
              "      <td>153000</td>\n",
              "      <td>153900</td>\n",
              "      <td>150200</td>\n",
              "      <td>150200</td>\n",
              "      <td>78272</td>\n",
              "      <td>0.0</td>\n",
              "      <td>0.0</td>\n",
              "      <td>143000</td>\n",
              "      <td>0</td>\n",
              "    </tr>\n",
              "    <tr>\n",
              "      <th>3</th>\n",
              "      <td>20200107</td>\n",
              "      <td>150300</td>\n",
              "      <td>154600</td>\n",
              "      <td>150300</td>\n",
              "      <td>154600</td>\n",
              "      <td>65431</td>\n",
              "      <td>0.0</td>\n",
              "      <td>0.0</td>\n",
              "      <td>142000</td>\n",
              "      <td>0</td>\n",
              "    </tr>\n",
              "    <tr>\n",
              "      <th>4</th>\n",
              "      <td>20200108</td>\n",
              "      <td>152700</td>\n",
              "      <td>153200</td>\n",
              "      <td>150700</td>\n",
              "      <td>151300</td>\n",
              "      <td>75841</td>\n",
              "      <td>153280.0</td>\n",
              "      <td>0.0</td>\n",
              "      <td>139400</td>\n",
              "      <td>0</td>\n",
              "    </tr>\n",
              "  </tbody>\n",
              "</table>\n",
              "</div>"
            ],
            "text/plain": [
              "       SDAY   OPENP   HIGHP    LOWP  CLOSEP     VOL       MV5  MV30  gsClose  \\\n",
              "0  20200102  159300  159400  151000  155600  125376       0.0   0.0   146500   \n",
              "1  20200103  155800  157500  153100  154700   98855       0.0   0.0   145800   \n",
              "2  20200106  153000  153900  150200  150200   78272       0.0   0.0   143000   \n",
              "3  20200107  150300  154600  150300  154600   65431       0.0   0.0   142000   \n",
              "4  20200108  152700  153200  150700  151300   75841  153280.0   0.0   139400   \n",
              "\n",
              "   holdPos  \n",
              "0        0  \n",
              "1        0  \n",
              "2        0  \n",
              "3        0  \n",
              "4        0  "
            ]
          },
          "metadata": {
            "tags": []
          },
          "execution_count": 55
        }
      ]
    },
    {
      "cell_type": "code",
      "metadata": {
        "collapsed": true,
        "jupyter": {
          "outputs_hidden": true
        },
        "id": "YW1LrrelE1Dx",
        "colab_type": "code",
        "colab": {},
        "outputId": "3ebbabb9-6a05-45f3-877b-707892744efb"
      },
      "source": [
        "plt.plot(res)"
      ],
      "execution_count": null,
      "outputs": [
        {
          "output_type": "execute_result",
          "data": {
            "text/plain": [
              "[<matplotlib.lines.Line2D at 0x206b8ca39d0>]"
            ]
          },
          "metadata": {
            "tags": []
          },
          "execution_count": 56
        },
        {
          "output_type": "display_data",
          "data": {
            "image/png": "[encoded data removed]",
            "text/plain": [
              "<Figure size 432x288 with 1 Axes>"
            ]
          },
          "metadata": {
            "tags": [],
            "needs_background": "light"
          }
        }
      ]
    },
    {
      "cell_type": "markdown",
      "metadata": {
        "id": "7tZwLK4EE1D0",
        "colab_type": "text"
      },
      "source": [
        "#### 성장동력과 크로스포인트와의 관계\n",
        "* 단기 성장성(성장비율)과 장단기 주가 모멘텀 분석\n",
        "* 실질적 주가에 영향을 주는 마케팅 포인트 지점 획득"
      ]
    },
    {
      "cell_type": "code",
      "metadata": {
        "id": "mqmlz9fpE1D0",
        "colab_type": "code",
        "colab": {},
        "outputId": "11b8216e-f35d-4af1-fd46-82f27312c694"
      },
      "source": [
        "baseData=df['MV5']\n",
        "res=[1]\n",
        "for i in range(1,len(baseData)):\n",
        "    c=((baseData[i]/baseData[i-1])-1)*20\n",
        "    res.append(c)\n",
        "df['holdPos'].plot()\n",
        "plt.plot(res)\n",
        "plt.plot([0,175],[0,0])\n",
        "plt.xlim(30,175)\n",
        "plt.ylim(-2,2)\n",
        "plt.show()"
      ],
      "execution_count": null,
      "outputs": [
        {
          "output_type": "stream",
          "text": [
            "<ipython-input-71-d6d3f36f37c5>:4: RuntimeWarning: invalid value encountered in double_scalars\n",
            "  c=((baseData[i]/baseData[i-1])-1)*20\n",
            "<ipython-input-71-d6d3f36f37c5>:4: RuntimeWarning: divide by zero encountered in double_scalars\n",
            "  c=((baseData[i]/baseData[i-1])-1)*20\n"
          ],
          "name": "stderr"
        },
        {
          "output_type": "display_data",
          "data": {
            "image/png": "[encoded data removed]",
            "text/plain": [
              "<Figure size 432x288 with 1 Axes>"
            ]
          },
          "metadata": {
            "tags": [],
            "needs_background": "light"
          }
        }
      ]
    },
    {
      "cell_type": "markdown",
      "metadata": {
        "id": "tvyUe72rE1D3",
        "colab_type": "text"
      },
      "source": [
        "### 캔들차트 분석\n",
        "* 시가 고가 저가 종가 를 분석하여 마케팅의 적시적 효과를 보기 위함"
      ]
    },
    {
      "cell_type": "markdown",
      "metadata": {
        "id": "KAMkZzJUFCci",
        "colab_type": "text"
      },
      "source": [
        "![캔들차트.png](data:image/png;base64,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)"
      ]
    },
    {
      "cell_type": "code",
      "metadata": {
        "jupyter": {
          "outputs_hidden": true
        },
        "id": "WjpU4fdKE1D3",
        "colab_type": "code",
        "colab": {}
      },
      "source": [
        "#1.\n",
        "!pip install mplfinance\n",
        "#2.\n",
        "!pip install mpl_finance\n",
        "!pip install --upgrade mplfinance"
      ],
      "execution_count": null,
      "outputs": []
    },
    {
      "cell_type": "code",
      "metadata": {
        "id": "7OeQJarTE1D6",
        "colab_type": "code",
        "colab": {}
      },
      "source": [
        "from mpl_finance import candlestick_ohlc"
      ],
      "execution_count": null,
      "outputs": []
    },
    {
      "cell_type": "code",
      "metadata": {
        "jupyter": {
          "outputs_hidden": true
        },
        "id": "7X2xt5PIE1D-",
        "colab_type": "code",
        "colab": {},
        "outputId": "7b2935d9-42ba-47f5-d794-3b190bcd2740"
      },
      "source": [
        "#OPENP\tHIGHP\tLOWP\tCLOSEP\tVOL\t\n",
        "lMin=70\n",
        "lMax=120\n",
        "cols=['OPENP','HIGHP','LOWP','CLOSEP']\n",
        "cdata=df[cols].values[lMin:lMax]\n",
        "voldata=df['VOL'].values[lMin:lMax]\n",
        "days=df['SDAY'].values[lMin:lMax]\n",
        "gmv5=df['MV5'].values[lMin:lMax] # 5일 이평성\n",
        "gmv30=df['MV30'].values[lMin:lMax] # 30일 이평선\n",
        "xtic=np.arange(0,len(days),step=3)\n",
        "xdays=[days[i]-20000000 for i in xtic]\n",
        "xdays"
      ],
      "execution_count": null,
      "outputs": [
        {
          "output_type": "execute_result",
          "data": {
            "text/plain": [
              "[200413,\n",
              " 200417,\n",
              " 200422,\n",
              " 200427,\n",
              " 200504,\n",
              " 200508,\n",
              " 200513,\n",
              " 200518,\n",
              " 200521,\n",
              " 200526,\n",
              " 200529,\n",
              " 200603,\n",
              " 200608,\n",
              " 200611,\n",
              " 200616,\n",
              " 200619,\n",
              " 200624]"
            ]
          },
          "metadata": {
            "tags": []
          },
          "execution_count": 135
        }
      ]
    },
    {
      "cell_type": "code",
      "metadata": {
        "id": "UN_DAU65E1EE",
        "colab_type": "code",
        "colab": {},
        "outputId": "bd3b1e89-b323-44d9-d7f9-4076a088787f"
      },
      "source": [
        "# 그림비율\n",
        "fig=plt.figure(figsize=(8,5))\n",
        "# 그리드 2행 1열짜리 높이비율 3:1로 생성 \n",
        "gs=gridspec.GridSpec(2,1,height_ratios=[3,1])\n",
        "axis=[]\n",
        "#축 선정\n",
        "axis.append(plt.subplot(gs[0]))\n",
        "# axis[0]을 그리드 공유\n",
        "axis.append(plt.subplot(gs[1],sharex=axis[0]))\n",
        "# 공유x축 표시 없애기\n",
        "axis[0].get_xaxis().set_visible(False)\n",
        "# 캔들스틱용 데이터 만들기\n",
        "x=np.arange(len(cdata))\n",
        "xa= np.reshape(x,(-1,1))\n",
        "ohlc=np.hstack((xa,cdata))\n",
        "#캔들스틱 그리기\n",
        "candlestick_ohlc(axis[0], ohlc,width=0.5,colorup='r',colordown='b')\n",
        "#거래량 그래프\n",
        "axis[1].bar(x,voldata,color='g',width=0.5)\n",
        "plt.title(\"CJ ENM #2 주가 영향 분석\")\n",
        "plt.xticks(xtic,xdays,rotation=45)\n",
        "axis[0].plot(gmv5, color='orange', label=\"5일이평선\")\n",
        "axis[0].plot(gmv30, color='gold', label=\"30일 이평선\")\n",
        "axis[0].legend()\n",
        "plt.tight_layout()\n",
        "plt.show()"
      ],
      "execution_count": null,
      "outputs": [
        {
          "output_type": "display_data",
          "data": {
            "image/png": "[encoded data removed]",
            "text/plain": [
              "<Figure size 576x360 with 2 Axes>"
            ]
          },
          "metadata": {
            "tags": [],
            "needs_background": "light"
          }
        }
      ]
    },
    {
      "cell_type": "code",
      "metadata": {
        "id": "sPXIYHdtE1EH",
        "colab_type": "code",
        "colab": {}
      },
      "source": [
        ""
      ],
      "execution_count": null,
      "outputs": []
    },
    {
      "cell_type": "code",
      "metadata": {
        "id": "lzdGE5u1E1EK",
        "colab_type": "code",
        "colab": {}
      },
      "source": [
        ""
      ],
      "execution_count": null,
      "outputs": []
    }
  ]
}