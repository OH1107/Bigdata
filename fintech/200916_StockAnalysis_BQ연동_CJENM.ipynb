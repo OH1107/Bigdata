{
  "nbformat": 4,
  "nbformat_minor": 0,
  "metadata": {
    "colab": {
      "name": "200916_StockAnalysis_BQ연동_CJENM.ipynb",
      "provenance": [],
      "include_colab_link": true
    },
    "kernelspec": {
      "name": "python3",
      "display_name": "Python 3"
    }
  },
  "cells": [
    {
      "cell_type": "markdown",
      "metadata": {
        "id": "view-in-github",
        "colab_type": "text"
      },
      "source": [
        "<a href=\"https://colab.research.google.com/github/OH1107/edu/blob/master/fintech/200916_StockAnalysis_BQ%EC%97%B0%EB%8F%99_CJENM.ipynb\" target=\"_parent\"><img src=\"https://colab.research.google.com/assets/colab-badge.svg\" alt=\"Open In Colab\"/></a>"
      ]
    },
    {
      "cell_type": "markdown",
      "metadata": {
        "id": "qeiaQ1tmg06o",
        "colab_type": "text"
      },
      "source": [
        "# 1.패키지 설치"
      ]
    },
    {
      "cell_type": "code",
      "metadata": {
        "id": "KgrgwlaZYip8",
        "colab_type": "code",
        "colab": {}
      },
      "source": [
        "%config InlineBackend.figure_format = 'retina'\n",
        "!apt -qq -y install fonts-nanum"
      ],
      "execution_count": null,
      "outputs": []
    },
    {
      "cell_type": "code",
      "metadata": {
        "id": "g1JDRj_6aGqI",
        "colab_type": "code",
        "colab": {}
      },
      "source": [
        "import seaborn as sns\n",
        "import pandas as pd\n",
        "import matplotlib.pyplot as plt\n",
        "import matplotlib as mpl\n",
        "import matplotlib.font_manager as fm\n",
        "import matplotlib.gridspec as gridspec\n",
        "\n",
        "fontpath = '/usr/share/fonts/truetype/nanum/NanumBarunGothic.ttf'\n",
        "font = fm.FontProperties(fname=fontpath, size=9)\n",
        "plt.rc('font', family='NanumBarunGothic') \n",
        "mpl.font_manager._rebuild()\n",
        "mpl.pyplot.rc('font', family='NanumGothic')\n",
        "fm._rebuild()\n",
        "\n",
        "mpl.rcParams['axes.unicode_minus'] = False"
      ],
      "execution_count": null,
      "outputs": []
    },
    {
      "cell_type": "code",
      "metadata": {
        "id": "hN_HCQw4aIXF",
        "colab_type": "code",
        "colab": {}
      },
      "source": [
        "import requests\n",
        "from bs4 import BeautifulSoup as bs"
      ],
      "execution_count": null,
      "outputs": []
    },
    {
      "cell_type": "code",
      "metadata": {
        "id": "UHq9Gh4Zod8R",
        "colab_type": "code",
        "colab": {}
      },
      "source": [
        "! pip install mpl_finance"
      ],
      "execution_count": null,
      "outputs": []
    },
    {
      "cell_type": "markdown",
      "metadata": {
        "id": "U5thL5_caLeg",
        "colab_type": "text"
      },
      "source": [
        "# 2.주식 크롤링\n",
        "- CJ ENM: 035760"
      ]
    },
    {
      "cell_type": "code",
      "metadata": {
        "id": "TgRehvC3aMrV",
        "colab_type": "code",
        "colab": {}
      },
      "source": [
        "def one_page_crawling(code,page):\n",
        "  url='https://finance.naver.com/item/sise_day.nhn?code={code}&page={page}'.format(code=code,page=page)\n",
        "  df = pd.read_html(url)[0]\n",
        "  df.dropna(inplace=True)\n",
        "  df['날짜'] = df['날짜'].apply(lambda x : str(x).replace('.',''))\n",
        "  df['날짜'] = df['날짜'].astype('int')\n",
        "  df.columns = ['SDAY','CLOSEP','SCOMP','OPENP','HIGHP','LOWP','VOL']\n",
        "  return df"
      ],
      "execution_count": null,
      "outputs": []
    },
    {
      "cell_type": "code",
      "metadata": {
        "id": "z-A3osPqaPyP",
        "colab_type": "code",
        "colab": {}
      },
      "source": [
        "def several_page_crawling(code,page):\n",
        "  url='https://finance.naver.com/item/sise_day.nhn?code={code}&page={page}'.format(code=code,page=page)\n",
        "  df = pd.DataFrame()\n",
        "  for i in range(1,page+1):\n",
        "    new_df = one_page_crawling(code,i)\n",
        "    df = pd.concat([df,new_df], axis=0)\n",
        "  df.dropna(inplace=True)\n",
        "  df.reset_index(inplace=True, drop=True)\n",
        "  return df"
      ],
      "execution_count": null,
      "outputs": []
    },
    {
      "cell_type": "code",
      "metadata": {
        "id": "mt4KcEQcaRND",
        "colab_type": "code",
        "colab": {
          "base_uri": "https://localhost:8080/",
          "height": 407
        },
        "outputId": "f15c91a4-d1c7-4268-dabf-bda5bd039b50"
      },
      "source": [
        "cjenm = several_page_crawling('035760',511)\n",
        "cjenm"
      ],
      "execution_count": null,
      "outputs": [
        {
          "output_type": "execute_result",
          "data": {
            "text/html": [
              "<div>\n",
              "<style scoped>\n",
              "    .dataframe tbody tr th:only-of-type {\n",
              "        vertical-align: middle;\n",
              "    }\n",
              "\n",
              "    .dataframe tbody tr th {\n",
              "        vertical-align: top;\n",
              "    }\n",
              "\n",
              "    .dataframe thead th {\n",
              "        text-align: right;\n",
              "    }\n",
              "</style>\n",
              "<table border=\"1\" class=\"dataframe\">\n",
              "  <thead>\n",
              "    <tr style=\"text-align: right;\">\n",
              "      <th></th>\n",
              "      <th>SDAY</th>\n",
              "      <th>CLOSEP</th>\n",
              "      <th>SCOMP</th>\n",
              "      <th>OPENP</th>\n",
              "      <th>HIGHP</th>\n",
              "      <th>LOWP</th>\n",
              "      <th>VOL</th>\n",
              "    </tr>\n",
              "  </thead>\n",
              "  <tbody>\n",
              "    <tr>\n",
              "      <th>0</th>\n",
              "      <td>20200916</td>\n",
              "      <td>145300.0</td>\n",
              "      <td>9800.0</td>\n",
              "      <td>135700.0</td>\n",
              "      <td>148100.0</td>\n",
              "      <td>135600.0</td>\n",
              "      <td>507364.0</td>\n",
              "    </tr>\n",
              "    <tr>\n",
              "      <th>1</th>\n",
              "      <td>20200915</td>\n",
              "      <td>135500.0</td>\n",
              "      <td>1200.0</td>\n",
              "      <td>135400.0</td>\n",
              "      <td>136000.0</td>\n",
              "      <td>130900.0</td>\n",
              "      <td>169950.0</td>\n",
              "    </tr>\n",
              "    <tr>\n",
              "      <th>2</th>\n",
              "      <td>20200914</td>\n",
              "      <td>134300.0</td>\n",
              "      <td>4100.0</td>\n",
              "      <td>131300.0</td>\n",
              "      <td>135600.0</td>\n",
              "      <td>130600.0</td>\n",
              "      <td>207924.0</td>\n",
              "    </tr>\n",
              "    <tr>\n",
              "      <th>3</th>\n",
              "      <td>20200911</td>\n",
              "      <td>130200.0</td>\n",
              "      <td>200.0</td>\n",
              "      <td>129500.0</td>\n",
              "      <td>130800.0</td>\n",
              "      <td>127100.0</td>\n",
              "      <td>106392.0</td>\n",
              "    </tr>\n",
              "    <tr>\n",
              "      <th>4</th>\n",
              "      <td>20200910</td>\n",
              "      <td>130000.0</td>\n",
              "      <td>4300.0</td>\n",
              "      <td>128900.0</td>\n",
              "      <td>131000.0</td>\n",
              "      <td>126800.0</td>\n",
              "      <td>142481.0</td>\n",
              "    </tr>\n",
              "    <tr>\n",
              "      <th>...</th>\n",
              "      <td>...</td>\n",
              "      <td>...</td>\n",
              "      <td>...</td>\n",
              "      <td>...</td>\n",
              "      <td>...</td>\n",
              "      <td>...</td>\n",
              "      <td>...</td>\n",
              "    </tr>\n",
              "    <tr>\n",
              "      <th>5102</th>\n",
              "      <td>19991129</td>\n",
              "      <td>50900.0</td>\n",
              "      <td>5400.0</td>\n",
              "      <td>50900.0</td>\n",
              "      <td>50900.0</td>\n",
              "      <td>48100.0</td>\n",
              "      <td>1048545.0</td>\n",
              "    </tr>\n",
              "    <tr>\n",
              "      <th>5103</th>\n",
              "      <td>19991126</td>\n",
              "      <td>45500.0</td>\n",
              "      <td>4850.0</td>\n",
              "      <td>45500.0</td>\n",
              "      <td>45500.0</td>\n",
              "      <td>45500.0</td>\n",
              "      <td>191164.0</td>\n",
              "    </tr>\n",
              "    <tr>\n",
              "      <th>5104</th>\n",
              "      <td>19991125</td>\n",
              "      <td>40650.0</td>\n",
              "      <td>4350.0</td>\n",
              "      <td>40650.0</td>\n",
              "      <td>40650.0</td>\n",
              "      <td>40650.0</td>\n",
              "      <td>22782.0</td>\n",
              "    </tr>\n",
              "    <tr>\n",
              "      <th>5105</th>\n",
              "      <td>19991124</td>\n",
              "      <td>36300.0</td>\n",
              "      <td>3850.0</td>\n",
              "      <td>36300.0</td>\n",
              "      <td>36300.0</td>\n",
              "      <td>36300.0</td>\n",
              "      <td>6500.0</td>\n",
              "    </tr>\n",
              "    <tr>\n",
              "      <th>5106</th>\n",
              "      <td>19991123</td>\n",
              "      <td>32450.0</td>\n",
              "      <td>0.0</td>\n",
              "      <td>32450.0</td>\n",
              "      <td>32450.0</td>\n",
              "      <td>32450.0</td>\n",
              "      <td>623.0</td>\n",
              "    </tr>\n",
              "  </tbody>\n",
              "</table>\n",
              "<p>5107 rows × 7 columns</p>\n",
              "</div>"
            ],
            "text/plain": [
              "          SDAY    CLOSEP   SCOMP     OPENP     HIGHP      LOWP        VOL\n",
              "0     20200916  145300.0  9800.0  135700.0  148100.0  135600.0   507364.0\n",
              "1     20200915  135500.0  1200.0  135400.0  136000.0  130900.0   169950.0\n",
              "2     20200914  134300.0  4100.0  131300.0  135600.0  130600.0   207924.0\n",
              "3     20200911  130200.0   200.0  129500.0  130800.0  127100.0   106392.0\n",
              "4     20200910  130000.0  4300.0  128900.0  131000.0  126800.0   142481.0\n",
              "...        ...       ...     ...       ...       ...       ...        ...\n",
              "5102  19991129   50900.0  5400.0   50900.0   50900.0   48100.0  1048545.0\n",
              "5103  19991126   45500.0  4850.0   45500.0   45500.0   45500.0   191164.0\n",
              "5104  19991125   40650.0  4350.0   40650.0   40650.0   40650.0    22782.0\n",
              "5105  19991124   36300.0  3850.0   36300.0   36300.0   36300.0     6500.0\n",
              "5106  19991123   32450.0     0.0   32450.0   32450.0   32450.0      623.0\n",
              "\n",
              "[5107 rows x 7 columns]"
            ]
          },
          "metadata": {
            "tags": []
          },
          "execution_count": 245
        }
      ]
    },
    {
      "cell_type": "code",
      "metadata": {
        "id": "VsFIS-IaaqxV",
        "colab_type": "code",
        "colab": {
          "base_uri": "https://localhost:8080/",
          "height": 34
        },
        "outputId": "c48714a0-7026-4c94-b102-a38088192ae3"
      },
      "source": [
        "#bigquery 연동\n",
        "from pandas.io import gbq\n",
        "cjenm.to_gbq(destination_table='NaverStock.CJENM', \n",
        "                  project_id='decisive-clover-286903',    # 내 빅쿼리 ID 넣을 것\n",
        "                  if_exists='replace')"
      ],
      "execution_count": null,
      "outputs": [
        {
          "output_type": "stream",
          "text": [
            "1it [00:05,  5.16s/it]\n"
          ],
          "name": "stderr"
        }
      ]
    },
    {
      "cell_type": "markdown",
      "metadata": {
        "id": "hkauyljHa5Ul",
        "colab_type": "text"
      },
      "source": [
        "- 하강탄력 상승탄력?\n",
        "- 영화산업이 주가에 영향을 많이 주었는가?\n",
        "- 그렇다면, '기생충'의 검색어의 영향은?"
      ]
    },
    {
      "cell_type": "markdown",
      "metadata": {
        "id": "vVk5YzqudHLv",
        "colab_type": "text"
      },
      "source": [
        "# 3.주가 분석"
      ]
    },
    {
      "cell_type": "markdown",
      "metadata": {
        "id": "0NreGuLngba5",
        "colab_type": "text"
      },
      "source": [
        "## (1) 전체 주가 시각화"
      ]
    },
    {
      "cell_type": "code",
      "metadata": {
        "id": "GavIZiCBiXWj",
        "colab_type": "code",
        "colab": {}
      },
      "source": [
        "from pandas.io import gbq\n",
        "\n",
        "project_id = 'decisive-clover-286903'\n",
        "sql = \"\"\"\n",
        "    SELECT SDAY,OPENP,CLOSEP,HIGHP,LOWP,VOL\n",
        "    FROM `NaverStock.CJENM`\n",
        "    ORDER BY SDAY desc\n",
        "\n",
        "    \"\"\"\n",
        "cjenm = pd.read_gbq(sql, project_id=project_id, dialect='standard')"
      ],
      "execution_count": null,
      "outputs": []
    },
    {
      "cell_type": "code",
      "metadata": {
        "id": "OmXqLFmKi5k6",
        "colab_type": "code",
        "colab": {
          "base_uri": "https://localhost:8080/",
          "height": 407
        },
        "outputId": "20613c2e-efb5-4e52-e5fb-6d9a6f47a3ce"
      },
      "source": [
        "cjenm_df"
      ],
      "execution_count": null,
      "outputs": [
        {
          "output_type": "execute_result",
          "data": {
            "text/html": [
              "<div>\n",
              "<style scoped>\n",
              "    .dataframe tbody tr th:only-of-type {\n",
              "        vertical-align: middle;\n",
              "    }\n",
              "\n",
              "    .dataframe tbody tr th {\n",
              "        vertical-align: top;\n",
              "    }\n",
              "\n",
              "    .dataframe thead th {\n",
              "        text-align: right;\n",
              "    }\n",
              "</style>\n",
              "<table border=\"1\" class=\"dataframe\">\n",
              "  <thead>\n",
              "    <tr style=\"text-align: right;\">\n",
              "      <th></th>\n",
              "      <th>SDAY</th>\n",
              "      <th>OPENP</th>\n",
              "      <th>CLOSEP</th>\n",
              "      <th>HIGHP</th>\n",
              "      <th>LOWP</th>\n",
              "      <th>VOL</th>\n",
              "    </tr>\n",
              "  </thead>\n",
              "  <tbody>\n",
              "    <tr>\n",
              "      <th>0</th>\n",
              "      <td>20200916</td>\n",
              "      <td>135700.0</td>\n",
              "      <td>145300.0</td>\n",
              "      <td>148100.0</td>\n",
              "      <td>135600.0</td>\n",
              "      <td>507364.0</td>\n",
              "    </tr>\n",
              "    <tr>\n",
              "      <th>1</th>\n",
              "      <td>20200915</td>\n",
              "      <td>135400.0</td>\n",
              "      <td>135500.0</td>\n",
              "      <td>136000.0</td>\n",
              "      <td>130900.0</td>\n",
              "      <td>169950.0</td>\n",
              "    </tr>\n",
              "    <tr>\n",
              "      <th>2</th>\n",
              "      <td>20200914</td>\n",
              "      <td>131300.0</td>\n",
              "      <td>134300.0</td>\n",
              "      <td>135600.0</td>\n",
              "      <td>130600.0</td>\n",
              "      <td>207924.0</td>\n",
              "    </tr>\n",
              "    <tr>\n",
              "      <th>3</th>\n",
              "      <td>20200911</td>\n",
              "      <td>129500.0</td>\n",
              "      <td>130200.0</td>\n",
              "      <td>130800.0</td>\n",
              "      <td>127100.0</td>\n",
              "      <td>106392.0</td>\n",
              "    </tr>\n",
              "    <tr>\n",
              "      <th>4</th>\n",
              "      <td>20200910</td>\n",
              "      <td>128900.0</td>\n",
              "      <td>130000.0</td>\n",
              "      <td>131000.0</td>\n",
              "      <td>126800.0</td>\n",
              "      <td>142481.0</td>\n",
              "    </tr>\n",
              "    <tr>\n",
              "      <th>...</th>\n",
              "      <td>...</td>\n",
              "      <td>...</td>\n",
              "      <td>...</td>\n",
              "      <td>...</td>\n",
              "      <td>...</td>\n",
              "      <td>...</td>\n",
              "    </tr>\n",
              "    <tr>\n",
              "      <th>5102</th>\n",
              "      <td>19991129</td>\n",
              "      <td>50900.0</td>\n",
              "      <td>50900.0</td>\n",
              "      <td>50900.0</td>\n",
              "      <td>48100.0</td>\n",
              "      <td>1048545.0</td>\n",
              "    </tr>\n",
              "    <tr>\n",
              "      <th>5103</th>\n",
              "      <td>19991126</td>\n",
              "      <td>45500.0</td>\n",
              "      <td>45500.0</td>\n",
              "      <td>45500.0</td>\n",
              "      <td>45500.0</td>\n",
              "      <td>191164.0</td>\n",
              "    </tr>\n",
              "    <tr>\n",
              "      <th>5104</th>\n",
              "      <td>19991125</td>\n",
              "      <td>40650.0</td>\n",
              "      <td>40650.0</td>\n",
              "      <td>40650.0</td>\n",
              "      <td>40650.0</td>\n",
              "      <td>22782.0</td>\n",
              "    </tr>\n",
              "    <tr>\n",
              "      <th>5105</th>\n",
              "      <td>19991124</td>\n",
              "      <td>36300.0</td>\n",
              "      <td>36300.0</td>\n",
              "      <td>36300.0</td>\n",
              "      <td>36300.0</td>\n",
              "      <td>6500.0</td>\n",
              "    </tr>\n",
              "    <tr>\n",
              "      <th>5106</th>\n",
              "      <td>19991123</td>\n",
              "      <td>32450.0</td>\n",
              "      <td>32450.0</td>\n",
              "      <td>32450.0</td>\n",
              "      <td>32450.0</td>\n",
              "      <td>623.0</td>\n",
              "    </tr>\n",
              "  </tbody>\n",
              "</table>\n",
              "<p>5107 rows × 6 columns</p>\n",
              "</div>"
            ],
            "text/plain": [
              "          SDAY     OPENP    CLOSEP     HIGHP      LOWP        VOL\n",
              "0     20200916  135700.0  145300.0  148100.0  135600.0   507364.0\n",
              "1     20200915  135400.0  135500.0  136000.0  130900.0   169950.0\n",
              "2     20200914  131300.0  134300.0  135600.0  130600.0   207924.0\n",
              "3     20200911  129500.0  130200.0  130800.0  127100.0   106392.0\n",
              "4     20200910  128900.0  130000.0  131000.0  126800.0   142481.0\n",
              "...        ...       ...       ...       ...       ...        ...\n",
              "5102  19991129   50900.0   50900.0   50900.0   48100.0  1048545.0\n",
              "5103  19991126   45500.0   45500.0   45500.0   45500.0   191164.0\n",
              "5104  19991125   40650.0   40650.0   40650.0   40650.0    22782.0\n",
              "5105  19991124   36300.0   36300.0   36300.0   36300.0     6500.0\n",
              "5106  19991123   32450.0   32450.0   32450.0   32450.0      623.0\n",
              "\n",
              "[5107 rows x 6 columns]"
            ]
          },
          "metadata": {
            "tags": []
          },
          "execution_count": 253
        }
      ]
    },
    {
      "cell_type": "code",
      "metadata": {
        "id": "KKFTrzCFeVXr",
        "colab_type": "code",
        "colab": {
          "base_uri": "https://localhost:8080/",
          "height": 139
        },
        "outputId": "f8a5b7a2-2603-4247-fe3d-5a9213ca34c5"
      },
      "source": [
        "#고가\n",
        "print(cjenm_df[cjenm_df['CLOSEP']==cjenm_df['CLOSEP'].max()])\n",
        "print('\\n\\n')\n",
        "#저가\n",
        "print(cjenm_df[cjenm_df['CLOSEP']==cjenm_df['CLOSEP'].min()])"
      ],
      "execution_count": null,
      "outputs": [
        {
          "output_type": "stream",
          "text": [
            "          SDAY     OPENP    CLOSEP     HIGHP      LOWP      VOL\n",
            "1649  20140102  418900.0  426100.0  426500.0  415400.0  21871.0\n",
            "\n",
            "\n",
            "\n",
            "          SDAY    OPENP   CLOSEP    HIGHP     LOWP       VOL\n",
            "4875  20001220  13550.0  13050.0  14000.0  12850.0  141713.0\n"
          ],
          "name": "stdout"
        }
      ]
    },
    {
      "cell_type": "code",
      "metadata": {
        "id": "2giXot9rtPfL",
        "colab_type": "code",
        "colab": {
          "base_uri": "https://localhost:8080/",
          "height": 297
        },
        "outputId": "0e1bdc12-e494-4f11-e2d3-160f87e46fb6"
      },
      "source": [
        "cjenm_df['SDAY']=cjenm_df['SDAY'].astype('str')\n",
        "plt.rcParams[\"figure.figsize\"] = (14,4)\n",
        "ax=cjenm_df.plot(kind='line', x='SDAY', y='CLOSEP', color='Blue')\n",
        "ax2=cjenm_df.plot(kind='line', x='SDAY', y='CLOSEP', color='orange', ax=ax)\n",
        "ax.set_ylabel('종가')\n",
        "ax2.set_ylabel('시가')\n",
        "\n",
        "plt.tight_layout()\n",
        "plt.show()"
      ],
      "execution_count": null,
      "outputs": [
        {
          "output_type": "display_data",
          "data": {
            "image/png": "[encoded data removed]",
            "text/plain": [
              "<Figure size 1008x288 with 1 Axes>"
            ]
          },
          "metadata": {
            "tags": [],
            "needs_background": "light"
          }
        }
      ]
    },
    {
      "cell_type": "markdown",
      "metadata": {
        "id": "R2Ep2MjsflnL",
        "colab_type": "text"
      },
      "source": [
        "- 2010년 9월 급등이 보인다.\n",
        "- 2011년 3월에는 CJ엔터테인먼트·CJ미디어·온미디어·엠넷미디어·CJ인터넷·오미디어홀딩스 등 6개 콘텐츠 관련 계열사를 CJ E&M으로 인수 합병했다.\n",
        "- 2012년 3~4월에서는 급감이 보인다. \n",
        "- 2012년 8월부터 2014년 1월에도 급등이 보인다. 이 사이에 개봉한 영화는 《광해, 왕이 된 남자》,《늑대소년》,《가디언즈》,《베를린》,《설국열차》등이 있다."
      ]
    },
    {
      "cell_type": "markdown",
      "metadata": {
        "id": "L085M8mPgZLF",
        "colab_type": "text"
      },
      "source": [
        "## (2) 이동평균선\n",
        "- 주가 기술분석\n",
        "- 단기이평선(5일 이평선), 장기이평선(30일 이평선)을 설정하여 장단기이평선을 분석\n",
        "- 골든크로스(단기이평선이 장기이평선을 아래서 위로 통과)\n",
        "- 데드크로스(단기이평선이 장기이평선을 위에서 아래로 통과)\n",
        "- 마케팅의 시장평가 지점을 지정"
      ]
    },
    {
      "cell_type": "code",
      "metadata": {
        "id": "DglucPXvm2Xj",
        "colab_type": "code",
        "colab": {
          "base_uri": "https://localhost:8080/",
          "height": 197
        },
        "outputId": "cda2bee9-7dd3-4970-dafb-f1ad9ee310b3"
      },
      "source": [
        "project_id = 'decisive-clover-286903'\n",
        "sql = \"\"\"\n",
        "    SELECT SDAY,OPENP,CLOSEP,HIGHP,LOWP,VOL\n",
        "    FROM `NaverStock.CJENM`\n",
        "    WHERE SDAY > 20200101\n",
        "    ORDER BY SDAY desc\n",
        "    LIMIT 250\n",
        "\n",
        "    \"\"\"\n",
        "cjenm_df = pd.read_gbq(sql, project_id=project_id, dialect='standard')\n",
        "cjenm_df.head()"
      ],
      "execution_count": null,
      "outputs": [
        {
          "output_type": "execute_result",
          "data": {
            "text/html": [
              "<div>\n",
              "<style scoped>\n",
              "    .dataframe tbody tr th:only-of-type {\n",
              "        vertical-align: middle;\n",
              "    }\n",
              "\n",
              "    .dataframe tbody tr th {\n",
              "        vertical-align: top;\n",
              "    }\n",
              "\n",
              "    .dataframe thead th {\n",
              "        text-align: right;\n",
              "    }\n",
              "</style>\n",
              "<table border=\"1\" class=\"dataframe\">\n",
              "  <thead>\n",
              "    <tr style=\"text-align: right;\">\n",
              "      <th></th>\n",
              "      <th>SDAY</th>\n",
              "      <th>OPENP</th>\n",
              "      <th>CLOSEP</th>\n",
              "      <th>HIGHP</th>\n",
              "      <th>LOWP</th>\n",
              "      <th>VOL</th>\n",
              "    </tr>\n",
              "  </thead>\n",
              "  <tbody>\n",
              "    <tr>\n",
              "      <th>0</th>\n",
              "      <td>20200916</td>\n",
              "      <td>135700.0</td>\n",
              "      <td>145300.0</td>\n",
              "      <td>148100.0</td>\n",
              "      <td>135600.0</td>\n",
              "      <td>507364.0</td>\n",
              "    </tr>\n",
              "    <tr>\n",
              "      <th>1</th>\n",
              "      <td>20200915</td>\n",
              "      <td>135400.0</td>\n",
              "      <td>135500.0</td>\n",
              "      <td>136000.0</td>\n",
              "      <td>130900.0</td>\n",
              "      <td>169950.0</td>\n",
              "    </tr>\n",
              "    <tr>\n",
              "      <th>2</th>\n",
              "      <td>20200914</td>\n",
              "      <td>131300.0</td>\n",
              "      <td>134300.0</td>\n",
              "      <td>135600.0</td>\n",
              "      <td>130600.0</td>\n",
              "      <td>207924.0</td>\n",
              "    </tr>\n",
              "    <tr>\n",
              "      <th>3</th>\n",
              "      <td>20200911</td>\n",
              "      <td>129500.0</td>\n",
              "      <td>130200.0</td>\n",
              "      <td>130800.0</td>\n",
              "      <td>127100.0</td>\n",
              "      <td>106392.0</td>\n",
              "    </tr>\n",
              "    <tr>\n",
              "      <th>4</th>\n",
              "      <td>20200910</td>\n",
              "      <td>128900.0</td>\n",
              "      <td>130000.0</td>\n",
              "      <td>131000.0</td>\n",
              "      <td>126800.0</td>\n",
              "      <td>142481.0</td>\n",
              "    </tr>\n",
              "  </tbody>\n",
              "</table>\n",
              "</div>"
            ],
            "text/plain": [
              "       SDAY     OPENP    CLOSEP     HIGHP      LOWP       VOL\n",
              "0  20200916  135700.0  145300.0  148100.0  135600.0  507364.0\n",
              "1  20200915  135400.0  135500.0  136000.0  130900.0  169950.0\n",
              "2  20200914  131300.0  134300.0  135600.0  130600.0  207924.0\n",
              "3  20200911  129500.0  130200.0  130800.0  127100.0  106392.0\n",
              "4  20200910  128900.0  130000.0  131000.0  126800.0  142481.0"
            ]
          },
          "metadata": {
            "tags": []
          },
          "execution_count": 258
        }
      ]
    },
    {
      "cell_type": "code",
      "metadata": {
        "id": "JvMv_kxemROx",
        "colab_type": "code",
        "colab": {}
      },
      "source": [
        "#이평선 함수 만들기\n",
        "import numpy as np\n",
        "\n",
        "def makeMV(baseday=5,basedata=cjenm_df['CLOSEP']):\n",
        "  res = []\n",
        "  #초기화 하기\n",
        "  for i in range(baseday-1):\n",
        "    res.append(0)\n",
        "  #이동평균데이터 만들기\n",
        "  n = len(basedata) - (baseday - 1)\n",
        "  print('총 데이터수:', len(basedata),\"초기화 안되고 채워야할 부분:\",n)\n",
        "  for i in range(n):\n",
        "    mvdata = np.average(basedata[i:i+baseday])\n",
        "    res.append(mvdata)\n",
        "  return res"
      ],
      "execution_count": null,
      "outputs": []
    },
    {
      "cell_type": "code",
      "metadata": {
        "id": "gLyhBI5LxCAS",
        "colab_type": "code",
        "colab": {
          "base_uri": "https://localhost:8080/",
          "height": 232
        },
        "outputId": "d310902e-b66b-47c6-d3d7-137736a36c85"
      },
      "source": [
        "cjenm_df['MV5']=makeMV(5)\n",
        "cjenm_df['MV30']=makeMV(30)\n",
        "cjenm_df.head()"
      ],
      "execution_count": null,
      "outputs": [
        {
          "output_type": "stream",
          "text": [
            "총 데이터수: 178 초기화 안되고 채워야할 부분: 174\n",
            "총 데이터수: 178 초기화 안되고 채워야할 부분: 149\n"
          ],
          "name": "stdout"
        },
        {
          "output_type": "execute_result",
          "data": {
            "text/html": [
              "<div>\n",
              "<style scoped>\n",
              "    .dataframe tbody tr th:only-of-type {\n",
              "        vertical-align: middle;\n",
              "    }\n",
              "\n",
              "    .dataframe tbody tr th {\n",
              "        vertical-align: top;\n",
              "    }\n",
              "\n",
              "    .dataframe thead th {\n",
              "        text-align: right;\n",
              "    }\n",
              "</style>\n",
              "<table border=\"1\" class=\"dataframe\">\n",
              "  <thead>\n",
              "    <tr style=\"text-align: right;\">\n",
              "      <th></th>\n",
              "      <th>SDAY</th>\n",
              "      <th>OPENP</th>\n",
              "      <th>CLOSEP</th>\n",
              "      <th>HIGHP</th>\n",
              "      <th>LOWP</th>\n",
              "      <th>VOL</th>\n",
              "      <th>MV5</th>\n",
              "      <th>MV30</th>\n",
              "    </tr>\n",
              "  </thead>\n",
              "  <tbody>\n",
              "    <tr>\n",
              "      <th>0</th>\n",
              "      <td>20200916</td>\n",
              "      <td>135700.0</td>\n",
              "      <td>145300.0</td>\n",
              "      <td>148100.0</td>\n",
              "      <td>135600.0</td>\n",
              "      <td>507364.0</td>\n",
              "      <td>0.0</td>\n",
              "      <td>0.0</td>\n",
              "    </tr>\n",
              "    <tr>\n",
              "      <th>1</th>\n",
              "      <td>20200915</td>\n",
              "      <td>135400.0</td>\n",
              "      <td>135500.0</td>\n",
              "      <td>136000.0</td>\n",
              "      <td>130900.0</td>\n",
              "      <td>169950.0</td>\n",
              "      <td>0.0</td>\n",
              "      <td>0.0</td>\n",
              "    </tr>\n",
              "    <tr>\n",
              "      <th>2</th>\n",
              "      <td>20200914</td>\n",
              "      <td>131300.0</td>\n",
              "      <td>134300.0</td>\n",
              "      <td>135600.0</td>\n",
              "      <td>130600.0</td>\n",
              "      <td>207924.0</td>\n",
              "      <td>0.0</td>\n",
              "      <td>0.0</td>\n",
              "    </tr>\n",
              "    <tr>\n",
              "      <th>3</th>\n",
              "      <td>20200911</td>\n",
              "      <td>129500.0</td>\n",
              "      <td>130200.0</td>\n",
              "      <td>130800.0</td>\n",
              "      <td>127100.0</td>\n",
              "      <td>106392.0</td>\n",
              "      <td>0.0</td>\n",
              "      <td>0.0</td>\n",
              "    </tr>\n",
              "    <tr>\n",
              "      <th>4</th>\n",
              "      <td>20200910</td>\n",
              "      <td>128900.0</td>\n",
              "      <td>130000.0</td>\n",
              "      <td>131000.0</td>\n",
              "      <td>126800.0</td>\n",
              "      <td>142481.0</td>\n",
              "      <td>135060.0</td>\n",
              "      <td>0.0</td>\n",
              "    </tr>\n",
              "  </tbody>\n",
              "</table>\n",
              "</div>"
            ],
            "text/plain": [
              "       SDAY     OPENP    CLOSEP     HIGHP      LOWP       VOL       MV5  MV30\n",
              "0  20200916  135700.0  145300.0  148100.0  135600.0  507364.0       0.0   0.0\n",
              "1  20200915  135400.0  135500.0  136000.0  130900.0  169950.0       0.0   0.0\n",
              "2  20200914  131300.0  134300.0  135600.0  130600.0  207924.0       0.0   0.0\n",
              "3  20200911  129500.0  130200.0  130800.0  127100.0  106392.0       0.0   0.0\n",
              "4  20200910  128900.0  130000.0  131000.0  126800.0  142481.0  135060.0   0.0"
            ]
          },
          "metadata": {
            "tags": []
          },
          "execution_count": 262
        }
      ]
    },
    {
      "cell_type": "code",
      "metadata": {
        "id": "XKhfA3GQsXmb",
        "colab_type": "code",
        "colab": {
          "base_uri": "https://localhost:8080/",
          "height": 227
        },
        "outputId": "678d55cc-69e9-403d-9ffe-dabbedb51a8e"
      },
      "source": [
        "cjenm_df['SDAY']=cjenm_df['SDAY'].astype('str')\n",
        "ax=cjenm_df.plot(kind='line', x='SDAY', y='CLOSEP', color='Blue')\n",
        "ax2=cjenm_df.plot(kind='line', x='SDAY', y='MV5', color='orange', ax=ax)\n",
        "plt.legend()\n",
        "plt.show()"
      ],
      "execution_count": null,
      "outputs": [
        {
          "output_type": "display_data",
          "data": {
            "image/png": "[encoded data removed]",
            "text/plain": [
              "<Figure size 1008x288 with 1 Axes>"
            ]
          },
          "metadata": {
            "tags": [],
            "needs_background": "light"
          }
        }
      ]
    },
    {
      "cell_type": "markdown",
      "metadata": {
        "id": "mKiuJhzapD7E",
        "colab_type": "text"
      },
      "source": [
        "- 주가 이동의 평균치를 5일로 잡았기 때문에 효과는 5일뒤에 나타남을 알 수 있다"
      ]
    },
    {
      "cell_type": "markdown",
      "metadata": {
        "id": "48CyDH31-iQF",
        "colab_type": "text"
      },
      "source": [
        "## (3) 장단기 크로스포인트 분석\n",
        "- 주가 장단기 이평선에 관한 크로스포인트 분석\n",
        "- 이를 통해 시장에 반영된 마케팅 기준선을 부여\n",
        "- 골든크로스(단기이평선이 장기이평선을 아래서 위로 통과)\n",
        "- 데드크로스(단기이평선이 장기이평선을 위에서 아래로 통과)"
      ]
    },
    {
      "cell_type": "code",
      "metadata": {
        "id": "Ajsv6TY8JQKj",
        "colab_type": "code",
        "colab": {
          "base_uri": "https://localhost:8080/"
        },
        "outputId": "24014820-294e-4a11-d5b0-48235a822561"
      },
      "source": [
        "plt.rcParams[\"figure.figsize\"] = (14,4)\n",
        "ax=cjenm_df.plot(kind='line', x='SDAY', y='MV5', color='Blue')\n",
        "ax2=cjenm_df.plot(kind='line', x='SDAY', y='MV30', color='orange', ax=ax)\n",
        "plt.legend()\n",
        "plt.show()"
      ],
      "execution_count": null,
      "outputs": [
        {
          "output_type": "display_data",
          "data": {
            "image/png": "[encoded data removed]",
            "text/plain": [
              "<Figure size 1008x288 with 1 Axes>"
            ]
          },
          "metadata": {
            "tags": [],
            "needs_background": "light"
          }
        }
      ]
    },
    {
      "cell_type": "code",
      "metadata": {
        "id": "fcMcBYBqK0aw",
        "colab_type": "code",
        "colab": {
          "base_uri": "https://localhost:8080/"
        },
        "outputId": "09553ed7-2b44-44ba-a684-c316239f6a63"
      },
      "source": [
        "short=cjenm_df['MV5']\n",
        "long=cjenm_df['MV30']\n",
        "res=[]\n",
        "longday=30\n",
        "for i in range(longday):\n",
        "    res.append(0)\n",
        "    \n",
        "for i in range(longday,len(short)):\n",
        "    if(short[i]>long[i]):\n",
        "        res.append(1)        # 보유 or 매수 해라\n",
        "    else:\n",
        "        res.append(-1)       # 매도 해라\n",
        "cjenm_df['holdPos']=res\n",
        "cjenm_df.head()"
      ],
      "execution_count": null,
      "outputs": [
        {
          "output_type": "execute_result",
          "data": {
            "text/html": [
              "<div>\n",
              "<style scoped>\n",
              "    .dataframe tbody tr th:only-of-type {\n",
              "        vertical-align: middle;\n",
              "    }\n",
              "\n",
              "    .dataframe tbody tr th {\n",
              "        vertical-align: top;\n",
              "    }\n",
              "\n",
              "    .dataframe thead th {\n",
              "        text-align: right;\n",
              "    }\n",
              "</style>\n",
              "<table border=\"1\" class=\"dataframe\">\n",
              "  <thead>\n",
              "    <tr style=\"text-align: right;\">\n",
              "      <th></th>\n",
              "      <th>SDAY</th>\n",
              "      <th>OPENP</th>\n",
              "      <th>CLOSEP</th>\n",
              "      <th>HIGHP</th>\n",
              "      <th>LOWP</th>\n",
              "      <th>VOL</th>\n",
              "      <th>MV5</th>\n",
              "      <th>MV30</th>\n",
              "      <th>holdPos</th>\n",
              "    </tr>\n",
              "  </thead>\n",
              "  <tbody>\n",
              "    <tr>\n",
              "      <th>0</th>\n",
              "      <td>20200916</td>\n",
              "      <td>135700.0</td>\n",
              "      <td>145300.0</td>\n",
              "      <td>148100.0</td>\n",
              "      <td>135600.0</td>\n",
              "      <td>507364.0</td>\n",
              "      <td>0.0</td>\n",
              "      <td>0.0</td>\n",
              "      <td>0</td>\n",
              "    </tr>\n",
              "    <tr>\n",
              "      <th>1</th>\n",
              "      <td>20200915</td>\n",
              "      <td>135400.0</td>\n",
              "      <td>135500.0</td>\n",
              "      <td>136000.0</td>\n",
              "      <td>130900.0</td>\n",
              "      <td>169950.0</td>\n",
              "      <td>0.0</td>\n",
              "      <td>0.0</td>\n",
              "      <td>0</td>\n",
              "    </tr>\n",
              "    <tr>\n",
              "      <th>2</th>\n",
              "      <td>20200914</td>\n",
              "      <td>131300.0</td>\n",
              "      <td>134300.0</td>\n",
              "      <td>135600.0</td>\n",
              "      <td>130600.0</td>\n",
              "      <td>207924.0</td>\n",
              "      <td>0.0</td>\n",
              "      <td>0.0</td>\n",
              "      <td>0</td>\n",
              "    </tr>\n",
              "    <tr>\n",
              "      <th>3</th>\n",
              "      <td>20200911</td>\n",
              "      <td>129500.0</td>\n",
              "      <td>130200.0</td>\n",
              "      <td>130800.0</td>\n",
              "      <td>127100.0</td>\n",
              "      <td>106392.0</td>\n",
              "      <td>0.0</td>\n",
              "      <td>0.0</td>\n",
              "      <td>0</td>\n",
              "    </tr>\n",
              "    <tr>\n",
              "      <th>4</th>\n",
              "      <td>20200910</td>\n",
              "      <td>128900.0</td>\n",
              "      <td>130000.0</td>\n",
              "      <td>131000.0</td>\n",
              "      <td>126800.0</td>\n",
              "      <td>142481.0</td>\n",
              "      <td>135060.0</td>\n",
              "      <td>0.0</td>\n",
              "      <td>0</td>\n",
              "    </tr>\n",
              "  </tbody>\n",
              "</table>\n",
              "</div>"
            ],
            "text/plain": [
              "       SDAY     OPENP    CLOSEP     HIGHP  ...       VOL       MV5  MV30  holdPos\n",
              "0  20200916  135700.0  145300.0  148100.0  ...  507364.0       0.0   0.0        0\n",
              "1  20200915  135400.0  135500.0  136000.0  ...  169950.0       0.0   0.0        0\n",
              "2  20200914  131300.0  134300.0  135600.0  ...  207924.0       0.0   0.0        0\n",
              "3  20200911  129500.0  130200.0  130800.0  ...  106392.0       0.0   0.0        0\n",
              "4  20200910  128900.0  130000.0  131000.0  ...  142481.0  135060.0   0.0        0\n",
              "\n",
              "[5 rows x 9 columns]"
            ]
          },
          "metadata": {
            "tags": []
          },
          "execution_count": 266
        }
      ]
    },
    {
      "cell_type": "code",
      "metadata": {
        "id": "KBsirEbKLUDM",
        "colab_type": "code",
        "colab": {
          "base_uri": "https://localhost:8080/"
        },
        "outputId": "816838c6-b161-45fc-a27d-22179c9419de"
      },
      "source": [
        "plt.rcParams[\"figure.figsize\"] = (10,4)\n",
        "ax=cjenm_df.plot(kind='line', x='SDAY', y='holdPos', color='Blue')\n",
        "plt.legend()\n",
        "plt.show()"
      ],
      "execution_count": null,
      "outputs": [
        {
          "output_type": "stream",
          "text": [
            "/usr/local/lib/python3.6/dist-packages/matplotlib/backends/backend_agg.py:214: RuntimeWarning: Glyph 8722 missing from current font.\n",
            "  font.set_text(s, 0.0, flags=flags)\n",
            "/usr/local/lib/python3.6/dist-packages/matplotlib/backends/backend_agg.py:183: RuntimeWarning: Glyph 8722 missing from current font.\n",
            "  font.set_text(s, 0, flags=flags)\n"
          ],
          "name": "stderr"
        },
        {
          "output_type": "display_data",
          "data": {
            "image/png": "[encoded data removed]",
            "text/plain": [
              "<Figure size 720x288 with 1 Axes>"
            ]
          },
          "metadata": {
            "tags": [],
            "needs_background": "light"
          }
        }
      ]
    },
    {
      "cell_type": "markdown",
      "metadata": {
        "id": "XY_7ZCdB3w6M",
        "colab_type": "text"
      },
      "source": [
        "## (4) 성장동력과 크로스포인트와의 관계\n",
        "- 장단기크로스지점\n",
        "- 단기 성장성(성장비율)과 장단기 주가 모멘텀 분석\n",
        "- 실질적 주가에 영향을 주는 마케팅 포인트 지점 획득\n",
        "- 단기물(5일물)<장기물(60일물):매도\n",
        "- 단기물(5일물)>장기물(60일물):매수"
      ]
    },
    {
      "cell_type": "code",
      "metadata": {
        "id": "qQHAsX2cMBrC",
        "colab_type": "code",
        "colab": {
          "base_uri": "https://localhost:8080/",
          "height": 387
        },
        "outputId": "ecf27ca6-16b5-4678-90d1-8a5f87ff383c"
      },
      "source": [
        "baseData= cjenm_df['MV5']\n",
        "res=[1]\n",
        "for i in range(1,len(baseData)):\n",
        "    c=((baseData[i]/baseData[i-1]) - 1)*20  # 전일대비 단기이평선의 상승비율\n",
        "    res.append(c)\n",
        "\n",
        "\n",
        "plt.rcParams[\"figure.figsize\"] = (14,4)\n",
        "ax=cjenm_df.plot(kind='line', x='SDAY', y='holdPos', color='Blue')\n",
        "plt.plot(res)\n",
        "plt.plot([0,175],[0,0])\n",
        "plt.xlim(30,175)\n",
        "plt.ylim(-2,2)\n",
        "plt.legend()\n",
        "\n",
        "plt.show()"
      ],
      "execution_count": null,
      "outputs": [
        {
          "output_type": "stream",
          "text": [
            "/usr/local/lib/python3.6/dist-packages/ipykernel_launcher.py:4: RuntimeWarning: invalid value encountered in double_scalars\n",
            "  after removing the cwd from sys.path.\n",
            "/usr/local/lib/python3.6/dist-packages/ipykernel_launcher.py:4: RuntimeWarning: divide by zero encountered in double_scalars\n",
            "  after removing the cwd from sys.path.\n",
            "/usr/local/lib/python3.6/dist-packages/matplotlib/backends/backend_agg.py:214: RuntimeWarning: Glyph 8722 missing from current font.\n",
            "  font.set_text(s, 0.0, flags=flags)\n",
            "/usr/local/lib/python3.6/dist-packages/matplotlib/backends/backend_agg.py:183: RuntimeWarning: Glyph 8722 missing from current font.\n",
            "  font.set_text(s, 0, flags=flags)\n"
          ],
          "name": "stderr"
        },
        {
          "output_type": "display_data",
          "data": {
            "image/png": "[encoded data removed]",
            "text/plain": [
              "<Figure size 1008x288 with 1 Axes>"
            ]
          },
          "metadata": {
            "tags": [],
            "needs_background": "light"
          }
        }
      ]
    },
    {
      "cell_type": "markdown",
      "metadata": {
        "id": "doNB1LbZUTxn",
        "colab_type": "text"
      },
      "source": [
        "- 0(노란선)을 기준으로 위쪽은 매수(보유), 아래쪽은 매도"
      ]
    },
    {
      "cell_type": "markdown",
      "metadata": {
        "id": "X-5glub1eu_8",
        "colab_type": "text"
      },
      "source": [
        "# 4.캔들차트\n",
        "- 시가, 고가, 저가, 종가를 분석하여 마케팅의 적시적 효과를 보기 위함\n",
        "- 라이브러리 사용"
      ]
    },
    {
      "cell_type": "markdown",
      "metadata": {
        "id": "XbN-V_sfftNN",
        "colab_type": "text"
      },
      "source": [
        "![캔들차트.png](data:image/png;base64,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)\n",
        "\n"
      ]
    },
    {
      "cell_type": "code",
      "metadata": {
        "id": "aLg8Fb0csFNL",
        "colab_type": "code",
        "colab": {}
      },
      "source": [
        "from mpl_finance import candlestick_ohlc\n",
        "\n",
        "cols = ['OPENP','HIGHP','LOWP','CLOSEP']\n",
        "lMin=70\n",
        "lMax=108\n",
        "\n",
        "days = cjenm_df['SDAY'].values[lMin:lMax]   # x축에 들어갈 값 = 날짜\n",
        "cdata = cjenm_df[cols].values[lMin:lMax]    # 첫번째 그래프의 데이터 = OP LP HP CP\n",
        "voldata=cjenm_df['VOL'].values[lMin:lMax]   # 두번째 그래프의 데이터 = VAL(거래량)\n",
        "gmv5=cjenm_df['MV5'].values[lMin:lMax]      # 5일 이평선\n",
        "gmv30=cjenm_df['MV30'].values[lMin:lMax]    # 30일 이평선"
      ],
      "execution_count": null,
      "outputs": []
    },
    {
      "cell_type": "code",
      "metadata": {
        "id": "iT4yvQc1qiHn",
        "colab_type": "code",
        "colab": {
          "base_uri": "https://localhost:8080/",
          "height": 275
        },
        "outputId": "ae1e37d6-183d-4cf4-f127-19dc5df46817"
      },
      "source": [
        "fig = plt.figure(figsize=(13,5))                  # 그림비율\n",
        "gs = gridspec.GridSpec(2,1,height_ratios=[3,1])   # 그리드 2행 1열짜리 높이비율 3:1로 생성\n",
        "axis=[]\n",
        "axis.append(plt.subplot(gs[0]))                   # 축 선정\n",
        "axis.append(plt.subplot(gs[1],sharex=axis[0]))    # x축을 서로 공유\n",
        "axis[0].get_xaxis().set_visible(False)            # 공유x축 표시 없애기\n",
        "\n",
        "\n",
        "x = np.arange(len(cdata))\n",
        "xa = np.reshape(x,(-1,1))\n",
        "ohlc = np.hstack((xa,cdata))\n",
        "\n",
        "candlestick_ohlc(axis[0],ohlc,width=0.5,colorup='red',colordown='blue')\n",
        "axis[1].bar(days,voldata,color='g',width=0.5)\n",
        "axis[0].plot(gmv5,label=\"5일이평선\",color='orange')     # MV5추가\n",
        "axis[0].plot(gmv30,label=\"30일이평선\",color='gold')     # MV30추가\n",
        "# axis[0].axvline(x=8,label='기생충')     # 세로선 추가\n",
        "axis[0].legend()\n",
        "plt.title('CJ ENM #2 주가 영향 분석')             # 2번 이벤트가 주가에 준 영향\n",
        "plt.xticks(rotation=90)\n",
        "plt.tight_layout()\n",
        "plt.show()"
      ],
      "execution_count": null,
      "outputs": [
        {
          "output_type": "display_data",
          "data": {
            "image/png": "[encoded data removed]",
            "text/plain": [
              "<Figure size 936x360 with 2 Axes>"
            ]
          },
          "metadata": {
            "tags": [],
            "needs_background": "light"
          }
        }
      ]
    },
    {
      "cell_type": "markdown",
      "metadata": {
        "id": "aPsgVUJk5UNj",
        "colab_type": "text"
      },
      "source": [
        "- 2020년 4/24 ~ 4/28 주가와 거래량이 급등한 걸 확인할 수 있다.\n",
        "- 4/24 CJ ENM - JTBC OTT 합작 법인 설립 계약을 체결한 것이 영향을 주지 않았나 추측가능하다.\n",
        "  + OTT:온라인동영상서비스"
      ]
    },
    {
      "cell_type": "markdown",
      "metadata": {
        "id": "xgvZdql9yey7",
        "colab_type": "text"
      },
      "source": [
        "# 5.경쟁사 주식 알아보기\n",
        "- GS홈쇼핑: 028150"
      ]
    },
    {
      "cell_type": "markdown",
      "metadata": {
        "id": "r4ZSEXYjahex",
        "colab_type": "text"
      },
      "source": [
        "## (1) 주식크롤링"
      ]
    },
    {
      "cell_type": "code",
      "metadata": {
        "id": "BquaUYvQpCca",
        "colab_type": "code",
        "colab": {
          "base_uri": "https://localhost:8080/",
          "height": 407
        },
        "outputId": "ecbe768e-06d3-4029-e384-a376dd91620c"
      },
      "source": [
        "gshome=several_page_crawling('028150',507)\n",
        "gshome"
      ],
      "execution_count": null,
      "outputs": [
        {
          "output_type": "execute_result",
          "data": {
            "text/html": [
              "<div>\n",
              "<style scoped>\n",
              "    .dataframe tbody tr th:only-of-type {\n",
              "        vertical-align: middle;\n",
              "    }\n",
              "\n",
              "    .dataframe tbody tr th {\n",
              "        vertical-align: top;\n",
              "    }\n",
              "\n",
              "    .dataframe thead th {\n",
              "        text-align: right;\n",
              "    }\n",
              "</style>\n",
              "<table border=\"1\" class=\"dataframe\">\n",
              "  <thead>\n",
              "    <tr style=\"text-align: right;\">\n",
              "      <th></th>\n",
              "      <th>SDAY</th>\n",
              "      <th>CLOSEP</th>\n",
              "      <th>SCOMP</th>\n",
              "      <th>OPENP</th>\n",
              "      <th>HIGHP</th>\n",
              "      <th>LOWP</th>\n",
              "      <th>VOL</th>\n",
              "    </tr>\n",
              "  </thead>\n",
              "  <tbody>\n",
              "    <tr>\n",
              "      <th>0</th>\n",
              "      <td>20200916</td>\n",
              "      <td>134200.0</td>\n",
              "      <td>5300.0</td>\n",
              "      <td>129000.0</td>\n",
              "      <td>135400.0</td>\n",
              "      <td>128400.0</td>\n",
              "      <td>67177.0</td>\n",
              "    </tr>\n",
              "    <tr>\n",
              "      <th>1</th>\n",
              "      <td>20200915</td>\n",
              "      <td>128900.0</td>\n",
              "      <td>500.0</td>\n",
              "      <td>128500.0</td>\n",
              "      <td>130900.0</td>\n",
              "      <td>127800.0</td>\n",
              "      <td>39410.0</td>\n",
              "    </tr>\n",
              "    <tr>\n",
              "      <th>2</th>\n",
              "      <td>20200914</td>\n",
              "      <td>128400.0</td>\n",
              "      <td>1500.0</td>\n",
              "      <td>130500.0</td>\n",
              "      <td>133300.0</td>\n",
              "      <td>127800.0</td>\n",
              "      <td>69755.0</td>\n",
              "    </tr>\n",
              "    <tr>\n",
              "      <th>3</th>\n",
              "      <td>20200911</td>\n",
              "      <td>129900.0</td>\n",
              "      <td>7900.0</td>\n",
              "      <td>122100.0</td>\n",
              "      <td>130400.0</td>\n",
              "      <td>121000.0</td>\n",
              "      <td>118493.0</td>\n",
              "    </tr>\n",
              "    <tr>\n",
              "      <th>4</th>\n",
              "      <td>20200910</td>\n",
              "      <td>122000.0</td>\n",
              "      <td>1400.0</td>\n",
              "      <td>121300.0</td>\n",
              "      <td>123100.0</td>\n",
              "      <td>119300.0</td>\n",
              "      <td>46240.0</td>\n",
              "    </tr>\n",
              "    <tr>\n",
              "      <th>...</th>\n",
              "      <td>...</td>\n",
              "      <td>...</td>\n",
              "      <td>...</td>\n",
              "      <td>...</td>\n",
              "      <td>...</td>\n",
              "      <td>...</td>\n",
              "      <td>...</td>\n",
              "    </tr>\n",
              "    <tr>\n",
              "      <th>5065</th>\n",
              "      <td>20000127</td>\n",
              "      <td>85100.0</td>\n",
              "      <td>11500.0</td>\n",
              "      <td>87300.0</td>\n",
              "      <td>97600.0</td>\n",
              "      <td>85100.0</td>\n",
              "      <td>552586.0</td>\n",
              "    </tr>\n",
              "    <tr>\n",
              "      <th>5066</th>\n",
              "      <td>20000126</td>\n",
              "      <td>96600.0</td>\n",
              "      <td>10300.0</td>\n",
              "      <td>96600.0</td>\n",
              "      <td>96600.0</td>\n",
              "      <td>91000.0</td>\n",
              "      <td>855067.0</td>\n",
              "    </tr>\n",
              "    <tr>\n",
              "      <th>5067</th>\n",
              "      <td>20000125</td>\n",
              "      <td>86300.0</td>\n",
              "      <td>9200.0</td>\n",
              "      <td>86300.0</td>\n",
              "      <td>86300.0</td>\n",
              "      <td>86300.0</td>\n",
              "      <td>10794.0</td>\n",
              "    </tr>\n",
              "    <tr>\n",
              "      <th>5068</th>\n",
              "      <td>20000124</td>\n",
              "      <td>77100.0</td>\n",
              "      <td>8200.0</td>\n",
              "      <td>77100.0</td>\n",
              "      <td>77100.0</td>\n",
              "      <td>77100.0</td>\n",
              "      <td>503.0</td>\n",
              "    </tr>\n",
              "    <tr>\n",
              "      <th>5069</th>\n",
              "      <td>20000121</td>\n",
              "      <td>68900.0</td>\n",
              "      <td>7300.0</td>\n",
              "      <td>68900.0</td>\n",
              "      <td>68900.0</td>\n",
              "      <td>68900.0</td>\n",
              "      <td>447.0</td>\n",
              "    </tr>\n",
              "  </tbody>\n",
              "</table>\n",
              "<p>5070 rows × 7 columns</p>\n",
              "</div>"
            ],
            "text/plain": [
              "          SDAY    CLOSEP    SCOMP     OPENP     HIGHP      LOWP       VOL\n",
              "0     20200916  134200.0   5300.0  129000.0  135400.0  128400.0   67177.0\n",
              "1     20200915  128900.0    500.0  128500.0  130900.0  127800.0   39410.0\n",
              "2     20200914  128400.0   1500.0  130500.0  133300.0  127800.0   69755.0\n",
              "3     20200911  129900.0   7900.0  122100.0  130400.0  121000.0  118493.0\n",
              "4     20200910  122000.0   1400.0  121300.0  123100.0  119300.0   46240.0\n",
              "...        ...       ...      ...       ...       ...       ...       ...\n",
              "5065  20000127   85100.0  11500.0   87300.0   97600.0   85100.0  552586.0\n",
              "5066  20000126   96600.0  10300.0   96600.0   96600.0   91000.0  855067.0\n",
              "5067  20000125   86300.0   9200.0   86300.0   86300.0   86300.0   10794.0\n",
              "5068  20000124   77100.0   8200.0   77100.0   77100.0   77100.0     503.0\n",
              "5069  20000121   68900.0   7300.0   68900.0   68900.0   68900.0     447.0\n",
              "\n",
              "[5070 rows x 7 columns]"
            ]
          },
          "metadata": {
            "tags": []
          },
          "execution_count": 282
        }
      ]
    },
    {
      "cell_type": "code",
      "metadata": {
        "id": "0gkTHc28zTU5",
        "colab_type": "code",
        "colab": {
          "base_uri": "https://localhost:8080/",
          "height": 34
        },
        "outputId": "aac083be-0826-4a05-8f16-ab87210270e0"
      },
      "source": [
        "gshome_eng.to_gbq(destination_table='NaverStock.GSHS', \n",
        "                  project_id='decisive-clover-286903',    # 내 빅쿼리 ID 넣을 것\n",
        "                  if_exists='replace')"
      ],
      "execution_count": null,
      "outputs": [
        {
          "output_type": "stream",
          "text": [
            "1it [00:04,  4.14s/it]\n"
          ],
          "name": "stderr"
        }
      ]
    },
    {
      "cell_type": "code",
      "metadata": {
        "id": "vWhyIxlrzEtH",
        "colab_type": "code",
        "colab": {
          "base_uri": "https://localhost:8080/",
          "height": 197
        },
        "outputId": "ca391731-c79b-4c32-bfa6-5400bebe2b8f"
      },
      "source": [
        "project_id = 'decisive-clover-286903'\n",
        "sql = \"\"\"\n",
        "    SELECT SDAY,OPENP,CLOSEP,HIGHP,LOWP,VOL\n",
        "    FROM `NaverStock.GSHS`\n",
        "    WHERE SDAY > 20200101\n",
        "    ORDER BY SDAY desc\n",
        "    LIMIT 250\n",
        "    \"\"\"\n",
        "gshome_df = pd.read_gbq(sql, project_id=project_id, dialect='standard')\n",
        "gshome_df.head()"
      ],
      "execution_count": null,
      "outputs": [
        {
          "output_type": "execute_result",
          "data": {
            "text/html": [
              "<div>\n",
              "<style scoped>\n",
              "    .dataframe tbody tr th:only-of-type {\n",
              "        vertical-align: middle;\n",
              "    }\n",
              "\n",
              "    .dataframe tbody tr th {\n",
              "        vertical-align: top;\n",
              "    }\n",
              "\n",
              "    .dataframe thead th {\n",
              "        text-align: right;\n",
              "    }\n",
              "</style>\n",
              "<table border=\"1\" class=\"dataframe\">\n",
              "  <thead>\n",
              "    <tr style=\"text-align: right;\">\n",
              "      <th></th>\n",
              "      <th>SDAY</th>\n",
              "      <th>OPENP</th>\n",
              "      <th>CLOSEP</th>\n",
              "      <th>HIGHP</th>\n",
              "      <th>LOWP</th>\n",
              "      <th>VOL</th>\n",
              "    </tr>\n",
              "  </thead>\n",
              "  <tbody>\n",
              "    <tr>\n",
              "      <th>0</th>\n",
              "      <td>20200916</td>\n",
              "      <td>129000.0</td>\n",
              "      <td>134900.0</td>\n",
              "      <td>135000.0</td>\n",
              "      <td>128400.0</td>\n",
              "      <td>51226.0</td>\n",
              "    </tr>\n",
              "    <tr>\n",
              "      <th>1</th>\n",
              "      <td>20200915</td>\n",
              "      <td>128500.0</td>\n",
              "      <td>128900.0</td>\n",
              "      <td>130900.0</td>\n",
              "      <td>127800.0</td>\n",
              "      <td>39410.0</td>\n",
              "    </tr>\n",
              "    <tr>\n",
              "      <th>2</th>\n",
              "      <td>20200914</td>\n",
              "      <td>130500.0</td>\n",
              "      <td>128400.0</td>\n",
              "      <td>133300.0</td>\n",
              "      <td>127800.0</td>\n",
              "      <td>69755.0</td>\n",
              "    </tr>\n",
              "    <tr>\n",
              "      <th>3</th>\n",
              "      <td>20200911</td>\n",
              "      <td>122100.0</td>\n",
              "      <td>129900.0</td>\n",
              "      <td>130400.0</td>\n",
              "      <td>121000.0</td>\n",
              "      <td>118493.0</td>\n",
              "    </tr>\n",
              "    <tr>\n",
              "      <th>4</th>\n",
              "      <td>20200910</td>\n",
              "      <td>121300.0</td>\n",
              "      <td>122000.0</td>\n",
              "      <td>123100.0</td>\n",
              "      <td>119300.0</td>\n",
              "      <td>46240.0</td>\n",
              "    </tr>\n",
              "  </tbody>\n",
              "</table>\n",
              "</div>"
            ],
            "text/plain": [
              "       SDAY     OPENP    CLOSEP     HIGHP      LOWP       VOL\n",
              "0  20200916  129000.0  134900.0  135000.0  128400.0   51226.0\n",
              "1  20200915  128500.0  128900.0  130900.0  127800.0   39410.0\n",
              "2  20200914  130500.0  128400.0  133300.0  127800.0   69755.0\n",
              "3  20200911  122100.0  129900.0  130400.0  121000.0  118493.0\n",
              "4  20200910  121300.0  122000.0  123100.0  119300.0   46240.0"
            ]
          },
          "metadata": {
            "tags": []
          },
          "execution_count": 285
        }
      ]
    },
    {
      "cell_type": "markdown",
      "metadata": {
        "id": "5D0crKNAal3I",
        "colab_type": "text"
      },
      "source": [
        "## (2) CJ-GS비교"
      ]
    },
    {
      "cell_type": "code",
      "metadata": {
        "id": "8KEBkpsYmxlx",
        "colab_type": "code",
        "colab": {
          "base_uri": "https://localhost:8080/",
          "height": 407
        },
        "outputId": "f60fd3c3-e404-4466-9fc2-6b2a8d9e7a97"
      },
      "source": [
        "cj_gs=pd.DataFrame([cjenm_df_20200101['SDAY'],cjenm_df['CLOSEP'],gshome_df['CLOSEP']]).T\n",
        "cj_gs.columns=['SDAY','CJ_CLOSEP','GS_CLOSEP']\n",
        "cj_gs"
      ],
      "execution_count": null,
      "outputs": [
        {
          "output_type": "execute_result",
          "data": {
            "text/html": [
              "<div>\n",
              "<style scoped>\n",
              "    .dataframe tbody tr th:only-of-type {\n",
              "        vertical-align: middle;\n",
              "    }\n",
              "\n",
              "    .dataframe tbody tr th {\n",
              "        vertical-align: top;\n",
              "    }\n",
              "\n",
              "    .dataframe thead th {\n",
              "        text-align: right;\n",
              "    }\n",
              "</style>\n",
              "<table border=\"1\" class=\"dataframe\">\n",
              "  <thead>\n",
              "    <tr style=\"text-align: right;\">\n",
              "      <th></th>\n",
              "      <th>SDAY</th>\n",
              "      <th>CJ_CLOSEP</th>\n",
              "      <th>GS_CLOSEP</th>\n",
              "    </tr>\n",
              "  </thead>\n",
              "  <tbody>\n",
              "    <tr>\n",
              "      <th>0</th>\n",
              "      <td>20200916</td>\n",
              "      <td>145300</td>\n",
              "      <td>134900</td>\n",
              "    </tr>\n",
              "    <tr>\n",
              "      <th>1</th>\n",
              "      <td>20200915</td>\n",
              "      <td>135500</td>\n",
              "      <td>128900</td>\n",
              "    </tr>\n",
              "    <tr>\n",
              "      <th>2</th>\n",
              "      <td>20200914</td>\n",
              "      <td>134300</td>\n",
              "      <td>128400</td>\n",
              "    </tr>\n",
              "    <tr>\n",
              "      <th>3</th>\n",
              "      <td>20200911</td>\n",
              "      <td>130200</td>\n",
              "      <td>129900</td>\n",
              "    </tr>\n",
              "    <tr>\n",
              "      <th>4</th>\n",
              "      <td>20200910</td>\n",
              "      <td>130000</td>\n",
              "      <td>122000</td>\n",
              "    </tr>\n",
              "    <tr>\n",
              "      <th>...</th>\n",
              "      <td>...</td>\n",
              "      <td>...</td>\n",
              "      <td>...</td>\n",
              "    </tr>\n",
              "    <tr>\n",
              "      <th>173</th>\n",
              "      <td>20200108</td>\n",
              "      <td>151300</td>\n",
              "      <td>139400</td>\n",
              "    </tr>\n",
              "    <tr>\n",
              "      <th>174</th>\n",
              "      <td>20200107</td>\n",
              "      <td>154600</td>\n",
              "      <td>142000</td>\n",
              "    </tr>\n",
              "    <tr>\n",
              "      <th>175</th>\n",
              "      <td>20200106</td>\n",
              "      <td>150200</td>\n",
              "      <td>143000</td>\n",
              "    </tr>\n",
              "    <tr>\n",
              "      <th>176</th>\n",
              "      <td>20200103</td>\n",
              "      <td>154700</td>\n",
              "      <td>145800</td>\n",
              "    </tr>\n",
              "    <tr>\n",
              "      <th>177</th>\n",
              "      <td>20200102</td>\n",
              "      <td>155600</td>\n",
              "      <td>146500</td>\n",
              "    </tr>\n",
              "  </tbody>\n",
              "</table>\n",
              "<p>178 rows × 3 columns</p>\n",
              "</div>"
            ],
            "text/plain": [
              "         SDAY CJ_CLOSEP GS_CLOSEP\n",
              "0    20200916    145300    134900\n",
              "1    20200915    135500    128900\n",
              "2    20200914    134300    128400\n",
              "3    20200911    130200    129900\n",
              "4    20200910    130000    122000\n",
              "..        ...       ...       ...\n",
              "173  20200108    151300    139400\n",
              "174  20200107    154600    142000\n",
              "175  20200106    150200    143000\n",
              "176  20200103    154700    145800\n",
              "177  20200102    155600    146500\n",
              "\n",
              "[178 rows x 3 columns]"
            ]
          },
          "metadata": {
            "tags": []
          },
          "execution_count": 286
        }
      ]
    },
    {
      "cell_type": "code",
      "metadata": {
        "id": "2V4m-RxK3IC1",
        "colab_type": "code",
        "colab": {
          "base_uri": "https://localhost:8080/"
        },
        "outputId": "e517a6c9-fc5d-4ac2-b543-e6b69be97c42"
      },
      "source": [
        "plt.rcParams[\"figure.figsize\"] = (14,4)\n",
        "ax=cj_gs.plot(kind='line', x='SDAY', y='CJ_CLOSEP', color='Orange')\n",
        "ax2=cj_gs.plot(kind='line', x='SDAY', y='GS_CLOSEP', color='Blue', ax=ax)\n",
        "plt.legend()\n",
        "plt.show()"
      ],
      "execution_count": null,
      "outputs": [
        {
          "output_type": "display_data",
          "data": {
            "image/png": "[encoded data removed]",
            "text/plain": [
              "<Figure size 1008x288 with 1 Axes>"
            ]
          },
          "metadata": {
            "tags": [],
            "needs_background": "light"
          }
        }
      ]
    },
    {
      "cell_type": "markdown",
      "metadata": {
        "id": "xr8pNK9cztyH",
        "colab_type": "text"
      },
      "source": [
        "- GS랑, CJ 주가를 비교해보았다.\n",
        "- 2020년 2월 이전에는 CJ가 GS보다 우세했다.\n",
        "- 2020년 3월부터 2020년 7월초반까지 GS가 CJ보다 우세했다.\n",
        "- 2020년 7월 이후 다시 CJ가 우위에 있다.\n",
        "- 중간에 GS가 CJ보다 우세했던 이유는 무엇일까?\n",
        "- 이에 관련하여 해당시기의 마케팅전략,합병 등을 분석해볼 필요가 있다."
      ]
    }
  ]
}