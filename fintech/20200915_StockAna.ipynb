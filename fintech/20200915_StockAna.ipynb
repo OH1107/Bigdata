{
  "nbformat": 4,
  "nbformat_minor": 0,
  "metadata": {
    "kernelspec": {
      "display_name": "Python 3",
      "language": "python",
      "name": "python3"
    },
    "language_info": {
      "codemirror_mode": {
        "name": "ipython",
        "version": 3
      },
      "file_extension": ".py",
      "mimetype": "text/x-python",
      "name": "python",
      "nbconvert_exporter": "python",
      "pygments_lexer": "ipython3",
      "version": "3.7.6"
    },
    "colab": {
      "name": "StockAna.ipynb",
      "provenance": [],
      "include_colab_link": true
    }
  },
  "cells": [
    {
      "cell_type": "markdown",
      "metadata": {
        "id": "view-in-github",
        "colab_type": "text"
      },
      "source": [
        "<a href=\"https://colab.research.google.com/github/OH1107/edu/blob/master/fintech/20200916_StockAna.ipynb\" target=\"_parent\"><img src=\"https://colab.research.google.com/assets/colab-badge.svg\" alt=\"Open In Colab\"/></a>"
      ]
    },
    {
      "cell_type": "code",
      "metadata": {
        "id": "d8sxRBjFkarh",
        "colab_type": "code",
        "colab": {}
      },
      "source": [
        "import sqlite3 \n",
        "import numpy as np\n",
        "import pandas as pd\n",
        "import matplotlib as mpl\n",
        "import matplotlib.pyplot as plt"
      ],
      "execution_count": null,
      "outputs": []
    },
    {
      "cell_type": "code",
      "metadata": {
        "id": "xW6LNzCPkarm",
        "colab_type": "code",
        "colab": {}
      },
      "source": [
        "dbname='NaverStock.db'\n",
        "def selData(whr=' where SIDX=0'):\n",
        "    with sqlite3.connect(dbname) as conn:\n",
        "        cur=conn.cursor()\n",
        "        sql='select SDAY,OPENP,HIGHP,LOWP,CLOSEP,VOL from StockDay '+whr\n",
        "        cur.execute(sql)\n",
        "        rows=cur.fetchall()\n",
        "        cur.close()\n",
        "    return rows"
      ],
      "execution_count": null,
      "outputs": []
    },
    {
      "cell_type": "code",
      "metadata": {
        "id": "FU6ErTcwkarp",
        "colab_type": "code",
        "colab": {},
        "outputId": "2015350d-956b-4cf4-fbb2-545e745b7a32"
      },
      "source": [
        "whr='where SDAY>20200101 order by SDAY  asc limit 250'\n",
        "res=selData(whr)\n",
        "cols=['SDAY','OPENP','HIGHP','LOWP','CLOSEP','VOL']\n",
        "df=pd.DataFrame(data=res,columns=cols)\n",
        "df.head()"
      ],
      "execution_count": null,
      "outputs": [
        {
          "output_type": "execute_result",
          "data": {
            "text/html": [
              "<div>\n",
              "<style scoped>\n",
              "    .dataframe tbody tr th:only-of-type {\n",
              "        vertical-align: middle;\n",
              "    }\n",
              "\n",
              "    .dataframe tbody tr th {\n",
              "        vertical-align: top;\n",
              "    }\n",
              "\n",
              "    .dataframe thead th {\n",
              "        text-align: right;\n",
              "    }\n",
              "</style>\n",
              "<table border=\"1\" class=\"dataframe\">\n",
              "  <thead>\n",
              "    <tr style=\"text-align: right;\">\n",
              "      <th></th>\n",
              "      <th>SDAY</th>\n",
              "      <th>OPENP</th>\n",
              "      <th>HIGHP</th>\n",
              "      <th>LOWP</th>\n",
              "      <th>CLOSEP</th>\n",
              "      <th>VOL</th>\n",
              "    </tr>\n",
              "  </thead>\n",
              "  <tbody>\n",
              "    <tr>\n",
              "      <th>0</th>\n",
              "      <td>20200102</td>\n",
              "      <td>82900</td>\n",
              "      <td>87200</td>\n",
              "      <td>81800</td>\n",
              "      <td>85900</td>\n",
              "      <td>114989</td>\n",
              "    </tr>\n",
              "    <tr>\n",
              "      <th>1</th>\n",
              "      <td>20200103</td>\n",
              "      <td>85900</td>\n",
              "      <td>86500</td>\n",
              "      <td>83900</td>\n",
              "      <td>85600</td>\n",
              "      <td>95600</td>\n",
              "    </tr>\n",
              "    <tr>\n",
              "      <th>2</th>\n",
              "      <td>20200106</td>\n",
              "      <td>84400</td>\n",
              "      <td>85600</td>\n",
              "      <td>83300</td>\n",
              "      <td>84000</td>\n",
              "      <td>68657</td>\n",
              "    </tr>\n",
              "    <tr>\n",
              "      <th>3</th>\n",
              "      <td>20200107</td>\n",
              "      <td>84300</td>\n",
              "      <td>89900</td>\n",
              "      <td>84100</td>\n",
              "      <td>88900</td>\n",
              "      <td>183531</td>\n",
              "    </tr>\n",
              "    <tr>\n",
              "      <th>4</th>\n",
              "      <td>20200108</td>\n",
              "      <td>87800</td>\n",
              "      <td>89400</td>\n",
              "      <td>86500</td>\n",
              "      <td>87300</td>\n",
              "      <td>105155</td>\n",
              "    </tr>\n",
              "  </tbody>\n",
              "</table>\n",
              "</div>"
            ],
            "text/plain": [
              "       SDAY  OPENP  HIGHP   LOWP  CLOSEP     VOL\n",
              "0  20200102  82900  87200  81800   85900  114989\n",
              "1  20200103  85900  86500  83900   85600   95600\n",
              "2  20200106  84400  85600  83300   84000   68657\n",
              "3  20200107  84300  89900  84100   88900  183531\n",
              "4  20200108  87800  89400  86500   87300  105155"
            ]
          },
          "metadata": {
            "tags": []
          },
          "execution_count": 10
        }
      ]
    },
    {
      "cell_type": "code",
      "metadata": {
        "id": "Jo1oSBrZkart",
        "colab_type": "code",
        "colab": {},
        "outputId": "f4a26b57-9a07-4cb8-ee44-a3eebaccbfb1"
      },
      "source": [
        "sels=['CLOSEP','OPENP']\n",
        "df[sels].plot()\n",
        "plt.xlim(50,75)\n",
        "plt.ylim(50000,70000)\n",
        "plt.show()"
      ],
      "execution_count": null,
      "outputs": [
        {
          "output_type": "display_data",
          "data": {
            "image/png": "[encoded data removed]",
            "text/plain": [
              "<Figure size 432x288 with 1 Axes>"
            ]
          },
          "metadata": {
            "tags": [],
            "needs_background": "light"
          }
        }
      ]
    },
    {
      "cell_type": "code",
      "metadata": {
        "id": "PnGIlbFPkarw",
        "colab_type": "code",
        "colab": {}
      },
      "source": [
        ""
      ],
      "execution_count": null,
      "outputs": []
    }
  ]
}
