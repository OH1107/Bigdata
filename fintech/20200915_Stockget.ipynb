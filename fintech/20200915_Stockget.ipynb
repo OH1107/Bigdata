{
  "nbformat": 4,
  "nbformat_minor": 0,
  "metadata": {
    "kernelspec": {
      "display_name": "Python 3",
      "language": "python",
      "name": "python3"
    },
    "language_info": {
      "codemirror_mode": {
        "name": "ipython",
        "version": 3
      },
      "file_extension": ".py",
      "mimetype": "text/x-python",
      "name": "python",
      "nbconvert_exporter": "python",
      "pygments_lexer": "ipython3",
      "version": "3.7.6"
    },
    "colab": {
      "name": "Stockget.ipynb",
      "provenance": [],
      "include_colab_link": true
    }
  },
  "cells": [
    {
      "cell_type": "markdown",
      "metadata": {
        "id": "view-in-github",
        "colab_type": "text"
      },
      "source": [
        "<a href=\"https://colab.research.google.com/github/OH1107/edu/blob/master/fintech/20200915_Stockget.ipynb\" target=\"_parent\"><img src=\"https://colab.research.google.com/assets/colab-badge.svg\" alt=\"Open In Colab\"/></a>"
      ]
    },
    {
      "cell_type": "markdown",
      "metadata": {
        "id": "m3eGjBadaEjd",
        "colab_type": "text"
      },
      "source": [
        "### 주가정보 획득\n",
        "* 마케팅 포인트와 주가와의 상관관계 분석을 위한 주가 획득\n",
        "* 유통주 위주의 주가분석\n",
        "* 현대백화점(069960)  \n",
        " - https://finance.naver.com/item/sise_day.nhn?code=069960&page=1\n"
      ]
    },
    {
      "cell_type": "code",
      "metadata": {
        "id": "cecrfb92aEjf",
        "colab_type": "code",
        "colab": {}
      },
      "source": [
        "import sqlite3\n",
        "import requests # 내부 source 를 가져오는 라이브러리\n",
        "from bs4 import BeautifulSoup\n",
        "import numpy as np\n",
        "import pandas as pd"
      ],
      "execution_count": null,
      "outputs": []
    },
    {
      "cell_type": "code",
      "metadata": {
        "id": "5Yv4YEsSaEjj",
        "colab_type": "code",
        "colab": {}
      },
      "source": [
        "# 함수 선언부 url 을 매개변수화\n",
        "def stockGet(url=''):    \n",
        "    # url 가져와서 파싱\n",
        "    src=requests.get(url)\n",
        "    result=src.content.strip()\n",
        "    html=BeautifulSoup(result,'html.parser')\n",
        "    tgts=html.select('table.type2 tr')\n",
        "    #len(tgt)\n",
        "    res=[]\n",
        "    #tgts 가 16개 씩 나옴 1 page\n",
        "    for tgt in tgts:\n",
        "        if(tgt.select('td .p10')):# 날짜 없는 줄은 제거\n",
        "            sday=tgt.select('td .p10')[0].text.replace(\".\",\"\")\n",
        "\n",
        "            endp=tgt.select('td.num')[0].text.replace(\",\",\"\")\n",
        "            startp=tgt.select('td.num')[2].text.replace(\",\",\"\")\n",
        "            maxp=tgt.select('td.num')[3].text.replace(\",\",\"\")\n",
        "            minp=tgt.select('td.num')[4].text.replace(\",\",\"\")\n",
        "            vol=tgt.select('td.num')[5].text.replace(\",\",\"\")\n",
        "            res.append((sday,startp,maxp,minp,endp,vol))\n",
        "    # 10개 반환\n",
        "    return res\n"
      ],
      "execution_count": null,
      "outputs": []
    },
    {
      "cell_type": "code",
      "metadata": {
        "id": "hVz8Oc_YaEjl",
        "colab_type": "code",
        "colab": {}
      },
      "source": [
        "def addData(data):\n",
        "    with sqlite3.connect(dbname) as conn:\n",
        "        cur=conn.cursor()\n",
        "        sql = 'insert into StockDay \\\n",
        "        (SIDX,SCODE,SCOMP,SDAY,OPENP,HIGHP,LOWP,CLOSEP,VOL) \\\n",
        "        values (?,?,?,?,?,?,?,?,?)'\n",
        "        ##### data=[1001,60000,' 신세계','20200830',30,60,70,50,250]\n",
        "        cur.execute(sql,data)\n",
        "        conn.commit()\n",
        "        cur.close()\n",
        "    \n",
        "    "
      ],
      "execution_count": null,
      "outputs": []
    },
    {
      "cell_type": "code",
      "metadata": {
        "id": "_TctSzixaEjo",
        "colab_type": "code",
        "colab": {}
      },
      "source": [
        "dbname='NaverStock.db'\n",
        "def selData(whr=' where SIDX=0'):\n",
        "    with sqlite3.connect(dbname) as conn:\n",
        "        cur=conn.cursor()\n",
        "        sql='select SIDX from StockDay '+whr\n",
        "        cur.execute(sql)\n",
        "        rows=cur.fetchall()\n",
        "        cur.close()\n",
        "    return rows"
      ],
      "execution_count": null,
      "outputs": []
    },
    {
      "cell_type": "code",
      "metadata": {
        "id": "w01_6TK4aEjr",
        "colab_type": "code",
        "colab": {}
      },
      "source": [
        "compList=[\n",
        "    (\"현대백화점\",\"069960\"),\n",
        "    (\"영원무역\",\"111770\"),\n",
        "    (\"SK네트웍스\",\"001740\"),\n",
        "    (\"신세계인터내셔널\",\"031430\"),\n",
        "    ]"
      ],
      "execution_count": null,
      "outputs": []
    },
    {
      "cell_type": "code",
      "metadata": {
        "id": "to4oYDlBaEjv",
        "colab_type": "code",
        "colab": {}
      },
      "source": [
        "def MyCrawl(comp=('현대백화점','069960'),sp=1,ep=2):\n",
        "    sCode=comp[1]\n",
        "    sComp=comp[0] \n",
        "    urlsrc='https://finance.naver.com/item/sise_day.nhn?code={0}&page={1}'\n",
        "    for i in range(1,2):\n",
        "        print(\"#\"*30)\n",
        "        url=urlsrc.format(sCode,i)\n",
        "        print(url)\n",
        "        rs=stockGet(url)\n",
        "        #10개 데이터 추출\n",
        "        for r in rs:\n",
        "            #데이터별 고유코드만들기\n",
        "            sidx=r[0]+sCode\n",
        "            ##### data=[1001,60000,' 신세계','20200830',30,60,70,50,250]\n",
        "            data=[sidx,sCode,sComp,r[0],r[1],r[2],r[3],r[4],r[5]]\n",
        "            #데이터 입력하기 중복데이터 확인\n",
        "            preData=selData(' where SIDX='+sidx)\n",
        "            if(preData):\n",
        "                print(\"중복데이터 입니다.\",preData)\n",
        "            else:\n",
        "                #print(r)\n",
        "                addData(data)"
      ],
      "execution_count": null,
      "outputs": []
    },
    {
      "cell_type": "code",
      "metadata": {
        "id": "KO9leAR6aEjx",
        "colab_type": "code",
        "colab": {},
        "outputId": "efa36104-877b-49ee-fef9-7746bf40f8c8"
      },
      "source": [
        "MyCrawl(compList[0],1,2)"
      ],
      "execution_count": null,
      "outputs": [
        {
          "output_type": "stream",
          "text": [
            "##############################\n",
            "https://finance.naver.com/item/sise_day.nhn?code=069960&page=1\n",
            "중복데이터 입니다. [(20200915069960,)]\n",
            "중복데이터 입니다. [(20200914069960,)]\n",
            "중복데이터 입니다. [(20200911069960,)]\n",
            "중복데이터 입니다. [(20200910069960,)]\n",
            "중복데이터 입니다. [(20200909069960,)]\n",
            "중복데이터 입니다. [(20200908069960,)]\n",
            "중복데이터 입니다. [(20200907069960,)]\n",
            "중복데이터 입니다. [(20200904069960,)]\n",
            "중복데이터 입니다. [(20200903069960,)]\n",
            "중복데이터 입니다. [(20200902069960,)]\n"
          ],
          "name": "stdout"
        }
      ]
    },
    {
      "cell_type": "code",
      "metadata": {
        "jupyter": {
          "outputs_hidden": true
        },
        "id": "6LpXZ14NaEj1",
        "colab_type": "code",
        "colab": {},
        "outputId": "cb41855d-109f-4791-df0b-44887b0a0418"
      },
      "source": [
        "selData()"
      ],
      "execution_count": null,
      "outputs": [
        {
          "output_type": "execute_result",
          "data": {
            "text/plain": [
              "[(1, '06666', '현대백', 20200900, 100, 200, 90, 150, 22000),\n",
              " (2, '0666', '현대백', 20200901, 50, 30, 20, 60, 1620),\n",
              " (1001, '60000', ' 신세계', 20200830, 30, 60, 70, 50, 250),\n",
              " (20200915069960,\n",
              "  '069960',\n",
              "  '현대백화점',\n",
              "  20200915,\n",
              "  57500,\n",
              "  58000,\n",
              "  56600,\n",
              "  57400,\n",
              "  219218),\n",
              " (20200914069960,\n",
              "  '069960',\n",
              "  '현대백화점',\n",
              "  20200914,\n",
              "  57000,\n",
              "  58400,\n",
              "  56700,\n",
              "  57200,\n",
              "  324102),\n",
              " (20200911069960,\n",
              "  '069960',\n",
              "  '현대백화점',\n",
              "  20200911,\n",
              "  56400,\n",
              "  57400,\n",
              "  56200,\n",
              "  56300,\n",
              "  269437),\n",
              " (20200910069960,\n",
              "  '069960',\n",
              "  '현대백화점',\n",
              "  20200910,\n",
              "  56500,\n",
              "  57200,\n",
              "  55900,\n",
              "  56400,\n",
              "  262036),\n",
              " (20200909069960,\n",
              "  '069960',\n",
              "  '현대백화점',\n",
              "  20200909,\n",
              "  55900,\n",
              "  56600,\n",
              "  55400,\n",
              "  56000,\n",
              "  125147),\n",
              " (20200908069960,\n",
              "  '069960',\n",
              "  '현대백화점',\n",
              "  20200908,\n",
              "  56800,\n",
              "  57100,\n",
              "  56300,\n",
              "  56400,\n",
              "  152605),\n",
              " (20200907069960,\n",
              "  '069960',\n",
              "  '현대백화점',\n",
              "  20200907,\n",
              "  56100,\n",
              "  57100,\n",
              "  55600,\n",
              "  56300,\n",
              "  174472),\n",
              " (20200904069960,\n",
              "  '069960',\n",
              "  '현대백화점',\n",
              "  20200904,\n",
              "  55300,\n",
              "  56200,\n",
              "  55100,\n",
              "  55800,\n",
              "  194702),\n",
              " (20200903069960,\n",
              "  '069960',\n",
              "  '현대백화점',\n",
              "  20200903,\n",
              "  57000,\n",
              "  58000,\n",
              "  56500,\n",
              "  56500,\n",
              "  287154),\n",
              " (20200902069960,\n",
              "  '069960',\n",
              "  '현대백화점',\n",
              "  20200902,\n",
              "  56100,\n",
              "  57800,\n",
              "  55300,\n",
              "  56500,\n",
              "  370906),\n",
              " (20200901069960,\n",
              "  '069960',\n",
              "  '현대백화점',\n",
              "  20200901,\n",
              "  54300,\n",
              "  55400,\n",
              "  53800,\n",
              "  54900,\n",
              "  320255),\n",
              " (20200831069960,\n",
              "  '069960',\n",
              "  '현대백화점',\n",
              "  20200831,\n",
              "  56000,\n",
              "  57200,\n",
              "  53700,\n",
              "  53700,\n",
              "  1731829),\n",
              " (20200828069960,\n",
              "  '069960',\n",
              "  '현대백화점',\n",
              "  20200828,\n",
              "  55000,\n",
              "  56700,\n",
              "  54900,\n",
              "  55700,\n",
              "  261233),\n",
              " (20200827069960,\n",
              "  '069960',\n",
              "  '현대백화점',\n",
              "  20200827,\n",
              "  56300,\n",
              "  56300,\n",
              "  54400,\n",
              "  54600,\n",
              "  319492),\n",
              " (20200826069960,\n",
              "  '069960',\n",
              "  '현대백화점',\n",
              "  20200826,\n",
              "  57100,\n",
              "  57200,\n",
              "  56100,\n",
              "  56600,\n",
              "  179178),\n",
              " (20200825069960,\n",
              "  '069960',\n",
              "  '현대백화점',\n",
              "  20200825,\n",
              "  56900,\n",
              "  58100,\n",
              "  56800,\n",
              "  57400,\n",
              "  170652),\n",
              " (20200824069960,\n",
              "  '069960',\n",
              "  '현대백화점',\n",
              "  20200824,\n",
              "  57500,\n",
              "  57800,\n",
              "  56000,\n",
              "  56500,\n",
              "  157000),\n",
              " (20200821069960,\n",
              "  '069960',\n",
              "  '현대백화점',\n",
              "  20200821,\n",
              "  58300,\n",
              "  59200,\n",
              "  57400,\n",
              "  57700,\n",
              "  120640),\n",
              " (20200820069960,\n",
              "  '069960',\n",
              "  '현대백화점',\n",
              "  20200820,\n",
              "  59900,\n",
              "  60400,\n",
              "  57900,\n",
              "  58300,\n",
              "  155463),\n",
              " (20200819069960,\n",
              "  '069960',\n",
              "  '현대백화점',\n",
              "  20200819,\n",
              "  60200,\n",
              "  60900,\n",
              "  59500,\n",
              "  60300,\n",
              "  90116)]"
            ]
          },
          "metadata": {
            "tags": []
          },
          "execution_count": 27
        }
      ]
    },
    {
      "cell_type": "code",
      "metadata": {
        "id": "tWpf7s6ZaEj4",
        "colab_type": "code",
        "colab": {}
      },
      "source": [
        ""
      ],
      "execution_count": null,
      "outputs": []
    }
  ]
}