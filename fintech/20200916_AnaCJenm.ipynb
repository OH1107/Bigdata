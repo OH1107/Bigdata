{
  "nbformat": 4,
  "nbformat_minor": 0,
  "metadata": {
    "kernelspec": {
      "display_name": "Python 3",
      "language": "python",
      "name": "python3"
    },
    "language_info": {
      "codemirror_mode": {
        "name": "ipython",
        "version": 3
      },
      "file_extension": ".py",
      "mimetype": "text/x-python",
      "name": "python",
      "nbconvert_exporter": "python",
      "pygments_lexer": "ipython3",
      "version": "3.8.3"
    },
    "colab": {
      "name": "AnaCJenm.ipynb",
      "provenance": [],
      "include_colab_link": true
    }
  },
  "cells": [
    {
      "cell_type": "markdown",
      "metadata": {
        "id": "view-in-github",
        "colab_type": "text"
      },
      "source": [
        "<a href=\"https://colab.research.google.com/github/OH1107/edu/blob/master/fintech/20200916_AnaCJenm.ipynb\" target=\"_parent\"><img src=\"https://colab.research.google.com/assets/colab-badge.svg\" alt=\"Open In Colab\"/></a>"
      ]
    },
    {
      "cell_type": "code",
      "metadata": {
        "id": "62iiF_7P0JX5",
        "colab_type": "code",
        "colab": {}
      },
      "source": [
        "import sqlite3 \n",
        "import numpy as np\n",
        "import pandas as pd\n",
        "import matplotlib as mpl\n",
        "import matplotlib.pyplot as plt"
      ],
      "execution_count": null,
      "outputs": []
    },
    {
      "cell_type": "code",
      "metadata": {
        "id": "KTFp7aYh0JX-",
        "colab_type": "code",
        "colab": {}
      },
      "source": [
        "dbname='NaverStock.db'\n",
        "def selData(whr=' where SIDX=0'):\n",
        "    with sqlite3.connect(dbname) as conn:\n",
        "        cur=conn.cursor()\n",
        "        sql='select SDAY,OPENP,HIGHP,LOWP,CLOSEP,VOL from StockDay '+whr\n",
        "        cur.execute(sql)\n",
        "        rows=cur.fetchall()\n",
        "        cur.close()\n",
        "    return rows"
      ],
      "execution_count": null,
      "outputs": []
    },
    {
      "cell_type": "markdown",
      "metadata": {
        "id": "23olvs3P0flB",
        "colab_type": "text"
      },
      "source": [
        "- GS 홈쇼핑 데이터"
      ]
    },
    {
      "cell_type": "code",
      "metadata": {
        "id": "0_J0pC-U0JYB",
        "colab_type": "code",
        "colab": {},
        "outputId": "e89d3274-3aca-425d-c49f-33e18422015c"
      },
      "source": [
        "whr='where SDAY>20200101 and SCODE=\"028150\" order by SDAY  asc limit 250'\n",
        "res=selData(whr)\n",
        "cols=['SDAY','OPENP','HIGHP','LOWP','CLOSEP','VOL']\n",
        "dfgs=pd.DataFrame(data=res,columns=cols)\n",
        "dfgs.head()"
      ],
      "execution_count": null,
      "outputs": [
        {
          "output_type": "execute_result",
          "data": {
            "text/html": [
              "<div>\n",
              "<style scoped>\n",
              "    .dataframe tbody tr th:only-of-type {\n",
              "        vertical-align: middle;\n",
              "    }\n",
              "\n",
              "    .dataframe tbody tr th {\n",
              "        vertical-align: top;\n",
              "    }\n",
              "\n",
              "    .dataframe thead th {\n",
              "        text-align: right;\n",
              "    }\n",
              "</style>\n",
              "<table border=\"1\" class=\"dataframe\">\n",
              "  <thead>\n",
              "    <tr style=\"text-align: right;\">\n",
              "      <th></th>\n",
              "      <th>SDAY</th>\n",
              "      <th>OPENP</th>\n",
              "      <th>HIGHP</th>\n",
              "      <th>LOWP</th>\n",
              "      <th>CLOSEP</th>\n",
              "      <th>VOL</th>\n",
              "    </tr>\n",
              "  </thead>\n",
              "  <tbody>\n",
              "    <tr>\n",
              "      <th>0</th>\n",
              "      <td>20200102</td>\n",
              "      <td>148600</td>\n",
              "      <td>148600</td>\n",
              "      <td>146400</td>\n",
              "      <td>146500</td>\n",
              "      <td>14920</td>\n",
              "    </tr>\n",
              "    <tr>\n",
              "      <th>1</th>\n",
              "      <td>20200103</td>\n",
              "      <td>148200</td>\n",
              "      <td>148200</td>\n",
              "      <td>145800</td>\n",
              "      <td>145800</td>\n",
              "      <td>16373</td>\n",
              "    </tr>\n",
              "    <tr>\n",
              "      <th>2</th>\n",
              "      <td>20200106</td>\n",
              "      <td>145700</td>\n",
              "      <td>146400</td>\n",
              "      <td>143000</td>\n",
              "      <td>143000</td>\n",
              "      <td>16978</td>\n",
              "    </tr>\n",
              "    <tr>\n",
              "      <th>3</th>\n",
              "      <td>20200107</td>\n",
              "      <td>142700</td>\n",
              "      <td>144400</td>\n",
              "      <td>141200</td>\n",
              "      <td>142000</td>\n",
              "      <td>12613</td>\n",
              "    </tr>\n",
              "    <tr>\n",
              "      <th>4</th>\n",
              "      <td>20200108</td>\n",
              "      <td>141800</td>\n",
              "      <td>141800</td>\n",
              "      <td>138100</td>\n",
              "      <td>139400</td>\n",
              "      <td>21254</td>\n",
              "    </tr>\n",
              "  </tbody>\n",
              "</table>\n",
              "</div>"
            ],
            "text/plain": [
              "       SDAY   OPENP   HIGHP    LOWP  CLOSEP    VOL\n",
              "0  20200102  148600  148600  146400  146500  14920\n",
              "1  20200103  148200  148200  145800  145800  16373\n",
              "2  20200106  145700  146400  143000  143000  16978\n",
              "3  20200107  142700  144400  141200  142000  12613\n",
              "4  20200108  141800  141800  138100  139400  21254"
            ]
          },
          "metadata": {
            "tags": []
          },
          "execution_count": 30
        }
      ]
    },
    {
      "cell_type": "markdown",
      "metadata": {
        "id": "Wto-fX-F0ZPM",
        "colab_type": "text"
      },
      "source": [
        "- CJ ENM 데이터"
      ]
    },
    {
      "cell_type": "code",
      "metadata": {
        "id": "GyLsCFhU0JYE",
        "colab_type": "code",
        "colab": {},
        "outputId": "a2179bc0-0710-4fff-c52d-6a67f1c502ab"
      },
      "source": [
        "whr='where SDAY>20200101 and SCODE=\"035760\" order by SDAY  asc limit 250'\n",
        "res=selData(whr)\n",
        "cols=['SDAY','OPENP','HIGHP','LOWP','CLOSEP','VOL']\n",
        "df=pd.DataFrame(data=res,columns=cols)\n",
        "df.head()"
      ],
      "execution_count": null,
      "outputs": [
        {
          "output_type": "execute_result",
          "data": {
            "text/html": [
              "<div>\n",
              "<style scoped>\n",
              "    .dataframe tbody tr th:only-of-type {\n",
              "        vertical-align: middle;\n",
              "    }\n",
              "\n",
              "    .dataframe tbody tr th {\n",
              "        vertical-align: top;\n",
              "    }\n",
              "\n",
              "    .dataframe thead th {\n",
              "        text-align: right;\n",
              "    }\n",
              "</style>\n",
              "<table border=\"1\" class=\"dataframe\">\n",
              "  <thead>\n",
              "    <tr style=\"text-align: right;\">\n",
              "      <th></th>\n",
              "      <th>SDAY</th>\n",
              "      <th>OPENP</th>\n",
              "      <th>HIGHP</th>\n",
              "      <th>LOWP</th>\n",
              "      <th>CLOSEP</th>\n",
              "      <th>VOL</th>\n",
              "    </tr>\n",
              "  </thead>\n",
              "  <tbody>\n",
              "    <tr>\n",
              "      <th>0</th>\n",
              "      <td>20200102</td>\n",
              "      <td>159300</td>\n",
              "      <td>159400</td>\n",
              "      <td>151000</td>\n",
              "      <td>155600</td>\n",
              "      <td>125376</td>\n",
              "    </tr>\n",
              "    <tr>\n",
              "      <th>1</th>\n",
              "      <td>20200103</td>\n",
              "      <td>155800</td>\n",
              "      <td>157500</td>\n",
              "      <td>153100</td>\n",
              "      <td>154700</td>\n",
              "      <td>98855</td>\n",
              "    </tr>\n",
              "    <tr>\n",
              "      <th>2</th>\n",
              "      <td>20200106</td>\n",
              "      <td>153000</td>\n",
              "      <td>153900</td>\n",
              "      <td>150200</td>\n",
              "      <td>150200</td>\n",
              "      <td>78272</td>\n",
              "    </tr>\n",
              "    <tr>\n",
              "      <th>3</th>\n",
              "      <td>20200107</td>\n",
              "      <td>150300</td>\n",
              "      <td>154600</td>\n",
              "      <td>150300</td>\n",
              "      <td>154600</td>\n",
              "      <td>65431</td>\n",
              "    </tr>\n",
              "    <tr>\n",
              "      <th>4</th>\n",
              "      <td>20200108</td>\n",
              "      <td>152700</td>\n",
              "      <td>153200</td>\n",
              "      <td>150700</td>\n",
              "      <td>151300</td>\n",
              "      <td>75841</td>\n",
              "    </tr>\n",
              "  </tbody>\n",
              "</table>\n",
              "</div>"
            ],
            "text/plain": [
              "       SDAY   OPENP   HIGHP    LOWP  CLOSEP     VOL\n",
              "0  20200102  159300  159400  151000  155600  125376\n",
              "1  20200103  155800  157500  153100  154700   98855\n",
              "2  20200106  153000  153900  150200  150200   78272\n",
              "3  20200107  150300  154600  150300  154600   65431\n",
              "4  20200108  152700  153200  150700  151300   75841"
            ]
          },
          "metadata": {
            "tags": []
          },
          "execution_count": 3
        }
      ]
    },
    {
      "cell_type": "code",
      "metadata": {
        "id": "sUvpw_lD0JYH",
        "colab_type": "code",
        "colab": {},
        "outputId": "765d1d90-2ebd-40da-f695-a1d4e1619d87"
      },
      "source": [
        "sels=['CLOSEP','OPENP']\n",
        "df[sels].plot()\n",
        "#plt.xlim(50,75)\n",
        "#plt.ylim(50000,70000)\n",
        "plt.show()"
      ],
      "execution_count": null,
      "outputs": [
        {
          "output_type": "display_data",
          "data": {
            "image/png": "[encoded data removed]",
            "text/plain": [
              "<Figure size 432x288 with 1 Axes>"
            ]
          },
          "metadata": {
            "tags": [],
            "needs_background": "light"
          }
        }
      ]
    },
    {
      "cell_type": "markdown",
      "metadata": {
        "id": "_EXFgYgu0JYK",
        "colab_type": "text"
      },
      "source": [
        "# 이동평균선\n",
        "* 주가 기술분석"
      ]
    },
    {
      "cell_type": "code",
      "metadata": {
        "id": "ysILHvqP0JYL",
        "colab_type": "code",
        "colab": {}
      },
      "source": [
        "def makeMV(baseday=5,basedata=df['CLOSEP']):\n",
        "    res=[]\n",
        "    # 초기화 하기\n",
        "    for i in range(baseday-1):\n",
        "        res.append(0)\n",
        "    # 이동평균 데이터 만들기\n",
        "    n=len(basedata)-(baseday-1)\n",
        "    print(\"총 데이터수:\",len(basedata),\"초기화 안되고 채워야할 부분:\",n)\n",
        "    for i in range(n):\n",
        "        mvdata=np.average(basedata[i:i+baseday])\n",
        "        res.append(mvdata)\n",
        "    return res\n"
      ],
      "execution_count": null,
      "outputs": []
    },
    {
      "cell_type": "code",
      "metadata": {
        "id": "GM97z6Dg0JYO",
        "colab_type": "code",
        "colab": {},
        "outputId": "13fd38ac-8ff1-452d-bee3-89c8e2df0e88"
      },
      "source": [
        "df['MV5']=makeMV(5)\n",
        "df['MV30']=makeMV(30)\n",
        "df['gsClose']=dfgs['CLOSEP']\n",
        "df.head()"
      ],
      "execution_count": null,
      "outputs": [
        {
          "output_type": "stream",
          "text": [
            "총 데이터수: 178 초기화 안되고 채워야할 부분: 174\n",
            "총 데이터수: 178 초기화 안되고 채워야할 부분: 149\n"
          ],
          "name": "stdout"
        },
        {
          "output_type": "execute_result",
          "data": {
            "text/html": [
              "<div>\n",
              "<style scoped>\n",
              "    .dataframe tbody tr th:only-of-type {\n",
              "        vertical-align: middle;\n",
              "    }\n",
              "\n",
              "    .dataframe tbody tr th {\n",
              "        vertical-align: top;\n",
              "    }\n",
              "\n",
              "    .dataframe thead th {\n",
              "        text-align: right;\n",
              "    }\n",
              "</style>\n",
              "<table border=\"1\" class=\"dataframe\">\n",
              "  <thead>\n",
              "    <tr style=\"text-align: right;\">\n",
              "      <th></th>\n",
              "      <th>SDAY</th>\n",
              "      <th>OPENP</th>\n",
              "      <th>HIGHP</th>\n",
              "      <th>LOWP</th>\n",
              "      <th>CLOSEP</th>\n",
              "      <th>VOL</th>\n",
              "      <th>MV5</th>\n",
              "      <th>MV30</th>\n",
              "      <th>gsClose</th>\n",
              "    </tr>\n",
              "  </thead>\n",
              "  <tbody>\n",
              "    <tr>\n",
              "      <th>0</th>\n",
              "      <td>20200102</td>\n",
              "      <td>159300</td>\n",
              "      <td>159400</td>\n",
              "      <td>151000</td>\n",
              "      <td>155600</td>\n",
              "      <td>125376</td>\n",
              "      <td>0.0</td>\n",
              "      <td>0.0</td>\n",
              "      <td>146500</td>\n",
              "    </tr>\n",
              "    <tr>\n",
              "      <th>1</th>\n",
              "      <td>20200103</td>\n",
              "      <td>155800</td>\n",
              "      <td>157500</td>\n",
              "      <td>153100</td>\n",
              "      <td>154700</td>\n",
              "      <td>98855</td>\n",
              "      <td>0.0</td>\n",
              "      <td>0.0</td>\n",
              "      <td>145800</td>\n",
              "    </tr>\n",
              "    <tr>\n",
              "      <th>2</th>\n",
              "      <td>20200106</td>\n",
              "      <td>153000</td>\n",
              "      <td>153900</td>\n",
              "      <td>150200</td>\n",
              "      <td>150200</td>\n",
              "      <td>78272</td>\n",
              "      <td>0.0</td>\n",
              "      <td>0.0</td>\n",
              "      <td>143000</td>\n",
              "    </tr>\n",
              "    <tr>\n",
              "      <th>3</th>\n",
              "      <td>20200107</td>\n",
              "      <td>150300</td>\n",
              "      <td>154600</td>\n",
              "      <td>150300</td>\n",
              "      <td>154600</td>\n",
              "      <td>65431</td>\n",
              "      <td>0.0</td>\n",
              "      <td>0.0</td>\n",
              "      <td>142000</td>\n",
              "    </tr>\n",
              "    <tr>\n",
              "      <th>4</th>\n",
              "      <td>20200108</td>\n",
              "      <td>152700</td>\n",
              "      <td>153200</td>\n",
              "      <td>150700</td>\n",
              "      <td>151300</td>\n",
              "      <td>75841</td>\n",
              "      <td>153280.0</td>\n",
              "      <td>0.0</td>\n",
              "      <td>139400</td>\n",
              "    </tr>\n",
              "  </tbody>\n",
              "</table>\n",
              "</div>"
            ],
            "text/plain": [
              "       SDAY   OPENP   HIGHP    LOWP  CLOSEP     VOL       MV5  MV30  gsClose\n",
              "0  20200102  159300  159400  151000  155600  125376       0.0   0.0   146500\n",
              "1  20200103  155800  157500  153100  154700   98855       0.0   0.0   145800\n",
              "2  20200106  153000  153900  150200  150200   78272       0.0   0.0   143000\n",
              "3  20200107  150300  154600  150300  154600   65431       0.0   0.0   142000\n",
              "4  20200108  152700  153200  150700  151300   75841  153280.0   0.0   139400"
            ]
          },
          "metadata": {
            "tags": []
          },
          "execution_count": 31
        }
      ]
    },
    {
      "cell_type": "code",
      "metadata": {
        "id": "KVsA8s_J0JYR",
        "colab_type": "code",
        "colab": {},
        "outputId": "0e84d0a6-181a-4b62-c766-ab8db9b7d019"
      },
      "source": [
        "df[['CLOSEP','gsClose']].plot()\n",
        "#plt.xlim(0,10)\n",
        "#plt.ylim(150000,170000)\n",
        "plt.legend()\n",
        "plt.show()"
      ],
      "execution_count": null,
      "outputs": [
        {
          "output_type": "display_data",
          "data": {
            "image/png": "[encoded data removed]",
            "text/plain": [
              "<Figure size 432x288 with 1 Axes>"
            ]
          },
          "metadata": {
            "tags": [],
            "needs_background": "light"
          }
        }
      ]
    },
    {
      "cell_type": "code",
      "metadata": {
        "id": "IwYmI39y0JYT",
        "colab_type": "code",
        "colab": {}
      },
      "source": [
        ""
      ],
      "execution_count": null,
      "outputs": []
    }
  ]
}