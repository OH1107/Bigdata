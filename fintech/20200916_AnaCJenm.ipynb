{
  "nbformat": 4,
  "nbformat_minor": 0,
  "metadata": {
    "kernelspec": {
      "display_name": "Python 3",
      "language": "python",
      "name": "python3"
    },
    "language_info": {
      "codemirror_mode": {
        "name": "ipython",
        "version": 3
      },
      "file_extension": ".py",
      "mimetype": "text/x-python",
      "name": "python",
      "nbconvert_exporter": "python",
      "pygments_lexer": "ipython3",
      "version": "3.8.3"
    },
    "colab": {
      "name": "AnaCJenm(마크다운).ipynb",
      "provenance": [],
      "include_colab_link": true
    }
  },
  "cells": [
    {
      "cell_type": "markdown",
      "metadata": {
        "id": "view-in-github",
        "colab_type": "text"
      },
      "source": [
        "<a href=\"https://colab.research.google.com/github/OH1107/edu/blob/master/fintech/20200916_AnaCJenm.ipynb\" target=\"_parent\"><img src=\"https://colab.research.google.com/assets/colab-badge.svg\" alt=\"Open In Colab\"/></a>"
      ]
    },
    {
      "cell_type": "code",
      "metadata": {
        "id": "qPXQJTDeBgRY",
        "colab_type": "code",
        "colab": {}
      },
      "source": [
        "import sqlite3 \n",
        "import numpy as np\n",
        "import pandas as pd\n",
        "import matplotlib as mpl\n",
        "import matplotlib.pyplot as plt"
      ],
      "execution_count": null,
      "outputs": []
    },
    {
      "cell_type": "code",
      "metadata": {
        "id": "p09hZ8SHBgRc",
        "colab_type": "code",
        "colab": {}
      },
      "source": [
        "dbname='NaverStock.db'\n",
        "def selData(whr=' where SIDX=0'):\n",
        "    with sqlite3.connect(dbname) as conn:\n",
        "        cur=conn.cursor()\n",
        "        sql='select SDAY,OPENP,HIGHP,LOWP,CLOSEP,VOL from StockDay '+whr\n",
        "        cur.execute(sql)\n",
        "        rows=cur.fetchall()\n",
        "        cur.close()\n",
        "    return rows"
      ],
      "execution_count": null,
      "outputs": []
    },
    {
      "cell_type": "code",
      "metadata": {
        "id": "QBfN5zvjBgRf",
        "colab_type": "code",
        "colab": {},
        "outputId": "13f0f234-ebfe-4a11-dc5b-ce79f648f5c8"
      },
      "source": [
        "whr='where SDAY>20200101 and SCODE=\"028150\" order by SDAY  asc limit 250'\n",
        "res=selData(whr)\n",
        "cols=['SDAY','OPENP','HIGHP','LOWP','CLOSEP','VOL']\n",
        "dfgs=pd.DataFrame(data=res,columns=cols)\n",
        "dfgs.head()"
      ],
      "execution_count": null,
      "outputs": [
        {
          "output_type": "execute_result",
          "data": {
            "text/html": [
              "<div>\n",
              "<style scoped>\n",
              "    .dataframe tbody tr th:only-of-type {\n",
              "        vertical-align: middle;\n",
              "    }\n",
              "\n",
              "    .dataframe tbody tr th {\n",
              "        vertical-align: top;\n",
              "    }\n",
              "\n",
              "    .dataframe thead th {\n",
              "        text-align: right;\n",
              "    }\n",
              "</style>\n",
              "<table border=\"1\" class=\"dataframe\">\n",
              "  <thead>\n",
              "    <tr style=\"text-align: right;\">\n",
              "      <th></th>\n",
              "      <th>SDAY</th>\n",
              "      <th>OPENP</th>\n",
              "      <th>HIGHP</th>\n",
              "      <th>LOWP</th>\n",
              "      <th>CLOSEP</th>\n",
              "      <th>VOL</th>\n",
              "    </tr>\n",
              "  </thead>\n",
              "  <tbody>\n",
              "    <tr>\n",
              "      <th>0</th>\n",
              "      <td>20200102</td>\n",
              "      <td>148600</td>\n",
              "      <td>148600</td>\n",
              "      <td>146400</td>\n",
              "      <td>146500</td>\n",
              "      <td>14920</td>\n",
              "    </tr>\n",
              "    <tr>\n",
              "      <th>1</th>\n",
              "      <td>20200103</td>\n",
              "      <td>148200</td>\n",
              "      <td>148200</td>\n",
              "      <td>145800</td>\n",
              "      <td>145800</td>\n",
              "      <td>16373</td>\n",
              "    </tr>\n",
              "    <tr>\n",
              "      <th>2</th>\n",
              "      <td>20200106</td>\n",
              "      <td>145700</td>\n",
              "      <td>146400</td>\n",
              "      <td>143000</td>\n",
              "      <td>143000</td>\n",
              "      <td>16978</td>\n",
              "    </tr>\n",
              "    <tr>\n",
              "      <th>3</th>\n",
              "      <td>20200107</td>\n",
              "      <td>142700</td>\n",
              "      <td>144400</td>\n",
              "      <td>141200</td>\n",
              "      <td>142000</td>\n",
              "      <td>12613</td>\n",
              "    </tr>\n",
              "    <tr>\n",
              "      <th>4</th>\n",
              "      <td>20200108</td>\n",
              "      <td>141800</td>\n",
              "      <td>141800</td>\n",
              "      <td>138100</td>\n",
              "      <td>139400</td>\n",
              "      <td>21254</td>\n",
              "    </tr>\n",
              "  </tbody>\n",
              "</table>\n",
              "</div>"
            ],
            "text/plain": [
              "       SDAY   OPENP   HIGHP    LOWP  CLOSEP    VOL\n",
              "0  20200102  148600  148600  146400  146500  14920\n",
              "1  20200103  148200  148200  145800  145800  16373\n",
              "2  20200106  145700  146400  143000  143000  16978\n",
              "3  20200107  142700  144400  141200  142000  12613\n",
              "4  20200108  141800  141800  138100  139400  21254"
            ]
          },
          "metadata": {
            "tags": []
          },
          "execution_count": 30
        }
      ]
    },
    {
      "cell_type": "code",
      "metadata": {
        "id": "3XJBGSFNBgRj",
        "colab_type": "code",
        "colab": {},
        "outputId": "d99ef969-fcca-4287-a4af-452acd760f8e"
      },
      "source": [
        "whr='where SDAY>20200101 and SCODE=\"035760\" order by SDAY  asc limit 250'\n",
        "res=selData(whr)\n",
        "cols=['SDAY','OPENP','HIGHP','LOWP','CLOSEP','VOL']\n",
        "df=pd.DataFrame(data=res,columns=cols)\n",
        "df.head()"
      ],
      "execution_count": null,
      "outputs": [
        {
          "output_type": "execute_result",
          "data": {
            "text/html": [
              "<div>\n",
              "<style scoped>\n",
              "    .dataframe tbody tr th:only-of-type {\n",
              "        vertical-align: middle;\n",
              "    }\n",
              "\n",
              "    .dataframe tbody tr th {\n",
              "        vertical-align: top;\n",
              "    }\n",
              "\n",
              "    .dataframe thead th {\n",
              "        text-align: right;\n",
              "    }\n",
              "</style>\n",
              "<table border=\"1\" class=\"dataframe\">\n",
              "  <thead>\n",
              "    <tr style=\"text-align: right;\">\n",
              "      <th></th>\n",
              "      <th>SDAY</th>\n",
              "      <th>OPENP</th>\n",
              "      <th>HIGHP</th>\n",
              "      <th>LOWP</th>\n",
              "      <th>CLOSEP</th>\n",
              "      <th>VOL</th>\n",
              "    </tr>\n",
              "  </thead>\n",
              "  <tbody>\n",
              "    <tr>\n",
              "      <th>0</th>\n",
              "      <td>20200102</td>\n",
              "      <td>159300</td>\n",
              "      <td>159400</td>\n",
              "      <td>151000</td>\n",
              "      <td>155600</td>\n",
              "      <td>125376</td>\n",
              "    </tr>\n",
              "    <tr>\n",
              "      <th>1</th>\n",
              "      <td>20200103</td>\n",
              "      <td>155800</td>\n",
              "      <td>157500</td>\n",
              "      <td>153100</td>\n",
              "      <td>154700</td>\n",
              "      <td>98855</td>\n",
              "    </tr>\n",
              "    <tr>\n",
              "      <th>2</th>\n",
              "      <td>20200106</td>\n",
              "      <td>153000</td>\n",
              "      <td>153900</td>\n",
              "      <td>150200</td>\n",
              "      <td>150200</td>\n",
              "      <td>78272</td>\n",
              "    </tr>\n",
              "    <tr>\n",
              "      <th>3</th>\n",
              "      <td>20200107</td>\n",
              "      <td>150300</td>\n",
              "      <td>154600</td>\n",
              "      <td>150300</td>\n",
              "      <td>154600</td>\n",
              "      <td>65431</td>\n",
              "    </tr>\n",
              "    <tr>\n",
              "      <th>4</th>\n",
              "      <td>20200108</td>\n",
              "      <td>152700</td>\n",
              "      <td>153200</td>\n",
              "      <td>150700</td>\n",
              "      <td>151300</td>\n",
              "      <td>75841</td>\n",
              "    </tr>\n",
              "  </tbody>\n",
              "</table>\n",
              "</div>"
            ],
            "text/plain": [
              "       SDAY   OPENP   HIGHP    LOWP  CLOSEP     VOL\n",
              "0  20200102  159300  159400  151000  155600  125376\n",
              "1  20200103  155800  157500  153100  154700   98855\n",
              "2  20200106  153000  153900  150200  150200   78272\n",
              "3  20200107  150300  154600  150300  154600   65431\n",
              "4  20200108  152700  153200  150700  151300   75841"
            ]
          },
          "metadata": {
            "tags": []
          },
          "execution_count": 3
        }
      ]
    },
    {
      "cell_type": "code",
      "metadata": {
        "id": "KRltITPIBgRn",
        "colab_type": "code",
        "colab": {},
        "outputId": "bac8d16d-4946-4dfb-b074-b374f4a25121"
      },
      "source": [
        "sels=['CLOSEP','OPENP']\n",
        "df[sels].plot()\n",
        "#plt.xlim(50,75)\n",
        "#plt.ylim(50000,70000)\n",
        "plt.show()"
      ],
      "execution_count": null,
      "outputs": [
        {
          "output_type": "display_data",
          "data": {
            "image/png": "[encoded data removed]",
            "text/plain": [
              "<Figure size 432x288 with 1 Axes>"
            ]
          },
          "metadata": {
            "tags": [],
            "needs_background": "light"
          }
        }
      ]
    },
    {
      "cell_type": "markdown",
      "metadata": {
        "id": "ZRMD6gT6BgRr",
        "colab_type": "text"
      },
      "source": [
        "# 이동평균선\n",
        "* 주가 기술분석\n",
        "* 단기 이평선(5일 이평선) 장기 이평선(30일 이평선)을 설정\n",
        "* 장단기 이평선을 분석\n",
        "* 골든크로스 (단기 이평선이 장기 이평선을 아래서 위로 통과)\n",
        "* 데드크로스 (단기 이평선이 장기 이평선을 위에서 아래로 통과)\n",
        "* 마케팅의 시장평가 지점을 지정"
      ]
    },
    {
      "cell_type": "code",
      "metadata": {
        "id": "Qvm4SjY7BgRs",
        "colab_type": "code",
        "colab": {}
      },
      "source": [
        "def makeMV(baseday=5,basedata=df['CLOSEP']):\n",
        "    res=[]\n",
        "    # 초기화 하기\n",
        "    for i in range(baseday-1):\n",
        "        res.append(0)\n",
        "    # 이동평균 데이터 만들기\n",
        "    n=len(basedata)-(baseday-1)\n",
        "    print(\"총 데이터수:\",len(basedata),\"초기화 안되고 채워야할 부분:\",n)\n",
        "    for i in range(n):\n",
        "        mvdata=np.average(basedata[i:i+baseday])\n",
        "        res.append(mvdata)\n",
        "    return res\n"
      ],
      "execution_count": null,
      "outputs": []
    },
    {
      "cell_type": "code",
      "metadata": {
        "id": "THTlmFmDBgRu",
        "colab_type": "code",
        "colab": {},
        "outputId": "998ebd89-7fc5-4757-b9b3-fbdacf9e68ad"
      },
      "source": [
        "df['MV5']=makeMV(5)\n",
        "df['MV30']=makeMV(30)\n",
        "df['gsClose']=dfgs['CLOSEP']\n",
        "df.head()"
      ],
      "execution_count": null,
      "outputs": [
        {
          "output_type": "stream",
          "text": [
            "총 데이터수: 178 초기화 안되고 채워야할 부분: 174\n",
            "총 데이터수: 178 초기화 안되고 채워야할 부분: 149\n"
          ],
          "name": "stdout"
        },
        {
          "output_type": "execute_result",
          "data": {
            "text/html": [
              "<div>\n",
              "<style scoped>\n",
              "    .dataframe tbody tr th:only-of-type {\n",
              "        vertical-align: middle;\n",
              "    }\n",
              "\n",
              "    .dataframe tbody tr th {\n",
              "        vertical-align: top;\n",
              "    }\n",
              "\n",
              "    .dataframe thead th {\n",
              "        text-align: right;\n",
              "    }\n",
              "</style>\n",
              "<table border=\"1\" class=\"dataframe\">\n",
              "  <thead>\n",
              "    <tr style=\"text-align: right;\">\n",
              "      <th></th>\n",
              "      <th>SDAY</th>\n",
              "      <th>OPENP</th>\n",
              "      <th>HIGHP</th>\n",
              "      <th>LOWP</th>\n",
              "      <th>CLOSEP</th>\n",
              "      <th>VOL</th>\n",
              "      <th>MV5</th>\n",
              "      <th>MV30</th>\n",
              "      <th>gsClose</th>\n",
              "    </tr>\n",
              "  </thead>\n",
              "  <tbody>\n",
              "    <tr>\n",
              "      <th>0</th>\n",
              "      <td>20200102</td>\n",
              "      <td>159300</td>\n",
              "      <td>159400</td>\n",
              "      <td>151000</td>\n",
              "      <td>155600</td>\n",
              "      <td>125376</td>\n",
              "      <td>0.0</td>\n",
              "      <td>0.0</td>\n",
              "      <td>146500</td>\n",
              "    </tr>\n",
              "    <tr>\n",
              "      <th>1</th>\n",
              "      <td>20200103</td>\n",
              "      <td>155800</td>\n",
              "      <td>157500</td>\n",
              "      <td>153100</td>\n",
              "      <td>154700</td>\n",
              "      <td>98855</td>\n",
              "      <td>0.0</td>\n",
              "      <td>0.0</td>\n",
              "      <td>145800</td>\n",
              "    </tr>\n",
              "    <tr>\n",
              "      <th>2</th>\n",
              "      <td>20200106</td>\n",
              "      <td>153000</td>\n",
              "      <td>153900</td>\n",
              "      <td>150200</td>\n",
              "      <td>150200</td>\n",
              "      <td>78272</td>\n",
              "      <td>0.0</td>\n",
              "      <td>0.0</td>\n",
              "      <td>143000</td>\n",
              "    </tr>\n",
              "    <tr>\n",
              "      <th>3</th>\n",
              "      <td>20200107</td>\n",
              "      <td>150300</td>\n",
              "      <td>154600</td>\n",
              "      <td>150300</td>\n",
              "      <td>154600</td>\n",
              "      <td>65431</td>\n",
              "      <td>0.0</td>\n",
              "      <td>0.0</td>\n",
              "      <td>142000</td>\n",
              "    </tr>\n",
              "    <tr>\n",
              "      <th>4</th>\n",
              "      <td>20200108</td>\n",
              "      <td>152700</td>\n",
              "      <td>153200</td>\n",
              "      <td>150700</td>\n",
              "      <td>151300</td>\n",
              "      <td>75841</td>\n",
              "      <td>153280.0</td>\n",
              "      <td>0.0</td>\n",
              "      <td>139400</td>\n",
              "    </tr>\n",
              "  </tbody>\n",
              "</table>\n",
              "</div>"
            ],
            "text/plain": [
              "       SDAY   OPENP   HIGHP    LOWP  CLOSEP     VOL       MV5  MV30  gsClose\n",
              "0  20200102  159300  159400  151000  155600  125376       0.0   0.0   146500\n",
              "1  20200103  155800  157500  153100  154700   98855       0.0   0.0   145800\n",
              "2  20200106  153000  153900  150200  150200   78272       0.0   0.0   143000\n",
              "3  20200107  150300  154600  150300  154600   65431       0.0   0.0   142000\n",
              "4  20200108  152700  153200  150700  151300   75841  153280.0   0.0   139400"
            ]
          },
          "metadata": {
            "tags": []
          },
          "execution_count": 31
        }
      ]
    },
    {
      "cell_type": "markdown",
      "metadata": {
        "id": "ARKRQEzJBgRz",
        "colab_type": "text"
      },
      "source": [
        "# 경쟁사 분석\n",
        "* 동종 유사 주가의 경쟁사 분석을 통해 시장기준 주가 분석"
      ]
    },
    {
      "cell_type": "code",
      "metadata": {
        "id": "NEraxr71BgR0",
        "colab_type": "code",
        "colab": {},
        "outputId": "cd583375-a464-43bf-ca69-f66635982107"
      },
      "source": [
        "df[['CLOSEP','gsClose']].plot()\n",
        "#plt.xlim(0,10)\n",
        "#plt.ylim(150000,170000)\n",
        "plt.legend()\n",
        "plt.show()"
      ],
      "execution_count": null,
      "outputs": [
        {
          "output_type": "display_data",
          "data": {
            "image/png": "[encoded data removed]",
            "text/plain": [
              "<Figure size 432x288 with 1 Axes>"
            ]
          },
          "metadata": {
            "tags": [],
            "needs_background": "light"
          }
        }
      ]
    },
    {
      "cell_type": "markdown",
      "metadata": {
        "id": "l7RqlHbFBgR3",
        "colab_type": "text"
      },
      "source": [
        "### 장단기 크로스 포인트 분석\n",
        "* 주가 장단기 이평선에 관한 크로스 포인트 분석\n",
        "* 이를 통해 시장에 반영된 마케팅 기준선을 부여"
      ]
    },
    {
      "cell_type": "code",
      "metadata": {
        "id": "2vwCOZnzBgR3",
        "colab_type": "code",
        "colab": {},
        "outputId": "1eb1abe2-ea3e-42ca-e7bf-4e294997c047"
      },
      "source": [
        "df[['MV5','MV30']].plot()\n",
        "#plt.xlim(0,10)\n",
        "#plt.ylim(150000,170000)\n",
        "plt.legend()\n",
        "plt.show()"
      ],
      "execution_count": null,
      "outputs": [
        {
          "output_type": "display_data",
          "data": {
            "image/png": "[encoded data removed]",
            "text/plain": [
              "<Figure size 432x288 with 1 Axes>"
            ]
          },
          "metadata": {
            "tags": [],
            "needs_background": "light"
          }
        }
      ]
    },
    {
      "cell_type": "code",
      "metadata": {
        "collapsed": true,
        "jupyter": {
          "outputs_hidden": true
        },
        "id": "LF08wdhEBgR5",
        "colab_type": "code",
        "colab": {},
        "outputId": "89373258-28e4-4c52-845f-d0e8085767ee"
      },
      "source": [
        "short=df['MV5']\n",
        "long=df['MV30']\n",
        "res=[]\n",
        "longday=30\n",
        "for i in range(longday):\n",
        "    res.append(0)\n",
        "    \n",
        "for i in range(longday,len(short)):\n",
        "    if(short[i]>long[i]):\n",
        "        res.append(1)\n",
        "    else:\n",
        "        res.append(-1)\n",
        "df['holdPos']=res\n",
        "df.head()\n"
      ],
      "execution_count": null,
      "outputs": [
        {
          "output_type": "execute_result",
          "data": {
            "text/html": [
              "<div>\n",
              "<style scoped>\n",
              "    .dataframe tbody tr th:only-of-type {\n",
              "        vertical-align: middle;\n",
              "    }\n",
              "\n",
              "    .dataframe tbody tr th {\n",
              "        vertical-align: top;\n",
              "    }\n",
              "\n",
              "    .dataframe thead th {\n",
              "        text-align: right;\n",
              "    }\n",
              "</style>\n",
              "<table border=\"1\" class=\"dataframe\">\n",
              "  <thead>\n",
              "    <tr style=\"text-align: right;\">\n",
              "      <th></th>\n",
              "      <th>SDAY</th>\n",
              "      <th>OPENP</th>\n",
              "      <th>HIGHP</th>\n",
              "      <th>LOWP</th>\n",
              "      <th>CLOSEP</th>\n",
              "      <th>VOL</th>\n",
              "      <th>MV5</th>\n",
              "      <th>MV30</th>\n",
              "      <th>gsClose</th>\n",
              "      <th>holdPos</th>\n",
              "    </tr>\n",
              "  </thead>\n",
              "  <tbody>\n",
              "    <tr>\n",
              "      <th>0</th>\n",
              "      <td>20200102</td>\n",
              "      <td>159300</td>\n",
              "      <td>159400</td>\n",
              "      <td>151000</td>\n",
              "      <td>155600</td>\n",
              "      <td>125376</td>\n",
              "      <td>0.0</td>\n",
              "      <td>0.0</td>\n",
              "      <td>146500</td>\n",
              "      <td>0</td>\n",
              "    </tr>\n",
              "    <tr>\n",
              "      <th>1</th>\n",
              "      <td>20200103</td>\n",
              "      <td>155800</td>\n",
              "      <td>157500</td>\n",
              "      <td>153100</td>\n",
              "      <td>154700</td>\n",
              "      <td>98855</td>\n",
              "      <td>0.0</td>\n",
              "      <td>0.0</td>\n",
              "      <td>145800</td>\n",
              "      <td>0</td>\n",
              "    </tr>\n",
              "    <tr>\n",
              "      <th>2</th>\n",
              "      <td>20200106</td>\n",
              "      <td>153000</td>\n",
              "      <td>153900</td>\n",
              "      <td>150200</td>\n",
              "      <td>150200</td>\n",
              "      <td>78272</td>\n",
              "      <td>0.0</td>\n",
              "      <td>0.0</td>\n",
              "      <td>143000</td>\n",
              "      <td>0</td>\n",
              "    </tr>\n",
              "    <tr>\n",
              "      <th>3</th>\n",
              "      <td>20200107</td>\n",
              "      <td>150300</td>\n",
              "      <td>154600</td>\n",
              "      <td>150300</td>\n",
              "      <td>154600</td>\n",
              "      <td>65431</td>\n",
              "      <td>0.0</td>\n",
              "      <td>0.0</td>\n",
              "      <td>142000</td>\n",
              "      <td>0</td>\n",
              "    </tr>\n",
              "    <tr>\n",
              "      <th>4</th>\n",
              "      <td>20200108</td>\n",
              "      <td>152700</td>\n",
              "      <td>153200</td>\n",
              "      <td>150700</td>\n",
              "      <td>151300</td>\n",
              "      <td>75841</td>\n",
              "      <td>153280.0</td>\n",
              "      <td>0.0</td>\n",
              "      <td>139400</td>\n",
              "      <td>0</td>\n",
              "    </tr>\n",
              "  </tbody>\n",
              "</table>\n",
              "</div>"
            ],
            "text/plain": [
              "       SDAY   OPENP   HIGHP    LOWP  CLOSEP     VOL       MV5  MV30  gsClose  \\\n",
              "0  20200102  159300  159400  151000  155600  125376       0.0   0.0   146500   \n",
              "1  20200103  155800  157500  153100  154700   98855       0.0   0.0   145800   \n",
              "2  20200106  153000  153900  150200  150200   78272       0.0   0.0   143000   \n",
              "3  20200107  150300  154600  150300  154600   65431       0.0   0.0   142000   \n",
              "4  20200108  152700  153200  150700  151300   75841  153280.0   0.0   139400   \n",
              "\n",
              "   holdPos  \n",
              "0        0  \n",
              "1        0  \n",
              "2        0  \n",
              "3        0  \n",
              "4        0  "
            ]
          },
          "metadata": {
            "tags": []
          },
          "execution_count": 55
        }
      ]
    },
    {
      "cell_type": "code",
      "metadata": {
        "collapsed": true,
        "jupyter": {
          "outputs_hidden": true
        },
        "id": "3skVgWGUBgR8",
        "colab_type": "code",
        "colab": {},
        "outputId": "fccd948c-ba2b-423c-ba71-1ef8d53012c5"
      },
      "source": [
        "plt.plot(res)"
      ],
      "execution_count": null,
      "outputs": [
        {
          "output_type": "execute_result",
          "data": {
            "text/plain": [
              "[<matplotlib.lines.Line2D at 0x206b8ca39d0>]"
            ]
          },
          "metadata": {
            "tags": []
          },
          "execution_count": 56
        },
        {
          "output_type": "display_data",
          "data": {
            "image/png": "[encoded data removed]",
            "text/plain": [
              "<Figure size 432x288 with 1 Axes>"
            ]
          },
          "metadata": {
            "tags": [],
            "needs_background": "light"
          }
        }
      ]
    },
    {
      "cell_type": "markdown",
      "metadata": {
        "id": "YEWmmR7cBgSD",
        "colab_type": "text"
      },
      "source": [
        "#### 성장동력과 크로스포인트와의 관계\n",
        "* 단기 성장성(성장비율)과 장단기 주가 모멘텀 분석\n",
        "* 실질적 주가에 영향을 주는 마케팅 포인트 지점 획득"
      ]
    },
    {
      "cell_type": "code",
      "metadata": {
        "id": "DJ1x5hIwBgSE",
        "colab_type": "code",
        "colab": {},
        "outputId": "530dbd49-9f56-4ff3-993f-38e63aae5a74"
      },
      "source": [
        "baseData=df['MV5']\n",
        "res=[1]\n",
        "for i in range(1,len(baseData)):\n",
        "    c=((baseData[i]/baseData[i-1])-1)*20\n",
        "    res.append(c)\n",
        "df['holdPos'].plot()\n",
        "plt.plot(res)\n",
        "plt.plot([0,175],[0,0])\n",
        "plt.xlim(30,175)\n",
        "plt.ylim(-2,2)\n",
        "plt.show()"
      ],
      "execution_count": null,
      "outputs": [
        {
          "output_type": "stream",
          "text": [
            "<ipython-input-71-d6d3f36f37c5>:4: RuntimeWarning: invalid value encountered in double_scalars\n",
            "  c=((baseData[i]/baseData[i-1])-1)*20\n",
            "<ipython-input-71-d6d3f36f37c5>:4: RuntimeWarning: divide by zero encountered in double_scalars\n",
            "  c=((baseData[i]/baseData[i-1])-1)*20\n"
          ],
          "name": "stderr"
        },
        {
          "output_type": "display_data",
          "data": {
            "image/png": "[encoded data removed]",
            "text/plain": [
              "<Figure size 432x288 with 1 Axes>"
            ]
          },
          "metadata": {
            "tags": [],
            "needs_background": "light"
          }
        }
      ]
    },
    {
      "cell_type": "code",
      "metadata": {
        "id": "QCLFVdU3BgSG",
        "colab_type": "code",
        "colab": {}
      },
      "source": [
        ""
      ],
      "execution_count": null,
      "outputs": []
    }
  ]
}