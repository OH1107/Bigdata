{
  "nbformat": 4,
  "nbformat_minor": 0,
  "metadata": {
    "colab": {
      "name": "20200917_Naver_DataLab.ipynb",
      "provenance": [],
      "toc_visible": true,
      "authorship_tag": "ABX9TyMKMmaNCFb9ozXlF+w8SXMk",
      "include_colab_link": true
    },
    "kernelspec": {
      "name": "python3",
      "display_name": "Python 3"
    }
  },
  "cells": [
    {
      "cell_type": "markdown",
      "metadata": {
        "id": "view-in-github",
        "colab_type": "text"
      },
      "source": [
        "<a href=\"https://colab.research.google.com/github/OH1107/edu/blob/master/fintech/20200917_Naver_DataLab.ipynb\" target=\"_parent\"><img src=\"https://colab.research.google.com/assets/colab-badge.svg\" alt=\"Open In Colab\"/></a>"
      ]
    },
    {
      "cell_type": "markdown",
      "metadata": {
        "id": "_wcwtfwZvQ2i",
        "colab_type": "text"
      },
      "source": [
        "# 네이버 데이터랩에서 검색어 트렌드 분석\n",
        "- 검색어 트렌드 분석을 통한 검색어 증가에 따른 주가 영향 분석\n",
        "- 마케팅 효과에 따른 검색어 증가량 분석\n",
        "- 마케팅 수명관리\n",
        "- 경쟁사 마케팅 파급효과 분석"
      ]
    },
    {
      "cell_type": "markdown",
      "metadata": {
        "id": "mJFR_NlUzrw3",
        "colab_type": "text"
      },
      "source": [
        "## reference (parameters)\n",
        "- 네이버 디벨로퍼 가입\n",
        "- 어플리케이션 등록\n",
        "- https://developers.naver.com/docs/datalab/search/#%ED%8C%8C%EB%9D%BC%EB%AF%B8%ED%84%B0"
      ]
    },
    {
      "cell_type": "code",
      "metadata": {
        "id": "0m1PUdmlnTQs",
        "colab_type": "code",
        "colab": {
          "base_uri": "https://localhost:8080/",
          "height": 215
        },
        "outputId": "42903bb1-a859-4b68-bf9d-5594d7be54b4"
      },
      "source": [
        "%config InlineBackend.figure_format = 'retina'\n",
        "!apt -qq -y install fonts-nanum"
      ],
      "execution_count": 53,
      "outputs": [
        {
          "output_type": "stream",
          "text": [
            "The following NEW packages will be installed:\n",
            "  fonts-nanum\n",
            "0 upgraded, 1 newly installed, 0 to remove and 11 not upgraded.\n",
            "Need to get 9,604 kB of archives.\n",
            "After this operation, 29.5 MB of additional disk space will be used.\n",
            "Selecting previously unselected package fonts-nanum.\n",
            "(Reading database ... 144600 files and directories currently installed.)\n",
            "Preparing to unpack .../fonts-nanum_20170925-1_all.deb ...\n",
            "Unpacking fonts-nanum (20170925-1) ...\n",
            "Setting up fonts-nanum (20170925-1) ...\n",
            "Processing triggers for fontconfig (2.12.6-0ubuntu2) ...\n"
          ],
          "name": "stdout"
        }
      ]
    },
    {
      "cell_type": "markdown",
      "metadata": {
        "id": "3GGXABXAv-cO",
        "colab_type": "text"
      },
      "source": [
        "# 네이버 데이터랩 API code"
      ]
    },
    {
      "cell_type": "code",
      "metadata": {
        "id": "tSD8uMzUvPKs",
        "colab_type": "code",
        "colab": {}
      },
      "source": [
        "#-*- coding: utf-8 -*-\n",
        "import os\n",
        "import sys\n",
        "import urllib.request\n",
        "import json\n",
        "\n",
        "client_id = \"GjOIh9f0eos4ZlO0MuPJ\" # my id\n",
        "client_secret = \"6D0DNFKlWz\" # my secret\n",
        "url = \"https://openapi.naver.com/v1/datalab/search\";\n",
        "#body = \"{\\\"startDate\\\":\\\"2017-01-01\\\",\\\"endDate\\\":\\\"2017-04-30\\\",\\\"timeUnit\\\":\\\"month\\\",\\\"keywordGroups\\\":[{\\\"groupName\\\":\\\"한글\\\",\\\"keywords\\\":[\\\"한글\\\",\\\"korean\\\"]},{\\\"groupName\\\":\\\"영어\\\",\\\"keywords\\\":[\\\"영어\\\",\\\"english\\\"]}],\\\"device\\\":\\\"pc\\\",\\\"ages\\\":[\\\"1\\\",\\\"2\\\"],\\\"gender\\\":\\\"f\\\"}\";\n",
        "body = \"\"\"{\n",
        "  \"startDate\":\"2019-01-01\",\n",
        "  \"endDate\":\"2020-08-30\",\n",
        "  \"timeUnit\":\"date\",\n",
        "  \"keywordGroups\":[\n",
        "    {\"groupName\":\"기생충\",\"keywords\":[\"기생충\",\"봉준호\",\"짜파구리\",\"CJ ENM\"]},\n",
        "    {\"groupName\":\"반도\",\"keywords\":[\"반도\",\"CJ ENM\"]}]\n",
        "  }\"\"\"\n",
        "request = urllib.request.Request(url)\n",
        "request.add_header(\"X-Naver-Client-Id\",client_id)\n",
        "request.add_header(\"X-Naver-Client-Secret\",client_secret)\n",
        "request.add_header(\"Content-Type\",\"application/json\")\n",
        "response = urllib.request.urlopen(request, data=body.encode(\"utf-8\"))\n",
        "rescode = response.getcode()\n",
        "if(rescode==200):\n",
        "    response_body = response.read()\n",
        "    res=response_body.decode('utf-8')\n",
        "    print(res)\n",
        "else:\n",
        "    print(\"Error Code:\" + rescode)\n"
      ],
      "execution_count": null,
      "outputs": []
    },
    {
      "cell_type": "markdown",
      "metadata": {
        "id": "ql9JKL8RDOUu",
        "colab_type": "text"
      },
      "source": [
        "- 정상적으로 코드가 작동하는지 확인해본다."
      ]
    },
    {
      "cell_type": "markdown",
      "metadata": {
        "id": "q4rOUaDPDcUK",
        "colab_type": "text"
      },
      "source": [
        "## 영화 '기생충'을 키워드로 한 DataLab 시각화"
      ]
    },
    {
      "cell_type": "code",
      "metadata": {
        "id": "DqiC7jSWn2mu",
        "colab_type": "code",
        "colab": {}
      },
      "source": [
        "import matplotlib.font_manager as fm\n",
        "import matplotlib.gridspec as gridspec\n",
        "\n",
        "fontpath = '/usr/share/fonts/truetype/nanum/NanumBarunGothic.ttf'\n",
        "font = fm.FontProperties(fname=fontpath, size=9)\n",
        "plt.rc('font', family='NanumBarunGothic') \n",
        "mpl.font_manager._rebuild()\n",
        "mpl.pyplot.rc('font', family='NanumGothic')\n",
        "fm._rebuild()\n",
        "\n",
        "mpl.rcParams['axes.unicode_minus'] = False"
      ],
      "execution_count": 4,
      "outputs": []
    },
    {
      "cell_type": "code",
      "metadata": {
        "id": "LGQd3CjvwkMT",
        "colab_type": "code",
        "colab": {
          "base_uri": "https://localhost:8080/",
          "height": 409
        },
        "outputId": "d48c222a-0218-4bab-a2c0-d83a44d57852"
      },
      "source": [
        "import pandas as pd\n",
        "import numpy as np\n",
        "import matplotlib.pyplot as plt\n",
        "import matplotlib as mpl\n",
        "import matplotlib.font_manager as fm\n",
        "\n",
        "jdata=json.loads(res)\n",
        "\n",
        "print(len(jdata['results']))\n",
        "pdata=jdata['results'][0]['data']\n",
        "cjdf=pd.DataFrame.from_dict(pdata)\n",
        "print(cjdf.head())\n",
        "\n",
        "cjdf.plot()"
      ],
      "execution_count": 3,
      "outputs": [
        {
          "output_type": "stream",
          "text": [
            "2\n",
            "       period    ratio\n",
            "0  2019-01-01  0.04043\n",
            "1  2019-01-02  0.06549\n",
            "2  2019-01-03  0.06908\n",
            "3  2019-01-04  0.06178\n",
            "4  2019-01-05  0.05961\n"
          ],
          "name": "stdout"
        },
        {
          "output_type": "execute_result",
          "data": {
            "text/plain": [
              "<matplotlib.axes._subplots.AxesSubplot at 0x7f94fd463198>"
            ]
          },
          "metadata": {
            "tags": []
          },
          "execution_count": 3
        },
        {
          "output_type": "display_data",
          "data": {
            "image/png": "[encoded data removed]",
            "text/plain": [
              "<Figure size 432x288 with 1 Axes>"
            ]
          },
          "metadata": {
            "tags": [],
            "needs_background": "light"
          }
        }
      ]
    },
    {
      "cell_type": "markdown",
      "metadata": {
        "id": "edtY5yWZDlcs",
        "colab_type": "text"
      },
      "source": [
        "- jdata['results'][0]['data']는 '기생충'의 'ratio'만을 가지고 온다"
      ]
    },
    {
      "cell_type": "markdown",
      "metadata": {
        "id": "8OOoQJnPD2fC",
        "colab_type": "text"
      },
      "source": [
        "# 네이버 데이터랩 검색량 추출\n",
        "- 네이버 데이터랩 검색량을 추출하는 함수를 정의한다.\n",
        "- 함수에 키워드, 시작날짜, 종료날짜, 날짜간격을 인자로 받는다."
      ]
    },
    {
      "cell_type": "markdown",
      "metadata": {
        "id": "JzatOVvSESNK",
        "colab_type": "text"
      },
      "source": [
        "## makeQry 함수 정의\n",
        "- 데이터 랩 API에 적용되는 body값을 맞춰주는 과정이다."
      ]
    },
    {
      "cell_type": "code",
      "metadata": {
        "id": "t7JnJsZZ6mQB",
        "colab_type": "code",
        "colab": {}
      },
      "source": [
        "keywords=[['극한직업'],['사바하'],['걸캅스'],['기생충','봉준호','짜파구리'],['나쁜녀석들']]\n",
        "\n",
        "def makeQry(keywords=[],sdate='',edate='',tunit='date'):\n",
        "  res = []\n",
        "  for word in keywords:\n",
        "    dict={'groupName':word[0], 'keywords':word}\n",
        "    res.append(dict)\n",
        "  \n",
        "\n",
        "  rdict={\"startDate\":sdate,\n",
        "         \"endDate\":edate,\n",
        "         \"timeUnit\":tunit,\n",
        "         \"keywordGroups\":res}\n",
        "  return json.dumps(rdict, ensure_ascii=False)"
      ],
      "execution_count": 5,
      "outputs": []
    },
    {
      "cell_type": "code",
      "metadata": {
        "id": "ajhiu2o1h0WX",
        "colab_type": "code",
        "colab": {
          "base_uri": "https://localhost:8080/",
          "height": 107
        },
        "outputId": "15f6d4f2-60c8-4fd7-daf0-057724e005f1"
      },
      "source": [
        "makeQry(keywords, '2019-01-01', '2020-08-30', 'date')"
      ],
      "execution_count": 6,
      "outputs": [
        {
          "output_type": "execute_result",
          "data": {
            "application/vnd.google.colaboratory.intrinsic+json": {
              "type": "string"
            },
            "text/plain": [
              "'{\"startDate\": \"2019-01-01\", \"endDate\": \"2020-08-30\", \"timeUnit\": \"date\", \"keywordGroups\": [{\"groupName\": \"극한직업\", \"keywords\": [\"극한직업\"]}, {\"groupName\": \"사바하\", \"keywords\": [\"사바하\"]}, {\"groupName\": \"걸캅스\", \"keywords\": [\"걸캅스\"]}, {\"groupName\": \"기생충\", \"keywords\": [\"기생충\", \"봉준호\", \"짜파구리\"]}, {\"groupName\": \"나쁜녀석들\", \"keywords\": [\"나쁜녀석들\"]}]}'"
            ]
          },
          "metadata": {
            "tags": []
          },
          "execution_count": 6
        }
      ]
    },
    {
      "cell_type": "markdown",
      "metadata": {
        "id": "jWbs08UkEkQZ",
        "colab_type": "text"
      },
      "source": [
        "# Mynsearch 함수 정의\n",
        "- makeQry함수로 만들어진 body값을 사용하여 raw data를 불러오는 함수 정의"
      ]
    },
    {
      "cell_type": "code",
      "metadata": {
        "id": "KKVGToaELRsI",
        "colab_type": "code",
        "colab": {}
      },
      "source": [
        "def Mynsearch(keywords=[],sdate='',edate='',tunit='date'):\n",
        "  client_id = \"GjOIh9f0eos4ZlO0MuPJ\"\n",
        "  client_secret = \"6D0DNFKlWz\"\n",
        "  url = \"https://openapi.naver.com/v1/datalab/search\";\n",
        " \n",
        "  body = makeQry(keywords, sdate, edate, tunit)\n",
        "\n",
        "  request = urllib.request.Request(url)\n",
        "  request.add_header(\"X-Naver-Client-Id\",client_id)\n",
        "  request.add_header(\"X-Naver-Client-Secret\",client_secret)\n",
        "  request.add_header(\"Content-Type\",\"application/json\")\n",
        "  response = urllib.request.urlopen(request, data=body.encode(\"utf-8\"))\n",
        "  rescode = response.getcode()\n",
        "  if (rescode==200):\n",
        "    response_body = response.read()\n",
        "    res=response_body.decode('utf-8')\n",
        "    #print(res)\n",
        "  else:\n",
        "    res='error'\n",
        "    print(\"Error Code:\" + rescode)\n",
        "  return res"
      ],
      "execution_count": 7,
      "outputs": []
    },
    {
      "cell_type": "markdown",
      "metadata": {
        "id": "JZ2WntkPEx3x",
        "colab_type": "text"
      },
      "source": [
        "# MyDataLab 함수 정의\n",
        "- `Mynsearch` 함수로 불러온 raw_data를 DataFrame화 시키는 함수 정의  \n",
        "- 만들어진 DataFrame으로 시각화를 진행해본다."
      ]
    },
    {
      "cell_type": "code",
      "metadata": {
        "id": "W1s26oCJrtzV",
        "colab_type": "code",
        "colab": {}
      },
      "source": [
        "keywords=[['극한직업'],['사바하'],['걸캅스'],['나쁜녀석들'],['백두산']] #['기생충','봉준호','짜파구리']  # 기생충 데이터는 월등하므로 비교가 잘 이뤄지지 않아 제외"
      ],
      "execution_count": 10,
      "outputs": []
    },
    {
      "cell_type": "code",
      "metadata": {
        "id": "HOYQw43tgOPo",
        "colab_type": "code",
        "colab": {
          "base_uri": "https://localhost:8080/",
          "height": 373
        },
        "outputId": "911c6aaa-00aa-4034-a564-011fa803869c"
      },
      "source": [
        "def MyDataLab(keywords=[],sdate='',edate='',tunit='date'):\n",
        "  # 네이버 데이터랩 서치\n",
        "  res=Mynsearch(keywords, sdate, edate, tunit)\n",
        "\n",
        "  # 데이터 추출을 위한 json\n",
        "  jdata=json.loads(res)\n",
        "\n",
        "  print(len(jdata['results']))\n",
        "  i=0;\n",
        "  # 테이블 머지를 위한 기초테이블\n",
        "  maindf=pd.DataFrame()\n",
        "\n",
        "  # 키워드별로 컬럼명 지정\n",
        "  for words in keywords:\n",
        "    pdata=jdata['results'][i]['data']\n",
        "    i += 1\n",
        "    df=pd.DataFrame.from_dict(pdata)\n",
        "    df.columns=[\"period\",words[0]]\n",
        "    df.set_index(\"period\", inplace=True)\n",
        "    maindf=pd.merge(maindf, df, how='outer', left_index=True, right_index=True)\n",
        "\n",
        "  return maindf\n",
        "\n",
        "mdf=MyDataLab(keywords, '2019-01-01', '2020-08-30', 'date')\n",
        "print(mdf.head())  \n",
        "plt.rcParams[\"figure.figsize\"] = (16,5)\n",
        "maindf.plot()\n",
        "plt.show()"
      ],
      "execution_count": 14,
      "outputs": [
        {
          "output_type": "stream",
          "text": [
            "5\n",
            "               극한직업      사바하      걸캅스    나쁜녀석들      백두산\n",
            "period                                                 \n",
            "2019-01-01  0.51273  0.03758  0.01178  0.15669  0.14547\n",
            "2019-01-02  0.59014  0.03655  0.01355  0.14220  0.11658\n",
            "2019-01-03  0.57528  0.02870  0.00981  0.11350  0.10892\n",
            "2019-01-04  5.09767  0.02758  0.01552  0.12453  0.10172\n",
            "2019-01-05  1.13232  0.03300  0.01299  0.14248  0.08695\n"
          ],
          "name": "stdout"
        },
        {
          "output_type": "display_data",
          "data": {
            "image/png": "[encoded data removed]",
            "text/plain": [
              "<Figure size 1152x360 with 1 Axes>"
            ]
          },
          "metadata": {
            "tags": [],
            "needs_background": "light"
          }
        }
      ]
    },
    {
      "cell_type": "code",
      "metadata": {
        "id": "J5AJk-1bjdBj",
        "colab_type": "code",
        "colab": {}
      },
      "source": [
        ""
      ],
      "execution_count": null,
      "outputs": []
    }
  ]
}