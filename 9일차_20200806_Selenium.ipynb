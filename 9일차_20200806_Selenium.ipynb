{
 "cells": [
  {
   "cell_type": "code",
   "execution_count": 1,
   "metadata": {},
   "outputs": [],
   "source": [
    "# 셀레니움 불러오기\n",
    "\n",
    "from selenium import webdriver\n",
    "from selenium.webdriver.common.keys import Keys"
   ]
  },
  {
   "cell_type": "code",
   "execution_count": 2,
   "metadata": {},
   "outputs": [],
   "source": [
    "# 셀레니움 드라이버 Path설정하고 실행확인\n",
    "\n",
    "chromedriver_dir=r'C:/Ohhhhh/Chromedriver/chromedriver.exe'\n",
    "driver = webdriver.Chrome(chromedriver_dir)"
   ]
  },
  {
   "cell_type": "code",
   "execution_count": 3,
   "metadata": {},
   "outputs": [],
   "source": [
    "# 문제가 없으면 크롬창이 하나 뜨면서 \n",
    "# <Chrome이 자동화된테스트 소프트웨어에 의해 제어되고 있습니다.>\n",
    "# 하면잘된거\n",
    "\n",
    "driver.get('https://www.python.org/')"
   ]
  },
  {
   "cell_type": "code",
   "execution_count": 13,
   "metadata": {},
   "outputs": [],
   "source": [
    "# driver title에 원하는 단어가 없으면 에러가 걸림\n",
    "# 있으면 그냥 진행됨\n",
    "# 걍 체크용\n",
    "\n",
    "assert \"Python\" in driver.title"
   ]
  },
  {
   "cell_type": "code",
   "execution_count": 14,
   "metadata": {},
   "outputs": [],
   "source": [
    "# 파이썬 홈페이지에 검색창이 name=q로 되어있음\n",
    "# 그걸 찾는 것\n",
    "\n",
    "elem= driver.find_element_by_name(\"q\")"
   ]
  },
  {
   "cell_type": "code",
   "execution_count": 15,
   "metadata": {},
   "outputs": [],
   "source": [
    "# 거길 깨끗하게 지워라\n",
    "\n",
    "elem.clear()"
   ]
  },
  {
   "cell_type": "code",
   "execution_count": 16,
   "metadata": {},
   "outputs": [],
   "source": [
    "# 거기에 원하는 걸 입력해줘\n",
    "# 그리고 엔터까지 쳐주셈\n",
    "\n",
    "elem.send_keys(\"pycon\")\n",
    "elem.send_keys(Keys.RETURN)"
   ]
  },
  {
   "cell_type": "code",
   "execution_count": 17,
   "metadata": {},
   "outputs": [],
   "source": [
    "# 만약 페이지 소스에 assert 값이 없는지 확인\n",
    "# 그러고 종료\n",
    "assert \"No results found.\" not in driver.page_source\n",
    "driver.close()"
   ]
  },
  {
   "cell_type": "markdown",
   "metadata": {},
   "source": [
    "# 이번엔 네이버 로그인 불러오기"
   ]
  },
  {
   "cell_type": "code",
   "execution_count": 21,
   "metadata": {},
   "outputs": [],
   "source": [
    "driver=webdriver.Chrome(chromedriver_dir)\n",
    "driver.get('https://nid.naver.com/nidlogin.login?mode=form&url=https%3A%2F%2Fwww.naver.com')"
   ]
  },
  {
   "cell_type": "code",
   "execution_count": 22,
   "metadata": {},
   "outputs": [],
   "source": [
    "element = driver.find_element_by_name('id')\n",
    "element.send_keys(\"tmdcjf0992\")"
   ]
  },
  {
   "cell_type": "code",
   "execution_count": 23,
   "metadata": {},
   "outputs": [],
   "source": [
    "element = driver.find_element_by_name('pw')\n",
    "element.send_keys('rkskekfk22!')"
   ]
  },
  {
   "cell_type": "code",
   "execution_count": 24,
   "metadata": {},
   "outputs": [],
   "source": [
    "element.send_keys(Keys.RETURN)"
   ]
  },
  {
   "cell_type": "code",
   "execution_count": 25,
   "metadata": {},
   "outputs": [],
   "source": [
    "driver=webdriver.Chrome(chromedriver_dir)\n",
    "driver.get('https://www.google.com/')"
   ]
  },
  {
   "cell_type": "markdown",
   "metadata": {},
   "source": [
    "# element에 접근하는 3가지 방법\n",
    "\n",
    "## id 값\n",
    "## xpath 값\n",
    "## name 값\n",
    "\n",
    "# 으로 찾아올 수 있다."
   ]
  },
  {
   "cell_type": "code",
   "execution_count": 61,
   "metadata": {},
   "outputs": [],
   "source": [
    "# 검사 로 들어가서 해당 element를 찾고 우클릭, copy에서 다음과 같이 복사 할 수 있음\n",
    "\n",
    "# Selector 카피하기\n",
    "#tsf > div:nth-child(2) > div.A8SBwf > div.RNNXgb > div > div.a4bIc > input\n",
    "\n",
    "\n",
    "# XPath 카피하기\n",
    "# //*[@id=\"tsf\"]/div[2]/div[1]/div[1]/div/div[2]/input\n",
    "\n",
    "# 주의 할 점! xpath 안에 \"\"가 이미 있으므로 전체를 ''로 감싸줘야함.\n",
    "\n",
    "elem= driver.find_element_by_xpath('//*[@id=\"tsf\"]/div[2]/div[1]/div[1]/div/div[2]/input')\n",
    "elem.clear()\n",
    "elem.send_keys(\"인공지능\")"
   ]
  },
  {
   "cell_type": "code",
   "execution_count": 62,
   "metadata": {},
   "outputs": [],
   "source": [
    "# 키보드 방향키 누르기\n",
    "\n",
    "elem.send_keys(\" 문제점\",Keys.ARROW_DOWN)"
   ]
  },
  {
   "cell_type": "code",
   "execution_count": null,
   "metadata": {},
   "outputs": [],
   "source": []
  },
  {
   "cell_type": "markdown",
   "metadata": {},
   "source": [
    "# 실험 페이지 만들어서 실습"
   ]
  },
  {
   "cell_type": "code",
   "execution_count": null,
   "metadata": {},
   "outputs": [],
   "source": [
    "# https://selenium-python.readthedocs.io/locating-elements.html\n",
    "# 집가서 다시 해보기\n",
    "\n",
    "<form id=\"loginForm\">\n",
    "   <input name=\"username\" type=\"text\">\n",
    "   <input name=\"password\" type=\"password\">\n",
    "   <input name=\"continue\" type=\"submit\" value=\"Login\">\n",
    "  </form>"
   ]
  }
 ],
 "metadata": {
  "kernelspec": {
   "display_name": "Python 3",
   "language": "python",
   "name": "python3"
  },
  "language_info": {
   "codemirror_mode": {
    "name": "ipython",
    "version": 3
   },
   "file_extension": ".py",
   "mimetype": "text/x-python",
   "name": "python",
   "nbconvert_exporter": "python",
   "pygments_lexer": "ipython3",
   "version": "3.8.3"
  }
 },
 "nbformat": 4,
 "nbformat_minor": 4
}
