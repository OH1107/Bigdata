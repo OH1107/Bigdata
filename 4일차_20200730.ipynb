{
 "cells": [
  {
   "cell_type": "code",
   "execution_count": 1,
   "metadata": {},
   "outputs": [
    {
     "name": "stdout",
     "output_type": "stream",
     "text": [
      "current item: a, Type: <class 'str'>\n",
      "current item: b, Type: <class 'str'>\n",
      "current item: n, Type: <class 'str'>\n",
      "current item: x, Type: <class 'str'>\n",
      "current item: 1, Type: <class 'int'>\n",
      "current item: 2, Type: <class 'int'>\n",
      "current item: 3, Type: <class 'int'>\n",
      "current item: a, Type: <class 'str'>\n",
      "current item: n, Type: <class 'str'>\n",
      "current item: b, Type: <class 'str'>\n",
      "['a', 'b', 'n', 'x', 'a', 'n', 'b']\n"
     ]
    }
   ],
   "source": [
    "my_list=['a','b','n','x',1,2,3,'a','n','b']\n",
    "number_list=[]\n",
    "string_list=[]\n",
    "for item in my_list:\n",
    "    print(f'current item: {item}, Type: {type(item)}')\n",
    "    if not isinstance(item,str):\n",
    "        number_list.append(item)\n",
    "    else:\n",
    "        string_list.append(item)\n",
    "        \n",
    "print(number_list, string_list)"
   ]
  },
  {
   "cell_type": "code",
   "execution_count": 2,
   "metadata": {},
   "outputs": [
    {
     "name": "stdout",
     "output_type": "stream",
     "text": [
      "['a', 'b', 'n', 'x', 'a', 'n', 'b']\n"
     ]
    }
   ],
   "source": [
    "my_list1 = [letter for letter in my_list if isinstance(letter,str)]\n",
    "print(my_list1)"
   ]
  },
  {
   "cell_type": "code",
   "execution_count": 3,
   "metadata": {},
   "outputs": [
    {
     "name": "stdout",
     "output_type": "stream",
     "text": [
      "[3, 2, 'AA', 3, 6, 'oh', 'BB', 'CC', 9]\n",
      "AA\n",
      "AA\n"
     ]
    }
   ],
   "source": [
    "#오늘의 연습문제 1번 ㅠㅠ\n",
    "\n",
    "#val=[1,9,'one','two',3,'three']\n",
    "val=[3,2,'AA',3,6,'BB','BB','CC',9]\n",
    "val[5]='oh'\n",
    "\n",
    "print(val)\n",
    "\n",
    "for i in val:\n",
    "    #if isinstance(i,str):\n",
    "    if not type(i) == int:\n",
    "        print (i)\n",
    "        break\n",
    "    \n",
    "first=[letter for letter in val if isinstance(letter,str)]\n",
    "print(first[0])"
   ]
  },
  {
   "cell_type": "code",
   "execution_count": 4,
   "metadata": {},
   "outputs": [
    {
     "name": "stdout",
     "output_type": "stream",
     "text": [
      "10\n"
     ]
    }
   ],
   "source": [
    "#연습문제 2번\n",
    "\n",
    "n=[7,2,1,8,9,10]\n",
    "\n",
    "#n_sort=sorted(n,reverse=True)\n",
    "#print(n_sort[0])\n",
    "\n",
    "ii=0\n",
    "for i in n: #인덱스 번호로 for 반복문 돌릴 때는 for i in range(1, len(n))으로 작성\n",
    "    if ii<i:\n",
    "        ii=i\n",
    "print (ii)"
   ]
  },
  {
   "cell_type": "code",
   "execution_count": 5,
   "metadata": {},
   "outputs": [
    {
     "name": "stdout",
     "output_type": "stream",
     "text": [
      "섭씨를 화씨로 변환합니다\n",
      "섭씨 온도를 입력해 주세요\n",
      " 36\n",
      "96.8\n"
     ]
    }
   ],
   "source": [
    "#연습문제 3번\n",
    "print(\"섭씨를 화씨로 변환합니다\\n섭씨 온도를 입력해 주세요\")\n",
    "tem=float(input(\" \"))\n",
    "f=((9/5)*tem)+32\n",
    "print(f)"
   ]
  },
  {
   "cell_type": "code",
   "execution_count": null,
   "metadata": {},
   "outputs": [],
   "source": []
  }
 ],
 "metadata": {
  "kernelspec": {
   "display_name": "Python 3",
   "language": "python",
   "name": "python3"
  },
  "language_info": {
   "codemirror_mode": {
    "name": "ipython",
    "version": 3
   },
   "file_extension": ".py",
   "mimetype": "text/x-python",
   "name": "python",
   "nbconvert_exporter": "python",
   "pygments_lexer": "ipython3",
   "version": "3.8.3"
  }
 },
 "nbformat": 4,
 "nbformat_minor": 4
}
