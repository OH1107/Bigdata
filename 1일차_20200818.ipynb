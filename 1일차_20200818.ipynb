{
  "nbformat": 4,
  "nbformat_minor": 0,
  "metadata": {
    "colab": {
      "name": "1일차_20200818.ipynb",
      "provenance": [],
      "authorship_tag": "ABX9TyMVZG+15OE+jg1JdOf+uqMJ",
      "include_colab_link": true
    },
    "kernelspec": {
      "name": "python3",
      "display_name": "Python 3"
    }
  },
  "cells": [
    {
      "cell_type": "markdown",
      "metadata": {
        "id": "view-in-github",
        "colab_type": "text"
      },
      "source": [
        "<a href=\"https://colab.research.google.com/github/OH1107/asia_edu/blob/master/1%EC%9D%BC%EC%B0%A8_20200818.ipynb\" target=\"_parent\"><img src=\"https://colab.research.google.com/assets/colab-badge.svg\" alt=\"Open In Colab\"/></a>"
      ]
    },
    {
      "cell_type": "code",
      "metadata": {
        "id": "Os4fx2fr-tV3",
        "colab_type": "code",
        "colab": {
          "base_uri": "https://localhost:8080/",
          "height": 35
        },
        "outputId": "11ed15b7-6958-4ba3-e028-9e7f71580cab"
      },
      "source": [
        "import sklearn\n",
        "print(sklearn.__version__)"
      ],
      "execution_count": 1,
      "outputs": [
        {
          "output_type": "stream",
          "text": [
            "0.22.2.post1\n"
          ],
          "name": "stdout"
        }
      ]
    },
    {
      "cell_type": "markdown",
      "metadata": {
        "id": "nmsdlsTsA6M4",
        "colab_type": "text"
      },
      "source": [
        "## 1. 개요\n",
        "- IRIS 붓꽃 분류 모형을 만든다."
      ]
    },
    {
      "cell_type": "markdown",
      "metadata": {
        "id": "3bssCB23BBGH",
        "colab_type": "text"
      },
      "source": [
        "### (1) 패키지 불러오기\n",
        "- sklearn 패키지를 불러온다."
      ]
    },
    {
      "cell_type": "markdown",
      "metadata": {
        "id": "e2WS9SS-BMN8",
        "colab_type": "text"
      },
      "source": [
        "### (2) 데이터 불러오기\n",
        "- sklearn 패키지 내장 데이터 있음\n"
      ]
    },
    {
      "cell_type": "code",
      "metadata": {
        "id": "Xb7zoAcKBg9u",
        "colab_type": "code",
        "colab": {
          "base_uri": "https://localhost:8080/",
          "height": 53
        },
        "outputId": "51c9ff1a-0902-4797-96a7-ef36d779eece"
      },
      "source": [
        "from sklearn.datasets  import load_iris\n",
        "\n",
        "iris = load_iris() # Bunch 형태의 데이터셋으로 구성되어 있음\n",
        "\n",
        "# 독립변수로 구성된 데이터\n",
        "iris_data = iris.data\n",
        "\n",
        "# 종속변수\n",
        "iris_label = iris.target\n",
        "\n",
        "print(\"iris target 값 : \", iris_label[[0,50,100]])\n",
        "print(\"iris target 명 : \", iris.target_names)"
      ],
      "execution_count": 12,
      "outputs": [
        {
          "output_type": "stream",
          "text": [
            "iris target 값 :  [0 1 2]\n",
            "iris target 명 :  ['setosa' 'versicolor' 'virginica']\n"
          ],
          "name": "stdout"
        }
      ]
    },
    {
      "cell_type": "markdown",
      "metadata": {
        "id": "gZ0Di7oQERFE",
        "colab_type": "text"
      },
      "source": [
        "### (2) 데이터 전처리\n",
        "- 상황 : Numpy 형태, 리스트 형태로 되어 있는 데이터\n",
        "- 방법 : pandas 사용, 데이터 프레임 만들기\n",
        "- ref : https://stackoverflow.com/questions/38105539/how-to-convert-a-scikit-learn-dataset-to-a-pandas-dataset"
      ]
    },
    {
      "cell_type": "code",
      "metadata": {
        "id": "8_LRRXdiEaJk",
        "colab_type": "code",
        "colab": {
          "base_uri": "https://localhost:8080/",
          "height": 107
        },
        "outputId": "26a58485-dd92-425d-e741-4967f1fe9559"
      },
      "source": [
        "import pandas as pd\n",
        "iris_df = pd.DataFrame(data = iris_data, columns = iris.feature_names)\n",
        "iris_df['label'] = iris.target\n",
        "print(iris_df.head(3).to_markdown())"
      ],
      "execution_count": 31,
      "outputs": [
        {
          "output_type": "stream",
          "text": [
            "|    |   sepal length (cm) |   sepal width (cm) |   petal length (cm) |   petal width (cm) |   label |\n",
            "|---:|--------------------:|-------------------:|--------------------:|-------------------:|--------:|\n",
            "|  0 |                 5.1 |                3.5 |                 1.4 |                0.2 |       0 |\n",
            "|  1 |                 4.9 |                3   |                 1.4 |                0.2 |       0 |\n",
            "|  2 |                 4.7 |                3.2 |                 1.3 |                0.2 |       0 |\n"
          ],
          "name": "stdout"
        }
      ]
    },
    {
      "cell_type": "code",
      "metadata": {
        "id": "kFvoaEEcFbzI",
        "colab_type": "code",
        "colab": {
          "base_uri": "https://localhost:8080/",
          "height": 419
        },
        "outputId": "2882daa4-27ed-424c-cc8c-876f810dddd2"
      },
      "source": [
        "iris_data_df"
      ],
      "execution_count": 22,
      "outputs": [
        {
          "output_type": "execute_result",
          "data": {
            "text/html": [
              "<div>\n",
              "<style scoped>\n",
              "    .dataframe tbody tr th:only-of-type {\n",
              "        vertical-align: middle;\n",
              "    }\n",
              "\n",
              "    .dataframe tbody tr th {\n",
              "        vertical-align: top;\n",
              "    }\n",
              "\n",
              "    .dataframe thead th {\n",
              "        text-align: right;\n",
              "    }\n",
              "</style>\n",
              "<table border=\"1\" class=\"dataframe\">\n",
              "  <thead>\n",
              "    <tr style=\"text-align: right;\">\n",
              "      <th></th>\n",
              "      <th>0</th>\n",
              "      <th>1</th>\n",
              "      <th>2</th>\n",
              "      <th>3</th>\n",
              "    </tr>\n",
              "  </thead>\n",
              "  <tbody>\n",
              "    <tr>\n",
              "      <th>0</th>\n",
              "      <td>5.1</td>\n",
              "      <td>3.5</td>\n",
              "      <td>1.4</td>\n",
              "      <td>0.2</td>\n",
              "    </tr>\n",
              "    <tr>\n",
              "      <th>1</th>\n",
              "      <td>4.9</td>\n",
              "      <td>3.0</td>\n",
              "      <td>1.4</td>\n",
              "      <td>0.2</td>\n",
              "    </tr>\n",
              "    <tr>\n",
              "      <th>2</th>\n",
              "      <td>4.7</td>\n",
              "      <td>3.2</td>\n",
              "      <td>1.3</td>\n",
              "      <td>0.2</td>\n",
              "    </tr>\n",
              "    <tr>\n",
              "      <th>3</th>\n",
              "      <td>4.6</td>\n",
              "      <td>3.1</td>\n",
              "      <td>1.5</td>\n",
              "      <td>0.2</td>\n",
              "    </tr>\n",
              "    <tr>\n",
              "      <th>4</th>\n",
              "      <td>5.0</td>\n",
              "      <td>3.6</td>\n",
              "      <td>1.4</td>\n",
              "      <td>0.2</td>\n",
              "    </tr>\n",
              "    <tr>\n",
              "      <th>...</th>\n",
              "      <td>...</td>\n",
              "      <td>...</td>\n",
              "      <td>...</td>\n",
              "      <td>...</td>\n",
              "    </tr>\n",
              "    <tr>\n",
              "      <th>145</th>\n",
              "      <td>6.7</td>\n",
              "      <td>3.0</td>\n",
              "      <td>5.2</td>\n",
              "      <td>2.3</td>\n",
              "    </tr>\n",
              "    <tr>\n",
              "      <th>146</th>\n",
              "      <td>6.3</td>\n",
              "      <td>2.5</td>\n",
              "      <td>5.0</td>\n",
              "      <td>1.9</td>\n",
              "    </tr>\n",
              "    <tr>\n",
              "      <th>147</th>\n",
              "      <td>6.5</td>\n",
              "      <td>3.0</td>\n",
              "      <td>5.2</td>\n",
              "      <td>2.0</td>\n",
              "    </tr>\n",
              "    <tr>\n",
              "      <th>148</th>\n",
              "      <td>6.2</td>\n",
              "      <td>3.4</td>\n",
              "      <td>5.4</td>\n",
              "      <td>2.3</td>\n",
              "    </tr>\n",
              "    <tr>\n",
              "      <th>149</th>\n",
              "      <td>5.9</td>\n",
              "      <td>3.0</td>\n",
              "      <td>5.1</td>\n",
              "      <td>1.8</td>\n",
              "    </tr>\n",
              "  </tbody>\n",
              "</table>\n",
              "<p>150 rows × 4 columns</p>\n",
              "</div>"
            ],
            "text/plain": [
              "       0    1    2    3\n",
              "0    5.1  3.5  1.4  0.2\n",
              "1    4.9  3.0  1.4  0.2\n",
              "2    4.7  3.2  1.3  0.2\n",
              "3    4.6  3.1  1.5  0.2\n",
              "4    5.0  3.6  1.4  0.2\n",
              "..   ...  ...  ...  ...\n",
              "145  6.7  3.0  5.2  2.3\n",
              "146  6.3  2.5  5.0  1.9\n",
              "147  6.5  3.0  5.2  2.0\n",
              "148  6.2  3.4  5.4  2.3\n",
              "149  5.9  3.0  5.1  1.8\n",
              "\n",
              "[150 rows x 4 columns]"
            ]
          },
          "metadata": {
            "tags": []
          },
          "execution_count": 22
        }
      ]
    }
  ]
}