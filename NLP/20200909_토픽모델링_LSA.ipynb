{
 "cells": [
  {
   "cell_type": "code",
   "execution_count": 1,
   "metadata": {},
   "outputs": [],
   "source": [
    "docs = ['바나나 사과 포도 포도',\n",
    "       '사과 포도',\n",
    "       '포도 바나나',\n",
    "       '짜장면 짬뽕 탕수육',\n",
    "       '볶음밥 탕수육',\n",
    "       '짜장면 짬뽕',\n",
    "       '된장찌개 김치찌개 김치 비빔밥',\n",
    "       '김치 된장 비빔밥',\n",
    "       '비빔밥 김치',\n",
    "       '사과 볶음밥 김치 된장']"
   ]
  },
  {
   "cell_type": "code",
   "execution_count": 3,
   "metadata": {},
   "outputs": [
    {
     "data": {
      "text/plain": [
       "array([[ 0.39094311,  0.08663945,  0.2634605 ,  0.08663945,  0.31533599,\n",
       "         0.1677167 ,  0.33012626,  0.42118555,  0.01907605,  0.01907605,\n",
       "         0.05422822,  0.58747296],\n",
       "       [ 0.49683512,  0.13720069,  0.26962551,  0.13720069, -0.29774469,\n",
       "         0.10773075,  0.49275818, -0.18567019,  0.02131272,  0.02131272,\n",
       "         0.04450862, -0.51222803],\n",
       "       [-0.06285924, -0.02901254, -0.00762375, -0.02901254, -0.01957621,\n",
       "         0.19210545, -0.09004258,  0.00851823,  0.60658392,  0.60658392,\n",
       "         0.46061907, -0.02794911]])"
      ]
     },
     "execution_count": 3,
     "metadata": {},
     "output_type": "execute_result"
    }
   ],
   "source": [
    "from sklearn.feature_extraction.text import TfidfVectorizer\n",
    "from sklearn.decomposition import TruncatedSVD\n",
    "n_topic=3\n",
    "\n",
    "# TF_IDF 선언\n",
    "tfidf_vect = TfidfVectorizer()\n",
    "tfidf = tfidf_vect.fit_transform(docs)\n",
    "\n",
    "# SVD선언\n",
    "svd = TruncatedSVD(n_components=n_topic)\n",
    "u_sigma = svd.fit_transform(tfidf)\n",
    "svd.components_"
   ]
  },
  {
   "cell_type": "code",
   "execution_count": 12,
   "metadata": {},
   "outputs": [
    {
     "name": "stdout",
     "output_type": "stream",
     "text": [
      "['김치', '김치찌개', '된장', '된장찌개', '바나나', '볶음밥', '비빔밥', '사과', '짜장면', '짬뽕', '탕수육', '포도']\n"
     ]
    },
    {
     "ename": "TypeError",
     "evalue": "'list' object is not callable",
     "output_type": "error",
     "traceback": [
      "\u001b[1;31m---------------------------------------------------------------------------\u001b[0m",
      "\u001b[1;31mTypeError\u001b[0m                                 Traceback (most recent call last)",
      "\u001b[1;32m<ipython-input-12-add009b85abf>\u001b[0m in \u001b[0;36m<module>\u001b[1;34m\u001b[0m\n\u001b[0;32m      4\u001b[0m \u001b[0mn\u001b[0m \u001b[1;33m=\u001b[0m \u001b[1;36m3\u001b[0m\u001b[1;33m\u001b[0m\u001b[1;33m\u001b[0m\u001b[0m\n\u001b[0;32m      5\u001b[0m \u001b[1;32mfor\u001b[0m \u001b[0midx\u001b[0m\u001b[1;33m,\u001b[0m \u001b[0mtopic\u001b[0m \u001b[1;32min\u001b[0m \u001b[0menumerate\u001b[0m\u001b[1;33m(\u001b[0m\u001b[0msvd\u001b[0m\u001b[1;33m.\u001b[0m\u001b[0mcomponents_\u001b[0m\u001b[1;33m)\u001b[0m\u001b[1;33m:\u001b[0m\u001b[1;33m\u001b[0m\u001b[1;33m\u001b[0m\u001b[0m\n\u001b[1;32m----> 6\u001b[1;33m     \u001b[0mprint\u001b[0m\u001b[1;33m(\u001b[0m\u001b[1;34m\"Topic %d:\"\u001b[0m \u001b[1;33m%\u001b[0m \u001b[1;33m(\u001b[0m\u001b[0midx\u001b[0m\u001b[1;33m)\u001b[0m\u001b[1;33m,\u001b[0m\u001b[1;33m[\u001b[0m\u001b[1;33m(\u001b[0m\u001b[0mvocab\u001b[0m\u001b[1;33m(\u001b[0m\u001b[0mi\u001b[0m\u001b[1;33m)\u001b[0m\u001b[1;33m,\u001b[0m \u001b[0mtopic\u001b[0m\u001b[1;33m[\u001b[0m\u001b[0mi\u001b[0m\u001b[1;33m]\u001b[0m\u001b[1;33m.\u001b[0m\u001b[0mround\u001b[0m\u001b[1;33m(\u001b[0m\u001b[1;36m5\u001b[0m\u001b[1;33m)\u001b[0m\u001b[1;33m)\u001b[0m \u001b[1;32mfor\u001b[0m \u001b[0mi\u001b[0m \u001b[1;32min\u001b[0m \u001b[0mtopic\u001b[0m\u001b[1;33m.\u001b[0m\u001b[0margsort\u001b[0m\u001b[1;33m(\u001b[0m\u001b[1;33m)\u001b[0m\u001b[1;33m[\u001b[0m\u001b[1;33m:\u001b[0m\u001b[1;33m-\u001b[0m\u001b[0mn\u001b[0m \u001b[1;33m-\u001b[0m \u001b[1;36m1\u001b[0m\u001b[1;33m:\u001b[0m\u001b[1;33m-\u001b[0m\u001b[1;36m1\u001b[0m\u001b[1;33m]\u001b[0m\u001b[1;33m]\u001b[0m\u001b[1;33m)\u001b[0m\u001b[1;33m\u001b[0m\u001b[1;33m\u001b[0m\u001b[0m\n\u001b[0m",
      "\u001b[1;32m<ipython-input-12-add009b85abf>\u001b[0m in \u001b[0;36m<listcomp>\u001b[1;34m(.0)\u001b[0m\n\u001b[0;32m      4\u001b[0m \u001b[0mn\u001b[0m \u001b[1;33m=\u001b[0m \u001b[1;36m3\u001b[0m\u001b[1;33m\u001b[0m\u001b[1;33m\u001b[0m\u001b[0m\n\u001b[0;32m      5\u001b[0m \u001b[1;32mfor\u001b[0m \u001b[0midx\u001b[0m\u001b[1;33m,\u001b[0m \u001b[0mtopic\u001b[0m \u001b[1;32min\u001b[0m \u001b[0menumerate\u001b[0m\u001b[1;33m(\u001b[0m\u001b[0msvd\u001b[0m\u001b[1;33m.\u001b[0m\u001b[0mcomponents_\u001b[0m\u001b[1;33m)\u001b[0m\u001b[1;33m:\u001b[0m\u001b[1;33m\u001b[0m\u001b[1;33m\u001b[0m\u001b[0m\n\u001b[1;32m----> 6\u001b[1;33m     \u001b[0mprint\u001b[0m\u001b[1;33m(\u001b[0m\u001b[1;34m\"Topic %d:\"\u001b[0m \u001b[1;33m%\u001b[0m \u001b[1;33m(\u001b[0m\u001b[0midx\u001b[0m\u001b[1;33m)\u001b[0m\u001b[1;33m,\u001b[0m\u001b[1;33m[\u001b[0m\u001b[1;33m(\u001b[0m\u001b[0mvocab\u001b[0m\u001b[1;33m(\u001b[0m\u001b[0mi\u001b[0m\u001b[1;33m)\u001b[0m\u001b[1;33m,\u001b[0m \u001b[0mtopic\u001b[0m\u001b[1;33m[\u001b[0m\u001b[0mi\u001b[0m\u001b[1;33m]\u001b[0m\u001b[1;33m.\u001b[0m\u001b[0mround\u001b[0m\u001b[1;33m(\u001b[0m\u001b[1;36m5\u001b[0m\u001b[1;33m)\u001b[0m\u001b[1;33m)\u001b[0m \u001b[1;32mfor\u001b[0m \u001b[0mi\u001b[0m \u001b[1;32min\u001b[0m \u001b[0mtopic\u001b[0m\u001b[1;33m.\u001b[0m\u001b[0margsort\u001b[0m\u001b[1;33m(\u001b[0m\u001b[1;33m)\u001b[0m\u001b[1;33m[\u001b[0m\u001b[1;33m:\u001b[0m\u001b[1;33m-\u001b[0m\u001b[0mn\u001b[0m \u001b[1;33m-\u001b[0m \u001b[1;36m1\u001b[0m\u001b[1;33m:\u001b[0m\u001b[1;33m-\u001b[0m\u001b[1;36m1\u001b[0m\u001b[1;33m]\u001b[0m\u001b[1;33m]\u001b[0m\u001b[1;33m)\u001b[0m\u001b[1;33m\u001b[0m\u001b[1;33m\u001b[0m\u001b[0m\n\u001b[0m",
      "\u001b[1;31mTypeError\u001b[0m: 'list' object is not callable"
     ]
    }
   ],
   "source": [
    "vocab = tfidf_vect.get_feature_names()\n",
    "print(vocab)\n",
    "\n",
    "n = 3\n",
    "for idx, topic in enumerate(svd.components_):\n",
    "    print(\"Topic %d:\" % (idx),[(vocab(i), topic[i].round(5)) for i in topic.argsort()[:-n - 1:-1]])"
   ]
  },
  {
   "cell_type": "markdown",
   "metadata": {},
   "source": [
    "## 단어벡터간의 상관관계"
   ]
  },
  {
   "cell_type": "code",
   "execution_count": 6,
   "metadata": {},
   "outputs": [
    {
     "name": "stdout",
     "output_type": "stream",
     "text": [
      "김치 : [ 0.39094311  0.49683512 -0.06285924]\n",
      "김치찌개 : [ 0.08663945  0.13720069 -0.02901254]\n",
      "된장 : [ 0.2634605   0.26962551 -0.00762375]\n",
      "된장찌개 : [ 0.08663945  0.13720069 -0.02901254]\n",
      "바나나 : [ 0.31533599 -0.29774469 -0.01957621]\n",
      "볶음밥 : [0.1677167  0.10773075 0.19210545]\n",
      "비빔밥 : [ 0.33012626  0.49275818 -0.09004258]\n",
      "사과 : [ 0.42118555 -0.18567019  0.00851823]\n",
      "짜장면 : [0.01907605 0.02131272 0.60658392]\n",
      "짬뽕 : [0.01907605 0.02131272 0.60658392]\n",
      "탕수육 : [0.05422822 0.04450862 0.46061907]\n",
      "포도 : [ 0.58747296 -0.51222803 -0.02794911]\n"
     ]
    }
   ],
   "source": [
    "#단어벡터\n",
    "for i in range(len(vocab)):\n",
    "    print(\"{} : {}\".format(vocab[i], svd.components_.T[i]))"
   ]
  },
  {
   "cell_type": "code",
   "execution_count": 13,
   "metadata": {},
   "outputs": [],
   "source": [
    "import numpy as np\n",
    "from numpy import dot\n",
    "from numpy.linalg import norm\n",
    "\n",
    "# 코사인 유사도\n",
    "def cosine_similarity(a, b):\n",
    "    return dot(a, b)/(norm(a)*norm(b))\n",
    "\n",
    "# 코사인 유사도를 사용해서 행렬의 유사도 구하기\n",
    "def calc_similarity_matrix(vectors):\n",
    "    n_word = len(vectors)\n",
    "    similarity_matrix = np.zeros((n_word, n_word))\n",
    "    \n",
    "    for i in range(n_word):\n",
    "        # 위에서 정의한 코사인 유사도 사용\n",
    "        for j in range(i, n_word):\n",
    "            similarity_matrix[j, i] = cosine_similarity(vectors[i], vectors[j]).round(4)\n",
    "            \n",
    "    return similarity_matrix"
   ]
  },
  {
   "cell_type": "code",
   "execution_count": 24,
   "metadata": {},
   "outputs": [
    {
     "data": {
      "text/plain": [
       "array([[ 1.    ,  0.    ,  0.    ,  0.    ,  0.    ,  0.    ,  0.    ,\n",
       "         0.    ,  0.    ,  0.    ,  0.    ,  0.    ],\n",
       "       [ 0.9917,  1.    ,  0.    ,  0.    ,  0.    ,  0.    ,  0.    ,\n",
       "         0.    ,  0.    ,  0.    ,  0.    ,  0.    ],\n",
       "       [ 0.9912,  0.966 ,  1.    ,  0.    ,  0.    ,  0.    ,  0.    ,\n",
       "         0.    ,  0.    ,  0.    ,  0.    ,  0.    ],\n",
       "       [ 0.9917,  1.    ,  0.966 ,  1.    ,  0.    ,  0.    ,  0.    ,\n",
       "         0.    ,  0.    ,  0.    ,  0.    ,  0.    ],\n",
       "       [-0.0849, -0.1811,  0.018 , -0.1811,  1.    ,  0.    ,  0.    ,\n",
       "         0.    ,  0.    ,  0.    ,  0.    ,  0.    ],\n",
       "       [ 0.6085,  0.5202,  0.6876,  0.5202,  0.1419,  1.    ,  0.    ,\n",
       "         0.    ,  0.    ,  0.    ,  0.    ,  0.    ],\n",
       "       [ 0.9958,  0.9993,  0.9749,  0.9993, -0.1569,  0.5489,  1.    ,\n",
       "         0.    ,  0.    ,  0.    ,  0.    ,  0.    ],\n",
       "       [ 0.2457,  0.1419,  0.3505,  0.1419,  0.9403,  0.4102,  0.1694,\n",
       "         1.    ,  0.    ,  0.    ,  0.    ,  0.    ],\n",
       "       [-0.0521, -0.1301,  0.0269, -0.1301, -0.0463,  0.7258, -0.1038,\n",
       "         0.0331,  1.    ,  0.    ,  0.    ,  0.    ],\n",
       "       [-0.0521, -0.1301,  0.0269, -0.1301, -0.0463,  0.7258, -0.1038,\n",
       "         0.0331,  1.    ,  1.    ,  0.    ,  0.    ],\n",
       "       [ 0.0485, -0.0333,  0.1296, -0.0333, -0.0256,  0.7937, -0.0059,\n",
       "         0.0862,  0.9945,  0.9945,  1.    ,  0.    ],\n",
       "       [-0.0466, -0.1444,  0.0574, -0.1444,  0.9992,  0.1759, -0.1196,\n",
       "         0.9533, -0.0352, -0.0352, -0.0105,  1.    ]])"
      ]
     },
     "execution_count": 24,
     "metadata": {},
     "output_type": "execute_result"
    }
   ],
   "source": [
    "word_vectors = svd.components_.T\n",
    "word_similarity_matrix=calc_similarity_matrix(word_vectors)\n",
    "word_similarity_matrix"
   ]
  },
  {
   "cell_type": "code",
   "execution_count": 28,
   "metadata": {},
   "outputs": [],
   "source": [
    "import matplotlib.pyplot as plt\n",
    "import seaborn as sns\n",
    "\n",
    "def visualize_similarity(similarity_matrix):\n",
    "    uniform_data = similarity_matrix\n",
    "    mask = np.triu(np.ones_like(similarity_matrix, dtype=np.bool))\n",
    "    plt.rcParams['figure.figsize']=[8,6]\n",
    "    ax = sns.heatmap(uniform_data, mask=mask, annot=True, fmt='.2f', annot_kws={'size':8},\n",
    "                     cmap='coolwarm')"
   ]
  },
  {
   "cell_type": "code",
   "execution_count": 29,
   "metadata": {},
   "outputs": [
    {
     "name": "stdout",
     "output_type": "stream",
     "text": [
      "['김치', '김치찌개', '된장', '된장찌개', '바나나', '볶음밥', '비빔밥', '사과', '짜장면', '짬뽕', '탕수육', '포도']\n"
     ]
    }
   ],
   "source": [
    "print(vocab)"
   ]
  },
  {
   "cell_type": "code",
   "execution_count": 30,
   "metadata": {},
   "outputs": [
    {
     "name": "stderr",
     "output_type": "stream",
     "text": [
      "findfont: Font family ['NanumBarunGothic'] not found. Falling back to DejaVu Sans.\n",
      "findfont: Font family ['NanumBarunGothic'] not found. Falling back to DejaVu Sans.\n"
     ]
    },
    {
     "data": {
      "image/png": "[encoded data removed]",
      "text/plain": [
       "<Figure size 576x432 with 2 Axes>"
      ]
     },
     "metadata": {
      "needs_background": "light"
     },
     "output_type": "display_data"
    }
   ],
   "source": [
    "visualize_similarity(word_similarity_matrix)"
   ]
  },
  {
   "cell_type": "markdown",
   "metadata": {},
   "source": [
    "## 단어벡터 시각화"
   ]
  },
  {
   "cell_type": "code",
   "execution_count": 31,
   "metadata": {},
   "outputs": [],
   "source": [
    "%matplotlib inline\n",
    "import matplotlib.font_manager as fm\n",
    "import matplotlib\n",
    "\n",
    "fontprop = fm.FontProperties(fname='C:/Users/671/AppData/Local/Microsoft/Windows/Fonts/NanumBarunGothic.ttf', size=12)"
   ]
  },
  {
   "cell_type": "code",
   "execution_count": 36,
   "metadata": {},
   "outputs": [],
   "source": [
    "from sklearn.manifold import TSNE\n",
    "import numpy as np\n",
    "vectors = word_vectors\n",
    "labels = tfidf_vect.get_feature_names()\n",
    "def visualize_vectors(vectors, labels):\n",
    "    tsne = TSNE(n_components=2, random_state=0, n_iter=10000, perplexity=2)\n",
    "    np.set_printoptions(suppress=True)\n",
    "    T = tsne.fit_transform(vectors)\n",
    "    \n",
    "    plt.figure(figsize=(10,6))\n",
    "    plt.scatter(T[:,0], T[:,1], c='orange', edgecolors='r')\n",
    "    for label, x, y in zip(labels, T[:,0], T[:,1]):\n",
    "        plt.annotate(label, xy=(x+1, y+1), xytext=(0,0),\n",
    "                    textcoords='offset points',\n",
    "                    fontproperties=fontprop)"
   ]
  },
  {
   "cell_type": "code",
   "execution_count": 37,
   "metadata": {},
   "outputs": [
    {
     "data": {
      "image/png": "[encoded data removed]",
      "text/plain": [
       "<Figure size 720x432 with 1 Axes>"
      ]
     },
     "metadata": {
      "needs_background": "light"
     },
     "output_type": "display_data"
    }
   ],
   "source": [
    "visualize_vectors(vectors, labels)"
   ]
  },
  {
   "cell_type": "code",
   "execution_count": null,
   "metadata": {},
   "outputs": [],
   "source": []
  }
 ],
 "metadata": {
  "kernelspec": {
   "display_name": "Python 3",
   "language": "python",
   "name": "python3"
  },
  "language_info": {
   "codemirror_mode": {
    "name": "ipython",
    "version": 3
   },
   "file_extension": ".py",
   "mimetype": "text/x-python",
   "name": "python",
   "nbconvert_exporter": "python",
   "pygments_lexer": "ipython3",
   "version": "3.7.6"
  }
 },
 "nbformat": 4,
 "nbformat_minor": 4
}
