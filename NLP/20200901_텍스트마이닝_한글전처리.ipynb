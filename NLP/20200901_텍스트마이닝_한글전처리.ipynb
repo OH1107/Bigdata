{
  "nbformat": 4,
  "nbformat_minor": 0,
  "metadata": {
    "kernelspec": {
      "display_name": "Python 3",
      "language": "python",
      "name": "python3"
    },
    "language_info": {
      "codemirror_mode": {
        "name": "ipython",
        "version": 3
      },
      "file_extension": ".py",
      "mimetype": "text/x-python",
      "name": "python",
      "nbconvert_exporter": "python",
      "pygments_lexer": "ipython3",
      "version": "3.7.6"
    },
    "colab": {
      "name": "20200901_텍스트마이닝_한글전처리.ipynb",
      "provenance": [],
      "include_colab_link": true
    }
  },
  "cells": [
    {
      "cell_type": "markdown",
      "metadata": {
        "id": "view-in-github",
        "colab_type": "text"
      },
      "source": [
        "<a href=\"https://colab.research.google.com/github/OH1107/aisa_edu/blob/master/NLP/20200901_%ED%85%8D%EC%8A%A4%ED%8A%B8%EB%A7%88%EC%9D%B4%EB%8B%9D_%ED%95%9C%EA%B8%80%EC%A0%84%EC%B2%98%EB%A6%AC.ipynb\" target=\"_parent\"><img src=\"https://colab.research.google.com/assets/colab-badge.svg\" alt=\"Open In Colab\"/></a>"
      ]
    },
    {
      "cell_type": "code",
      "metadata": {
        "id": "l9ZTA_ZI7GOQ",
        "colab_type": "code",
        "colab": {},
        "outputId": "c75d5833-8d36-425a-e710-8fd5e3124092"
      },
      "source": [
        "!pip install mecab_python-0.996_ko_0.9.2_msvc-cp37-cp37m-win_amd64.whl"
      ],
      "execution_count": null,
      "outputs": [
        {
          "output_type": "stream",
          "text": [
            "Requirement already satisfied: mecab-python==0.996-ko-0.9.2-msvc from file:///C:/Users/671/00_OH/mecab_python-0.996_ko_0.9.2_msvc-cp37-cp37m-win_amd64.whl in c:\\programdata\\anaconda3\\lib\\site-packages (0.996-ko-0.9.2-msvc)\n"
          ],
          "name": "stdout"
        }
      ]
    },
    {
      "cell_type": "code",
      "metadata": {
        "id": "G1qY6dg97GOh",
        "colab_type": "code",
        "colab": {},
        "outputId": "6cae9ca0-7738-4bf7-f43a-4d4c5c15d919"
      },
      "source": [
        "import MeCab\n",
        "m = MeCab.Tagger()\n",
        "out = m.parse(\"MeCab이 잘 설치되었는지 확인중입니다.\")\n",
        "print(out)"
      ],
      "execution_count": null,
      "outputs": [
        {
          "output_type": "stream",
          "text": [
            "MeCab\tSL,*,*,*,*,*,*,*\n",
            "이\tJKS,*,F,이,*,*,*,*\n",
            "잘\tMAG,*,T,잘,*,*,*,*\n",
            "설치\tNNG,행위,F,설치,*,*,*,*\n",
            "되\tXSV,*,F,되,*,*,*,*\n",
            "었\tEP,*,T,었,*,*,*,*\n",
            "는지\tEC,*,F,는지,*,*,*,*\n",
            "확인\tNNG,행위,T,확인,*,*,*,*\n",
            "중\tNNB,*,T,중,*,*,*,*\n",
            "입니다\tVCP+EF,*,F,입니다,Inflect,VCP,EF,이/VCP/*+ᄇ니다/EF/*\n",
            ".\tSF,*,*,*,*,*,*,*\n",
            "EOS\n",
            "\n"
          ],
          "name": "stdout"
        }
      ]
    },
    {
      "cell_type": "code",
      "metadata": {
        "id": "KS_Qvysa7GOr",
        "colab_type": "code",
        "colab": {},
        "outputId": "a8d80811-da47-4a3b-e1df-63b8145515f5"
      },
      "source": [
        "# cmd에서 관리자 실행으로 설치하였음\n",
        "!pip install JPype1-1.0.2-cp37-cp37m-win_amd64.whl"
      ],
      "execution_count": null,
      "outputs": [
        {
          "output_type": "stream",
          "text": [
            "Processing c:\\users\\671\\00_oh\\jpype1-1.0.2-cp37-cp37m-win_amd64.whl\n",
            "Requirement already satisfied: typing-extensions; python_version < \"3.8\" in c:\\programdata\\anaconda3\\lib\\site-packages (from JPype1==1.0.2) (3.7.4.3)\n",
            "Installing collected packages: JPype1\n",
            "  Attempting uninstall: JPype1\n",
            "    Found existing installation: JPype1 0.7.5\n",
            "    Uninstalling JPype1-0.7.5:\n"
          ],
          "name": "stdout"
        },
        {
          "output_type": "stream",
          "text": [
            "ERROR: Could not install packages due to an EnvironmentError: [WinError 5] 액세스가 거부되었습니다: 'c:\\\\programdata\\\\anaconda3\\\\lib\\\\site-packages\\\\_jpype.cp37-win_amd64.pdb'\n",
            "Consider using the `--user` option or check the permissions.\n",
            "\n"
          ],
          "name": "stderr"
        }
      ]
    },
    {
      "cell_type": "code",
      "metadata": {
        "id": "7Br4dpUl7GO0",
        "colab_type": "code",
        "colab": {},
        "outputId": "dd3cf7d6-1221-4efb-dbf7-cd8d04671060"
      },
      "source": [
        "from konlpy.tag import Kkma\n",
        "Kkma_pos = Kkma()\n",
        "K_nouns = Kkma_pos.nouns(\"지금부터 코엔엘파이 한국어 형태소 분석기 설치를 확인해 봅니다.\")\n",
        "print(K_nouns)"
      ],
      "execution_count": null,
      "outputs": [
        {
          "output_type": "stream",
          "text": [
            "['지금', '코엔', '코엔엘파이', '엘', '파이', '한국어', '형태소', '분석기', '설치', '확인']\n"
          ],
          "name": "stdout"
        }
      ]
    },
    {
      "cell_type": "code",
      "metadata": {
        "id": "KtJSz7Kg7GO9",
        "colab_type": "code",
        "colab": {}
      },
      "source": [
        "from konlpy.tag import Mecab\n",
        "m = Mecab()"
      ],
      "execution_count": null,
      "outputs": []
    },
    {
      "cell_type": "code",
      "metadata": {
        "id": "J3N6g_yh7GPF",
        "colab_type": "code",
        "colab": {},
        "outputId": "c60a3ba8-acd5-40b2-cf64-fb9a709b2e41"
      },
      "source": [
        "m.nouns('메켑이 설치되었는지 확인합니다.')"
      ],
      "execution_count": null,
      "outputs": [
        {
          "output_type": "execute_result",
          "data": {
            "text/plain": [
              "['설치', '확인']"
            ]
          },
          "metadata": {
            "tags": []
          },
          "execution_count": 9
        }
      ]
    },
    {
      "cell_type": "code",
      "metadata": {
        "id": "AQcUCAUS7GPQ",
        "colab_type": "code",
        "colab": {}
      },
      "source": [
        ""
      ],
      "execution_count": null,
      "outputs": []
    }
  ]
}