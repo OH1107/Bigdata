{
  "nbformat": 4,
  "nbformat_minor": 0,
  "metadata": {
    "kernelspec": {
      "display_name": "Python 3",
      "language": "python",
      "name": "python3"
    },
    "language_info": {
      "codemirror_mode": {
        "name": "ipython",
        "version": 3
      },
      "file_extension": ".py",
      "mimetype": "text/x-python",
      "name": "python",
      "nbconvert_exporter": "python",
      "pygments_lexer": "ipython3",
      "version": "3.7.6"
    },
    "colab": {
      "name": "20200902_단어표현실습_BOW.ipynb",
      "provenance": [],
      "include_colab_link": true
    }
  },
  "cells": [
    {
      "cell_type": "markdown",
      "metadata": {
        "id": "view-in-github",
        "colab_type": "text"
      },
      "source": [
        "<a href=\"https://colab.research.google.com/github/OH1107/aisa_edu/blob/master/NLP/20200902_%EB%8B%A8%EC%96%B4%ED%91%9C%ED%98%84%EC%8B%A4%EC%8A%B5_BOW.ipynb\" target=\"_parent\"><img src=\"https://colab.research.google.com/assets/colab-badge.svg\" alt=\"Open In Colab\"/></a>"
      ]
    },
    {
      "cell_type": "markdown",
      "metadata": {
        "id": "ZkVHMCsPOZQJ",
        "colab_type": "text"
      },
      "source": [
        "# BOW 직접 구현"
      ]
    },
    {
      "cell_type": "code",
      "metadata": {
        "id": "SENScD1zOZQK",
        "colab_type": "code",
        "colab": {}
      },
      "source": [
        "docs = ['오늘 동물원에서 코끼리 원숭이를 보고 코끼리 원숭이에게 먹이를 줬어',\n",
        "       '오늘 동물원에서 원숭이에게 사과를 줬어']"
      ],
      "execution_count": null,
      "outputs": []
    },
    {
      "cell_type": "code",
      "metadata": {
        "id": "FzhGgJpxOZQO",
        "colab_type": "code",
        "colab": {},
        "outputId": "7268a7da-3a82-406e-c087-9131b1cddd2d"
      },
      "source": [
        "doc_ls = []\n",
        "for doc in docs:\n",
        "    doc_ls.append(doc.split(' '))\n",
        "doc_ls"
      ],
      "execution_count": null,
      "outputs": [
        {
          "output_type": "execute_result",
          "data": {
            "text/plain": [
              "[['오늘', '동물원에서', '코끼리', '원숭이를', '보고', '코끼리', '원숭이에게', '먹이를', '줬어'],\n",
              " ['오늘', '동물원에서', '원숭이에게', '사과를', '줬어']]"
            ]
          },
          "metadata": {
            "tags": []
          },
          "execution_count": 9
        }
      ]
    },
    {
      "cell_type": "code",
      "metadata": {
        "id": "BXDZ_WNhOZQR",
        "colab_type": "code",
        "colab": {},
        "outputId": "354f4071-1b35-4865-cfeb-799a8f8d8609"
      },
      "source": [
        "from collections import defaultdict\n",
        "word2id = defaultdict(lambda : len(word2id))\n",
        "word2id"
      ],
      "execution_count": null,
      "outputs": [
        {
          "output_type": "execute_result",
          "data": {
            "text/plain": [
              "defaultdict(<function __main__.<lambda>()>, {})"
            ]
          },
          "metadata": {
            "tags": []
          },
          "execution_count": 10
        }
      ]
    },
    {
      "cell_type": "code",
      "metadata": {
        "id": "AqODPrntOZQU",
        "colab_type": "code",
        "colab": {},
        "outputId": "0da9b26b-3961-4a87-c2a3-589f76139e87"
      },
      "source": [
        "for doc in doc_ls:\n",
        "    for token in doc:\n",
        "        word2id[token]\n",
        "word2id"
      ],
      "execution_count": null,
      "outputs": [
        {
          "output_type": "execute_result",
          "data": {
            "text/plain": [
              "defaultdict(<function __main__.<lambda>()>,\n",
              "            {'오늘': 0,\n",
              "             '동물원에서': 1,\n",
              "             '코끼리': 2,\n",
              "             '원숭이를': 3,\n",
              "             '보고': 4,\n",
              "             '원숭이에게': 5,\n",
              "             '먹이를': 6,\n",
              "             '줬어': 7,\n",
              "             '사과를': 8})"
            ]
          },
          "metadata": {
            "tags": []
          },
          "execution_count": 14
        }
      ]
    },
    {
      "cell_type": "code",
      "metadata": {
        "id": "5XPVitp1OZQW",
        "colab_type": "code",
        "colab": {},
        "outputId": "0d46c0b8-1ee0-4276-8f90-9da937f489ad"
      },
      "source": [
        "import numpy as np\n",
        "bow_vectors = np.zeros(len(word2id))\n",
        "bow_vectors"
      ],
      "execution_count": null,
      "outputs": [
        {
          "output_type": "execute_result",
          "data": {
            "text/plain": [
              "array([0., 0., 0., 0., 0., 0., 0., 0., 0.])"
            ]
          },
          "metadata": {
            "tags": []
          },
          "execution_count": 18
        }
      ]
    },
    {
      "cell_type": "code",
      "metadata": {
        "id": "tiBJdScNOZQZ",
        "colab_type": "code",
        "colab": {},
        "outputId": "452e00c9-aadc-4bf1-82b7-a002720320d1"
      },
      "source": [
        "for i in doc_ls:\n",
        "    print(i)\n",
        "    for word in i:\n",
        "        print(word)\n",
        "        index = word2id[word]\n",
        "        bow_vectors[index] += 1"
      ],
      "execution_count": null,
      "outputs": [
        {
          "output_type": "stream",
          "text": [
            "['오늘', '동물원에서', '코끼리', '원숭이를', '보고', '코끼리', '원숭이에게', '먹이를', '줬어']\n",
            "오늘\n",
            "동물원에서\n",
            "코끼리\n",
            "원숭이를\n",
            "보고\n",
            "코끼리\n",
            "원숭이에게\n",
            "먹이를\n",
            "줬어\n",
            "['오늘', '동물원에서', '원숭이에게', '사과를', '줬어']\n",
            "오늘\n",
            "동물원에서\n",
            "원숭이에게\n",
            "사과를\n",
            "줬어\n"
          ],
          "name": "stdout"
        }
      ]
    },
    {
      "cell_type": "code",
      "metadata": {
        "id": "x1sr-EM5OZQc",
        "colab_type": "code",
        "colab": {},
        "outputId": "550c33da-d831-47a7-a52d-7ac01b6151ff"
      },
      "source": [
        "bow_vectors"
      ],
      "execution_count": null,
      "outputs": [
        {
          "output_type": "execute_result",
          "data": {
            "text/plain": [
              "array([2., 2., 2., 1., 1., 2., 1., 2., 1.])"
            ]
          },
          "metadata": {
            "tags": []
          },
          "execution_count": 24
        }
      ]
    },
    {
      "cell_type": "code",
      "metadata": {
        "id": "Cn5IHJ3LOZQf",
        "colab_type": "code",
        "colab": {}
      },
      "source": [
        ""
      ],
      "execution_count": null,
      "outputs": []
    }
  ]
}