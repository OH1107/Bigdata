{
  "nbformat": 4,
  "nbformat_minor": 0,
  "metadata": {
    "kernelspec": {
      "display_name": "Python 3",
      "language": "python",
      "name": "python3"
    },
    "language_info": {
      "codemirror_mode": {
        "name": "ipython",
        "version": 3
      },
      "file_extension": ".py",
      "mimetype": "text/x-python",
      "name": "python",
      "nbconvert_exporter": "python",
      "pygments_lexer": "ipython3",
      "version": "3.7.6"
    },
    "colab": {
      "name": "20200902_단어표현실습_OneHotEncoding.ipynb",
      "provenance": [],
      "include_colab_link": true
    }
  },
  "cells": [
    {
      "cell_type": "markdown",
      "metadata": {
        "id": "view-in-github",
        "colab_type": "text"
      },
      "source": [
        "<a href=\"https://colab.research.google.com/github/OH1107/aisa_edu/blob/master/NLP/20200902_%EB%8B%A8%EC%96%B4%ED%91%9C%ED%98%84%EC%8B%A4%EC%8A%B5_OneHotEncoding.ipynb\" target=\"_parent\"><img src=\"https://colab.research.google.com/assets/colab-badge.svg\" alt=\"Open In Colab\"/></a>"
      ]
    },
    {
      "cell_type": "markdown",
      "metadata": {
        "id": "AG1ID64VPd3X",
        "colab_type": "text"
      },
      "source": [
        "# OneHotEncoding 직접 구현"
      ]
    },
    {
      "cell_type": "code",
      "metadata": {
        "id": "HLcov5nmPd3Z",
        "colab_type": "code",
        "colab": {}
      },
      "source": [
        "# 인코딩 대상 단어 리스트\n",
        "word_ls = ['원숭이','바나나','사과','코끼리']"
      ],
      "execution_count": null,
      "outputs": []
    },
    {
      "cell_type": "code",
      "metadata": {
        "id": "4AC67_k5Pd3d",
        "colab_type": "code",
        "colab": {},
        "outputId": "aa0f22ae-ba63-4331-f1c3-651c8f99678b"
      },
      "source": [
        "from collections import defaultdict\n",
        "import numpy as np\n",
        "# {단어 : 인덱스} 사전 구축\n",
        "word2id_dic = defaultdict(lambda:len(word2id_dic))\n",
        "\n",
        "for word in word_ls:\n",
        "    word2id_dic[word]\n",
        "    \n",
        "print(word2id_dic)"
      ],
      "execution_count": null,
      "outputs": [
        {
          "output_type": "stream",
          "text": [
            "defaultdict(<function <lambda> at 0x000001F1FCA2A438>, {'원숭이': 0, '바나나': 1, '사과': 2, '코끼리': 3})\n"
          ],
          "name": "stdout"
        }
      ]
    },
    {
      "cell_type": "code",
      "metadata": {
        "id": "OSMNPp--Pd3h",
        "colab_type": "code",
        "colab": {}
      },
      "source": [
        "# 고유단어개수: 4개\n",
        "n_unique_words = len(word2id_dic) # 4값 부여"
      ],
      "execution_count": null,
      "outputs": []
    },
    {
      "cell_type": "code",
      "metadata": {
        "id": "9oAYmkUEPd3k",
        "colab_type": "code",
        "colab": {}
      },
      "source": [
        "# 원핫벡터를 만들기 위해 비어있는 벡터 생성\n",
        "one_hot_vectors = np.zeros((len(word_ls),n_unique_words)) # 4*4 0값의 벡터 생성"
      ],
      "execution_count": null,
      "outputs": []
    },
    {
      "cell_type": "code",
      "metadata": {
        "id": "7oWgAXHWPd3m",
        "colab_type": "code",
        "colab": {},
        "outputId": "0467b0ba-ae4d-4a7f-a117-bd6b1a2f6378"
      },
      "source": [
        "for i, word in enumerate(word_ls):\n",
        "    index = word2id_dic[word]\n",
        "    print(index)\n",
        "    one_hot_vectors[i,index] += 1\n",
        "    print(one_hot_vectors)\n",
        "    print('-'*10)"
      ],
      "execution_count": null,
      "outputs": [
        {
          "output_type": "stream",
          "text": [
            "0\n",
            "[[1. 0. 0. 0.]\n",
            " [0. 0. 0. 0.]\n",
            " [0. 0. 0. 0.]\n",
            " [0. 0. 0. 0.]]\n",
            "----------\n",
            "1\n",
            "[[1. 0. 0. 0.]\n",
            " [0. 1. 0. 0.]\n",
            " [0. 0. 0. 0.]\n",
            " [0. 0. 0. 0.]]\n",
            "----------\n",
            "2\n",
            "[[1. 0. 0. 0.]\n",
            " [0. 1. 0. 0.]\n",
            " [0. 0. 1. 0.]\n",
            " [0. 0. 0. 0.]]\n",
            "----------\n",
            "3\n",
            "[[1. 0. 0. 0.]\n",
            " [0. 1. 0. 0.]\n",
            " [0. 0. 1. 0.]\n",
            " [0. 0. 0. 1.]]\n",
            "----------\n"
          ],
          "name": "stdout"
        }
      ]
    },
    {
      "cell_type": "markdown",
      "metadata": {
        "id": "MlSlVJ3KPd3p",
        "colab_type": "text"
      },
      "source": [
        "# sklearn으로 OneHotEncoding구현하기"
      ]
    },
    {
      "cell_type": "code",
      "metadata": {
        "id": "5WahgZZ7Pd3p",
        "colab_type": "code",
        "colab": {}
      },
      "source": [
        "# sklearn을 활용한 one-hot encoding\n",
        "from numpy import array\n",
        "from numpy import argmax\n",
        "from sklearn.preprocessing import LabelEncoder\n",
        "from sklearn.preprocessing import OneHotEncoder"
      ],
      "execution_count": null,
      "outputs": []
    },
    {
      "cell_type": "code",
      "metadata": {
        "id": "3Ukfb7EfPd3s",
        "colab_type": "code",
        "colab": {},
        "outputId": "57880031-66e2-4e13-9670-53d783feb1f1"
      },
      "source": [
        "# 예제 데이터 배열\n",
        "values = array(word_ls)\n",
        "values"
      ],
      "execution_count": null,
      "outputs": [
        {
          "output_type": "execute_result",
          "data": {
            "text/plain": [
              "array(['원숭이', '바나나', '사과', '코끼리'], dtype='<U3')"
            ]
          },
          "metadata": {
            "tags": []
          },
          "execution_count": 13
        }
      ]
    },
    {
      "cell_type": "code",
      "metadata": {
        "id": "fMGXNYSHPd3v",
        "colab_type": "code",
        "colab": {},
        "outputId": "f7d93c4e-d3a4-4284-c359-4d9e0746d2e9"
      },
      "source": [
        "# 문자열에 숫자를 붙임\n",
        "label_enc = LabelEncoder()  # 선언\n",
        "int_enc = label_enc.fit_transform(values)\n",
        "int_enc"
      ],
      "execution_count": null,
      "outputs": [
        {
          "output_type": "execute_result",
          "data": {
            "text/plain": [
              "array([2, 0, 1, 3], dtype=int64)"
            ]
          },
          "metadata": {
            "tags": []
          },
          "execution_count": 18
        }
      ]
    },
    {
      "cell_type": "code",
      "metadata": {
        "id": "lUkhDcYKPd3x",
        "colab_type": "code",
        "colab": {},
        "outputId": "4ea6b2aa-77eb-4537-d274-afa3124525f0"
      },
      "source": [
        "# binary encode\n",
        "onehot_enc = OneHotEncoder(sparse=False) # 선언\n",
        "int_enc = int_enc.reshape(len(int_enc),1) # n:1 matrix로 변환\n",
        "onehot_enc = onehot_enc.fit_transform(int_enc)\n",
        "onehot_enc"
      ],
      "execution_count": null,
      "outputs": [
        {
          "output_type": "execute_result",
          "data": {
            "text/plain": [
              "array([[0., 0., 1., 0.],\n",
              "       [1., 0., 0., 0.],\n",
              "       [0., 1., 0., 0.],\n",
              "       [0., 0., 0., 1.]])"
            ]
          },
          "metadata": {
            "tags": []
          },
          "execution_count": 25
        }
      ]
    },
    {
      "cell_type": "code",
      "metadata": {
        "id": "dWzR3DjwPd30",
        "colab_type": "code",
        "colab": {}
      },
      "source": [
        ""
      ],
      "execution_count": null,
      "outputs": []
    }
  ]
}