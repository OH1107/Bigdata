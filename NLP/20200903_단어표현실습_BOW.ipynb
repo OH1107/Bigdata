{
  "nbformat": 4,
  "nbformat_minor": 0,
  "metadata": {
    "kernelspec": {
      "display_name": "Python 3",
      "language": "python",
      "name": "python3"
    },
    "language_info": {
      "codemirror_mode": {
        "name": "ipython",
        "version": 3
      },
      "file_extension": ".py",
      "mimetype": "text/x-python",
      "name": "python",
      "nbconvert_exporter": "python",
      "pygments_lexer": "ipython3",
      "version": "3.7.6"
    },
    "colab": {
      "name": "20200903_단어표현실습_BOW.ipynb",
      "provenance": [],
      "include_colab_link": true
    }
  },
  "cells": [
    {
      "cell_type": "markdown",
      "metadata": {
        "id": "view-in-github",
        "colab_type": "text"
      },
      "source": [
        "<a href=\"https://colab.research.google.com/github/OH1107/aisa_edu/blob/master/NLP/20200903_%EB%8B%A8%EC%96%B4%ED%91%9C%ED%98%84%EC%8B%A4%EC%8A%B5_BOW.ipynb\" target=\"_parent\"><img src=\"https://colab.research.google.com/assets/colab-badge.svg\" alt=\"Open In Colab\"/></a>"
      ]
    },
    {
      "cell_type": "markdown",
      "metadata": {
        "id": "dRPV-RwAXSMR",
        "colab_type": "text"
      },
      "source": [
        "# BOW 직접 구현"
      ]
    },
    {
      "cell_type": "code",
      "metadata": {
        "id": "BFZWDZazXSMS",
        "colab_type": "code",
        "colab": {}
      },
      "source": [
        "docs = ['오늘 동물원에서 코끼리 원숭이를 보고 코끼리 원숭이에게 먹이를 줬어',\n",
        "       '오늘 동물원에서 원숭이에게 사과를 줬어']"
      ],
      "execution_count": null,
      "outputs": []
    },
    {
      "cell_type": "code",
      "metadata": {
        "id": "sjOglnTJXSMW",
        "colab_type": "code",
        "colab": {},
        "outputId": "5a56e562-1726-42ef-f2f7-4000afa7efb4"
      },
      "source": [
        "# 띄어쓰기 토큰화 \n",
        "doc_ls = []\n",
        "for doc in docs:\n",
        "    doc_ls.append(doc.split(' '))\n",
        "doc_ls"
      ],
      "execution_count": null,
      "outputs": [
        {
          "output_type": "execute_result",
          "data": {
            "text/plain": [
              "[['오늘', '동물원에서', '코끼리', '원숭이를', '보고', '코끼리', '원숭이에게', '먹이를', '줬어'],\n",
              " ['오늘', '동물원에서', '원숭이에게', '사과를', '줬어']]"
            ]
          },
          "metadata": {
            "tags": []
          },
          "execution_count": 2
        }
      ]
    },
    {
      "cell_type": "code",
      "metadata": {
        "id": "04tB-kWIXSMZ",
        "colab_type": "code",
        "colab": {},
        "outputId": "f19d49e7-d3c1-4fc0-eeb4-7b51fc58a5a0"
      },
      "source": [
        "from collections import defaultdict\n",
        "word2id = defaultdict(lambda : len(word2id))\n",
        "word2id"
      ],
      "execution_count": null,
      "outputs": [
        {
          "output_type": "execute_result",
          "data": {
            "text/plain": [
              "defaultdict(<function __main__.<lambda>()>, {})"
            ]
          },
          "metadata": {
            "tags": []
          },
          "execution_count": 3
        }
      ]
    },
    {
      "cell_type": "code",
      "metadata": {
        "id": "-2RDpot1XSMd",
        "colab_type": "code",
        "colab": {},
        "outputId": "c0e88c11-44b6-44d0-8de0-f853247bef16"
      },
      "source": [
        "for doc in doc_ls:\n",
        "    for token in doc:\n",
        "        word2id[token]\n",
        "word2id"
      ],
      "execution_count": null,
      "outputs": [
        {
          "output_type": "execute_result",
          "data": {
            "text/plain": [
              "defaultdict(<function __main__.<lambda>()>,\n",
              "            {'오늘': 0,\n",
              "             '동물원에서': 1,\n",
              "             '코끼리': 2,\n",
              "             '원숭이를': 3,\n",
              "             '보고': 4,\n",
              "             '원숭이에게': 5,\n",
              "             '먹이를': 6,\n",
              "             '줬어': 7,\n",
              "             '사과를': 8})"
            ]
          },
          "metadata": {
            "tags": []
          },
          "execution_count": 4
        }
      ]
    },
    {
      "cell_type": "code",
      "metadata": {
        "id": "eC5k4IcwXSMg",
        "colab_type": "code",
        "colab": {},
        "outputId": "c8183e50-9299-4082-dae7-b87b1ab3fa29"
      },
      "source": [
        "import numpy as np\n",
        "bow_vectors = np.zeros(len(word2id))\n",
        "bow_vectors"
      ],
      "execution_count": null,
      "outputs": [
        {
          "output_type": "execute_result",
          "data": {
            "text/plain": [
              "array([0., 0., 0., 0., 0., 0., 0., 0., 0.])"
            ]
          },
          "metadata": {
            "tags": []
          },
          "execution_count": 5
        }
      ]
    },
    {
      "cell_type": "code",
      "metadata": {
        "id": "bDvUkzkbXSMj",
        "colab_type": "code",
        "colab": {},
        "outputId": "e3b25a07-9fba-4acc-eb24-379a7a4058d4"
      },
      "source": [
        "for i in doc_ls:\n",
        "    print(i)\n",
        "    for word in i:\n",
        "        print(word)\n",
        "        index = word2id[word]\n",
        "        bow_vectors[index] += 1"
      ],
      "execution_count": null,
      "outputs": [
        {
          "output_type": "stream",
          "text": [
            "['오늘', '동물원에서', '코끼리', '원숭이를', '보고', '코끼리', '원숭이에게', '먹이를', '줬어']\n",
            "오늘\n",
            "동물원에서\n",
            "코끼리\n",
            "원숭이를\n",
            "보고\n",
            "코끼리\n",
            "원숭이에게\n",
            "먹이를\n",
            "줬어\n",
            "['오늘', '동물원에서', '원숭이에게', '사과를', '줬어']\n",
            "오늘\n",
            "동물원에서\n",
            "원숭이에게\n",
            "사과를\n",
            "줬어\n"
          ],
          "name": "stdout"
        }
      ]
    },
    {
      "cell_type": "code",
      "metadata": {
        "id": "8xKtq_EaXSMm",
        "colab_type": "code",
        "colab": {},
        "outputId": "caa02c97-1c16-4c7c-f863-df69f26e4a96"
      },
      "source": [
        "bow_vectors"
      ],
      "execution_count": null,
      "outputs": [
        {
          "output_type": "execute_result",
          "data": {
            "text/plain": [
              "array([2., 2., 2., 1., 1., 2., 1., 2., 1.])"
            ]
          },
          "metadata": {
            "tags": []
          },
          "execution_count": 7
        }
      ]
    },
    {
      "cell_type": "markdown",
      "metadata": {
        "id": "tdwsaKauXSMp",
        "colab_type": "text"
      },
      "source": [
        "- 다른 방법"
      ]
    },
    {
      "cell_type": "code",
      "metadata": {
        "id": "xLlF0hAWXSMp",
        "colab_type": "code",
        "colab": {},
        "outputId": "a34193e1-3b63-4279-aff8-04fb7c3f13cd"
      },
      "source": [
        "import numpy as np\n",
        "BoW_ls = []\n",
        "for i, doc in enumerate(doc_ls):\n",
        "    bow = np.zeros(len(word2id),dtype=int)\n",
        "    print(bow)\n",
        "    for token in doc:\n",
        "        bow[word2id[token]] += 1 # 해당 토큰의 위치(column)\n",
        "        print(word2id[token])\n",
        "    BoW_ls.append(bow.tolist())\n",
        "# 1차원 배열\n",
        "BoW_ls"
      ],
      "execution_count": null,
      "outputs": [
        {
          "output_type": "stream",
          "text": [
            "[0 0 0 0 0 0 0 0 0]\n",
            "0\n",
            "1\n",
            "2\n",
            "3\n",
            "4\n",
            "2\n",
            "5\n",
            "6\n",
            "7\n",
            "[0 0 0 0 0 0 0 0 0]\n",
            "0\n",
            "1\n",
            "5\n",
            "8\n",
            "7\n"
          ],
          "name": "stdout"
        },
        {
          "output_type": "execute_result",
          "data": {
            "text/plain": [
              "[[1, 1, 2, 1, 1, 1, 1, 1, 0], [1, 1, 0, 0, 0, 1, 0, 1, 1]]"
            ]
          },
          "metadata": {
            "tags": []
          },
          "execution_count": 10
        }
      ]
    },
    {
      "cell_type": "markdown",
      "metadata": {
        "id": "6oslIfKHXSMs",
        "colab_type": "text"
      },
      "source": [
        "- ICD 라이브러리를 활용하여 확인"
      ]
    },
    {
      "cell_type": "code",
      "metadata": {
        "id": "CbF1pYhGXSMt",
        "colab_type": "code",
        "colab": {},
        "outputId": "fd736eb0-fb5f-43d0-8677-9c3e588e5e4a"
      },
      "source": [
        "from IPython.core import display as ICD\n",
        "import pandas as pd\n",
        "sorted_vocab = sorted((value, key) for key, value in word2id.items())\n",
        "print('sorted_vocab',sorted_vocab)"
      ],
      "execution_count": null,
      "outputs": [
        {
          "output_type": "stream",
          "text": [
            "sorted_vocab [(0, '오늘'), (1, '동물원에서'), (2, '코끼리'), (3, '원숭이를'), (4, '보고'), (5, '원숭이에게'), (6, '먹이를'), (7, '줬어'), (8, '사과를')]\n"
          ],
          "name": "stdout"
        }
      ]
    },
    {
      "cell_type": "code",
      "metadata": {
        "id": "rgdRVEU7XSMw",
        "colab_type": "code",
        "colab": {},
        "outputId": "dac32d2e-d432-4a7d-f74a-8e590f7305fb"
      },
      "source": [
        "vocab=[]\n",
        "for v in sorted_vocab:\n",
        "    vocab.append(v[1])\n",
        "print('vocab',vocab)"
      ],
      "execution_count": null,
      "outputs": [
        {
          "output_type": "stream",
          "text": [
            "vocab ['오늘', '동물원에서', '코끼리', '원숭이를', '보고', '원숭이에게', '먹이를', '줬어', '사과를']\n"
          ],
          "name": "stdout"
        }
      ]
    },
    {
      "cell_type": "code",
      "metadata": {
        "id": "rRWve4hhXSMz",
        "colab_type": "code",
        "colab": {},
        "outputId": "ff9362af-70a5-4565-d1dd-941efa2ee10c"
      },
      "source": [
        "for i in range(len(docs)):\n",
        "    print(\"문서{} : {}\".format(i, docs[i]))\n",
        "    ICD.display(pd.DataFrame([BoW_ls[i]], columns=vocab))\n",
        "    print(\"\\n\\n\")"
      ],
      "execution_count": null,
      "outputs": [
        {
          "output_type": "stream",
          "text": [
            "문서0 : 오늘 동물원에서 코끼리 원숭이를 보고 코끼리 원숭이에게 먹이를 줬어\n"
          ],
          "name": "stdout"
        },
        {
          "output_type": "display_data",
          "data": {
            "text/html": [
              "<div>\n",
              "<style scoped>\n",
              "    .dataframe tbody tr th:only-of-type {\n",
              "        vertical-align: middle;\n",
              "    }\n",
              "\n",
              "    .dataframe tbody tr th {\n",
              "        vertical-align: top;\n",
              "    }\n",
              "\n",
              "    .dataframe thead th {\n",
              "        text-align: right;\n",
              "    }\n",
              "</style>\n",
              "<table border=\"1\" class=\"dataframe\">\n",
              "  <thead>\n",
              "    <tr style=\"text-align: right;\">\n",
              "      <th></th>\n",
              "      <th>오늘</th>\n",
              "      <th>동물원에서</th>\n",
              "      <th>코끼리</th>\n",
              "      <th>원숭이를</th>\n",
              "      <th>보고</th>\n",
              "      <th>원숭이에게</th>\n",
              "      <th>먹이를</th>\n",
              "      <th>줬어</th>\n",
              "      <th>사과를</th>\n",
              "    </tr>\n",
              "  </thead>\n",
              "  <tbody>\n",
              "    <tr>\n",
              "      <th>0</th>\n",
              "      <td>1</td>\n",
              "      <td>1</td>\n",
              "      <td>2</td>\n",
              "      <td>1</td>\n",
              "      <td>1</td>\n",
              "      <td>1</td>\n",
              "      <td>1</td>\n",
              "      <td>1</td>\n",
              "      <td>0</td>\n",
              "    </tr>\n",
              "  </tbody>\n",
              "</table>\n",
              "</div>"
            ],
            "text/plain": [
              "   오늘  동물원에서  코끼리  원숭이를  보고  원숭이에게  먹이를  줬어  사과를\n",
              "0   1      1    2     1   1      1    1   1    0"
            ]
          },
          "metadata": {
            "tags": []
          }
        },
        {
          "output_type": "stream",
          "text": [
            "\n",
            "\n",
            "\n",
            "문서1 : 오늘 동물원에서 원숭이에게 사과를 줬어\n"
          ],
          "name": "stdout"
        },
        {
          "output_type": "display_data",
          "data": {
            "text/html": [
              "<div>\n",
              "<style scoped>\n",
              "    .dataframe tbody tr th:only-of-type {\n",
              "        vertical-align: middle;\n",
              "    }\n",
              "\n",
              "    .dataframe tbody tr th {\n",
              "        vertical-align: top;\n",
              "    }\n",
              "\n",
              "    .dataframe thead th {\n",
              "        text-align: right;\n",
              "    }\n",
              "</style>\n",
              "<table border=\"1\" class=\"dataframe\">\n",
              "  <thead>\n",
              "    <tr style=\"text-align: right;\">\n",
              "      <th></th>\n",
              "      <th>오늘</th>\n",
              "      <th>동물원에서</th>\n",
              "      <th>코끼리</th>\n",
              "      <th>원숭이를</th>\n",
              "      <th>보고</th>\n",
              "      <th>원숭이에게</th>\n",
              "      <th>먹이를</th>\n",
              "      <th>줬어</th>\n",
              "      <th>사과를</th>\n",
              "    </tr>\n",
              "  </thead>\n",
              "  <tbody>\n",
              "    <tr>\n",
              "      <th>0</th>\n",
              "      <td>1</td>\n",
              "      <td>1</td>\n",
              "      <td>0</td>\n",
              "      <td>0</td>\n",
              "      <td>0</td>\n",
              "      <td>1</td>\n",
              "      <td>0</td>\n",
              "      <td>1</td>\n",
              "      <td>1</td>\n",
              "    </tr>\n",
              "  </tbody>\n",
              "</table>\n",
              "</div>"
            ],
            "text/plain": [
              "   오늘  동물원에서  코끼리  원숭이를  보고  원숭이에게  먹이를  줬어  사과를\n",
              "0   1      1    0     0   0      1    0   1    1"
            ]
          },
          "metadata": {
            "tags": []
          }
        },
        {
          "output_type": "stream",
          "text": [
            "\n",
            "\n",
            "\n"
          ],
          "name": "stdout"
        }
      ]
    },
    {
      "cell_type": "code",
      "metadata": {
        "id": "gs79MItlXSM2",
        "colab_type": "code",
        "colab": {},
        "outputId": "72c54196-2d13-4d7c-8c62-6c5e08a73676"
      },
      "source": [
        "BoW_ls"
      ],
      "execution_count": null,
      "outputs": [
        {
          "output_type": "execute_result",
          "data": {
            "text/plain": [
              "[[1, 1, 2, 1, 1, 1, 1, 1, 0], [1, 1, 0, 0, 0, 1, 0, 1, 1]]"
            ]
          },
          "metadata": {
            "tags": []
          },
          "execution_count": 15
        }
      ]
    },
    {
      "cell_type": "markdown",
      "metadata": {
        "id": "Q6WA9-NcXSM5",
        "colab_type": "text"
      },
      "source": [
        "# 단어의 순서를 고려하지 않은 BoW"
      ]
    },
    {
      "cell_type": "code",
      "metadata": {
        "id": "bybMLuR6XSM5",
        "colab_type": "code",
        "colab": {}
      },
      "source": [
        "docs = ['나는 양념 치킨을 좋아해 하지만 후라이드 치킨을 싫어해',\n",
        "       '나는 후라이드 치킨을 좋아해 하지만 양념 치킨을 싫어해']"
      ],
      "execution_count": null,
      "outputs": []
    },
    {
      "cell_type": "code",
      "metadata": {
        "id": "QStM4dOVXSM8",
        "colab_type": "code",
        "colab": {},
        "outputId": "6211dcb8-3c04-460e-fd6e-580da20ce77a"
      },
      "source": [
        "doc_ls=[]\n",
        "for doc in docs:\n",
        "    doc_ls.append(doc.split(' '))\n",
        "doc_ls"
      ],
      "execution_count": null,
      "outputs": [
        {
          "output_type": "execute_result",
          "data": {
            "text/plain": [
              "[['나는', '양념', '치킨을', '좋아해', '하지만', '후라이드', '치킨을', '싫어해'],\n",
              " ['나는', '후라이드', '치킨을', '좋아해', '하지만', '양념', '치킨을', '싫어해']]"
            ]
          },
          "metadata": {
            "tags": []
          },
          "execution_count": 17
        }
      ]
    },
    {
      "cell_type": "code",
      "metadata": {
        "id": "oFt0cJvdXSM_",
        "colab_type": "code",
        "colab": {},
        "outputId": "a7f49917-3ca4-4265-a2a1-e069e753e237"
      },
      "source": [
        "from collections import defaultdict\n",
        "word2id_1 = defaultdict(lambda : len(word2id_1))\n",
        "word2id_1"
      ],
      "execution_count": null,
      "outputs": [
        {
          "output_type": "execute_result",
          "data": {
            "text/plain": [
              "defaultdict(<function __main__.<lambda>()>, {})"
            ]
          },
          "metadata": {
            "tags": []
          },
          "execution_count": 21
        }
      ]
    },
    {
      "cell_type": "code",
      "metadata": {
        "id": "JaPFSCKVXSNB",
        "colab_type": "code",
        "colab": {},
        "outputId": "46c42094-18b3-4046-e95a-2fc44ef84618"
      },
      "source": [
        "for sentense in doc_ls:\n",
        "    print(sentense)\n",
        "    for word in sentense:\n",
        "        print(word)\n",
        "        word2id_1[word]\n",
        "word2id_1"
      ],
      "execution_count": null,
      "outputs": [
        {
          "output_type": "stream",
          "text": [
            "['나는', '양념', '치킨을', '좋아해', '하지만', '후라이드', '치킨을', '싫어해']\n",
            "나는\n",
            "양념\n",
            "치킨을\n",
            "좋아해\n",
            "하지만\n",
            "후라이드\n",
            "치킨을\n",
            "싫어해\n",
            "['나는', '후라이드', '치킨을', '좋아해', '하지만', '양념', '치킨을', '싫어해']\n",
            "나는\n",
            "후라이드\n",
            "치킨을\n",
            "좋아해\n",
            "하지만\n",
            "양념\n",
            "치킨을\n",
            "싫어해\n"
          ],
          "name": "stdout"
        },
        {
          "output_type": "execute_result",
          "data": {
            "text/plain": [
              "defaultdict(<function __main__.<lambda>()>,\n",
              "            {'나는': 0,\n",
              "             '양념': 1,\n",
              "             '치킨을': 2,\n",
              "             '좋아해': 3,\n",
              "             '하지만': 4,\n",
              "             '후라이드': 5,\n",
              "             '싫어해': 6})"
            ]
          },
          "metadata": {
            "tags": []
          },
          "execution_count": 22
        }
      ]
    },
    {
      "cell_type": "code",
      "metadata": {
        "id": "MUX8LoFYXSND",
        "colab_type": "code",
        "colab": {},
        "outputId": "aa0af4b2-7ed0-49a1-8ba7-15a84fd1f9a1"
      },
      "source": [
        "import numpy as np\n",
        "BoW_ls = []\n",
        "for sentence in doc_ls:\n",
        "    bow=np.zeros(len(word2id_1), dtype=int)\n",
        "    print(bow)\n",
        "    for word in sentence:\n",
        "        bow[word2id_1[word]]+=1\n",
        "    BoW_ls.append(bow.tolist())\n",
        "BoW_ls"
      ],
      "execution_count": null,
      "outputs": [
        {
          "output_type": "stream",
          "text": [
            "[0 0 0 0 0 0 0]\n",
            "[0 0 0 0 0 0 0]\n"
          ],
          "name": "stdout"
        },
        {
          "output_type": "execute_result",
          "data": {
            "text/plain": [
              "[[1, 1, 2, 1, 1, 1, 1], [1, 1, 2, 1, 1, 1, 1]]"
            ]
          },
          "metadata": {
            "tags": []
          },
          "execution_count": 25
        }
      ]
    },
    {
      "cell_type": "markdown",
      "metadata": {
        "id": "sVdO_pLuXSNG",
        "colab_type": "text"
      },
      "source": [
        "# sklearn으로 BoW구현 "
      ]
    },
    {
      "cell_type": "code",
      "metadata": {
        "id": "6ZyRXR1JXSNG",
        "colab_type": "code",
        "colab": {}
      },
      "source": [
        "docs = ['오늘 동물원에서 코끼리 원숭이를 보고 코끼리 원숭이에게 먹이를 줬어',\n",
        "       '오늘 동물원에서 코끼리 원숭이를 보고 코끼리 원숭이에게 먹이를 줬어 오늘 동물원에서 원숭이에게 사과를 줬어']"
      ],
      "execution_count": null,
      "outputs": []
    },
    {
      "cell_type": "code",
      "metadata": {
        "id": "L-wtU6lYXSNI",
        "colab_type": "code",
        "colab": {},
        "outputId": "5ffd4b9d-4ebb-4f7c-b16c-92df2c8bca4f"
      },
      "source": [
        "# 토큰빈도계산 : CountVectorizer\n",
        "from sklearn.feature_extraction.text import CountVectorizer\n",
        "\n",
        "#선언\n",
        "count_vect = CountVectorizer()\n",
        "BoW = count_vect.fit_transform(docs)\n",
        "print(BoW.toarray())\n",
        "vocab=count_vect.get_feature_names()\n",
        "print(vocab)"
      ],
      "execution_count": null,
      "outputs": [
        {
          "output_type": "stream",
          "text": [
            "[[1 1 1 0 1 1 1 1 2]\n",
            " [2 1 1 1 2 1 2 2 2]]\n",
            "['동물원에서', '먹이를', '보고', '사과를', '오늘', '원숭이를', '원숭이에게', '줬어', '코끼리']\n"
          ],
          "name": "stdout"
        }
      ]
    },
    {
      "cell_type": "code",
      "metadata": {
        "id": "S7BoFq8HXSNK",
        "colab_type": "code",
        "colab": {},
        "outputId": "fc1c4a33-c601-4892-b2dc-17db74c52da8"
      },
      "source": [
        "from IPython.core import display as ICD\n",
        "import pandas as pd\n",
        "\n",
        "for i in range(len(docs)):\n",
        "    print(\"문서 {} : {}\".format(i,docs[i]))\n",
        "    ICD.display(pd.DataFrame([BoW.toarray()[i]], columns=vocab))\n",
        "    print('\\n\\n')"
      ],
      "execution_count": null,
      "outputs": [
        {
          "output_type": "stream",
          "text": [
            "문서 0 : 오늘 동물원에서 코끼리 원숭이를 보고 코끼리 원숭이에게 먹이를 줬어\n"
          ],
          "name": "stdout"
        },
        {
          "output_type": "display_data",
          "data": {
            "text/html": [
              "<div>\n",
              "<style scoped>\n",
              "    .dataframe tbody tr th:only-of-type {\n",
              "        vertical-align: middle;\n",
              "    }\n",
              "\n",
              "    .dataframe tbody tr th {\n",
              "        vertical-align: top;\n",
              "    }\n",
              "\n",
              "    .dataframe thead th {\n",
              "        text-align: right;\n",
              "    }\n",
              "</style>\n",
              "<table border=\"1\" class=\"dataframe\">\n",
              "  <thead>\n",
              "    <tr style=\"text-align: right;\">\n",
              "      <th></th>\n",
              "      <th>동물원에서</th>\n",
              "      <th>먹이를</th>\n",
              "      <th>보고</th>\n",
              "      <th>사과를</th>\n",
              "      <th>오늘</th>\n",
              "      <th>원숭이를</th>\n",
              "      <th>원숭이에게</th>\n",
              "      <th>줬어</th>\n",
              "      <th>코끼리</th>\n",
              "    </tr>\n",
              "  </thead>\n",
              "  <tbody>\n",
              "    <tr>\n",
              "      <th>0</th>\n",
              "      <td>1</td>\n",
              "      <td>1</td>\n",
              "      <td>1</td>\n",
              "      <td>0</td>\n",
              "      <td>1</td>\n",
              "      <td>1</td>\n",
              "      <td>1</td>\n",
              "      <td>1</td>\n",
              "      <td>2</td>\n",
              "    </tr>\n",
              "  </tbody>\n",
              "</table>\n",
              "</div>"
            ],
            "text/plain": [
              "   동물원에서  먹이를  보고  사과를  오늘  원숭이를  원숭이에게  줬어  코끼리\n",
              "0      1    1   1    0   1     1      1   1    2"
            ]
          },
          "metadata": {
            "tags": []
          }
        },
        {
          "output_type": "stream",
          "text": [
            "\n",
            "\n",
            "\n",
            "문서 1 : 오늘 동물원에서 코끼리 원숭이를 보고 코끼리 원숭이에게 먹이를 줬어 오늘 동물원에서 원숭이에게 사과를 줬어\n"
          ],
          "name": "stdout"
        },
        {
          "output_type": "display_data",
          "data": {
            "text/html": [
              "<div>\n",
              "<style scoped>\n",
              "    .dataframe tbody tr th:only-of-type {\n",
              "        vertical-align: middle;\n",
              "    }\n",
              "\n",
              "    .dataframe tbody tr th {\n",
              "        vertical-align: top;\n",
              "    }\n",
              "\n",
              "    .dataframe thead th {\n",
              "        text-align: right;\n",
              "    }\n",
              "</style>\n",
              "<table border=\"1\" class=\"dataframe\">\n",
              "  <thead>\n",
              "    <tr style=\"text-align: right;\">\n",
              "      <th></th>\n",
              "      <th>동물원에서</th>\n",
              "      <th>먹이를</th>\n",
              "      <th>보고</th>\n",
              "      <th>사과를</th>\n",
              "      <th>오늘</th>\n",
              "      <th>원숭이를</th>\n",
              "      <th>원숭이에게</th>\n",
              "      <th>줬어</th>\n",
              "      <th>코끼리</th>\n",
              "    </tr>\n",
              "  </thead>\n",
              "  <tbody>\n",
              "    <tr>\n",
              "      <th>0</th>\n",
              "      <td>2</td>\n",
              "      <td>1</td>\n",
              "      <td>1</td>\n",
              "      <td>1</td>\n",
              "      <td>2</td>\n",
              "      <td>1</td>\n",
              "      <td>2</td>\n",
              "      <td>2</td>\n",
              "      <td>2</td>\n",
              "    </tr>\n",
              "  </tbody>\n",
              "</table>\n",
              "</div>"
            ],
            "text/plain": [
              "   동물원에서  먹이를  보고  사과를  오늘  원숭이를  원숭이에게  줬어  코끼리\n",
              "0      2    1   1    1   2     1      2   2    2"
            ]
          },
          "metadata": {
            "tags": []
          }
        },
        {
          "output_type": "stream",
          "text": [
            "\n",
            "\n",
            "\n"
          ],
          "name": "stdout"
        }
      ]
    },
    {
      "cell_type": "markdown",
      "metadata": {
        "id": "QSNu_RPcXSNN",
        "colab_type": "text"
      },
      "source": [
        "# Gensim으로 BoW구현"
      ]
    },
    {
      "cell_type": "code",
      "metadata": {
        "id": "9xeveFYnXSNN",
        "colab_type": "code",
        "colab": {}
      },
      "source": [
        "docs = ['오늘 동물원에서 코끼리 원숭이를 보고 코끼리 원숭이에게 먹이를 줬어', \n",
        "        '오늘 동물원에서 코끼리 원숭이를 보고 코끼리 원숭이에게 먹이를 줬어 오늘 동물원에서 원숭이에게 사과를 줬어']"
      ],
      "execution_count": null,
      "outputs": []
    },
    {
      "cell_type": "code",
      "metadata": {
        "id": "SDx3Z2P-XSNP",
        "colab_type": "code",
        "colab": {},
        "outputId": "da1a2b2a-6367-4ca6-c5a3-7a591bcb6c25"
      },
      "source": [
        "from gensim import corpora\n",
        "\n",
        "doc_ls = []\n",
        "for doc in docs:\n",
        "    doc_ls.append(doc.split())\n",
        "print(doc_ls)"
      ],
      "execution_count": null,
      "outputs": [
        {
          "output_type": "stream",
          "text": [
            "[['오늘', '동물원에서', '코끼리', '원숭이를', '보고', '코끼리', '원숭이에게', '먹이를', '줬어'], ['오늘', '동물원에서', '코끼리', '원숭이를', '보고', '코끼리', '원숭이에게', '먹이를', '줬어', '오늘', '동물원에서', '원숭이에게', '사과를', '줬어']]\n"
          ],
          "name": "stdout"
        }
      ]
    },
    {
      "cell_type": "code",
      "metadata": {
        "id": "ffV9F-EaXSNS",
        "colab_type": "code",
        "colab": {},
        "outputId": "74b20477-6f01-4a0a-f403-00539977caf3"
      },
      "source": [
        "id2word=corpora.Dictionary(doc_ls)\n",
        "print(id2word)"
      ],
      "execution_count": null,
      "outputs": [
        {
          "output_type": "stream",
          "text": [
            "Dictionary(9 unique tokens: ['동물원에서', '먹이를', '보고', '오늘', '원숭이를']...)\n"
          ],
          "name": "stdout"
        }
      ]
    },
    {
      "cell_type": "code",
      "metadata": {
        "id": "oKx1xn3LXSNV",
        "colab_type": "code",
        "colab": {},
        "outputId": "ddb90ce8-ec60-4b84-a542-c301fac8bb15"
      },
      "source": [
        "BoW=[]\n",
        "for doc in doc_ls:\n",
        "    BoW.append(id2word.doc2bow(doc))\n",
        "BoW"
      ],
      "execution_count": null,
      "outputs": [
        {
          "output_type": "execute_result",
          "data": {
            "text/plain": [
              "[[(0, 1), (1, 1), (2, 1), (3, 1), (4, 1), (5, 1), (6, 1), (7, 2)],\n",
              " [(0, 2), (1, 1), (2, 1), (3, 2), (4, 1), (5, 2), (6, 2), (7, 2), (8, 1)]]"
            ]
          },
          "metadata": {
            "tags": []
          },
          "execution_count": 76
        }
      ]
    },
    {
      "cell_type": "code",
      "metadata": {
        "id": "zd8xlRUdXSNX",
        "colab_type": "code",
        "colab": {},
        "outputId": "ef3c1ed6-50c0-489f-901d-f2e9d636ee2c"
      },
      "source": [
        "from gensim.matutils import sparse2full\n",
        "from IPython.core import display as ICD\n",
        "import pandas as pd\n",
        "vocab = [id2word[i] for i in id2word.keys()]\n",
        "print(vocab)"
      ],
      "execution_count": null,
      "outputs": [
        {
          "output_type": "stream",
          "text": [
            "['동물원에서', '먹이를', '보고', '오늘', '원숭이를', '원숭이에게', '줬어', '코끼리', '사과를']\n"
          ],
          "name": "stdout"
        }
      ]
    },
    {
      "cell_type": "code",
      "metadata": {
        "id": "QVRuc7FbXSNZ",
        "colab_type": "code",
        "colab": {},
        "outputId": "a899e76a-5030-4f85-d31d-8fabc7a60f48"
      },
      "source": [
        "for i in range(len(docs)):\n",
        "    print(\"문서 {} : {}\".format(i,docs[i]))\n",
        "    ICD.display(pd.DataFrame([sparse2full(BoW[i],len(vocab))],columns=vocab,dtype=int))\n",
        "    print(\"\\n\\n\")"
      ],
      "execution_count": null,
      "outputs": [
        {
          "output_type": "stream",
          "text": [
            "문서 0 : 오늘 동물원에서 코끼리 원숭이를 보고 코끼리 원숭이에게 먹이를 줬어\n"
          ],
          "name": "stdout"
        },
        {
          "output_type": "display_data",
          "data": {
            "text/html": [
              "<div>\n",
              "<style scoped>\n",
              "    .dataframe tbody tr th:only-of-type {\n",
              "        vertical-align: middle;\n",
              "    }\n",
              "\n",
              "    .dataframe tbody tr th {\n",
              "        vertical-align: top;\n",
              "    }\n",
              "\n",
              "    .dataframe thead th {\n",
              "        text-align: right;\n",
              "    }\n",
              "</style>\n",
              "<table border=\"1\" class=\"dataframe\">\n",
              "  <thead>\n",
              "    <tr style=\"text-align: right;\">\n",
              "      <th></th>\n",
              "      <th>동물원에서</th>\n",
              "      <th>먹이를</th>\n",
              "      <th>보고</th>\n",
              "      <th>오늘</th>\n",
              "      <th>원숭이를</th>\n",
              "      <th>원숭이에게</th>\n",
              "      <th>줬어</th>\n",
              "      <th>코끼리</th>\n",
              "      <th>사과를</th>\n",
              "    </tr>\n",
              "  </thead>\n",
              "  <tbody>\n",
              "    <tr>\n",
              "      <th>0</th>\n",
              "      <td>1</td>\n",
              "      <td>1</td>\n",
              "      <td>1</td>\n",
              "      <td>1</td>\n",
              "      <td>1</td>\n",
              "      <td>1</td>\n",
              "      <td>1</td>\n",
              "      <td>2</td>\n",
              "      <td>0</td>\n",
              "    </tr>\n",
              "  </tbody>\n",
              "</table>\n",
              "</div>"
            ],
            "text/plain": [
              "   동물원에서  먹이를  보고  오늘  원숭이를  원숭이에게  줬어  코끼리  사과를\n",
              "0      1    1   1   1     1      1   1    2    0"
            ]
          },
          "metadata": {
            "tags": []
          }
        },
        {
          "output_type": "stream",
          "text": [
            "\n",
            "\n",
            "\n",
            "문서 1 : 오늘 동물원에서 코끼리 원숭이를 보고 코끼리 원숭이에게 먹이를 줬어 오늘 동물원에서 원숭이에게 사과를 줬어\n"
          ],
          "name": "stdout"
        },
        {
          "output_type": "display_data",
          "data": {
            "text/html": [
              "<div>\n",
              "<style scoped>\n",
              "    .dataframe tbody tr th:only-of-type {\n",
              "        vertical-align: middle;\n",
              "    }\n",
              "\n",
              "    .dataframe tbody tr th {\n",
              "        vertical-align: top;\n",
              "    }\n",
              "\n",
              "    .dataframe thead th {\n",
              "        text-align: right;\n",
              "    }\n",
              "</style>\n",
              "<table border=\"1\" class=\"dataframe\">\n",
              "  <thead>\n",
              "    <tr style=\"text-align: right;\">\n",
              "      <th></th>\n",
              "      <th>동물원에서</th>\n",
              "      <th>먹이를</th>\n",
              "      <th>보고</th>\n",
              "      <th>오늘</th>\n",
              "      <th>원숭이를</th>\n",
              "      <th>원숭이에게</th>\n",
              "      <th>줬어</th>\n",
              "      <th>코끼리</th>\n",
              "      <th>사과를</th>\n",
              "    </tr>\n",
              "  </thead>\n",
              "  <tbody>\n",
              "    <tr>\n",
              "      <th>0</th>\n",
              "      <td>2</td>\n",
              "      <td>1</td>\n",
              "      <td>1</td>\n",
              "      <td>2</td>\n",
              "      <td>1</td>\n",
              "      <td>2</td>\n",
              "      <td>2</td>\n",
              "      <td>2</td>\n",
              "      <td>1</td>\n",
              "    </tr>\n",
              "  </tbody>\n",
              "</table>\n",
              "</div>"
            ],
            "text/plain": [
              "   동물원에서  먹이를  보고  오늘  원숭이를  원숭이에게  줬어  코끼리  사과를\n",
              "0      2    1   1   2     1      2   2    2    1"
            ]
          },
          "metadata": {
            "tags": []
          }
        },
        {
          "output_type": "stream",
          "text": [
            "\n",
            "\n",
            "\n"
          ],
          "name": "stdout"
        }
      ]
    }
  ]
}