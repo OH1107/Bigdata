{
  "nbformat": 4,
  "nbformat_minor": 0,
  "metadata": {
    "kernelspec": {
      "display_name": "Python 3",
      "language": "python",
      "name": "python3"
    },
    "language_info": {
      "codemirror_mode": {
        "name": "ipython",
        "version": 3
      },
      "file_extension": ".py",
      "mimetype": "text/x-python",
      "name": "python",
      "nbconvert_exporter": "python",
      "pygments_lexer": "ipython3",
      "version": "3.7.6"
    },
    "colab": {
      "name": "20200908_네이버영화리뷰데이터_감정분석_DL.ipynb",
      "provenance": [],
      "include_colab_link": true
    }
  },
  "cells": [
    {
      "cell_type": "markdown",
      "metadata": {
        "id": "view-in-github",
        "colab_type": "text"
      },
      "source": [
        "<a href=\"https://colab.research.google.com/github/OH1107/aisa_edu/blob/master/NLP/20200908_%EB%84%A4%EC%9D%B4%EB%B2%84%EC%98%81%ED%99%94%EB%A6%AC%EB%B7%B0%EB%8D%B0%EC%9D%B4%ED%84%B0_%EA%B0%90%EC%A0%95%EB%B6%84%EC%84%9D_DL.ipynb\" target=\"_parent\"><img src=\"https://colab.research.google.com/assets/colab-badge.svg\" alt=\"Open In Colab\"/></a>"
      ]
    },
    {
      "cell_type": "markdown",
      "metadata": {
        "id": "PbHoSbYJ0jFA",
        "colab_type": "text"
      },
      "source": [
        "# 네이버 영화리뷰 감성분석 - 딥러닝을 위한 전처리 RNN\n",
        "## tensorflow 2.0 설치\n",
        "- Requires the latest pip  \n",
        "pip install --upgrade pip\n",
        "- Current stable release for CPU and GPU  \n",
        "pip install tensorflow\n",
        "- Or try the preview build (unstable)  \n",
        "pip install tf-nightly"
      ]
    },
    {
      "cell_type": "code",
      "metadata": {
        "id": "Bm_l-AUu0jFF",
        "colab_type": "code",
        "colab": {}
      },
      "source": [
        "# tensorflow가 없는 경우 아래의 코드로 설치한다.\n",
        "\n",
        "#pip install --upgrade pip\n",
        "#pip install tensorflow\n",
        "#pip install tf-nightly"
      ],
      "execution_count": null,
      "outputs": []
    },
    {
      "cell_type": "code",
      "metadata": {
        "id": "Q2oMBOKw0jFU",
        "colab_type": "code",
        "colab": {}
      },
      "source": [
        "# 코렙 tensorflow 실행\n",
        "# %tensorflow_version 2.0\n",
        "\n",
        "# 코렙 mecab 설치 \n",
        "\n",
        "#!sudo apt-get install g++ openjdk-7-jdk # Install Java 1.7+\n",
        "#!sudo apt-get install python-dev; pip install konlpy     # Python 2.x\n",
        "#!sudo apt-get install python3-dev; pip3 install konlpy   # Python 3.x\n",
        "#!sudo apt-get install curl\n",
        "#!bash <(curl -s https://raw.githubusercontent.com/konlpy/konlpy/master/scripts/mecab.sh)"
      ],
      "execution_count": null,
      "outputs": []
    },
    {
      "cell_type": "code",
      "metadata": {
        "id": "_eRNV6DB0jFg",
        "colab_type": "code",
        "colab": {}
      },
      "source": [
        "%matplotlib inline\n",
        "import matplotlib.pyplot as plt\n",
        "from tensorflow.keras.preprocessing.text import Tokenizer\n",
        "from tensorflow.keras.preprocessing.sequence import pad_sequences\n",
        "\n",
        "from tensorflow.keras.layers import Embedding, Dense, LSTM\n",
        "from tensorflow.keras.models import Sequential\n",
        "from tensorflow.keras.models import load_model\n",
        "from tensorflow.keras.callbacks import EarlyStopping, ModelCheckpoint"
      ],
      "execution_count": null,
      "outputs": []
    },
    {
      "cell_type": "code",
      "metadata": {
        "id": "jew_WAbM0jFt",
        "colab_type": "code",
        "colab": {},
        "outputId": "b301c755-038b-47d0-c733-b367f071b905"
      },
      "source": [
        "from konlpy.tag import Mecab\n",
        "m = Mecab()\n",
        "m.nouns('메캡이 잘 실행 될까요?')"
      ],
      "execution_count": null,
      "outputs": [
        {
          "output_type": "execute_result",
          "data": {
            "text/plain": [
              "['메', '캡', '실행']"
            ]
          },
          "metadata": {
            "tags": []
          },
          "execution_count": 4
        }
      ]
    },
    {
      "cell_type": "markdown",
      "metadata": {
        "id": "NcWLQZFa0jF6",
        "colab_type": "text"
      },
      "source": [
        "1. 네이버 영화리뷰 데이터 읽기\n",
        "2. 데이터 정제(이모티콘, 영문, 숫자, ... 삭제)\n",
        "3. 토큰화(mecab) - 불용처리, 1글자 제거.\n",
        "4. RNN 모델을 학습 시킬 수 있는 형태로 변경\n",
        "5. RNN 학습\n",
        "6. 학습된 모델로 test 데이터 예측"
      ]
    },
    {
      "cell_type": "markdown",
      "metadata": {
        "id": "8qSbqR610jF9",
        "colab_type": "text"
      },
      "source": [
        "## 데이터 호출"
      ]
    },
    {
      "cell_type": "code",
      "metadata": {
        "id": "WGmZr6pP0jF_",
        "colab_type": "code",
        "colab": {},
        "outputId": "e40f7a86-7ec0-4282-9b05-a90d9ecc38a8"
      },
      "source": [
        "import pandas as pd\n",
        "import numpy as np\n",
        "\n",
        "train = pd.DataFrame(pd.read_csv('ratings_train.txt', sep='\\t', quoting=3))\n",
        "train = train.replace(np.nan, '', regex=True)\n",
        "test = pd.DataFrame(pd.read_csv('ratings_test.txt', sep='\\t', quoting=3))\n",
        "test = test.replace(np.nan, '', regex=True)\n",
        "print('train :',len(train))\n",
        "print('test :',len(test))"
      ],
      "execution_count": null,
      "outputs": [
        {
          "output_type": "stream",
          "text": [
            "train : 150000\n",
            "test : 50000\n"
          ],
          "name": "stdout"
        }
      ]
    },
    {
      "cell_type": "markdown",
      "metadata": {
        "id": "wSo2ZpXB0jGL",
        "colab_type": "text"
      },
      "source": [
        "## 데이터 전처리와 토큰화"
      ]
    },
    {
      "cell_type": "code",
      "metadata": {
        "id": "wr26m_U40jGN",
        "colab_type": "code",
        "colab": {}
      },
      "source": [
        "import re \n",
        "# '한글'을 제외한 다른 문자 모두 제거\n",
        "remove_except_ko = re.compile(r\"[^가-힣ㄱ-ㅎㅏ-ㅣ\\\\s]\")\n",
        "def preprocess(text):\n",
        "    text = re.sub(remove_except_ko,' ',text).strip()\n",
        "    return text\n",
        "\n",
        "train['document'] = train['document'].map(lambda x : preprocess(x))\n",
        "test['document']=test['document'].map(lambda x : preprocess(x))"
      ],
      "execution_count": null,
      "outputs": []
    },
    {
      "cell_type": "code",
      "metadata": {
        "id": "Uco3jjnM0jGd",
        "colab_type": "code",
        "colab": {}
      },
      "source": [
        "from konlpy.tag import Mecab\n",
        "mecab = Mecab()\n",
        "# mecab을 사용해서 토큰화, 한글자 제거, stop_word 제거 \n",
        "\n",
        "stop_word = ['께서','에서','이다','에게','으로','이랑','까지','부터','하다']\n",
        "#stopPos = ['JKS','JKC','JKG','JKO','JKB','JKV','JKQ','JC','JX',\n",
        "#           'SF','SE','SS','SP','SSO','SSC','SC','SY','SH','SL','SN',\n",
        "#           'MM','MAG','MAJ']\n",
        "\n",
        "def postagging_mecab(text):\n",
        "    text = mecab.morphs(text)\n",
        "    text = [i for i in text if len(i)>1]\n",
        "    text = [i for i in text if i not in stop_word]\n",
        "    return text"
      ],
      "execution_count": null,
      "outputs": []
    },
    {
      "cell_type": "code",
      "metadata": {
        "id": "8uq1X_g30jGp",
        "colab_type": "code",
        "colab": {},
        "outputId": "03855d7d-269d-4c2d-ba53-c346c9a6f671"
      },
      "source": [
        "# 토큰화 + 토큰리스트 생성 \n",
        "def make_tokens(df):\n",
        "    df['tokens'] = ''\n",
        "    tokens_list=[]\n",
        "    for i, row in df.iterrows():\n",
        "        if i%10000==0:\n",
        "            print(i,'/',len(df))\n",
        "        token = postagging_mecab(df['document'][i])\n",
        "        tokens_list.append(token)\n",
        "        df['tokens'][i] = token\n",
        "    return tokens_list, df\n",
        "\n",
        "test_list, test = make_tokens(test)"
      ],
      "execution_count": null,
      "outputs": [
        {
          "output_type": "stream",
          "text": [
            "0 / 50000\n"
          ],
          "name": "stdout"
        },
        {
          "output_type": "stream",
          "text": [
            "C:\\ProgramData\\Anaconda3\\lib\\site-packages\\ipykernel_launcher.py:10: SettingWithCopyWarning: \n",
            "A value is trying to be set on a copy of a slice from a DataFrame\n",
            "\n",
            "See the caveats in the documentation: https://pandas.pydata.org/pandas-docs/stable/user_guide/indexing.html#returning-a-view-versus-a-copy\n",
            "  # Remove the CWD from sys.path while we load stuff.\n"
          ],
          "name": "stderr"
        },
        {
          "output_type": "stream",
          "text": [
            "10000 / 50000\n",
            "20000 / 50000\n",
            "30000 / 50000\n",
            "40000 / 50000\n"
          ],
          "name": "stdout"
        }
      ]
    },
    {
      "cell_type": "code",
      "metadata": {
        "id": "Oj-lx4Cx0jG0",
        "colab_type": "code",
        "colab": {},
        "outputId": "88eaf240-3553-4aa2-c37e-a9a22a8bbd94"
      },
      "source": [
        "test.head()"
      ],
      "execution_count": null,
      "outputs": [
        {
          "output_type": "execute_result",
          "data": {
            "text/html": [
              "<div>\n",
              "<style scoped>\n",
              "    .dataframe tbody tr th:only-of-type {\n",
              "        vertical-align: middle;\n",
              "    }\n",
              "\n",
              "    .dataframe tbody tr th {\n",
              "        vertical-align: top;\n",
              "    }\n",
              "\n",
              "    .dataframe thead th {\n",
              "        text-align: right;\n",
              "    }\n",
              "</style>\n",
              "<table border=\"1\" class=\"dataframe\">\n",
              "  <thead>\n",
              "    <tr style=\"text-align: right;\">\n",
              "      <th></th>\n",
              "      <th>id</th>\n",
              "      <th>document</th>\n",
              "      <th>label</th>\n",
              "      <th>tokens</th>\n",
              "    </tr>\n",
              "  </thead>\n",
              "  <tbody>\n",
              "    <tr>\n",
              "      <th>0</th>\n",
              "      <td>6270596</td>\n",
              "      <td>굳 ㅋ</td>\n",
              "      <td>1</td>\n",
              "      <td>[]</td>\n",
              "    </tr>\n",
              "    <tr>\n",
              "      <th>1</th>\n",
              "      <td>9274899</td>\n",
              "      <td></td>\n",
              "      <td>0</td>\n",
              "      <td>[]</td>\n",
              "    </tr>\n",
              "    <tr>\n",
              "      <th>2</th>\n",
              "      <td>8544678</td>\n",
              "      <td>뭐야 이 평점들은     나쁘진 않지만   점 짜리는 더더욱 아니잖아</td>\n",
              "      <td>0</td>\n",
              "      <td>[평점, 나쁘, 지만, 짜리, 더더욱, 아니, 잖아]</td>\n",
              "    </tr>\n",
              "    <tr>\n",
              "      <th>3</th>\n",
              "      <td>6825595</td>\n",
              "      <td>지루하지는 않은데 완전 막장임    돈주고 보기에는</td>\n",
              "      <td>0</td>\n",
              "      <td>[지루, 은데, 완전, 막장]</td>\n",
              "    </tr>\n",
              "    <tr>\n",
              "      <th>4</th>\n",
              "      <td>6723715</td>\n",
              "      <td>만 아니었어도 별 다섯 개 줬을텐데   왜   로 나와서 제 심기를 불편하게 하죠</td>\n",
              "      <td>0</td>\n",
              "      <td>[아니, 어도, 다섯, 텐데, 나와서, 심기, 불편]</td>\n",
              "    </tr>\n",
              "  </tbody>\n",
              "</table>\n",
              "</div>"
            ],
            "text/plain": [
              "        id                                       document  label  \\\n",
              "0  6270596                                            굳 ㅋ      1   \n",
              "1  9274899                                                     0   \n",
              "2  8544678         뭐야 이 평점들은     나쁘진 않지만   점 짜리는 더더욱 아니잖아      0   \n",
              "3  6825595                   지루하지는 않은데 완전 막장임    돈주고 보기에는      0   \n",
              "4  6723715  만 아니었어도 별 다섯 개 줬을텐데   왜   로 나와서 제 심기를 불편하게 하죠      0   \n",
              "\n",
              "                          tokens  \n",
              "0                             []  \n",
              "1                             []  \n",
              "2  [평점, 나쁘, 지만, 짜리, 더더욱, 아니, 잖아]  \n",
              "3               [지루, 은데, 완전, 막장]  \n",
              "4  [아니, 어도, 다섯, 텐데, 나와서, 심기, 불편]  "
            ]
          },
          "metadata": {
            "tags": []
          },
          "execution_count": 35
        }
      ]
    },
    {
      "cell_type": "code",
      "metadata": {
        "id": "W3zff3y80jHB",
        "colab_type": "code",
        "colab": {},
        "outputId": "6256bdf3-2fcb-490a-a273-ab6a6507b29d"
      },
      "source": [
        "train_list, train = make_tokens(train)"
      ],
      "execution_count": null,
      "outputs": [
        {
          "output_type": "stream",
          "text": [
            "0 / 150000\n"
          ],
          "name": "stdout"
        },
        {
          "output_type": "stream",
          "text": [
            "C:\\ProgramData\\Anaconda3\\lib\\site-packages\\ipykernel_launcher.py:10: SettingWithCopyWarning: \n",
            "A value is trying to be set on a copy of a slice from a DataFrame\n",
            "\n",
            "See the caveats in the documentation: https://pandas.pydata.org/pandas-docs/stable/user_guide/indexing.html#returning-a-view-versus-a-copy\n",
            "  # Remove the CWD from sys.path while we load stuff.\n"
          ],
          "name": "stderr"
        },
        {
          "output_type": "stream",
          "text": [
            "10000 / 150000\n",
            "20000 / 150000\n",
            "30000 / 150000\n",
            "40000 / 150000\n",
            "50000 / 150000\n",
            "60000 / 150000\n",
            "70000 / 150000\n",
            "80000 / 150000\n",
            "90000 / 150000\n",
            "100000 / 150000\n",
            "110000 / 150000\n",
            "120000 / 150000\n",
            "130000 / 150000\n",
            "140000 / 150000\n"
          ],
          "name": "stdout"
        }
      ]
    },
    {
      "cell_type": "code",
      "metadata": {
        "id": "8RcfdxwH0jHO",
        "colab_type": "code",
        "colab": {},
        "outputId": "93ed515f-0c0e-47c1-a673-7721718367eb"
      },
      "source": [
        "train.head()"
      ],
      "execution_count": null,
      "outputs": [
        {
          "output_type": "execute_result",
          "data": {
            "text/html": [
              "<div>\n",
              "<style scoped>\n",
              "    .dataframe tbody tr th:only-of-type {\n",
              "        vertical-align: middle;\n",
              "    }\n",
              "\n",
              "    .dataframe tbody tr th {\n",
              "        vertical-align: top;\n",
              "    }\n",
              "\n",
              "    .dataframe thead th {\n",
              "        text-align: right;\n",
              "    }\n",
              "</style>\n",
              "<table border=\"1\" class=\"dataframe\">\n",
              "  <thead>\n",
              "    <tr style=\"text-align: right;\">\n",
              "      <th></th>\n",
              "      <th>id</th>\n",
              "      <th>document</th>\n",
              "      <th>label</th>\n",
              "      <th>tokens</th>\n",
              "    </tr>\n",
              "  </thead>\n",
              "  <tbody>\n",
              "    <tr>\n",
              "      <th>0</th>\n",
              "      <td>9976970</td>\n",
              "      <td>아 더빙   진짜 짜증나네요 목소리</td>\n",
              "      <td>0</td>\n",
              "      <td>[진짜, 짜증, 네요, 목소리]</td>\n",
              "    </tr>\n",
              "    <tr>\n",
              "      <th>1</th>\n",
              "      <td>3819312</td>\n",
              "      <td>흠   포스터보고 초딩영화줄    오버연기조차 가볍지 않구나</td>\n",
              "      <td>1</td>\n",
              "      <td>[포스터, 보고, 초딩, 영화, 오버, 연기, 조차, 가볍, 구나]</td>\n",
              "    </tr>\n",
              "    <tr>\n",
              "      <th>2</th>\n",
              "      <td>10265843</td>\n",
              "      <td>너무재밓었다그래서보는것을추천한다</td>\n",
              "      <td>0</td>\n",
              "      <td>[너무, 밓었다그래서보는것을추천한다]</td>\n",
              "    </tr>\n",
              "    <tr>\n",
              "      <th>3</th>\n",
              "      <td>9045019</td>\n",
              "      <td>교도소 이야기구먼   솔직히 재미는 없다  평점 조정</td>\n",
              "      <td>0</td>\n",
              "      <td>[교도소, 이야기, 구먼, 솔직히, 재미, 평점, 조정]</td>\n",
              "    </tr>\n",
              "    <tr>\n",
              "      <th>4</th>\n",
              "      <td>6483659</td>\n",
              "      <td>사이몬페그의 익살스런 연기가 돋보였던 영화 스파이더맨에서 늙어보이기만 했던 커스틴 ...</td>\n",
              "      <td>1</td>\n",
              "      <td>[사이몬페그, 익살, 스런, 연기, 돋보였, 영화, 스파이더맨, 보이, 커스틴, 던...</td>\n",
              "    </tr>\n",
              "  </tbody>\n",
              "</table>\n",
              "</div>"
            ],
            "text/plain": [
              "         id                                           document  label  \\\n",
              "0   9976970                                아 더빙   진짜 짜증나네요 목소리      0   \n",
              "1   3819312                  흠   포스터보고 초딩영화줄    오버연기조차 가볍지 않구나      1   \n",
              "2  10265843                                  너무재밓었다그래서보는것을추천한다      0   \n",
              "3   9045019                      교도소 이야기구먼   솔직히 재미는 없다  평점 조정      0   \n",
              "4   6483659  사이몬페그의 익살스런 연기가 돋보였던 영화 스파이더맨에서 늙어보이기만 했던 커스틴 ...      1   \n",
              "\n",
              "                                              tokens  \n",
              "0                                  [진짜, 짜증, 네요, 목소리]  \n",
              "1              [포스터, 보고, 초딩, 영화, 오버, 연기, 조차, 가볍, 구나]  \n",
              "2                               [너무, 밓었다그래서보는것을추천한다]  \n",
              "3                    [교도소, 이야기, 구먼, 솔직히, 재미, 평점, 조정]  \n",
              "4  [사이몬페그, 익살, 스런, 연기, 돋보였, 영화, 스파이더맨, 보이, 커스틴, 던...  "
            ]
          },
          "metadata": {
            "tags": []
          },
          "execution_count": 37
        }
      ]
    },
    {
      "cell_type": "markdown",
      "metadata": {
        "id": "vBvXUMm-0jHa",
        "colab_type": "text"
      },
      "source": [
        "## 토큰화된 단어 벡터화\n",
        "```python\n",
        "from tensorflow.keras.preprocessing.text import Tokenizer\n",
        "```\n",
        "https://www.tensorflow.org/api_docs/python/tf/keras/preprocessing/text/Tokenizer\n",
        "> This class allows to vectorize a text corpus, by turning each text into either a sequence of integers (each integer being the index of a token in a dictionary) or into a vector where the coefficient for each token could be binary, based on word count, based on tf-idf...\n",
        "tf-idf를 기반으로 단어를 백터화\n",
        "\n",
        "```python\n",
        "from tensorflow.keras.preprocessing.sequence import pad_sequences\n",
        "```\n",
        "https://www.tensorflow.org/api_docs/python/tf/keras/preprocessing/sequence/pad_sequences"
      ]
    },
    {
      "cell_type": "code",
      "metadata": {
        "id": "DQH2gQmQ0jHc",
        "colab_type": "code",
        "colab": {}
      },
      "source": [
        "%matplotlib inline\n",
        "import matplotlib.pyplot as plt\n",
        "from tensorflow.keras.preprocessing.text import Tokenizer\n",
        "from tensorflow.keras.preprocessing.sequence import pad_sequences\n",
        "\n",
        "tokenizer = Tokenizer()\n",
        "# make train word set  \n",
        "tokenizer.fit_on_texts(train_list)"
      ],
      "execution_count": null,
      "outputs": []
    },
    {
      "cell_type": "code",
      "metadata": {
        "id": "MXOt3ntT0jHn",
        "colab_type": "code",
        "colab": {},
        "outputId": "84bb3531-e05a-481d-b9e6-874677503e5d"
      },
      "source": [
        "#4만 6979개의 word set \n",
        "print(len(tokenizer.word_index))"
      ],
      "execution_count": null,
      "outputs": [
        {
          "output_type": "stream",
          "text": [
            "46979\n"
          ],
          "name": "stdout"
        }
      ]
    },
    {
      "cell_type": "code",
      "metadata": {
        "id": "mUydIRYc0jHz",
        "colab_type": "code",
        "colab": {},
        "outputId": "db855da5-cf8d-420a-d42c-16c2e2a7eaee"
      },
      "source": [
        "#단어를 숫자배열로 변환 \n",
        "X_train_arrary_list = tokenizer.texts_to_sequences(train_list)\n",
        "X_test_arrary_list = tokenizer.texts_to_sequences(test_list)\n",
        "X_train = X_train_arrary_list\n",
        "X_test = X_test_arrary_list\n",
        "# 레이블링 데이터 행렬변환\n",
        "Y_train = np.array(train['label'])\n",
        "Y_test = np.array(test['label'])\n",
        "print('훈련데이터 : ',len(X_train_arrary_list))"
      ],
      "execution_count": null,
      "outputs": [
        {
          "output_type": "stream",
          "text": [
            "훈련데이터 :  150000\n"
          ],
          "name": "stdout"
        }
      ]
    },
    {
      "cell_type": "code",
      "metadata": {
        "id": "yqRJ9oti0jH-",
        "colab_type": "code",
        "colab": {},
        "outputId": "c3b08ad4-3ed7-4a11-fca1-8fecf1bc0179"
      },
      "source": [
        "# 확인\n",
        "print(train_list[:7])\n",
        "print('-'*50)\n",
        "print(X_train_arrary_list[:7])"
      ],
      "execution_count": null,
      "outputs": [
        {
          "output_type": "stream",
          "text": [
            "[['진짜', '짜증', '네요', '목소리'], ['포스터', '보고', '초딩', '영화', '오버', '연기', '조차', '가볍', '구나'], ['너무', '밓었다그래서보는것을추천한다'], ['교도소', '이야기', '구먼', '솔직히', '재미', '평점', '조정'], ['사이몬페그', '익살', '스런', '연기', '돋보였', '영화', '스파이더맨', '보이', '커스틴', '던스트', '너무나', '이뻐', '보였'], ['걸음마', '초등', '학교', '학년', '살용', '영화', 'ㅋㅋㅋ', '별반', '아까움'], ['원작', '긴장감', '제대로', '살려', '못했']]\n",
            "--------------------------------------------------\n",
            "[[8, 105, 5, 449], [294, 304, 411, 1, 1126, 10, 575, 636, 206], [3, 26782], [6972, 64, 3387, 142, 28, 12, 2638], [20051, 7396, 713, 10, 2102, 1, 2029, 177, 13946, 20052, 232, 2314, 1221], [20053, 1041, 430, 1167, 26783, 1, 17, 1614, 461], [121, 196, 200, 1422, 511]]\n"
          ],
          "name": "stdout"
        }
      ]
    },
    {
      "cell_type": "code",
      "metadata": {
        "id": "3lavViED0jII",
        "colab_type": "code",
        "colab": {},
        "outputId": "b880bce7-1294-47ce-cfaa-61fe8cd11fc7"
      },
      "source": [
        "print('리뷰의 최대 길이 :',max(len(l) for l in X_train))\n",
        "print('리뷰의 평균 길이 :',sum(map(len, X_train))/len(X_train))\n",
        "plt.hist([len(s) for s in X_train], bins=30)\n",
        "plt.xlabel('length of samples')\n",
        "plt.ylabel('number of samples')\n",
        "plt.show()"
      ],
      "execution_count": null,
      "outputs": [
        {
          "output_type": "stream",
          "text": [
            "리뷰의 최대 길이 : 65\n",
            "리뷰의 평균 길이 : 7.4033066666666665\n"
          ],
          "name": "stdout"
        },
        {
          "output_type": "display_data",
          "data": {
            "image/png": "[encoded data removed]",
            "text/plain": [
              "<Figure size 432x288 with 1 Axes>"
            ]
          },
          "metadata": {
            "tags": [],
            "needs_background": "light"
          }
        }
      ]
    },
    {
      "cell_type": "code",
      "metadata": {
        "id": "Y16l4KYr0jIV",
        "colab_type": "code",
        "colab": {},
        "outputId": "f9f79250-9787-4b46-e53f-4b329e138fe1"
      },
      "source": [
        "def below_threshold_len(max_len, nested_list):\n",
        "    cnt = 0\n",
        "    for s in nested_list:\n",
        "        if(len(s) <= max_len):\n",
        "            cnt = cnt + 1\n",
        "    print('전체 샘플 중 길이가 %s 이하인 샘플의 비율: %s'%(max_len, (cnt / len(nested_list))*100))\n",
        "\n",
        "max_len = 30\n",
        "below_threshold_len(max_len, X_train)"
      ],
      "execution_count": null,
      "outputs": [
        {
          "output_type": "stream",
          "text": [
            "전체 샘플 중 길이가 30 이하인 샘플의 비율: 99.126\n"
          ],
          "name": "stdout"
        }
      ]
    },
    {
      "cell_type": "code",
      "metadata": {
        "id": "ST5eYKat0jIg",
        "colab_type": "code",
        "colab": {}
      },
      "source": [
        "# 데이터 길이 30으로 패딩 \n",
        "max_len = 30\n",
        "X_train = pad_sequences(X_train, maxlen = max_len)\n",
        "X_test = pad_sequences(X_test, maxlen = max_len)"
      ],
      "execution_count": null,
      "outputs": []
    },
    {
      "cell_type": "markdown",
      "metadata": {
        "id": "f3T_yAx80jIp",
        "colab_type": "text"
      },
      "source": [
        "## LSTM을 사용한 감성분석"
      ]
    },
    {
      "cell_type": "code",
      "metadata": {
        "id": "7-JTO2em0jIr",
        "colab_type": "code",
        "colab": {}
      },
      "source": [
        "from tensorflow.keras.layers import Embedding, Dense, LSTM\n",
        "from tensorflow.keras.models import Sequential\n",
        "from tensorflow.keras.models import load_model\n",
        "from tensorflow.keras.callbacks import EarlyStopping, ModelCheckpoint"
      ],
      "execution_count": null,
      "outputs": []
    },
    {
      "cell_type": "code",
      "metadata": {
        "id": "OCJzr2v-0jI4",
        "colab_type": "code",
        "colab": {}
      },
      "source": [
        "vocab_size = len(X_train)\n",
        "model = Sequential()\n",
        "model.add(Embedding(vocab_size, 100))\n",
        "model.add(LSTM(128))\n",
        "model.add(Dense(128, activation='relu'))\n",
        "model.add(Dense(1, activation='sigmoid'))"
      ],
      "execution_count": null,
      "outputs": []
    },
    {
      "cell_type": "code",
      "metadata": {
        "id": "rpOaVFQZ0jJE",
        "colab_type": "code",
        "colab": {}
      },
      "source": [
        "\n",
        "# 검증 데이터 손실(val_loss)이 증가하면, 과적합이 될수 있기 때문에 검증 데이터 손실이 4회 증가하면 학습을 조기 종료(Early Stopping). \n",
        "# ModelCheckpoint를 사용하여 검증 데이터의 정확도(val_acc)가 이전보다 좋아질 경우에만 모델을 저장\n",
        "es = EarlyStopping(monitor='val_loss', mode='min', verbose=1, patience=4)\n",
        "mc = ModelCheckpoint('naver_movie_model_lstm', monitor='val_acc', mode='max', verbose=1, save_best_only=True)"
      ],
      "execution_count": null,
      "outputs": []
    },
    {
      "cell_type": "code",
      "metadata": {
        "id": "VbZaBLBb0jJU",
        "colab_type": "code",
        "colab": {},
        "outputId": "5406cb2e-5869-47bd-b315-3bb9e2580e14"
      },
      "source": [
        "# generate model \n",
        "# loss = 'sparse_categorical_crossentropy' # 분류모델사용 \n",
        "model.compile(optimizer='rmsprop', loss='binary_crossentropy', metrics=['acc'])\n",
        "history = model.fit(X_train, Y_train, epochs=15, callbacks=[es, mc], batch_size=60, validation_split=0.2)"
      ],
      "execution_count": null,
      "outputs": [
        {
          "output_type": "stream",
          "text": [
            "Epoch 1/15\n",
            "2000/2000 [==============================] - ETA: 0s - loss: 0.4279 - acc: 0.7946\n",
            "Epoch 00001: val_acc improved from -inf to 0.81613, saving model to naver_movie_model_lstm\n",
            "WARNING:tensorflow:From C:\\Users\\671\\AppData\\Roaming\\Python\\Python37\\site-packages\\tensorflow\\python\\ops\\resource_variable_ops.py:1817: calling BaseResourceVariable.__init__ (from tensorflow.python.ops.resource_variable_ops) with constraint is deprecated and will be removed in a future version.\n",
            "Instructions for updating:\n",
            "If using Keras pass *_constraint arguments to layers.\n",
            "INFO:tensorflow:Assets written to: naver_movie_model_lstm\\assets\n",
            "2000/2000 [==============================] - 274s 137ms/step - loss: 0.4279 - acc: 0.7946 - val_loss: 0.3942 - val_acc: 0.8161\n",
            "Epoch 2/15\n",
            "2000/2000 [==============================] - ETA: 0s - loss: 0.3686 - acc: 0.8331\n",
            "Epoch 00002: val_acc improved from 0.81613 to 0.82383, saving model to naver_movie_model_lstm\n",
            "INFO:tensorflow:Assets written to: naver_movie_model_lstm\\assets\n",
            "2000/2000 [==============================] - 272s 136ms/step - loss: 0.3686 - acc: 0.8331 - val_loss: 0.3828 - val_acc: 0.8238\n",
            "Epoch 3/15\n",
            "2000/2000 [==============================] - ETA: 0s - loss: 0.3387 - acc: 0.8504\n",
            "Epoch 00003: val_acc improved from 0.82383 to 0.82583, saving model to naver_movie_model_lstm\n",
            "INFO:tensorflow:Assets written to: naver_movie_model_lstm\\assets\n",
            "2000/2000 [==============================] - 272s 136ms/step - loss: 0.3387 - acc: 0.8504 - val_loss: 0.3823 - val_acc: 0.8258\n",
            "Epoch 4/15\n",
            "2000/2000 [==============================] - ETA: 0s - loss: 0.3109 - acc: 0.8655\n",
            "Epoch 00004: val_acc did not improve from 0.82583\n",
            "2000/2000 [==============================] - 267s 134ms/step - loss: 0.3109 - acc: 0.8655 - val_loss: 0.3844 - val_acc: 0.8241\n",
            "Epoch 5/15\n",
            "2000/2000 [==============================] - ETA: 0s - loss: 0.2887 - acc: 0.8769\n",
            "Epoch 00005: val_acc did not improve from 0.82583\n",
            "2000/2000 [==============================] - 270s 135ms/step - loss: 0.2887 - acc: 0.8769 - val_loss: 0.4013 - val_acc: 0.8195\n",
            "Epoch 6/15\n",
            "2000/2000 [==============================] - ETA: 0s - loss: 0.2694 - acc: 0.8850\n",
            "Epoch 00006: val_acc did not improve from 0.82583\n",
            "2000/2000 [==============================] - 262s 131ms/step - loss: 0.2694 - acc: 0.8850 - val_loss: 0.4145 - val_acc: 0.8175\n",
            "Epoch 7/15\n",
            "2000/2000 [==============================] - ETA: 0s - loss: 0.2522 - acc: 0.8932\n",
            "Epoch 00007: val_acc did not improve from 0.82583\n",
            "2000/2000 [==============================] - 257s 129ms/step - loss: 0.2522 - acc: 0.8932 - val_loss: 0.4213 - val_acc: 0.8120\n",
            "Epoch 00007: early stopping\n"
          ],
          "name": "stdout"
        }
      ]
    },
    {
      "cell_type": "code",
      "metadata": {
        "id": "-2MJ32tl0jJe",
        "colab_type": "code",
        "colab": {},
        "outputId": "c2db1fd4-58fb-424c-f100-c8fcd4d7b160"
      },
      "source": [
        "loaded_model = load_model('naver_movie_model_lstm')\n",
        "print(\"\\n 테스트 정확도: %.4f\" % (loaded_model.evaluate(X_test, Y_test)[1]))"
      ],
      "execution_count": null,
      "outputs": [
        {
          "output_type": "stream",
          "text": [
            "1563/1563 [==============================] - 11s 7ms/step - loss: 0.3847 - acc: 0.8242\n",
            "\n",
            " 테스트 정확도: 0.8242\n"
          ],
          "name": "stdout"
        }
      ]
    },
    {
      "cell_type": "code",
      "metadata": {
        "id": "lqszMgQ90jJr",
        "colab_type": "code",
        "colab": {}
      },
      "source": [
        "def predict_pos_text(text):\n",
        "    token=[]\n",
        "    tokens = postagging_mecab(text) \n",
        "    token.append(tokens)\n",
        "    print(token)\n",
        "    X_train_arrary_list = tokenizer.texts_to_sequences(token)\n",
        "    max_len=30\n",
        "    X_train = pad_sequences(X_train_arrary_list, maxlen = max_len)\n",
        "    score = float(loaded_model.predict(X_train))\n",
        "    print('score:', type(score))\n",
        "    if score>0.5:\n",
        "        print(\"[{}]는 {:.2f}% 확률로 긍정 리뷰입니다.\\n\".format(text, score * 100))\n",
        "    else:\n",
        "        print(\"[{}]는 {:.2f}% 확률로 부정 리뷰입니다.\\n\".format(text, (1 - score) * 100))\n"
      ],
      "execution_count": null,
      "outputs": []
    },
    {
      "cell_type": "code",
      "metadata": {
        "id": "ZAV7aU_00jJ1",
        "colab_type": "code",
        "colab": {},
        "outputId": "28581760-e94d-4817-8524-e8f9fb197947"
      },
      "source": [
        "predict_pos_text('3D만 아니었어도 별 다섯 개 줬을텐데.. 왜 3D로 나와서 제 심기를 불편하게 하죠??')"
      ],
      "execution_count": null,
      "outputs": [
        {
          "output_type": "stream",
          "text": [
            "[['아니', '어도', '다섯', '텐데', '나와서', '심기', '불편']]\n",
            "score: <class 'float'>\n",
            "[3D만 아니었어도 별 다섯 개 줬을텐데.. 왜 3D로 나와서 제 심기를 불편하게 하죠??]는 96.28% 확률로 부정 리뷰입니다.\n",
            "\n"
          ],
          "name": "stdout"
        }
      ]
    },
    {
      "cell_type": "code",
      "metadata": {
        "id": "Jt7iMrGO0jKB",
        "colab_type": "code",
        "colab": {},
        "outputId": "83ba5dc7-1448-431d-bf18-bd0d3f03ebe5"
      },
      "source": [
        "predict_pos_text('영화 너무 재미있어요! 아이랑 잘 봤습니다')"
      ],
      "execution_count": null,
      "outputs": [
        {
          "output_type": "stream",
          "text": [
            "[['영화', '너무', '재미있', '어요', '아이', '습니다']]\n",
            "score: <class 'float'>\n",
            "[영화 너무 재미있어요! 아이랑 잘 봤습니다]는 98.93% 확률로 긍정 리뷰입니다.\n",
            "\n"
          ],
          "name": "stdout"
        }
      ]
    },
    {
      "cell_type": "code",
      "metadata": {
        "id": "wTi70wS50jKM",
        "colab_type": "code",
        "colab": {},
        "outputId": "8ac40a53-95c4-457a-b4a6-605d0866d1a0"
      },
      "source": [
        "predict_pos_text('정말쓰레기영화입니다')"
      ],
      "execution_count": null,
      "outputs": [
        {
          "output_type": "stream",
          "text": [
            "[['정말', '쓰레기', '영화', '입니다']]\n",
            "score: <class 'float'>\n",
            "[정말쓰레기영화입니다]는 99.69% 확률로 부정 리뷰입니다.\n",
            "\n"
          ],
          "name": "stdout"
        }
      ]
    },
    {
      "cell_type": "code",
      "metadata": {
        "id": "17Erzl-N0jKV",
        "colab_type": "code",
        "colab": {},
        "outputId": "65f6a183-0e2f-41c2-c039-8db57567b6e0"
      },
      "source": [
        "predict_pos_text('발연기 도저히 못보겠다 진짜 이렇게 연기를 못할거라곤 상상도 못했네')"
      ],
      "execution_count": null,
      "outputs": [
        {
          "output_type": "stream",
          "text": [
            "[['발연기', '도저히', '진짜', '이렇게', '연기', '라곤', '상상', '못했']]\n",
            "score: <class 'float'>\n",
            "[발연기 도저히 못보겠다 진짜 이렇게 연기를 못할거라곤 상상도 못했네]는 98.83% 확률로 부정 리뷰입니다.\n",
            "\n"
          ],
          "name": "stdout"
        }
      ]
    },
    {
      "cell_type": "code",
      "metadata": {
        "id": "GyOLpe7y0jKd",
        "colab_type": "code",
        "colab": {},
        "outputId": "bf72d305-8b94-471b-f9e5-8b67e082ed82"
      },
      "source": [
        "predict_pos_text('담백하고 깔끔해서 좋다. 신문기사로만 보다 보면 자꾸 잊어버린다. 그들도 사람이었다는 것을')"
      ],
      "execution_count": null,
      "outputs": [
        {
          "output_type": "stream",
          "text": [
            "[['담백', '깔끔', '해서', '신문', '기사', '보다', '자꾸', '잊어버린다', '사람', '다는']]\n",
            "score: <class 'float'>\n",
            "[담백하고 깔끔해서 좋다. 신문기사로만 보다 보면 자꾸 잊어버린다. 그들도 사람이었다는 것을]는 78.77% 확률로 긍정 리뷰입니다.\n",
            "\n"
          ],
          "name": "stdout"
        }
      ]
    }
  ]
}