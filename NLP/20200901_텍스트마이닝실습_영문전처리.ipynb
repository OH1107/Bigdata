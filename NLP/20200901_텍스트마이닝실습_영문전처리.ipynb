{
  "nbformat": 4,
  "nbformat_minor": 0,
  "metadata": {
    "kernelspec": {
      "display_name": "Python 3",
      "language": "python",
      "name": "python3"
    },
    "language_info": {
      "codemirror_mode": {
        "name": "ipython",
        "version": 3
      },
      "file_extension": ".py",
      "mimetype": "text/x-python",
      "name": "python",
      "nbconvert_exporter": "python",
      "pygments_lexer": "ipython3",
      "version": "3.7.6"
    },
    "colab": {
      "name": "20200901_텍스트마이닝실습_영문전처리.ipynb",
      "provenance": [],
      "include_colab_link": true
    }
  },
  "cells": [
    {
      "cell_type": "markdown",
      "metadata": {
        "id": "view-in-github",
        "colab_type": "text"
      },
      "source": [
        "<a href=\"https://colab.research.google.com/github/OH1107/aisa_edu/blob/master/NLP/20200901_%ED%85%8D%EC%8A%A4%ED%8A%B8%EB%A7%88%EC%9D%B4%EB%8B%9D%EC%8B%A4%EC%8A%B5_%EC%98%81%EB%AC%B8%EC%A0%84%EC%B2%98%EB%A6%AC.ipynb\" target=\"_parent\"><img src=\"https://colab.research.google.com/assets/colab-badge.svg\" alt=\"Open In Colab\"/></a>"
      ]
    },
    {
      "cell_type": "markdown",
      "metadata": {
        "id": "OSpor5876rss",
        "colab_type": "text"
      },
      "source": [
        "## 데이터수집\n",
        "\n",
        "- 온라인상에서 바로 데이터 수집해서 실습 \n",
        "    - https://www.forbes.com/sites/adrianbridgwater/2019/04/15/what-drove-the-ai-renaissance/#5ba50c691f25"
      ]
    },
    {
      "cell_type": "code",
      "metadata": {
        "id": "cZ5TpIR96rsw",
        "colab_type": "code",
        "colab": {}
      },
      "source": [
        "from bs4 import BeautifulSoup\n",
        "import requests"
      ],
      "execution_count": null,
      "outputs": []
    },
    {
      "cell_type": "code",
      "metadata": {
        "id": "YfcFBRqR6rs9",
        "colab_type": "code",
        "colab": {}
      },
      "source": [
        "url = 'https://www.forbes.com/sites/adrianbridgwater/2019/04/15/what-drove-the-ai-renaissance/#37436b3e1f25'\n",
        "response = requests.get(url)\n",
        "soup = BeautifulSoup(response.text,'html.parser')"
      ],
      "execution_count": null,
      "outputs": []
    },
    {
      "cell_type": "code",
      "metadata": {
        "id": "kzAUnBTV6rtI",
        "colab_type": "code",
        "colab": {},
        "outputId": "7fee3dbc-3717-4d8d-ec34-03b92314a8f0"
      },
      "source": [
        "article = soup.find('div', {'class':'article-body fs-article fs-responsive-text current-article'})\n",
        "article"
      ],
      "execution_count": null,
      "outputs": [
        {
          "output_type": "execute_result",
          "data": {
            "text/plain": [
              "<div class=\"article-body fs-article fs-responsive-text current-article\"><div class=\"article-sharing\"><ul class=\"article-sharing__container\"><li class=\"article-sharing__item\"><a aria-label=\"Share Facebook\" class=\"social-icon facebook\" data-ga-track=\"Facebook Click\" onclick=\"window.open(&quot;https://www.facebook.com/sharer.php?u=https%3A%2F%2Fwww.forbes.com%2Fsites%2Fadrianbridgwater%2F2019%2F04%2F15%2Fwhat-drove-the-ai-renaissance%2F&quot;, 'window', 'width=400,height=500')\"><span class=\"screen-reader-text\">Share to Facebook</span><svg class=\"fs-icon fs-icon--facebook\" viewbox=\"0 0 60 60\" xmlns=\"http://www.w3.org/2000/svg\"><path d=\"M32.9 49H25V30h-3.9v-6.6H25v-3.9c0-5.4 2.2-8.5 8.5-8.5h5.2v6.6h-3.3c-2.5 0-2.6.9-2.6 2.6v3.3h5.9l-.5 6.5H33v19h-.1z\"></path></svg></a></li><li class=\"article-sharing__item\"><a aria-label=\"Share Twitter\" class=\"social-icon twitter\" data-ga-track=\"Twitter Click\" onclick=\"window.open(&quot;https://twitter.com/intent/tweet?url=https%3A%2F%2Fwww.forbes.com%2Fsites%2Fadrianbridgwater%2F2019%2F04%2F15%2Fwhat-drove-the-ai-renaissance%2F&amp;text=What%20Drove%20The%20AI%20Renaissance%3F%20via%20%40forbes&quot;, 'window', 'width=400,height=500')\"><span class=\"screen-reader-text\">Share to Twitter</span><svg class=\"fs-icon fs-icon--twitter\" viewbox=\"0 0 60 60\" xmlns=\"http://www.w3.org/2000/svg\"><path d=\"M22.2 38.9c-3.4-.3-6.1-1.7-7.5-5.1h3.6c-3.9-1.4-5.6-4.3-5.9-8.4 1.2.6 2.3.7 3.5.7-2.1-1.6-3.6-3.4-3.7-6.1-.1-1.5.5-2.8 1.3-4 4.4 5 9.7 8.3 16.5 8.9v-2.7c.1-1.9.6-3.6 1.9-5.1 2.5-2.8 6.9-3.1 9.8-.7.2.2.5.4.7.6.2.2.4.2.7.2 1.1-.3 2-.9 3-1.4.5-.3 1.1-.6 1.7-1-.4 1.1-.9 2-1.5 2.8-.6.8-1.3 1.6-2.2 2.2 1.6-.2 3.2-.6 4.8-1.1-.3.4-.6.8-.9 1.1l-2.7 2.4c-.1.1-.2.3-.2.4.1 3.3-.6 6.5-1.9 9.6-1.9 4.2-4.7 7.5-8.6 9.9-2.5 1.5-5.2 2.4-8.1 2.9-5.5.8-10.5-.5-15.1-3.3-.1 0-.1-.1-.2-.1h.2c1.1.5 2.2.4 3.3.3 2.3-.2 4.5-.9 6.6-2.1l.9-.6v-.3z\"></path></svg></a></li><li class=\"article-sharing__item\"><a aria-label=\"Share Linkedin\" class=\"social-icon linkedin\" data-ga-track=\"Linkedin Click\" onclick=\"window.open(&quot;https://www.linkedin.com/shareArticle?mini=true&amp;url=https%3A%2F%2Fwww.forbes.com%2Fsites%2Fadrianbridgwater%2F2019%2F04%2F15%2Fwhat-drove-the-ai-renaissance%2F&amp;title=What%20Drove%20The%20AI%20Renaissance%3F&amp;summary=The%20current%20renaissance%20of%20Artificial%20Intelligence%20(AI)%20with%20its%20sister%20discipline%20Machine%20Learning%20(ML)%20has%20led%20every%20IT%20firm%20worth%20its%20salt%20to%20engineer%20some%20form%20of%20AI%20onto%20its%20platform%2C%20into%20its%20toolsets%20and%20throughout%20its%20software%20applications.&quot;, 'window', 'width=400,height=500')\"><span class=\"screen-reader-text\">Share to Linkedin</span><svg class=\"fs-icon fs-icon--linkedin\" viewbox=\"0 0 60 60\" xmlns=\"http://www.w3.org/2000/svg\"><path d=\"M44.9 33.2v11h-6.4V34c0-2.6-.9-4.3-3.2-4.3-1.8 0-2.8 1.2-3.3 2.3-.2.4-.2 1-.2 1.6v10.7h-6.4s.1-17.4 0-19.2h6.4V27.9v-.1c.8-1.3 2.4-3.2 5.8-3.2 4.1 0 7.3 2.7 7.3 8.6zM18.7 15.8c-2.2 0-3.6 1.4-3.6 3.3 0 1.8 1.4 3.3 3.5 3.3 2.2 0 3.6-1.5 3.6-3.3 0-1.9-1.3-3.3-3.5-3.3zm-3.2 28.4h6.4V25h-6.4v19.2z\"></path></svg></a></li></ul></div><div class=\"wp-caption wp-caption-wrap alignnone\" id=\"attachment_4805\">\n",
              "<div class=\"article-body-image\">\n",
              "<progressive-image alt=\"Italian Renaissance: Vitruvian Man by Leonardo da Vinci\" class=\"size-full wp-image-4805\" data-height=\"249\" data-width=\"640\" src=\"https://blogs-images.forbes.com/adrianbridgwater/files/2019/04/1Screen-Shot-2019-04-15-at-08.55.37.jpg\"></progressive-image>\n",
              "</div>\n",
              "<div class=\"article-image-caption\">\n",
              "<div class=\"caption-container\" ng-class=\"caption_state\">\n",
              "<fbs-accordion>\n",
              "<p aria-hidden=\"true\" class=\"wp-caption-text\">Italian Renaissance: Vitruvian Man by Leonardo da Vinci</p>\n",
              "<small class=\"article-photo-credit\">Wikipedia</small>\n",
              "</fbs-accordion>\n",
              "</div>\n",
              "</div>\n",
              "</div>\n",
              "<p>It is the present-day darling of the tech world. The current renaissance of Artificial Intelligence (AI) with its sister discipline Machine Learning (ML) has led every IT firm <a aria-label=\"worth its salt\" data-ga-track=\"ExternalLink:https://www.phrases.org.uk/meanings/worth-ones-salt.html\" href=\"https://www.phrases.org.uk/meanings/worth-ones-salt.html\" rel=\"nofollow noopener\" target=\"_blank\">worth its salt</a> to engineer some form of AI onto its platform, into its toolsets and throughout its software applications.</p>\n",
              "<blockquote>\n",
              "<p>IBM CEO Ginni Rometty has already <a aria-label=\"proclaimed\" data-ga-track=\"ExternalLink:https://www.cnbc.com/2019/04/02/ibm-ceo-ginni-romettys-solution-to-closing-the-skills-gap-in-america.html\" href=\"https://www.cnbc.com/2019/04/02/ibm-ceo-ginni-romettys-solution-to-closing-the-skills-gap-in-america.html\" rel=\"nofollow noopener\" target=\"_blank\">proclaimed</a> that AI will change 100 percent of jobs over the next decade.</p>\n",
              "</blockquote>\n",
              "<p>And yes, she does mean <em>everybody's</em> job from yours to mine and onward to the role of grain farmers in Egypt, pastry chefs in Paris and dog walkers in Oregon i.e. every job. We will now be able to help direct all workers’ actions and behavior with a new degree of intelligence that comes from predictive analytics, all stemming from the AI engines we will now increasingly depend upon.</p>\n",
              "<p class=\"inread-parent\"><fbs-ad ad-id=\"article-0-inread\" aria-hidden=\"true\" position=\"inread\" progressive=\"\" role=\"presentation\"></fbs-ad></p>\n",
              "<p><strong>When did it all go so right?</strong></p>\n",
              "<div class=\"recirc-unit recirc-unit-open\"><div class=\"recirc-title\"><span>Recommended For You</span><button aria-label=\"Recommended For You\" class=\"recirc-toggle recirc-open\"><svg class=\"fs-icon fs-icon--chevron-down\" viewbox=\"0 0 19.8 19.8\" xmlns=\"http://www.w3.org/2000/svg\"><path d=\"M2.8 9h9.5v2.4H2.8z\" transform=\"rotate(-134.999 7.586 10.187)\"></path><path d=\"M7.9 9h9.5v2.4H7.9z\" transform=\"rotate(-45.001 12.615 10.187)\"></path></svg></button></div><ul class=\"recirc-story-list\"><li class=\"recirc-story\"><a class=\"recirc-link\" href=\"https://www.forbes.com/sites/louiscolumbus/2020/08/30/whats-new-in-gartners-hype-cycle-for-endpoint-security-2020/\"><h3 class=\"recirc-headline\" data-ga-track=\"SEO Recirc Unit: 4\">What’s New In Gartner’s Hype Cycle For Endpoint Security, 2020</h3></a></li><li class=\"recirc-story\"><a class=\"recirc-link\" href=\"https://www.forbes.com/sites/louiscolumbus/2020/08/30/why-digital-transformation-always-needs-to-start-with-customers-first/\"><h3 class=\"recirc-headline\" data-ga-track=\"SEO Recirc Unit: 5\">Why Digital Transformation Always Needs To Start With Customers First</h3></a></li><li class=\"recirc-story\"><a class=\"recirc-link\" href=\"https://www.forbes.com/sites/louiscolumbus/2020/08/23/whats-new-in-gartners-hype-cycle-for-emerging-technologies-2020/\"><h3 class=\"recirc-headline\" data-ga-track=\"SEO Recirc Unit: 6\">What’s New In Gartner’s Hype Cycle For Emerging Technologies, 2020</h3></a></li></ul></div><p>But AI used to be a fanciful notion mostly confined science fiction, so when did it all go right?</p>\n",
              "<p>In recent years we’ve had some big changes in technology. Aside from the proliferation of mobile devices that has impacted us all, memory has become a lot cheaper, data storage has become a lot easier (in cloud, and elsewhere) and computer processing speeds have continued to outstrip previous records. With the power of quantum computing around the corner, is the AI renaissance simply a result of the coming together of these ‘tech ingredient’ forces?</p>\n",
              "<div class=\"vestpocket\" vest-pocket=\"\"></div>\n",
              "<blockquote>\n",
              "<p>“It isn't just massive compute power. There are important algorithmic changes that have been developed. Plus, it is much easier to gain access to more data in an Internet-connected world,” said Ted Dunning, CTO at data platform, AI and analytics company <a aria-label=\"MapR\" data-ga-track=\"ExternalLink:https://mapr.com/\" href=\"https://mapr.com/\" rel=\"nofollow noopener\" target=\"_blank\">MapR</a>. “All three aspects (compute, algorithms, data) combine to make todays machine learning possible. Also and quite frankly, a lot of applications only need data availability... we could have implemented them 25 years ago pretty easily if the data had been available and the output of the model could have been integrated back into the business flow.”</p>\n",
              "</blockquote>\n",
              "<p>So, in many ways, Dunning really heralds the modern era of the web as the key facilitator for the new age of AI. Information has become not just ubiquitous; it has also become easier to access and more accurately classified into structured, semi-structured and unstructured data in its rawest form.</p>\n",
              "<p><strong>Tuning AI towards life</strong></p>\n",
              "<p>Dunning and MapR point out that the new generation of AI &amp; ML is now rediscovering ideas, some of which were first thought of some 50 years ago. The difference today is, each time keep adding a bit of something new. A bit of computing power here, better data there, new ideas for organizing and optimizing a network and after a while we get to build new AI systems that really do useful work. So how should we continue to engineer these new systems?</p>\n",
              "<blockquote>\n",
              "<p>\"A key to success [in the new era of AI] is to focus on the design of the human-AI interactions as much as in the AI itself,\" said <a aria-label=\"Jesus Mantas\" data-ga-track=\"ExternalLink:https://www.linkedin.com/in/jmantas/\" href=\"https://www.linkedin.com/in/jmantas/\" rel=\"nofollow noopener\" target=\"_blank\">Jesus Mantas</a>, general manager and managing partner in IBM Global Business Services. “Many AI programs focus primarily on machine learning algorithms and training datasets, but fail to address the most important success factors: the design of human-machine relationships, new AI-powered workflows… and perfecting the choreography of processes, technology and humans. Those programs rarely scale or achieve benefits. The companies succeeding to scale AI and its benefits demonstrate that skilled, purposeful design of workflows and user interactions lead to faster adoption and business benefits.\"</p>\n",
              "</blockquote>\n",
              "<p>CEO of AI code analytics platform company <a aria-label=\"Gamma\" data-ga-track=\"ExternalLink:http://mygamma.io/\" href=\"http://mygamma.io/\" rel=\"nofollow noopener\" target=\"_blank\">Gamma</a> is Vishal Rai. In general terms, Rai agrees that the AI renaissance has been driven by tectonic shifts in three areas in the computing world: computing power, swathes of data (and its accessibility)… but also by human ingenuity.</p>\n",
              "<p>He points to new developments coming out of both Silicon Valley but further afield also (China being a prime example, Huawei builds its smartphone chipsets around its Kirin AI-enriched microprocessor) and says that this is all helping to create future industries such as autonomous driving and health care diagnostics.</p>\n",
              "<p><strong>Real world application of AI applications</strong></p>\n",
              "<p>So in what ways are the new real world applications of AI manifesting themselves and starting to impact the services we use below the surface?</p>\n",
              "<p>Cloud computing software intelligence and Application Performance Management (APM) specialist <a aria-label=\"Dynatrace\" data-ga-track=\"ExternalLink:https://www.dynatrace.com/\" href=\"https://www.dynatrace.com/\" rel=\"nofollow noopener\" target=\"_blank\">Dynatrace</a> has now extended its AI-powered platform to include <a aria-label=\"IBM Z mainframe\" data-ga-track=\"ExternalLink:https://en.wikipedia.org/wiki/IBM_Z\" href=\"https://en.wikipedia.org/wiki/IBM_Z\" rel=\"nofollow noopener\" target=\"_blank\">IBM Z mainframe</a> support for CICS (a mainframe programming language), IMS (a mainframe database) and middleware. To put that in less technical terms, Dynatrace can be used to monitor software that sits on mainframes to make sure it stays healthy.</p>\n",
              "<p>Why bother? Because the mainframe was never built to be hammered by devices with massively busy data streams like mobile banking apps, games and other online niceties. This means we need AI to understand what impact the mainframe is having on the newer systems we build.</p>\n",
              "<blockquote>\n",
              "<p>“While enterprises are moving applications to modern cloud stacks for agility and competitive advantage, these applications often still depend on critical transactions and ‘crown jewels’ customer data residing on IBM Z mainframes. This puts pressure on these resources to perform tasks that were not envisioned when the mainframes were launched,” said <a aria-label=\"Steve Tack\" data-ga-track=\"ExternalLink:https://www.linkedin.com/in/stevetack/\" href=\"https://www.linkedin.com/in/stevetack/\" rel=\"nofollow noopener\" target=\"_blank\">Steve Tack</a>, SVP of products at Dynatrace. “Because Dynatrace provides end-to-end hybrid visibility [through our Davis AI engine], customers can optimize new services, catch performance degradations before user impact, and understand exactly who has been impacted by an incident. This enables customers to confidently innovate applications that leverage data from mainframes to increase revenue, build brand loyalty, and create competitive advantage.”</p>\n",
              "</blockquote>\n",
              "<p><strong>AI as a work of art</strong></p>\n",
              "<p>Many would argue that the path to contemporary AI has been a long slog, but the systems we build now keep finding clever shortcuts… so the momentum for the AI renaissance is actually building cumulatively.</p>\n",
              "<p>Some argue that AI never went away and that the current popularization of AI and its ensuing discussion is just a natural progression of a technology that simply needed to come through a period of adolescence. Either way, AI is in your smartphone and in your cloud computing services, so renaissance or not, let’s hope it continues to become a work of art.</p>\n",
              "<div class=\"wp-caption wp-caption-wrap alignnone\" id=\"attachment_4812\">\n",
              "<div class=\"article-body-image\">\n",
              "<progressive-image alt=\"Renaissance art\" class=\"size-full wp-image-4812\" data-height=\"229\" data-width=\"799\" src=\"https://blogs-images.forbes.com/adrianbridgwater/files/2019/04/Screen-Shot-2019-03-24-at-12.22.23.jpg\"></progressive-image>\n",
              "</div>\n",
              "<div class=\"article-image-caption\">\n",
              "<div class=\"caption-container\" ng-class=\"caption_state\">\n",
              "<fbs-accordion>\n",
              "<p aria-hidden=\"true\" class=\"wp-caption-text\">Renaissance art</p>\n",
              "<small class=\"article-photo-credit\">Wikipedia</small>\n",
              "</fbs-accordion>\n",
              "</div>\n",
              "</div>\n",
              "</div>\n",
              "<div id=\"lightbox-inline-form-fd96793d-1cd3-4d55-ad3b-4b393082b8ac\"></div></div>"
            ]
          },
          "metadata": {
            "tags": []
          },
          "execution_count": 25
        }
      ]
    },
    {
      "cell_type": "code",
      "metadata": {
        "id": "BdEfje556rtX",
        "colab_type": "code",
        "colab": {}
      },
      "source": [
        "article_p = article.find_all(\"p\")"
      ],
      "execution_count": null,
      "outputs": []
    },
    {
      "cell_type": "code",
      "metadata": {
        "id": "2rXXnd-Y6rtf",
        "colab_type": "code",
        "colab": {}
      },
      "source": [
        "content=''\n",
        "for text in article_p:\n",
        "    content += text.text"
      ],
      "execution_count": null,
      "outputs": []
    },
    {
      "cell_type": "code",
      "metadata": {
        "id": "rMJlR_VR6rtn",
        "colab_type": "code",
        "colab": {},
        "outputId": "f3c72b54-0c24-459d-ddfd-dfc7d501c5ee"
      },
      "source": [
        "print(type(content))\n",
        "print(content[:500])"
      ],
      "execution_count": null,
      "outputs": [
        {
          "output_type": "stream",
          "text": [
            "<class 'str'>\n",
            "Italian Renaissance: Vitruvian Man by Leonardo da VinciIt is the present-day darling of the tech world. The current renaissance of Artificial Intelligence (AI) with its sister discipline Machine Learning (ML) has led every IT firm worth its salt to engineer some form of AI onto its platform, into its toolsets and throughout its software applications.IBM CEO Ginni Rometty has already proclaimed that AI will change 100 percent of jobs over the next decade.And yes, she does mean everybody's job fro\n"
          ],
          "name": "stdout"
        }
      ]
    },
    {
      "cell_type": "markdown",
      "metadata": {
        "id": "czbKEid76rtw",
        "colab_type": "text"
      },
      "source": [
        "## 영문 토큰화\n",
        "- punkt tokenizer 참고\n",
        "    - https://www.nltk.org/_modules/nltk/tokenize/punkt.html"
      ]
    },
    {
      "cell_type": "markdown",
      "metadata": {
        "id": "Jemv3_ga6rtx",
        "colab_type": "text"
      },
      "source": [
        "- word_tokenize() : 마침표와 구두점(온점(.), 컴마(,), 물음표(?), 세미콜론(;), 느낌표(!) 등과 같은 기호)으로 구분하여 토큰화"
      ]
    },
    {
      "cell_type": "code",
      "metadata": {
        "id": "3gqMC57Q6rtz",
        "colab_type": "code",
        "colab": {},
        "outputId": "95616abe-01dd-407c-d5df-2126f0c6bc06"
      },
      "source": [
        "# word_tokenize\n",
        "import nltk\n",
        "# nltk punkt tokenizer download\n",
        "nltk.download('punkt')\n",
        "from nltk.tokenize import word_tokenize\n",
        "token1 = word_tokenize(content)\n",
        "print(token1[:20])"
      ],
      "execution_count": null,
      "outputs": [
        {
          "output_type": "stream",
          "text": [
            "['Italian', 'Renaissance', ':', 'Vitruvian', 'Man', 'by', 'Leonardo', 'da', 'VinciIt', 'is', 'the', 'present-day', 'darling', 'of', 'the', 'tech', 'world', '.', 'The', 'current']\n"
          ],
          "name": "stdout"
        },
        {
          "output_type": "stream",
          "text": [
            "[nltk_data] Downloading package punkt to\n",
            "[nltk_data]     C:\\Users\\671\\AppData\\Roaming\\nltk_data...\n",
            "[nltk_data]   Package punkt is already up-to-date!\n"
          ],
          "name": "stderr"
        }
      ]
    },
    {
      "cell_type": "markdown",
      "metadata": {
        "id": "h3OuEdWb6rt9",
        "colab_type": "text"
      },
      "source": [
        "- wordPunctTokenizer() : 알파벳이 아닌 문자를 구분하여 토큰화"
      ]
    },
    {
      "cell_type": "code",
      "metadata": {
        "id": "XpJCR7BX6rt_",
        "colab_type": "code",
        "colab": {},
        "outputId": "6fa87aab-2416-478c-d74d-ce442718535c"
      },
      "source": [
        "# wordPunctTokenizer() : 알파벳이 아닌 문자를 구분하여 토큰화\n",
        "import nltk\n",
        "from nltk.tokenize import WordPunctTokenizer\n",
        "token2 = WordPunctTokenizer().tokenize(content)\n",
        "print(token2[:20])"
      ],
      "execution_count": null,
      "outputs": [
        {
          "output_type": "stream",
          "text": [
            "['Italian', 'Renaissance', ':', 'Vitruvian', 'Man', 'by', 'Leonardo', 'da', 'VinciIt', 'is', 'the', 'present', '-', 'day', 'darling', 'of', 'the', 'tech', 'world', '.']\n"
          ],
          "name": "stdout"
        }
      ]
    },
    {
      "cell_type": "markdown",
      "metadata": {
        "id": "8YDDK9m06ruG",
        "colab_type": "text"
      },
      "source": [
        "- TreebankWordTokenizer() : 정규표현식에 기반한 토큰화"
      ]
    },
    {
      "cell_type": "code",
      "metadata": {
        "id": "VG9OhgWP6ruI",
        "colab_type": "code",
        "colab": {},
        "outputId": "713a1795-ce8a-4e54-dff6-f54955f55b53"
      },
      "source": [
        "# TreebankWordTokenizer() : 정규표현식에 기반한 토큰화\n",
        "import nltk\n",
        "from nltk.tokenize import TreebankWordTokenizer\n",
        "token3 = TreebankWordTokenizer().tokenize(content)\n",
        "print(token3[:20])"
      ],
      "execution_count": null,
      "outputs": [
        {
          "output_type": "stream",
          "text": [
            "['Italian', 'Renaissance', ':', 'Vitruvian', 'Man', 'by', 'Leonardo', 'da', 'VinciIt', 'is', 'the', 'present-day', 'darling', 'of', 'the', 'tech', 'world.', 'The', 'current', 'renaissance']\n"
          ],
          "name": "stdout"
        }
      ]
    },
    {
      "cell_type": "markdown",
      "metadata": {
        "id": "LaPTzVzd6ruR",
        "colab_type": "text"
      },
      "source": [
        "## 영문 품사부착"
      ]
    },
    {
      "cell_type": "markdown",
      "metadata": {
        "id": "VmplauS_6ruT",
        "colab_type": "text"
      },
      "source": [
        "- 분리한 토큰마다 품사를 부착한다.\n",
        "    - https://www.nltk.org/api/nltk.tag.html\n",
        "- 태그목록\n",
        "    -  https://pythonprogramming.net/natural-language-toolkit-nltk-part-speech-tagging/"
      ]
    },
    {
      "cell_type": "code",
      "metadata": {
        "id": "aOpqkoIt6ruV",
        "colab_type": "code",
        "colab": {},
        "outputId": "4cf08657-a9d4-4cc1-f4bc-263bcd9d6125"
      },
      "source": [
        "from nltk import pos_tag\n",
        "nltk.download('averaged_perceptron_tagger')"
      ],
      "execution_count": null,
      "outputs": [
        {
          "output_type": "stream",
          "text": [
            "[nltk_data] Downloading package averaged_perceptron_tagger to\n",
            "[nltk_data]     C:\\Users\\671\\AppData\\Roaming\\nltk_data...\n",
            "[nltk_data]   Package averaged_perceptron_tagger is already up-to-\n",
            "[nltk_data]       date!\n"
          ],
          "name": "stderr"
        },
        {
          "output_type": "execute_result",
          "data": {
            "text/plain": [
              "True"
            ]
          },
          "metadata": {
            "tags": []
          },
          "execution_count": 54
        }
      ]
    },
    {
      "cell_type": "code",
      "metadata": {
        "scrolled": true,
        "id": "ebrUSyJ16ruf",
        "colab_type": "code",
        "colab": {},
        "outputId": "258012d5-3482-4e19-b636-86793a2d0cc3"
      },
      "source": [
        "taggedToken = pos_tag(token1)\n",
        "print(taggedToken[:20])"
      ],
      "execution_count": null,
      "outputs": [
        {
          "output_type": "stream",
          "text": [
            "[('Italian', 'JJ'), ('Renaissance', 'NNP'), (':', ':'), ('Vitruvian', 'JJ'), ('Man', 'NN'), ('by', 'IN'), ('Leonardo', 'NNP'), ('da', 'NN'), ('VinciIt', 'NNP'), ('is', 'VBZ'), ('the', 'DT'), ('present-day', 'JJ'), ('darling', 'NN'), ('of', 'IN'), ('the', 'DT'), ('tech', 'JJ'), ('world', 'NN'), ('.', '.'), ('The', 'DT'), ('current', 'JJ')]\n"
          ],
          "name": "stdout"
        }
      ]
    },
    {
      "cell_type": "markdown",
      "metadata": {
        "id": "UOeSg-iL6rup",
        "colab_type": "text"
      },
      "source": [
        "## 영문개체명 인식\n",
        "- http://www.nltk.org/api/nltk.chunk.html"
      ]
    },
    {
      "cell_type": "code",
      "metadata": {
        "id": "i5GuwbYz6rur",
        "colab_type": "code",
        "colab": {},
        "outputId": "6521a134-cf2c-49b7-82ec-a88d8f7ee647"
      },
      "source": [
        "# 예시 : Barack Obama likes fried chicken very much\n",
        "# word _tokenize() : 마침표와 구두점으로 구분\n",
        "nltk.download('words')\n",
        "nltk.download('maxent_ne_chunker')\n",
        "\n",
        "import nltk\n",
        "nltk.download('punkt')\n",
        "from nltk.tokenize import word_tokenize\n",
        "\n",
        "# 토큰화\n",
        "token1 = word_tokenize('Barak Obama likes fried chicken very much')\n",
        "print ('token1 : ', token1)\n",
        "\n",
        "# pos_tag\n",
        "taggedToken = pos_tag(token1)\n",
        "print('pos_tag : ', taggedToken)\n",
        "\n",
        "# chunking\n",
        "from nltk import ne_chunk\n",
        "neToken = ne_chunk(taggedToken)\n",
        "print(neToken)"
      ],
      "execution_count": null,
      "outputs": [
        {
          "output_type": "stream",
          "text": [
            "token1 :  ['Barak', 'Obama', 'likes', 'fried', 'chicken', 'very', 'much']\n",
            "pos_tag :  [('Barak', 'NNP'), ('Obama', 'NNP'), ('likes', 'VBZ'), ('fried', 'VBN'), ('chicken', 'JJ'), ('very', 'RB'), ('much', 'JJ')]\n",
            "(S\n",
            "  (PERSON Barak/NNP)\n",
            "  (ORGANIZATION Obama/NNP)\n",
            "  likes/VBZ\n",
            "  fried/VBN\n",
            "  chicken/JJ\n",
            "  very/RB\n",
            "  much/JJ)\n"
          ],
          "name": "stdout"
        },
        {
          "output_type": "stream",
          "text": [
            "[nltk_data] Downloading package words to\n",
            "[nltk_data]     C:\\Users\\671\\AppData\\Roaming\\nltk_data...\n",
            "[nltk_data]   Package words is already up-to-date!\n",
            "[nltk_data] Downloading package maxent_ne_chunker to\n",
            "[nltk_data]     C:\\Users\\671\\AppData\\Roaming\\nltk_data...\n",
            "[nltk_data]   Package maxent_ne_chunker is already up-to-date!\n",
            "[nltk_data] Downloading package punkt to\n",
            "[nltk_data]     C:\\Users\\671\\AppData\\Roaming\\nltk_data...\n",
            "[nltk_data]   Package punkt is already up-to-date!\n"
          ],
          "name": "stderr"
        }
      ]
    },
    {
      "cell_type": "code",
      "metadata": {
        "id": "1PWR7fND6ru0",
        "colab_type": "code",
        "colab": {}
      },
      "source": [
        ""
      ],
      "execution_count": null,
      "outputs": []
    }
  ]
}