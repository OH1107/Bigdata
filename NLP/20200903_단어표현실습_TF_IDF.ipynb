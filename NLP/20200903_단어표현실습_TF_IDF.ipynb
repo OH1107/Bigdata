{
  "nbformat": 4,
  "nbformat_minor": 0,
  "metadata": {
    "kernelspec": {
      "display_name": "Python 3",
      "language": "python",
      "name": "python3"
    },
    "language_info": {
      "codemirror_mode": {
        "name": "ipython",
        "version": 3
      },
      "file_extension": ".py",
      "mimetype": "text/x-python",
      "name": "python",
      "nbconvert_exporter": "python",
      "pygments_lexer": "ipython3",
      "version": "3.7.6"
    },
    "colab": {
      "name": "20200903_단어표현실습_TF-IDF.ipynb",
      "provenance": [],
      "include_colab_link": true
    }
  },
  "cells": [
    {
      "cell_type": "markdown",
      "metadata": {
        "id": "view-in-github",
        "colab_type": "text"
      },
      "source": [
        "<a href=\"https://colab.research.google.com/github/OH1107/aisa_edu/blob/master/NLP/20200903_%EB%8B%A8%EC%96%B4%ED%91%9C%ED%98%84%EC%8B%A4%EC%8A%B5_TF_IDF.ipynb\" target=\"_parent\"><img src=\"https://colab.research.google.com/assets/colab-badge.svg\" alt=\"Open In Colab\"/></a>"
      ]
    },
    {
      "cell_type": "markdown",
      "metadata": {
        "id": "VaI0dQkNLi2G",
        "colab_type": "text"
      },
      "source": [
        "# TF-IDF 직접구현"
      ]
    },
    {
      "cell_type": "code",
      "metadata": {
        "id": "90YlRJlKLi2K",
        "colab_type": "code",
        "colab": {}
      },
      "source": [
        "docs = ['오늘 동물원에서 원숭이와 코끼리를 봤어',\n",
        "       '동물원에서 원숭이에게 바나나를 줬어 바나나를']"
      ],
      "execution_count": null,
      "outputs": []
    },
    {
      "cell_type": "code",
      "metadata": {
        "id": "y9p3krwOLi2Z",
        "colab_type": "code",
        "colab": {},
        "outputId": "e7308174-423c-4311-845c-45ceed4e567f"
      },
      "source": [
        "doc_ls=[doc.split() for doc in docs]\n",
        "doc_ls"
      ],
      "execution_count": null,
      "outputs": [
        {
          "output_type": "execute_result",
          "data": {
            "text/plain": [
              "[['오늘', '동물원에서', '원숭이와', '코끼리를', '봤어'],\n",
              " ['동물원에서', '원숭이에게', '바나나를', '줬어', '바나나를']]"
            ]
          },
          "metadata": {
            "tags": []
          },
          "execution_count": 2
        }
      ]
    },
    {
      "cell_type": "code",
      "metadata": {
        "id": "eW-aQq4cLi2n",
        "colab_type": "code",
        "colab": {},
        "outputId": "fc0aa1a0-cbdf-41a0-c5c9-33c511c053ad"
      },
      "source": [
        "from collections import defaultdict\n",
        "word2id = defaultdict(lambda : len(word2id))\n",
        "\n",
        "for doc in doc_ls:\n",
        "    for token in doc:\n",
        "        word2id[token]\n",
        "word2id"
      ],
      "execution_count": null,
      "outputs": [
        {
          "output_type": "execute_result",
          "data": {
            "text/plain": [
              "defaultdict(<function __main__.<lambda>()>,\n",
              "            {'오늘': 0,\n",
              "             '동물원에서': 1,\n",
              "             '원숭이와': 2,\n",
              "             '코끼리를': 3,\n",
              "             '봤어': 4,\n",
              "             '원숭이에게': 5,\n",
              "             '바나나를': 6,\n",
              "             '줬어': 7})"
            ]
          },
          "metadata": {
            "tags": []
          },
          "execution_count": 3
        }
      ]
    },
    {
      "cell_type": "code",
      "metadata": {
        "id": "I1zpn6vGLi21",
        "colab_type": "code",
        "colab": {},
        "outputId": "dab5631f-136d-4a84-af2d-c6f1b0ed12ef"
      },
      "source": [
        "# TF 구하기\n",
        "# 문서내 토큰 빈도 /문서내 전체 토큰빈도\n",
        "import numpy as np\n",
        "\n",
        "TF = np.zeros((len(doc_ls),len(word2id)))\n",
        "for i, doc in enumerate(doc_ls):\n",
        "    for token in doc:\n",
        "        TF[i, word2id[token]] += 1\n",
        "    TF[i] = TF[i]/len(doc_ls[i])\n",
        "    print(len(doc_ls[i]))\n",
        "    print(TF)\n",
        "TF\n"
      ],
      "execution_count": null,
      "outputs": [
        {
          "output_type": "stream",
          "text": [
            "5\n",
            "[[0.2 0.2 0.2 0.2 0.2 0.  0.  0. ]\n",
            " [0.  0.  0.  0.  0.  0.  0.  0. ]]\n",
            "5\n",
            "[[0.2 0.2 0.2 0.2 0.2 0.  0.  0. ]\n",
            " [0.  0.2 0.  0.  0.  0.2 0.4 0.2]]\n"
          ],
          "name": "stdout"
        },
        {
          "output_type": "execute_result",
          "data": {
            "text/plain": [
              "array([[0.2, 0.2, 0.2, 0.2, 0.2, 0. , 0. , 0. ],\n",
              "       [0. , 0.2, 0. , 0. , 0. , 0.2, 0.4, 0.2]])"
            ]
          },
          "metadata": {
            "tags": []
          },
          "execution_count": 4
        }
      ]
    },
    {
      "cell_type": "code",
      "metadata": {
        "id": "Tie5dopiLi3A",
        "colab_type": "code",
        "colab": {},
        "outputId": "d684d756-fa5b-422c-878f-c08fd1d61701"
      },
      "source": [
        "# IDF 구하기\n",
        "# log(총문서수/토큰이 등장한 문서수)\n",
        "import math\n",
        "\n",
        "IDF = np.zeros(len(word2id))\n",
        "count = np.zeros(len(word2id))\n",
        "\n",
        "for i, word in enumerate(word2id):\n",
        "    for doc in doc_ls:\n",
        "        if ((word in doc) == True):   \n",
        "            print(word, doc)\n",
        "            count[word2id[word]] += 1\n",
        "    print(count)\n",
        "    IDF[i] = math.log10(len(doc_ls)/count[i])\n",
        "print(IDF)"
      ],
      "execution_count": null,
      "outputs": [
        {
          "output_type": "stream",
          "text": [
            "오늘 ['오늘', '동물원에서', '원숭이와', '코끼리를', '봤어']\n",
            "[1. 0. 0. 0. 0. 0. 0. 0.]\n",
            "동물원에서 ['오늘', '동물원에서', '원숭이와', '코끼리를', '봤어']\n",
            "동물원에서 ['동물원에서', '원숭이에게', '바나나를', '줬어', '바나나를']\n",
            "[1. 2. 0. 0. 0. 0. 0. 0.]\n",
            "원숭이와 ['오늘', '동물원에서', '원숭이와', '코끼리를', '봤어']\n",
            "[1. 2. 1. 0. 0. 0. 0. 0.]\n",
            "코끼리를 ['오늘', '동물원에서', '원숭이와', '코끼리를', '봤어']\n",
            "[1. 2. 1. 1. 0. 0. 0. 0.]\n",
            "봤어 ['오늘', '동물원에서', '원숭이와', '코끼리를', '봤어']\n",
            "[1. 2. 1. 1. 1. 0. 0. 0.]\n",
            "원숭이에게 ['동물원에서', '원숭이에게', '바나나를', '줬어', '바나나를']\n",
            "[1. 2. 1. 1. 1. 1. 0. 0.]\n",
            "바나나를 ['동물원에서', '원숭이에게', '바나나를', '줬어', '바나나를']\n",
            "[1. 2. 1. 1. 1. 1. 1. 0.]\n",
            "줬어 ['동물원에서', '원숭이에게', '바나나를', '줬어', '바나나를']\n",
            "[1. 2. 1. 1. 1. 1. 1. 1.]\n",
            "[0.30103 0.      0.30103 0.30103 0.30103 0.30103 0.30103 0.30103]\n"
          ],
          "name": "stdout"
        }
      ]
    },
    {
      "cell_type": "code",
      "metadata": {
        "id": "KuMj1LDTLi3M",
        "colab_type": "code",
        "colab": {},
        "outputId": "b452d29a-edc5-45ef-d878-2b0bfaae7bff"
      },
      "source": [
        "# TF_IDF 계산\n",
        "TF_IDF = np.zeros((len(doc_ls),len(word2id)))\n",
        "for i in range(len(doc_ls)):\n",
        "    TF_IDF[i]=TF[i]*IDF\n",
        "print(TF)\n",
        "print(IDF)\n",
        "print(TF_IDF)"
      ],
      "execution_count": null,
      "outputs": [
        {
          "output_type": "stream",
          "text": [
            "[[0.2 0.2 0.2 0.2 0.2 0.  0.  0. ]\n",
            " [0.  0.2 0.  0.  0.  0.2 0.4 0.2]]\n",
            "[0.30103 0.      0.30103 0.30103 0.30103 0.30103 0.30103 0.30103]\n",
            "[[0.060206 0.       0.060206 0.060206 0.060206 0.       0.       0.      ]\n",
            " [0.       0.       0.       0.       0.       0.060206 0.120412 0.060206]]\n"
          ],
          "name": "stdout"
        }
      ]
    },
    {
      "cell_type": "code",
      "metadata": {
        "id": "TVJhdSEsLi3Y",
        "colab_type": "code",
        "colab": {},
        "outputId": "f8cd7b4b-3395-4622-ffe9-7cf6f207c22e"
      },
      "source": [
        "# DF화\n",
        "import pandas as pd\n",
        "\n",
        "sorted_vocab = sorted((value, key) for key, value in word2id.items())\n",
        "print(sorted_vocab)\n",
        "vocab=[v[1] for v in sorted_vocab]\n",
        "print(vocab)\n",
        "pd.DataFrame(TF_IDF, columns=vocab)"
      ],
      "execution_count": null,
      "outputs": [
        {
          "output_type": "stream",
          "text": [
            "[(0, '오늘'), (1, '동물원에서'), (2, '원숭이와'), (3, '코끼리를'), (4, '봤어'), (5, '원숭이에게'), (6, '바나나를'), (7, '줬어')]\n",
            "['오늘', '동물원에서', '원숭이와', '코끼리를', '봤어', '원숭이에게', '바나나를', '줬어']\n"
          ],
          "name": "stdout"
        },
        {
          "output_type": "execute_result",
          "data": {
            "text/html": [
              "<div>\n",
              "<style scoped>\n",
              "    .dataframe tbody tr th:only-of-type {\n",
              "        vertical-align: middle;\n",
              "    }\n",
              "\n",
              "    .dataframe tbody tr th {\n",
              "        vertical-align: top;\n",
              "    }\n",
              "\n",
              "    .dataframe thead th {\n",
              "        text-align: right;\n",
              "    }\n",
              "</style>\n",
              "<table border=\"1\" class=\"dataframe\">\n",
              "  <thead>\n",
              "    <tr style=\"text-align: right;\">\n",
              "      <th></th>\n",
              "      <th>오늘</th>\n",
              "      <th>동물원에서</th>\n",
              "      <th>원숭이와</th>\n",
              "      <th>코끼리를</th>\n",
              "      <th>봤어</th>\n",
              "      <th>원숭이에게</th>\n",
              "      <th>바나나를</th>\n",
              "      <th>줬어</th>\n",
              "    </tr>\n",
              "  </thead>\n",
              "  <tbody>\n",
              "    <tr>\n",
              "      <th>0</th>\n",
              "      <td>0.060206</td>\n",
              "      <td>0.0</td>\n",
              "      <td>0.060206</td>\n",
              "      <td>0.060206</td>\n",
              "      <td>0.060206</td>\n",
              "      <td>0.000000</td>\n",
              "      <td>0.000000</td>\n",
              "      <td>0.000000</td>\n",
              "    </tr>\n",
              "    <tr>\n",
              "      <th>1</th>\n",
              "      <td>0.000000</td>\n",
              "      <td>0.0</td>\n",
              "      <td>0.000000</td>\n",
              "      <td>0.000000</td>\n",
              "      <td>0.000000</td>\n",
              "      <td>0.060206</td>\n",
              "      <td>0.120412</td>\n",
              "      <td>0.060206</td>\n",
              "    </tr>\n",
              "  </tbody>\n",
              "</table>\n",
              "</div>"
            ],
            "text/plain": [
              "         오늘  동물원에서      원숭이와      코끼리를        봤어     원숭이에게      바나나를        줬어\n",
              "0  0.060206    0.0  0.060206  0.060206  0.060206  0.000000  0.000000  0.000000\n",
              "1  0.000000    0.0  0.000000  0.000000  0.000000  0.060206  0.120412  0.060206"
            ]
          },
          "metadata": {
            "tags": []
          },
          "execution_count": 7
        }
      ]
    },
    {
      "cell_type": "markdown",
      "metadata": {
        "id": "TVwR3gxDLi3k",
        "colab_type": "text"
      },
      "source": [
        "- 지금까지의 코드는 직접 구현하는 과정이였다.\n",
        "- 강의자료의 코드는 다음과 같다."
      ]
    },
    {
      "cell_type": "code",
      "metadata": {
        "id": "PXjGOOx7Li3m",
        "colab_type": "code",
        "colab": {},
        "outputId": "52e943b1-b1c9-40f1-d364-011aff15136e"
      },
      "source": [
        "#TDM 세팅\n",
        "\n",
        "TDM = np.zeros((len(doc_ls), len(word2id)), dtype=int)\n",
        "print(TDM)\n",
        "for i, doc in enumerate(doc_ls):\n",
        "    for token in doc:\n",
        "        TDM[i, word2id[token]] += 1 # 해당 토큰의 위치\n",
        "TDM"
      ],
      "execution_count": null,
      "outputs": [
        {
          "output_type": "stream",
          "text": [
            "[[0 0 0 0 0 0 0 0]\n",
            " [0 0 0 0 0 0 0 0]]\n"
          ],
          "name": "stdout"
        },
        {
          "output_type": "execute_result",
          "data": {
            "text/plain": [
              "array([[1, 1, 1, 1, 1, 0, 0, 0],\n",
              "       [0, 1, 0, 0, 0, 1, 2, 1]])"
            ]
          },
          "metadata": {
            "tags": []
          },
          "execution_count": 8
        }
      ]
    },
    {
      "cell_type": "code",
      "metadata": {
        "id": "y-csoAPnLi3v",
        "colab_type": "code",
        "colab": {},
        "outputId": "5ad739b8-83ee-4f30-f1c6-37c12b4793c0"
      },
      "source": [
        "# 문서내 전체 토큰의 수를 계산 예시\n",
        "TDM[0].sum()"
      ],
      "execution_count": null,
      "outputs": [
        {
          "output_type": "execute_result",
          "data": {
            "text/plain": [
              "5"
            ]
          },
          "metadata": {
            "tags": []
          },
          "execution_count": 9
        }
      ]
    },
    {
      "cell_type": "code",
      "metadata": {
        "id": "iHoYOsZaLi35",
        "colab_type": "code",
        "colab": {}
      },
      "source": [
        "# TF 함수\n",
        "def computeTF(TDM):\n",
        "    doc_len = len(TDM) # 문서 개수\n",
        "    word_len = len(TDM[0]) # 토큰의 개수\n",
        "    \n",
        "    # TF를 계산하기 전 0으로 세팅\n",
        "    TF = np.zeros((doc_len, word_len))\n",
        "    \n",
        "    # TF 계산 : 특정단어등장빈도/문서내 전체등장단어빈도\n",
        "    for doc_i in range(doc_len):\n",
        "        for word_i in range(word_len):\n",
        "            TF[doc_i, word_i] = TDM[doc_i, word_i]/TDM[doc_i].sum()\n",
        "    return TF"
      ],
      "execution_count": null,
      "outputs": []
    },
    {
      "cell_type": "code",
      "metadata": {
        "id": "ZgOxRmpkLi4C",
        "colab_type": "code",
        "colab": {},
        "outputId": "cc02764f-e4e6-4037-dbe7-ce53a45a0dd5"
      },
      "source": [
        "computeTF(TDM)"
      ],
      "execution_count": null,
      "outputs": [
        {
          "output_type": "execute_result",
          "data": {
            "text/plain": [
              "array([[0.2, 0.2, 0.2, 0.2, 0.2, 0. , 0. , 0. ],\n",
              "       [0. , 0.2, 0. , 0. , 0. , 0.2, 0.4, 0.2]])"
            ]
          },
          "metadata": {
            "tags": []
          },
          "execution_count": 11
        }
      ]
    },
    {
      "cell_type": "code",
      "metadata": {
        "id": "bj-tBiCbLi4M",
        "colab_type": "code",
        "colab": {}
      },
      "source": [
        "# IDF 함수\n",
        "import math # 로그 함수 사용하기 위함\n",
        "\n",
        "def computeIDF(TDM):\n",
        "    doc_len = len(TDM)\n",
        "    word_len = len(TDM[0])\n",
        "    \n",
        "    # IDF를 계산하기 전 0으로 세팅\n",
        "    IDF = np.zeros(word_len)\n",
        "    \n",
        "    # IDF 계산 : log(총문서수/단어가등장한문서수)\n",
        "    for i in range(word_len):\n",
        "        IDF[i]=math.log10(doc_len/np.count_nonzero(TDM[:,i]))\n",
        "    return IDF"
      ],
      "execution_count": null,
      "outputs": []
    },
    {
      "cell_type": "code",
      "metadata": {
        "id": "AeqdmCb3Li4W",
        "colab_type": "code",
        "colab": {},
        "outputId": "34e98eb6-a091-44e4-abb0-2840e7ab1d86"
      },
      "source": [
        "computeIDF(TDM)"
      ],
      "execution_count": null,
      "outputs": [
        {
          "output_type": "execute_result",
          "data": {
            "text/plain": [
              "array([0.30103, 0.     , 0.30103, 0.30103, 0.30103, 0.30103, 0.30103,\n",
              "       0.30103])"
            ]
          },
          "metadata": {
            "tags": []
          },
          "execution_count": 13
        }
      ]
    },
    {
      "cell_type": "code",
      "metadata": {
        "id": "UCscCyKmLi4f",
        "colab_type": "code",
        "colab": {}
      },
      "source": [
        "# TF-IDF 함수 (TF * IDF)\n",
        "def computeTF_IDF(TDM):\n",
        "    TF = computeTF(TDM)\n",
        "    IDF = computeIDF(TDM)\n",
        "    \n",
        "    # TF-IDF를 계산하기 전 0으로 세팅\n",
        "    TF_IDF = np.zeros(TF.shape)\n",
        "    \n",
        "    # TF * IDF\n",
        "    for doc_i in range(TF.shape[0]):\n",
        "        for word_i in range(TF.shape[1]):\n",
        "            TF_IDF[doc_i, word_i] = TF[doc_i, word_i] * IDF[word_i]\n",
        "    return TF_IDF"
      ],
      "execution_count": null,
      "outputs": []
    },
    {
      "cell_type": "code",
      "metadata": {
        "id": "mq43ScwrLi4n",
        "colab_type": "code",
        "colab": {},
        "outputId": "90facbef-ec0e-4d89-d45e-5036bd6e58ed"
      },
      "source": [
        "computeTF_IDF(TDM)"
      ],
      "execution_count": null,
      "outputs": [
        {
          "output_type": "execute_result",
          "data": {
            "text/plain": [
              "array([[0.060206, 0.      , 0.060206, 0.060206, 0.060206, 0.      ,\n",
              "        0.      , 0.      ],\n",
              "       [0.      , 0.      , 0.      , 0.      , 0.      , 0.060206,\n",
              "        0.120412, 0.060206]])"
            ]
          },
          "metadata": {
            "tags": []
          },
          "execution_count": 15
        }
      ]
    },
    {
      "cell_type": "code",
      "metadata": {
        "id": "dGUXTKLmLi4y",
        "colab_type": "code",
        "colab": {},
        "outputId": "60c2899c-4f78-4d1e-cb7d-1aaad2245c16"
      },
      "source": [
        "pd.DataFrame(data=computeTF_IDF(TDM), columns=vocab)"
      ],
      "execution_count": null,
      "outputs": [
        {
          "output_type": "execute_result",
          "data": {
            "text/html": [
              "<div>\n",
              "<style scoped>\n",
              "    .dataframe tbody tr th:only-of-type {\n",
              "        vertical-align: middle;\n",
              "    }\n",
              "\n",
              "    .dataframe tbody tr th {\n",
              "        vertical-align: top;\n",
              "    }\n",
              "\n",
              "    .dataframe thead th {\n",
              "        text-align: right;\n",
              "    }\n",
              "</style>\n",
              "<table border=\"1\" class=\"dataframe\">\n",
              "  <thead>\n",
              "    <tr style=\"text-align: right;\">\n",
              "      <th></th>\n",
              "      <th>오늘</th>\n",
              "      <th>동물원에서</th>\n",
              "      <th>원숭이와</th>\n",
              "      <th>코끼리를</th>\n",
              "      <th>봤어</th>\n",
              "      <th>원숭이에게</th>\n",
              "      <th>바나나를</th>\n",
              "      <th>줬어</th>\n",
              "    </tr>\n",
              "  </thead>\n",
              "  <tbody>\n",
              "    <tr>\n",
              "      <th>0</th>\n",
              "      <td>0.060206</td>\n",
              "      <td>0.0</td>\n",
              "      <td>0.060206</td>\n",
              "      <td>0.060206</td>\n",
              "      <td>0.060206</td>\n",
              "      <td>0.000000</td>\n",
              "      <td>0.000000</td>\n",
              "      <td>0.000000</td>\n",
              "    </tr>\n",
              "    <tr>\n",
              "      <th>1</th>\n",
              "      <td>0.000000</td>\n",
              "      <td>0.0</td>\n",
              "      <td>0.000000</td>\n",
              "      <td>0.000000</td>\n",
              "      <td>0.000000</td>\n",
              "      <td>0.060206</td>\n",
              "      <td>0.120412</td>\n",
              "      <td>0.060206</td>\n",
              "    </tr>\n",
              "  </tbody>\n",
              "</table>\n",
              "</div>"
            ],
            "text/plain": [
              "         오늘  동물원에서      원숭이와      코끼리를        봤어     원숭이에게      바나나를        줬어\n",
              "0  0.060206    0.0  0.060206  0.060206  0.060206  0.000000  0.000000  0.000000\n",
              "1  0.000000    0.0  0.000000  0.000000  0.000000  0.060206  0.120412  0.060206"
            ]
          },
          "metadata": {
            "tags": []
          },
          "execution_count": 16
        }
      ]
    },
    {
      "cell_type": "markdown",
      "metadata": {
        "id": "1dLj7JBJLi47",
        "colab_type": "text"
      },
      "source": [
        "# sklearn"
      ]
    },
    {
      "cell_type": "code",
      "metadata": {
        "id": "8WgMyzp_Li4-",
        "colab_type": "code",
        "colab": {},
        "outputId": "a64b2aa6-8e78-4622-ab59-7988f7474c8e"
      },
      "source": [
        "docs = ['오늘 동물원에서 원숭이와 코끼리를 봤어',\n",
        "       '동물원에서 원숭이에게 바나나를 줬어 바나나를']\n",
        "\n",
        "from sklearn.feature_extraction.text import TfidfVectorizer\n",
        "tfidv=TfidfVectorizer()\n",
        "tfidv = tfidv.fit(docs)\n",
        "tfidv.transform(docs).toarray()\n",
        "tfidv"
      ],
      "execution_count": null,
      "outputs": [
        {
          "output_type": "execute_result",
          "data": {
            "text/plain": [
              "TfidfVectorizer(analyzer='word', binary=False, decode_error='strict',\n",
              "                dtype=<class 'numpy.float64'>, encoding='utf-8',\n",
              "                input='content', lowercase=True, max_df=1.0, max_features=None,\n",
              "                min_df=1, ngram_range=(1, 1), norm='l2', preprocessor=None,\n",
              "                smooth_idf=True, stop_words=None, strip_accents=None,\n",
              "                sublinear_tf=False, token_pattern='(?u)\\\\b\\\\w\\\\w+\\\\b',\n",
              "                tokenizer=None, use_idf=True, vocabulary=None)"
            ]
          },
          "metadata": {
            "tags": []
          },
          "execution_count": 19
        }
      ]
    },
    {
      "cell_type": "code",
      "metadata": {
        "id": "5oJYa0GNLi5G",
        "colab_type": "code",
        "colab": {},
        "outputId": "c46bc6d4-ea9a-4e36-a9e0-8ca6c7831883"
      },
      "source": [
        "vocab = tfidv.get_feature_names()\n",
        "vocab"
      ],
      "execution_count": null,
      "outputs": [
        {
          "output_type": "execute_result",
          "data": {
            "text/plain": [
              "['동물원에서', '바나나를', '봤어', '오늘', '원숭이에게', '원숭이와', '줬어', '코끼리를']"
            ]
          },
          "metadata": {
            "tags": []
          },
          "execution_count": 21
        }
      ]
    },
    {
      "cell_type": "code",
      "metadata": {
        "id": "jyC9NZKVLi5R",
        "colab_type": "code",
        "colab": {},
        "outputId": "007ceb75-6a3f-4871-c2c5-da9d87229d25"
      },
      "source": [
        "import pandas as pd\n",
        "df = pd.DataFrame(tfidv.transform(docs).toarray(),columns=vocab)\n",
        "df"
      ],
      "execution_count": null,
      "outputs": [
        {
          "output_type": "execute_result",
          "data": {
            "text/html": [
              "<div>\n",
              "<style scoped>\n",
              "    .dataframe tbody tr th:only-of-type {\n",
              "        vertical-align: middle;\n",
              "    }\n",
              "\n",
              "    .dataframe tbody tr th {\n",
              "        vertical-align: top;\n",
              "    }\n",
              "\n",
              "    .dataframe thead th {\n",
              "        text-align: right;\n",
              "    }\n",
              "</style>\n",
              "<table border=\"1\" class=\"dataframe\">\n",
              "  <thead>\n",
              "    <tr style=\"text-align: right;\">\n",
              "      <th></th>\n",
              "      <th>동물원에서</th>\n",
              "      <th>바나나를</th>\n",
              "      <th>봤어</th>\n",
              "      <th>오늘</th>\n",
              "      <th>원숭이에게</th>\n",
              "      <th>원숭이와</th>\n",
              "      <th>줬어</th>\n",
              "      <th>코끼리를</th>\n",
              "    </tr>\n",
              "  </thead>\n",
              "  <tbody>\n",
              "    <tr>\n",
              "      <th>0</th>\n",
              "      <td>0.335176</td>\n",
              "      <td>0.000000</td>\n",
              "      <td>0.471078</td>\n",
              "      <td>0.471078</td>\n",
              "      <td>0.000000</td>\n",
              "      <td>0.471078</td>\n",
              "      <td>0.000000</td>\n",
              "      <td>0.471078</td>\n",
              "    </tr>\n",
              "    <tr>\n",
              "      <th>1</th>\n",
              "      <td>0.278943</td>\n",
              "      <td>0.784088</td>\n",
              "      <td>0.000000</td>\n",
              "      <td>0.000000</td>\n",
              "      <td>0.392044</td>\n",
              "      <td>0.000000</td>\n",
              "      <td>0.392044</td>\n",
              "      <td>0.000000</td>\n",
              "    </tr>\n",
              "  </tbody>\n",
              "</table>\n",
              "</div>"
            ],
            "text/plain": [
              "      동물원에서      바나나를        봤어        오늘     원숭이에게      원숭이와        줬어  \\\n",
              "0  0.335176  0.000000  0.471078  0.471078  0.000000  0.471078  0.000000   \n",
              "1  0.278943  0.784088  0.000000  0.000000  0.392044  0.000000  0.392044   \n",
              "\n",
              "       코끼리를  \n",
              "0  0.471078  \n",
              "1  0.000000  "
            ]
          },
          "metadata": {
            "tags": []
          },
          "execution_count": 23
        }
      ]
    },
    {
      "cell_type": "markdown",
      "metadata": {
        "id": "SdpimGGWLi5b",
        "colab_type": "text"
      },
      "source": [
        "# gensim"
      ]
    },
    {
      "cell_type": "code",
      "metadata": {
        "id": "TcDQXkC2Li5d",
        "colab_type": "code",
        "colab": {},
        "outputId": "24b4912b-a622-49d5-b23f-0211426fe9d0"
      },
      "source": [
        "import gensim\n",
        "from gensim import corpora\n",
        "from gensim.models import TfidfModel\n",
        "\n",
        "docs = ['오늘 동물원에서 원숭이와 코끼리를 봤어',\n",
        "       '동물원에서 원숭이에게 바나나를 줬어 바나나를']\n",
        "\n",
        "doc_ls = [doc.split() for doc in docs]\n",
        "id2word = corpora.Dictionary(doc_ls)\n",
        "TDM = [id2word.doc2bow(doc) for doc in doc_ls]\n",
        "model = TfidfModel(TDM)\n",
        "tfidf = model[TDM]\n",
        "tfidf[0]"
      ],
      "execution_count": null,
      "outputs": [
        {
          "output_type": "execute_result",
          "data": {
            "text/plain": [
              "[(1, 0.5), (2, 0.5), (3, 0.5), (4, 0.5)]"
            ]
          },
          "metadata": {
            "tags": []
          },
          "execution_count": 29
        }
      ]
    },
    {
      "cell_type": "code",
      "metadata": {
        "id": "R7ltA3G8Li5m",
        "colab_type": "code",
        "colab": {},
        "outputId": "703ac521-ad4e-40e2-fb30-4fe1ccf769f4"
      },
      "source": [
        "from gensim.matutils import sparse2full\n",
        "\n",
        "vocab = [id2word[i] for i in id2word.keys()]\n",
        "TDM_matrix = [sparse2full(doc, len(vocab)).tolist() for doc in tfidf]\n",
        "pd.DataFrame(TDM_matrix, columns=vocab)"
      ],
      "execution_count": null,
      "outputs": [
        {
          "output_type": "execute_result",
          "data": {
            "text/html": [
              "<div>\n",
              "<style scoped>\n",
              "    .dataframe tbody tr th:only-of-type {\n",
              "        vertical-align: middle;\n",
              "    }\n",
              "\n",
              "    .dataframe tbody tr th {\n",
              "        vertical-align: top;\n",
              "    }\n",
              "\n",
              "    .dataframe thead th {\n",
              "        text-align: right;\n",
              "    }\n",
              "</style>\n",
              "<table border=\"1\" class=\"dataframe\">\n",
              "  <thead>\n",
              "    <tr style=\"text-align: right;\">\n",
              "      <th></th>\n",
              "      <th>동물원에서</th>\n",
              "      <th>봤어</th>\n",
              "      <th>오늘</th>\n",
              "      <th>원숭이와</th>\n",
              "      <th>코끼리를</th>\n",
              "      <th>바나나를</th>\n",
              "      <th>원숭이에게</th>\n",
              "      <th>줬어</th>\n",
              "    </tr>\n",
              "  </thead>\n",
              "  <tbody>\n",
              "    <tr>\n",
              "      <th>0</th>\n",
              "      <td>0.0</td>\n",
              "      <td>0.5</td>\n",
              "      <td>0.5</td>\n",
              "      <td>0.5</td>\n",
              "      <td>0.5</td>\n",
              "      <td>0.000000</td>\n",
              "      <td>0.000000</td>\n",
              "      <td>0.000000</td>\n",
              "    </tr>\n",
              "    <tr>\n",
              "      <th>1</th>\n",
              "      <td>0.0</td>\n",
              "      <td>0.0</td>\n",
              "      <td>0.0</td>\n",
              "      <td>0.0</td>\n",
              "      <td>0.0</td>\n",
              "      <td>0.816497</td>\n",
              "      <td>0.408248</td>\n",
              "      <td>0.408248</td>\n",
              "    </tr>\n",
              "  </tbody>\n",
              "</table>\n",
              "</div>"
            ],
            "text/plain": [
              "   동물원에서   봤어   오늘  원숭이와  코끼리를      바나나를     원숭이에게        줬어\n",
              "0    0.0  0.5  0.5   0.5   0.5  0.000000  0.000000  0.000000\n",
              "1    0.0  0.0  0.0   0.0   0.0  0.816497  0.408248  0.408248"
            ]
          },
          "metadata": {
            "tags": []
          },
          "execution_count": 31
        }
      ]
    },
    {
      "cell_type": "code",
      "metadata": {
        "id": "1jK7sW5PLi5v",
        "colab_type": "code",
        "colab": {}
      },
      "source": [
        ""
      ],
      "execution_count": null,
      "outputs": []
    }
  ]
}