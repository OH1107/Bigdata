{
  "nbformat": 4,
  "nbformat_minor": 0,
  "metadata": {
    "kernelspec": {
      "display_name": "Python 3",
      "language": "python",
      "name": "python3"
    },
    "language_info": {
      "codemirror_mode": {
        "name": "ipython",
        "version": 3
      },
      "file_extension": ".py",
      "mimetype": "text/x-python",
      "name": "python",
      "nbconvert_exporter": "python",
      "pygments_lexer": "ipython3",
      "version": "3.8.3"
    },
    "colab": {
      "name": "2일차_20200728.ipynb",
      "provenance": []
    }
  },
  "cells": [
    {
      "cell_type": "code",
      "metadata": {
        "id": "1bGKt6ztGl36",
        "colab_type": "code",
        "colab": {},
        "outputId": "aeae2d68-fd9b-4687-8458-e0ec8d55a3d4"
      },
      "source": [
        "temp=2\n",
        "print(temp)"
      ],
      "execution_count": null,
      "outputs": [
        {
          "output_type": "stream",
          "text": [
            "2\n"
          ],
          "name": "stdout"
        }
      ]
    },
    {
      "cell_type": "code",
      "metadata": {
        "id": "vD7fUDK3Gl4B",
        "colab_type": "code",
        "colab": {},
        "outputId": "1caea21e-29cc-4135-cb62-feff89abf384"
      },
      "source": [
        "a=7\n",
        "b=3\n",
        "print(a+b)\n",
        "print(a-b)\n",
        "print(a*b)\n",
        "print(a/b)"
      ],
      "execution_count": null,
      "outputs": [
        {
          "output_type": "stream",
          "text": [
            "10\n",
            "4\n",
            "21\n",
            "2.3333333333333335\n"
          ],
          "name": "stdout"
        }
      ]
    },
    {
      "cell_type": "code",
      "metadata": {
        "id": "fDVKpLegGl4F",
        "colab_type": "code",
        "colab": {},
        "outputId": "cd0de35a-943c-433f-c793-4c0e7f281979"
      },
      "source": [
        "type(a)"
      ],
      "execution_count": null,
      "outputs": [
        {
          "output_type": "execute_result",
          "data": {
            "text/plain": [
              "int"
            ]
          },
          "metadata": {
            "tags": []
          },
          "execution_count": 3
        }
      ]
    },
    {
      "cell_type": "code",
      "metadata": {
        "id": "lOInX6nsGl4I",
        "colab_type": "code",
        "colab": {},
        "outputId": "92b1e0c0-f755-430b-fde4-5fab73702e3d"
      },
      "source": [
        "#몫 구하기\n",
        "print(a//b)"
      ],
      "execution_count": null,
      "outputs": [
        {
          "output_type": "stream",
          "text": [
            "2\n"
          ],
          "name": "stdout"
        }
      ]
    },
    {
      "cell_type": "code",
      "metadata": {
        "id": "OGNTXUJPGl4L",
        "colab_type": "code",
        "colab": {},
        "outputId": "2e418a67-7e3a-48d1-9447-31ac67f96304"
      },
      "source": [
        "#나머지 구하기\n",
        "print(a%b)"
      ],
      "execution_count": null,
      "outputs": [
        {
          "output_type": "stream",
          "text": [
            "1\n"
          ],
          "name": "stdout"
        }
      ]
    },
    {
      "cell_type": "code",
      "metadata": {
        "id": "goYDNjNkGl4S",
        "colab_type": "code",
        "colab": {},
        "outputId": "4b6601c1-e2bc-4eaf-af66-0942940bb3ea"
      },
      "source": [
        "#지수 구하기\n",
        "print(a**b)"
      ],
      "execution_count": null,
      "outputs": [
        {
          "output_type": "stream",
          "text": [
            "343\n"
          ],
          "name": "stdout"
        }
      ]
    },
    {
      "cell_type": "code",
      "metadata": {
        "id": "Hz_5UixWGl4V",
        "colab_type": "code",
        "colab": {},
        "outputId": "9f7dae60-a86c-4593-acad-0a163901125f"
      },
      "source": [
        "temp='python is easy'\n",
        "temp"
      ],
      "execution_count": null,
      "outputs": [
        {
          "output_type": "execute_result",
          "data": {
            "text/plain": [
              "'python is easy'"
            ]
          },
          "metadata": {
            "tags": []
          },
          "execution_count": 7
        }
      ]
    },
    {
      "cell_type": "code",
      "metadata": {
        "id": "pLdEowaCGl4a",
        "colab_type": "code",
        "colab": {},
        "outputId": "b5c52635-4fc1-40ba-c9d1-116a03bf6c7f"
      },
      "source": [
        "#문자열의 길이\n",
        "len(temp)"
      ],
      "execution_count": null,
      "outputs": [
        {
          "output_type": "execute_result",
          "data": {
            "text/plain": [
              "14"
            ]
          },
          "metadata": {
            "tags": []
          },
          "execution_count": 8
        }
      ]
    },
    {
      "cell_type": "code",
      "metadata": {
        "id": "-C29EqJQGl4e",
        "colab_type": "code",
        "colab": {},
        "outputId": "fbc0c046-f95e-4493-daef-dc8710e25d2c"
      },
      "source": [
        "#공백 없이\n",
        "'python'+'is easy'"
      ],
      "execution_count": null,
      "outputs": [
        {
          "output_type": "execute_result",
          "data": {
            "text/plain": [
              "'pythonis easy'"
            ]
          },
          "metadata": {
            "tags": []
          },
          "execution_count": 9
        }
      ]
    },
    {
      "cell_type": "code",
      "metadata": {
        "id": "P3imhm9RGl4j",
        "colab_type": "code",
        "colab": {},
        "outputId": "c77e75f2-7c58-45fd-e208-5f18150558c2"
      },
      "source": [
        "#공백 있이\n",
        "'python '+'is easy'"
      ],
      "execution_count": null,
      "outputs": [
        {
          "output_type": "execute_result",
          "data": {
            "text/plain": [
              "'python is easy'"
            ]
          },
          "metadata": {
            "tags": []
          },
          "execution_count": 10
        }
      ]
    },
    {
      "cell_type": "code",
      "metadata": {
        "id": "9kY1m-oqGl4m",
        "colab_type": "code",
        "colab": {},
        "outputId": "4f01bbdc-821a-44a9-f932-81d9571505e4"
      },
      "source": [
        "#index[]\n",
        "temp='python is easy'\n",
        "temp[3]"
      ],
      "execution_count": null,
      "outputs": [
        {
          "output_type": "execute_result",
          "data": {
            "text/plain": [
              "'h'"
            ]
          },
          "metadata": {
            "tags": []
          },
          "execution_count": 11
        }
      ]
    },
    {
      "cell_type": "code",
      "metadata": {
        "id": "h4R_Fz42Gl4p",
        "colab_type": "code",
        "colab": {},
        "outputId": "fc479c85-aaae-4149-e642-78d15207b0b0"
      },
      "source": [
        "#slice[]\n",
        "temp[0:5]"
      ],
      "execution_count": null,
      "outputs": [
        {
          "output_type": "execute_result",
          "data": {
            "text/plain": [
              "'pytho'"
            ]
          },
          "metadata": {
            "tags": []
          },
          "execution_count": 12
        }
      ]
    },
    {
      "cell_type": "code",
      "metadata": {
        "id": "t8PD2f_zGl4s",
        "colab_type": "code",
        "colab": {},
        "outputId": "255fcb0c-29c5-4837-c15e-f819347b6c68"
      },
      "source": [
        "temp[10:14]"
      ],
      "execution_count": null,
      "outputs": [
        {
          "output_type": "execute_result",
          "data": {
            "text/plain": [
              "'easy'"
            ]
          },
          "metadata": {
            "tags": []
          },
          "execution_count": 13
        }
      ]
    },
    {
      "cell_type": "code",
      "metadata": {
        "id": "ZdKeHtfCGl4y",
        "colab_type": "code",
        "colab": {},
        "outputId": "836ace73-d294-46b0-f32d-67613f576a21"
      },
      "source": [
        "temp[3:-3]"
      ],
      "execution_count": null,
      "outputs": [
        {
          "output_type": "execute_result",
          "data": {
            "text/plain": [
              "'hon is e'"
            ]
          },
          "metadata": {
            "tags": []
          },
          "execution_count": 14
        }
      ]
    },
    {
      "cell_type": "code",
      "metadata": {
        "id": "g_fyoP69Gl41",
        "colab_type": "code",
        "colab": {},
        "outputId": "4e04f575-8b36-4c4e-d306-6944bf92ad33"
      },
      "source": [
        "temp.split()"
      ],
      "execution_count": null,
      "outputs": [
        {
          "output_type": "execute_result",
          "data": {
            "text/plain": [
              "['python', 'is', 'easy']"
            ]
          },
          "metadata": {
            "tags": []
          },
          "execution_count": 15
        }
      ]
    },
    {
      "cell_type": "code",
      "metadata": {
        "id": "hL5HJUz3Gl44",
        "colab_type": "code",
        "colab": {},
        "outputId": "22d73073-2485-40b6-e8f7-ac6b11a29a7c"
      },
      "source": [
        "temp.split(\"s\")"
      ],
      "execution_count": null,
      "outputs": [
        {
          "output_type": "execute_result",
          "data": {
            "text/plain": [
              "['python i', ' ea', 'y']"
            ]
          },
          "metadata": {
            "tags": []
          },
          "execution_count": 16
        }
      ]
    },
    {
      "cell_type": "code",
      "metadata": {
        "id": "UcnrHoi1Gl47",
        "colab_type": "code",
        "colab": {},
        "outputId": "99299019-8d45-4858-8134-c5e2f7da6d12"
      },
      "source": [
        "temp2='python,java,R,SAS'\n",
        "temp2.split(\",\")"
      ],
      "execution_count": null,
      "outputs": [
        {
          "output_type": "execute_result",
          "data": {
            "text/plain": [
              "['python', 'java', 'R', 'SAS']"
            ]
          },
          "metadata": {
            "tags": []
          },
          "execution_count": 17
        }
      ]
    },
    {
      "cell_type": "code",
      "metadata": {
        "id": "hxUpoTxiGl49",
        "colab_type": "code",
        "colab": {},
        "outputId": "7dea0117-fc51-4c0c-d714-407423052beb"
      },
      "source": [
        "temp3 = temp2.split(\",\")\n",
        "\",\".join(temp3)"
      ],
      "execution_count": null,
      "outputs": [
        {
          "output_type": "execute_result",
          "data": {
            "text/plain": [
              "'python,java,R,SAS'"
            ]
          },
          "metadata": {
            "tags": []
          },
          "execution_count": 18
        }
      ]
    },
    {
      "cell_type": "code",
      "metadata": {
        "id": "3mEBF9HKGl5D",
        "colab_type": "code",
        "colab": {},
        "outputId": "e2a3272b-3bf4-41ad-8e1b-40d3d48f8ef5"
      },
      "source": [
        "temp4 = \",\".join(temp3)\n",
        "print(len(temp3))\n",
        "print(len(temp4))"
      ],
      "execution_count": null,
      "outputs": [
        {
          "output_type": "stream",
          "text": [
            "4\n",
            "17\n"
          ],
          "name": "stdout"
        }
      ]
    },
    {
      "cell_type": "code",
      "metadata": {
        "id": "9ykebrkzGl5G",
        "colab_type": "code",
        "colab": {},
        "outputId": "56e2a5df-b4f5-4b86-f9d1-23658dedb0e0"
      },
      "source": [
        "#리스트 생성\n",
        "number=['one','two','three','four']\n",
        "print(number)\n",
        "type(number)\n",
        "print(','.join(number))"
      ],
      "execution_count": null,
      "outputs": [
        {
          "output_type": "stream",
          "text": [
            "['one', 'two', 'three', 'four']\n",
            "one,two,three,four\n"
          ],
          "name": "stdout"
        }
      ]
    },
    {
      "cell_type": "code",
      "metadata": {
        "id": "cPdzpyUJGl5I",
        "colab_type": "code",
        "colab": {},
        "outputId": "2cce83fa-8ed2-4c7f-a53e-65108ed0d5e6"
      },
      "source": [
        "#리스트 구조로 변환\n",
        "number_tuple=('one','two','three','four')\n",
        "print(number_tuple)\n",
        "list(number_tuple)"
      ],
      "execution_count": null,
      "outputs": [
        {
          "output_type": "stream",
          "text": [
            "('one', 'two', 'three', 'four')\n"
          ],
          "name": "stdout"
        },
        {
          "output_type": "execute_result",
          "data": {
            "text/plain": [
              "['one', 'two', 'three', 'four']"
            ]
          },
          "metadata": {
            "tags": []
          },
          "execution_count": 21
        }
      ]
    },
    {
      "cell_type": "code",
      "metadata": {
        "id": "PZGsXTQUGl5L",
        "colab_type": "code",
        "colab": {},
        "outputId": "132a1591-b593-44d5-f45f-3b44d6499a3b"
      },
      "source": [
        "#index[]\n",
        "number[1]"
      ],
      "execution_count": null,
      "outputs": [
        {
          "output_type": "execute_result",
          "data": {
            "text/plain": [
              "'two'"
            ]
          },
          "metadata": {
            "tags": []
          },
          "execution_count": 22
        }
      ]
    },
    {
      "cell_type": "code",
      "metadata": {
        "id": "tVh0jhLAGl5P",
        "colab_type": "code",
        "colab": {},
        "outputId": "62ff8510-9c4d-41ce-e765-5bdf512e8c46"
      },
      "source": [
        "#slice[:]\n",
        "number[2:4]"
      ],
      "execution_count": null,
      "outputs": [
        {
          "output_type": "execute_result",
          "data": {
            "text/plain": [
              "['three', 'four']"
            ]
          },
          "metadata": {
            "tags": []
          },
          "execution_count": 23
        }
      ]
    },
    {
      "cell_type": "code",
      "metadata": {
        "id": "HtZDNzSLGl5T",
        "colab_type": "code",
        "colab": {},
        "outputId": "ee735666-0337-4d09-8aa9-8a919a731c28"
      },
      "source": [
        "temp[::2]"
      ],
      "execution_count": null,
      "outputs": [
        {
          "output_type": "execute_result",
          "data": {
            "text/plain": [
              "'pto ses'"
            ]
          },
          "metadata": {
            "tags": []
          },
          "execution_count": 24
        }
      ]
    },
    {
      "cell_type": "code",
      "metadata": {
        "id": "MfEeUgnWGl5W",
        "colab_type": "code",
        "colab": {},
        "outputId": "57bbdb8f-4a6c-43ef-d513-29ea1058ac16"
      },
      "source": [
        "#리스트값 변환\n",
        "number[0]='first'\n",
        "print(number)"
      ],
      "execution_count": null,
      "outputs": [
        {
          "output_type": "stream",
          "text": [
            "['first', 'two', 'three', 'four']\n"
          ],
          "name": "stdout"
        }
      ]
    },
    {
      "cell_type": "code",
      "metadata": {
        "id": "VZ472p_2Gl5Z",
        "colab_type": "code",
        "colab": {},
        "outputId": "af1a5daa-9961-4d32-983d-bc663ba3db71"
      },
      "source": [
        "number[3]='4'\n",
        "print(number)"
      ],
      "execution_count": null,
      "outputs": [
        {
          "output_type": "stream",
          "text": [
            "['first', 'two', 'three', '4']\n"
          ],
          "name": "stdout"
        }
      ]
    },
    {
      "cell_type": "code",
      "metadata": {
        "id": "PklhzGslGl5c",
        "colab_type": "code",
        "colab": {},
        "outputId": "87ee7421-57e4-44d7-b5bc-30aaa1c09703"
      },
      "source": [
        "#리스트값 추가 .append()\n",
        "number=['one','two','three','four']\n",
        "number.append('five')\n",
        "print(number)"
      ],
      "execution_count": null,
      "outputs": [
        {
          "output_type": "stream",
          "text": [
            "['one', 'two', 'three', 'four', 'five']\n"
          ],
          "name": "stdout"
        }
      ]
    },
    {
      "cell_type": "code",
      "metadata": {
        "id": "R7tqCVxFGl5i",
        "colab_type": "code",
        "colab": {},
        "outputId": "7fb5f4ff-27b5-483e-f74c-0ca8a81d7c0d"
      },
      "source": [
        "#리스트값 삭제 del\n",
        "del number[1]\n",
        "print(number)"
      ],
      "execution_count": null,
      "outputs": [
        {
          "output_type": "stream",
          "text": [
            "['one', 'three', 'four', 'five']\n"
          ],
          "name": "stdout"
        }
      ]
    },
    {
      "cell_type": "code",
      "metadata": {
        "id": "16NdelAFGl5l",
        "colab_type": "code",
        "colab": {},
        "outputId": "d1afc5f1-cf0c-4dda-e72a-fdae442d128a"
      },
      "source": [
        "#리스트값 삭제 .remove\n",
        "number.remove('three')\n",
        "print(number)"
      ],
      "execution_count": null,
      "outputs": [
        {
          "output_type": "stream",
          "text": [
            "['one', 'four', 'five']\n"
          ],
          "name": "stdout"
        }
      ]
    },
    {
      "cell_type": "code",
      "metadata": {
        "id": "Zh9bazqLGl5n",
        "colab_type": "code",
        "colab": {},
        "outputId": "f5952a56-3419-450d-fdc1-8b5a634e8598"
      },
      "source": [
        "#리스트병합 extend()\n",
        "number1=['one','two','three','four']\n",
        "number2=['six','seven','eight','nine']\n",
        "number1.extend(number2)\n",
        "print(number1)"
      ],
      "execution_count": null,
      "outputs": [
        {
          "output_type": "stream",
          "text": [
            "['one', 'two', 'three', 'four', 'six', 'seven', 'eight', 'nine']\n"
          ],
          "name": "stdout"
        }
      ]
    },
    {
      "cell_type": "code",
      "metadata": {
        "id": "BqxkNzVcGl5q",
        "colab_type": "code",
        "colab": {},
        "outputId": "281d727a-d31a-4ea9-a471-0aac0d958be6"
      },
      "source": [
        "#리스트 정렬하기 sort()\n",
        "number=['one','two','three','four']\n",
        "number.sort()\n",
        "print(number)"
      ],
      "execution_count": null,
      "outputs": [
        {
          "output_type": "stream",
          "text": [
            "['four', 'one', 'three', 'two']\n"
          ],
          "name": "stdout"
        }
      ]
    },
    {
      "cell_type": "code",
      "metadata": {
        "id": "jaufLxq1Gl5t",
        "colab_type": "code",
        "colab": {},
        "outputId": "7c77e777-8af9-49ee-ea41-435a67b19903"
      },
      "source": [
        "#리스트 정렬하기 sorted()\n",
        "number=['one','two','three','four']\n",
        "new_number=sorted(number)\n",
        "print(new_number)"
      ],
      "execution_count": null,
      "outputs": [
        {
          "output_type": "stream",
          "text": [
            "['four', 'one', 'three', 'two']\n"
          ],
          "name": "stdout"
        }
      ]
    },
    {
      "cell_type": "code",
      "metadata": {
        "id": "giN_z_14Gl5w",
        "colab_type": "code",
        "colab": {},
        "outputId": "8c247aa9-4f41-437a-b5c0-edb9f8df2fff"
      },
      "source": [
        "#리스트 내림차순 정렬하기 srort(reverse=True)\n",
        "number=[1,2,3,4]\n",
        "number.sort(reverse=True)\n",
        "print(number)"
      ],
      "execution_count": null,
      "outputs": [
        {
          "output_type": "stream",
          "text": [
            "[4, 3, 2, 1]\n"
          ],
          "name": "stdout"
        }
      ]
    },
    {
      "cell_type": "code",
      "metadata": {
        "id": "r40DZ3L2Gl5y",
        "colab_type": "code",
        "colab": {},
        "outputId": "011b858f-3cec-4273-dfc1-d678d712f678"
      },
      "source": [
        "#리스트 내림차순 정렬하기 sorted(list.reverse=True)\n",
        "number=[1,2,3,4]\n",
        "new_number=sorted(number,reverse=True)\n",
        "print(new_number)"
      ],
      "execution_count": null,
      "outputs": [
        {
          "output_type": "stream",
          "text": [
            "[4, 3, 2, 1]\n"
          ],
          "name": "stdout"
        }
      ]
    },
    {
      "cell_type": "code",
      "metadata": {
        "id": "0t6sSXMQGl52",
        "colab_type": "code",
        "colab": {},
        "outputId": "d0fecb8f-3d33-42b4-e2c6-08db0f13ff1d"
      },
      "source": [
        "#튜플 tuple()\n",
        "number=(1,2,3,4)\n",
        "print(number)\n",
        "type(number)"
      ],
      "execution_count": null,
      "outputs": [
        {
          "output_type": "stream",
          "text": [
            "(1, 2, 3, 4)\n"
          ],
          "name": "stdout"
        },
        {
          "output_type": "execute_result",
          "data": {
            "text/plain": [
              "tuple"
            ]
          },
          "metadata": {
            "tags": []
          },
          "execution_count": 35
        }
      ]
    },
    {
      "cell_type": "code",
      "metadata": {
        "id": "JNsHaGeeGl55",
        "colab_type": "code",
        "colab": {},
        "outputId": "00b29606-21c6-4b5b-9c17-ea983bb85a9c"
      },
      "source": [
        "#튜플 갯수 세기\n",
        "number.count(1)"
      ],
      "execution_count": null,
      "outputs": [
        {
          "output_type": "execute_result",
          "data": {
            "text/plain": [
              "1"
            ]
          },
          "metadata": {
            "tags": []
          },
          "execution_count": 36
        }
      ]
    },
    {
      "cell_type": "code",
      "metadata": {
        "id": "1vyRjoqOGl58",
        "colab_type": "code",
        "colab": {},
        "outputId": "ab8ce4cf-ccc4-46e7-b881-524733b15b2e"
      },
      "source": [
        "#튜플 위치 찾기\n",
        "number.index(4)"
      ],
      "execution_count": null,
      "outputs": [
        {
          "output_type": "execute_result",
          "data": {
            "text/plain": [
              "3"
            ]
          },
          "metadata": {
            "tags": []
          },
          "execution_count": 37
        }
      ]
    },
    {
      "cell_type": "code",
      "metadata": {
        "id": "3uNFehTPGl5_",
        "colab_type": "code",
        "colab": {},
        "outputId": "6c70a596-783f-4718-8203-1ce1dc9a60ff"
      },
      "source": [
        "#딕셔너리 생성\n",
        "fruit_price={'apple':3500, 'peer':2500, 'cherry':5000}\n",
        "print(fruit_price['peer'])\n",
        "type(fruit_price)"
      ],
      "execution_count": null,
      "outputs": [
        {
          "output_type": "stream",
          "text": [
            "2500\n"
          ],
          "name": "stdout"
        },
        {
          "output_type": "execute_result",
          "data": {
            "text/plain": [
              "dict"
            ]
          },
          "metadata": {
            "tags": []
          },
          "execution_count": 38
        }
      ]
    },
    {
      "cell_type": "code",
      "metadata": {
        "id": "N-iu0IvCGl6B",
        "colab_type": "code",
        "colab": {},
        "outputId": "742d0272-dd31-4c1b-df78-56a2a447f6a9"
      },
      "source": [
        "#딕셔너리로 변환\n",
        "fruit_price=[['apple',3500],['peer',2500],['cherry',5000]]\n",
        "fruit_price=dict(fruit_price)\n",
        "print(fruit_price)"
      ],
      "execution_count": null,
      "outputs": [
        {
          "output_type": "stream",
          "text": [
            "{'apple': 3500, 'peer': 2500, 'cherry': 5000}\n"
          ],
          "name": "stdout"
        }
      ]
    },
    {
      "cell_type": "code",
      "metadata": {
        "id": "M86_XlTlGl6E",
        "colab_type": "code",
        "colab": {},
        "outputId": "9851c9e0-89c6-4335-b93f-4a13200877e3"
      },
      "source": [
        "#딕셔너리 키값 찾기\n",
        "fruit_price.keys()"
      ],
      "execution_count": null,
      "outputs": [
        {
          "output_type": "execute_result",
          "data": {
            "text/plain": [
              "dict_keys(['apple', 'peer', 'cherry'])"
            ]
          },
          "metadata": {
            "tags": []
          },
          "execution_count": 40
        }
      ]
    },
    {
      "cell_type": "code",
      "metadata": {
        "id": "PKC-iC7QGl6J",
        "colab_type": "code",
        "colab": {},
        "outputId": "5e366d94-d965-4eea-81dd-e5cee5d6342a"
      },
      "source": [
        "fruit_price.values()"
      ],
      "execution_count": null,
      "outputs": [
        {
          "output_type": "execute_result",
          "data": {
            "text/plain": [
              "dict_values([3500, 2500, 5000])"
            ]
          },
          "metadata": {
            "tags": []
          },
          "execution_count": 41
        }
      ]
    },
    {
      "cell_type": "code",
      "metadata": {
        "scrolled": true,
        "id": "Lm0OUirJGl6S",
        "colab_type": "code",
        "colab": {},
        "outputId": "277b3a2d-e3ff-48c8-cb58-f4984424e415"
      },
      "source": [
        "school_class={1:['mina','jane','mark'],\n",
        "              2:['peter','pay','parker'],\n",
        "              3:['pay','joy','conan']}\n",
        "print(school_class[2])\n",
        "print(school_class.get(1))"
      ],
      "execution_count": null,
      "outputs": [
        {
          "output_type": "stream",
          "text": [
            "['peter', 'pay', 'parker']\n",
            "['mina', 'jane', 'mark']\n"
          ],
          "name": "stdout"
        }
      ]
    },
    {
      "cell_type": "code",
      "metadata": {
        "id": "tCLVIz5AGl6X",
        "colab_type": "code",
        "colab": {},
        "outputId": "d679e8fa-0067-4843-f7de-270578ff134f"
      },
      "source": [
        "print(school_class.values())"
      ],
      "execution_count": null,
      "outputs": [
        {
          "output_type": "stream",
          "text": [
            "dict_values([['mina', 'jane', 'mark'], ['peter', 'pay', 'parker'], ['pay', 'joy', 'conan']])\n"
          ],
          "name": "stdout"
        }
      ]
    },
    {
      "cell_type": "code",
      "metadata": {
        "id": "mJ9Kfbc6Gl6a",
        "colab_type": "code",
        "colab": {},
        "outputId": "708c841b-98a1-4506-dd10-1349edcf2fdf"
      },
      "source": [
        "print(school_class.items())"
      ],
      "execution_count": null,
      "outputs": [
        {
          "output_type": "stream",
          "text": [
            "dict_items([(1, ['mina', 'jane', 'mark']), (2, ['peter', 'pay', 'parker']), (3, ['pay', 'joy', 'conan'])])\n"
          ],
          "name": "stdout"
        }
      ]
    },
    {
      "cell_type": "code",
      "metadata": {
        "id": "Z-GIw3nSGl6e",
        "colab_type": "code",
        "colab": {},
        "outputId": "55d5a029-32fb-4447-bf24-58c85aea0def"
      },
      "source": [
        "#딕셔너리 병합 update()\n",
        "others={'banana':3200,'grape':2000}\n",
        "fruit_price.update(others)\n",
        "print(fruit_price)"
      ],
      "execution_count": null,
      "outputs": [
        {
          "output_type": "stream",
          "text": [
            "{'apple': 3500, 'peer': 2500, 'cherry': 5000, 'banana': 3200, 'grape': 2000}\n"
          ],
          "name": "stdout"
        }
      ]
    },
    {
      "cell_type": "code",
      "metadata": {
        "id": "OtxixHBgGl6i",
        "colab_type": "code",
        "colab": {},
        "outputId": "5baf9b17-8abc-4d2e-ced6-a6d618120d0b"
      },
      "source": [
        "#딕셔너리 삭제 del\n",
        "fruit_price={'apple': 3500, 'peer': 2500, 'cherry': 5000}\n",
        "del fruit_price['apple']\n",
        "print(fruit_price)"
      ],
      "execution_count": null,
      "outputs": [
        {
          "output_type": "stream",
          "text": [
            "{'peer': 2500, 'cherry': 5000}\n"
          ],
          "name": "stdout"
        }
      ]
    },
    {
      "cell_type": "code",
      "metadata": {
        "id": "Z68yaG_VGl6m",
        "colab_type": "code",
        "colab": {},
        "outputId": "9de2dde7-a4b5-4429-d0bf-bc893c98bdce"
      },
      "source": [
        "#딕셔너리 삭제 .pop\n",
        "print(school_class)\n",
        "school_class.pop(3)\n",
        "print(school_class)"
      ],
      "execution_count": null,
      "outputs": [
        {
          "output_type": "stream",
          "text": [
            "{1: ['mina', 'jane', 'mark'], 2: ['peter', 'pay', 'parker'], 3: ['pay', 'joy', 'conan']}\n",
            "{1: ['mina', 'jane', 'mark'], 2: ['peter', 'pay', 'parker']}\n"
          ],
          "name": "stdout"
        }
      ]
    },
    {
      "cell_type": "code",
      "metadata": {
        "id": "B8J4A1CCGl6q",
        "colab_type": "code",
        "colab": {},
        "outputId": "12aa1a83-6b4b-4941-d72d-5295c7e4e360"
      },
      "source": [
        "#비교 연산자정리\n",
        "a=10\n",
        "b=20\n",
        "c=30\n",
        "print(a==b)\n",
        "print(a!=b)\n",
        "print(a<b)\n",
        "print(a<=b)\n",
        "print(a>b)\n",
        "print(a>=b)\n",
        "print(a in (10, 20, 30))"
      ],
      "execution_count": null,
      "outputs": [
        {
          "output_type": "stream",
          "text": [
            "False\n",
            "True\n",
            "True\n",
            "True\n",
            "False\n",
            "False\n",
            "True\n"
          ],
          "name": "stdout"
        }
      ]
    },
    {
      "cell_type": "code",
      "metadata": {
        "id": "m_HH4DTaGl6t",
        "colab_type": "code",
        "colab": {},
        "outputId": "566c5a58-2dae-4815-fcde-d007a03bedaa"
      },
      "source": [
        "#논리 연산자정리\n",
        "print(a==b & a==c)\n",
        "print(a==b and a==c)\n",
        "print(a==b | a==c)\n",
        "print(a==b or a==c)\n",
        "print(not(a==b))"
      ],
      "execution_count": null,
      "outputs": [
        {
          "output_type": "stream",
          "text": [
            "False\n",
            "False\n",
            "False\n",
            "False\n",
            "True\n"
          ],
          "name": "stdout"
        }
      ]
    },
    {
      "cell_type": "code",
      "metadata": {
        "id": "g3CyLdH7Gl6v",
        "colab_type": "code",
        "colab": {},
        "outputId": "eb8cce4e-a049-4287-d072-0d7f3e54877a"
      },
      "source": [
        "#식별 연산자정리\n",
        "#숫자뿐만 아니라 객체자체를 비교하는 것\n",
        "print(a is b)\n",
        "print(a is not b)"
      ],
      "execution_count": null,
      "outputs": [
        {
          "output_type": "stream",
          "text": [
            "False\n",
            "True\n"
          ],
          "name": "stdout"
        }
      ]
    },
    {
      "cell_type": "code",
      "metadata": {
        "id": "DgyVAblkGl6y",
        "colab_type": "code",
        "colab": {},
        "outputId": "a5612cc5-95a0-4e2b-af4b-d86201a2bf8b"
      },
      "source": [
        "# if조건문\n",
        "t=True\n",
        "if(t):\n",
        "    print(\"조건문이 참입니다.\")"
      ],
      "execution_count": null,
      "outputs": [
        {
          "output_type": "stream",
          "text": [
            "조건문이 참입니다.\n"
          ],
          "name": "stdout"
        }
      ]
    },
    {
      "cell_type": "code",
      "metadata": {
        "id": "ZFFyCFwCGl63",
        "colab_type": "code",
        "colab": {},
        "outputId": "e3bd6a30-8b6e-4969-d0ea-27c6e2c801e2"
      },
      "source": [
        "# else조건문\n",
        "f=False\n",
        "if(f):\n",
        "    print(\"조건문이 참입니다.\")\n",
        "else:\n",
        "    print(\"조건문이 참이 아닙니다.\")"
      ],
      "execution_count": null,
      "outputs": [
        {
          "output_type": "stream",
          "text": [
            "조건문이 참이 아닙니다.\n"
          ],
          "name": "stdout"
        }
      ]
    },
    {
      "cell_type": "code",
      "metadata": {
        "id": "K0VOvrAjGl7B",
        "colab_type": "code",
        "colab": {},
        "outputId": "32ec98f5-5e00-4736-da9e-27eb09a94f39"
      },
      "source": [
        "# elif 조건문\n",
        "t=True\n",
        "f=False\n",
        "if(f):\n",
        "    print(\"첫번째 조건문이 참입니다.\")\n",
        "elif(t):\n",
        "    print(\"첫번째 조건문은 참이 아니고 두번째 조건문은 참입니다.\")\n",
        "else:\n",
        "    print(\"조건문이 참이 아닙니다.\")"
      ],
      "execution_count": null,
      "outputs": [
        {
          "output_type": "stream",
          "text": [
            "첫번째 조건문은 참이 아니고 두번째 조건문은 참입니다.\n"
          ],
          "name": "stdout"
        }
      ]
    },
    {
      "cell_type": "code",
      "metadata": {
        "id": "HAVBEXRIGl7L",
        "colab_type": "code",
        "colab": {},
        "outputId": "89bd4a42-6787-4679-be06-36a71d477928"
      },
      "source": [
        "#데이터를 입력받아서 처리 input함수\n",
        "input('숫자를 입력하세요.')"
      ],
      "execution_count": null,
      "outputs": [
        {
          "output_type": "stream",
          "text": [
            "숫자를 입력하세요.1\n"
          ],
          "name": "stdout"
        },
        {
          "output_type": "execute_result",
          "data": {
            "text/plain": [
              "'1'"
            ]
          },
          "metadata": {
            "tags": []
          },
          "execution_count": 54
        }
      ]
    },
    {
      "cell_type": "code",
      "metadata": {
        "id": "QVXrdcI9Gl7N",
        "colab_type": "code",
        "colab": {},
        "outputId": "bba3d0a3-b887-4877-cb20-59589faa5b93"
      },
      "source": [
        "#홀짝예제\n",
        "\n",
        "i=int(input('숫자를 입력하시오.'))\n",
        "if(i%2==0):\n",
        "    print(\"Even\")\n",
        "else:\n",
        "    print(\"Odd\")"
      ],
      "execution_count": null,
      "outputs": [
        {
          "output_type": "stream",
          "text": [
            "숫자를 입력하시오.1\n",
            "Odd\n"
          ],
          "name": "stdout"
        }
      ]
    },
    {
      "cell_type": "code",
      "metadata": {
        "id": "aGbcjuE2Gl7Q",
        "colab_type": "code",
        "colab": {},
        "outputId": "70a313a4-32c2-417d-84d4-8727f8d427f4"
      },
      "source": [
        "#점수예제\n",
        "\n",
        "score=int(input(\"Score? \"))\n",
        "if(score<=60):\n",
        "    print('D')\n",
        "elif((score>60) & (score<=70)):\n",
        "    print('C')\n",
        "elif((score>70) & (score<=80)):\n",
        "    print('B')\n",
        "elif((score>80) & (score<=100)):\n",
        "    print('A')\n",
        "else:\n",
        "    print(\"Wrong Score\")"
      ],
      "execution_count": null,
      "outputs": [
        {
          "output_type": "stream",
          "text": [
            "Score? 1\n",
            "D\n"
          ],
          "name": "stdout"
        }
      ]
    },
    {
      "cell_type": "code",
      "metadata": {
        "id": "qmMSLcjgGl7S",
        "colab_type": "code",
        "colab": {},
        "outputId": "f5adfa09-8577-41ea-bec9-70dd993a5aca"
      },
      "source": [
        "#for 반복문\n",
        "for i in range(1,10):\n",
        "    print(i)"
      ],
      "execution_count": null,
      "outputs": [
        {
          "output_type": "stream",
          "text": [
            "1\n",
            "2\n",
            "3\n",
            "4\n",
            "5\n",
            "6\n",
            "7\n",
            "8\n",
            "9\n"
          ],
          "name": "stdout"
        }
      ]
    },
    {
      "cell_type": "code",
      "metadata": {
        "id": "WiLpyw0mGl7X",
        "colab_type": "code",
        "colab": {},
        "outputId": "6eda94fe-8397-4688-99bd-519afb88b12a"
      },
      "source": [
        "list(range(1,30,3))"
      ],
      "execution_count": null,
      "outputs": [
        {
          "output_type": "execute_result",
          "data": {
            "text/plain": [
              "[1, 4, 7, 10, 13, 16, 19, 22, 25, 28]"
            ]
          },
          "metadata": {
            "tags": []
          },
          "execution_count": 58
        }
      ]
    },
    {
      "cell_type": "code",
      "metadata": {
        "id": "GzvK6Qf8Gl7Z",
        "colab_type": "code",
        "colab": {},
        "outputId": "cc0bc914-8f87-4387-bb51-24df331e513d"
      },
      "source": [
        "#리스트 for 반복문\n",
        "fruit = ['apple','peer','cherry']\n",
        "for i in fruit:\n",
        "    print(i)"
      ],
      "execution_count": null,
      "outputs": [
        {
          "output_type": "stream",
          "text": [
            "apple\n",
            "peer\n",
            "cherry\n"
          ],
          "name": "stdout"
        }
      ]
    },
    {
      "cell_type": "code",
      "metadata": {
        "id": "h8TJTVVCGl7f",
        "colab_type": "code",
        "colab": {},
        "outputId": "aa3e17a0-8775-4e19-923b-cbebac592d6a"
      },
      "source": [
        "#딕셔너리 for 반복문 key()\n",
        "fruit_price={'apple':3500,'peer':2500,'cherry':5000}\n",
        "for i in fruit_price.keys():\n",
        "    print(i)"
      ],
      "execution_count": null,
      "outputs": [
        {
          "output_type": "stream",
          "text": [
            "apple\n",
            "peer\n",
            "cherry\n"
          ],
          "name": "stdout"
        }
      ]
    },
    {
      "cell_type": "code",
      "metadata": {
        "id": "g4J8VFVuGl7i",
        "colab_type": "code",
        "colab": {},
        "outputId": "04ec19df-8f60-4996-dac2-d95937cc857d"
      },
      "source": [
        "#딕셔너리 for 반복문 value()\n",
        "fruit_price={'apple':3500,'peer':2500,'cherry':5000}\n",
        "for i in fruit_price.values():\n",
        "    print(i)"
      ],
      "execution_count": null,
      "outputs": [
        {
          "output_type": "stream",
          "text": [
            "3500\n",
            "2500\n",
            "5000\n"
          ],
          "name": "stdout"
        }
      ]
    },
    {
      "cell_type": "code",
      "metadata": {
        "id": "NX0HLLN3Gl7m",
        "colab_type": "code",
        "colab": {},
        "outputId": "4e6744f6-d98c-42b9-ddf9-0f16fa53476b"
      },
      "source": [
        "#딕셔너리 for 반복문 item()\n",
        "fruit_price={'apple':3500,'peer':2500,'cherry':5000}\n",
        "for i in fruit_price.items():\n",
        "    print('과일명 : ',i[0], '가격 : ',i[1])"
      ],
      "execution_count": null,
      "outputs": [
        {
          "output_type": "stream",
          "text": [
            "과일명 :  apple 가격 :  3500\n",
            "과일명 :  peer 가격 :  2500\n",
            "과일명 :  cherry 가격 :  5000\n"
          ],
          "name": "stdout"
        }
      ]
    },
    {
      "cell_type": "code",
      "metadata": {
        "id": "hpaaEidQGl7q",
        "colab_type": "code",
        "colab": {},
        "outputId": "32d4d670-3f77-4645-9634-1861b7164038"
      },
      "source": [
        "#딕셔너리 for 반복문 다중 value item()\n",
        "fruit_price={'apple':[3500, 10],'peer':[2500,8],'cherry':[5000,4]}\n",
        "for i in fruit_price.items():\n",
        "    print(\"item =\", i)\n",
        "    print(\"item = \", i[0], 'itme_1 = ', i[1][0], 'item_2 = ', i[1][1])\n",
        "    print('과일명 : ',i[0], '가격 : ',i[1][0], '갯수 : ',i[1][1])\n",
        "    print('*'*30)"
      ],
      "execution_count": null,
      "outputs": [
        {
          "output_type": "stream",
          "text": [
            "item = ('apple', [3500, 10])\n",
            "item =  apple itme_1 =  3500 item_2 =  10\n",
            "과일명 :  apple 가격 :  3500 갯수 :  10\n",
            "******************************\n",
            "item = ('peer', [2500, 8])\n",
            "item =  peer itme_1 =  2500 item_2 =  8\n",
            "과일명 :  peer 가격 :  2500 갯수 :  8\n",
            "******************************\n",
            "item = ('cherry', [5000, 4])\n",
            "item =  cherry itme_1 =  5000 item_2 =  4\n",
            "과일명 :  cherry 가격 :  5000 갯수 :  4\n",
            "******************************\n"
          ],
          "name": "stdout"
        }
      ]
    },
    {
      "cell_type": "code",
      "metadata": {
        "id": "2omGyV0JGl7t",
        "colab_type": "code",
        "colab": {},
        "outputId": "9699416c-d242-479d-b275-f5964721252d"
      },
      "source": [
        "hp=[]\n",
        "lp=[]\n",
        "fruit_price={'apple':3500,'peer':2500,'cherry':5000}\n",
        "for i in fruit_price.items():\n",
        "    if i[1]>3000:\n",
        "        hp.append(i[0])\n",
        "    else:\n",
        "        lp.append(i[0])\n",
        "        \n",
        "print(hp)\n",
        "print(lp)"
      ],
      "execution_count": null,
      "outputs": [
        {
          "output_type": "stream",
          "text": [
            "['apple', 'cherry']\n",
            "['peer']\n"
          ],
          "name": "stdout"
        }
      ]
    },
    {
      "cell_type": "code",
      "metadata": {
        "id": "oEc-XlSeGl7v",
        "colab_type": "code",
        "colab": {},
        "outputId": "c3f6b59e-ec50-4ebc-9245-556e2979cea5"
      },
      "source": [
        "hp=[]\n",
        "lp=[]\n",
        "fruit_price={'apple':3500,'peer':2500,'cherry':5000}\n",
        "\n",
        "for i, item in enumerate(fruit_price.items()):\n",
        "    print(i+1,\"번 과일 = \", item[0], \" \",i+1,\"번 과일 가격 =\", item[1])\n",
        "    if item[1]>3000:\n",
        "        hp.append(item[0])\n",
        "    else:\n",
        "        lp.append(item[0])\n",
        "    print('*'*45)\n",
        "print(hp)\n",
        "print(lp)"
      ],
      "execution_count": null,
      "outputs": [
        {
          "output_type": "stream",
          "text": [
            "1 번 과일 =  apple   1 번 과일 가격 = 3500\n",
            "*********************************************\n",
            "2 번 과일 =  peer   2 번 과일 가격 = 2500\n",
            "*********************************************\n",
            "3 번 과일 =  cherry   3 번 과일 가격 = 5000\n",
            "*********************************************\n",
            "['apple', 'cherry']\n",
            "['peer']\n"
          ],
          "name": "stdout"
        }
      ]
    },
    {
      "cell_type": "code",
      "metadata": {
        "id": "F_-djXu3Gl7x",
        "colab_type": "code",
        "colab": {},
        "outputId": "703d0776-55ac-4eef-df2a-36f649c17ed3"
      },
      "source": [
        "#점수예제2\n",
        "\n",
        "score=[50, 85, 97, 30, 88]\n",
        "lank=sorted(score,reverse=True)\n",
        "\n",
        "for i, degree in enumerate(lank):\n",
        "    if(degree<=60):\n",
        "        print(i+1,\"등\",\"| 점수 : \",degree,\"| 성적 : \",'D')\n",
        "    elif((degree>60) & (degree<=70)):\n",
        "        print(i+1,\"등\",\"| 점수 : \",degree,\"| 성적 : \",'C')\n",
        "    elif((degree>70) & (degree<=80)):\n",
        "        print(i+1,\"등\",\"| 점수 : \",degree,\"| 성적 : \",'B')\n",
        "    elif((degree>80) & (degree<=100)):\n",
        "        print(i+1,\"등\",\"| 점수 : \",degree,\"| 성적 : \",'A')\n",
        "    else:\n",
        "        print(\"Wrong Score\")\n",
        "    print('*'*30)\n"
      ],
      "execution_count": null,
      "outputs": [
        {
          "output_type": "stream",
          "text": [
            "1 등 | 점수 :  97 | 성적 :  A\n",
            "******************************\n",
            "2 등 | 점수 :  88 | 성적 :  A\n",
            "******************************\n",
            "3 등 | 점수 :  85 | 성적 :  A\n",
            "******************************\n",
            "4 등 | 점수 :  50 | 성적 :  D\n",
            "******************************\n",
            "5 등 | 점수 :  30 | 성적 :  D\n",
            "******************************\n"
          ],
          "name": "stdout"
        }
      ]
    },
    {
      "cell_type": "code",
      "metadata": {
        "id": "xCp1x5YtGl7z",
        "colab_type": "code",
        "colab": {}
      },
      "source": [
        "#txt파일 데이터 출력 open함수\n",
        "fruit=open('C:/ohhhhh/fruit.txt','wt')\n",
        "fruit_price={'apple':3500,'peer':2500,'cherry':5000}\n",
        "for item in fruit_price.items():\n",
        "    print(item,file=fruit)\n",
        "fruit.close()"
      ],
      "execution_count": null,
      "outputs": []
    },
    {
      "cell_type": "code",
      "metadata": {
        "id": "G5HjvAeXGl71",
        "colab_type": "code",
        "colab": {}
      },
      "source": [
        "#txt파일 데이터 출력 .write속성\n",
        "fruit=open('c:/ohhhhh/fruit2.txt','wt')\n",
        "fruit.write('apple 3500\\n')\n",
        "fruit.write('peer 250\\n')\n",
        "fruit.write('cherry 5000\\n')\n",
        "fruit.close()"
      ],
      "execution_count": null,
      "outputs": []
    },
    {
      "cell_type": "code",
      "metadata": {
        "id": "7OQP16b3Gl72",
        "colab_type": "code",
        "colab": {}
      },
      "source": [
        "#csv파일 데이터 출력 이해 1도 못함\n",
        "import csv\n",
        "with open('c:/ohhhhh/fruit3.csv','w',newline=\"\") as fruit:\n",
        "    wirter=csv.writer(fruit,delimiter=',')\n",
        "    wirter.writerow(['apple'])\n",
        "    wirter.writerow(['peer'])\n",
        "    wirter.writerow(['cherry'])\n",
        "    wirter.writerow(['banana'])\n",
        "    wirter.writerow(['peach'])"
      ],
      "execution_count": null,
      "outputs": []
    },
    {
      "cell_type": "code",
      "metadata": {
        "id": "6OfDhyZUGl77",
        "colab_type": "code",
        "colab": {},
        "outputId": "8c740784-7b80-4f4d-a59f-ffd6be781743"
      },
      "source": [
        "#txt파일 데이터 불러오기\n",
        "fruit_path=open('c:/ohhhhh/fruit.txt','rt')\n",
        "fruit_path\n",
        "\n",
        "fruit = fruit_path.readlines()\n",
        "print(fruit)"
      ],
      "execution_count": null,
      "outputs": [
        {
          "output_type": "stream",
          "text": [
            "[\"('apple', 3500)\\n\", \"('peer', 2500)\\n\", \"('cherry', 5000)\\n\"]\n"
          ],
          "name": "stdout"
        },
        {
          "output_type": "execute_result",
          "data": {
            "text/plain": [
              "list"
            ]
          },
          "metadata": {
            "tags": []
          },
          "execution_count": 91
        }
      ]
    },
    {
      "cell_type": "code",
      "metadata": {
        "id": "w9FkLvJ1Gl7_",
        "colab_type": "code",
        "colab": {},
        "outputId": "2c794d33-1ff7-434c-bbbd-8f516b5fa6fa"
      },
      "source": [
        "#csv파일을 불러올 때는 데이터 저장 형태가 객체지향이아니기 때문에 for반복문으로 읽어줘야함.\n",
        "import csv\n",
        "\n",
        "f=open('c:/ohhhhh/fruit3.csv','rt')\n",
        "csvRead=csv.reader(f)\n",
        "csvRead"
      ],
      "execution_count": null,
      "outputs": [
        {
          "output_type": "execute_result",
          "data": {
            "text/plain": [
              "<_csv.reader at 0x22044049040>"
            ]
          },
          "metadata": {
            "tags": []
          },
          "execution_count": 97
        }
      ]
    },
    {
      "cell_type": "code",
      "metadata": {
        "id": "BMYMNRQhGl8B",
        "colab_type": "code",
        "colab": {},
        "outputId": "02e66385-af6e-4690-86e3-e46be74d787b"
      },
      "source": [
        "#csv파일 데이터 불러오기\n",
        "import csv\n",
        "\n",
        "f=open('c:/ohhhhh/fruit3.csv','rt')\n",
        "csvRead=csv.reader(f)\n",
        "\n",
        "fruit= []\n",
        "for i in csvRead:\n",
        "    fruit.append(i)\n",
        "    print(i)"
      ],
      "execution_count": null,
      "outputs": [
        {
          "output_type": "stream",
          "text": [
            "['apple']\n",
            "['peer']\n",
            "['cherry']\n",
            "['banana']\n",
            "['peach']\n"
          ],
          "name": "stdout"
        }
      ]
    },
    {
      "cell_type": "code",
      "metadata": {
        "id": "4icpuy-QGl8D",
        "colab_type": "code",
        "colab": {},
        "outputId": "0011ba7e-d95b-4da3-a424-60130c774e51"
      },
      "source": [
        "#while 반복문\n",
        "\n",
        "treehit=0\n",
        "while treehit<10:\n",
        "    treehit = treehit+1\n",
        "    print(\"나무를 %d번 찍었습니다.\" % treehit)\n",
        "    if treehit == 10:\n",
        "        print(\"나무 넘어갑니다\")"
      ],
      "execution_count": null,
      "outputs": [
        {
          "output_type": "stream",
          "text": [
            "나무를 1번 찍었습니다.\n",
            "나무를 2번 찍었습니다.\n",
            "나무를 3번 찍었습니다.\n",
            "나무를 4번 찍었습니다.\n",
            "나무를 5번 찍었습니다.\n",
            "나무를 6번 찍었습니다.\n",
            "나무를 7번 찍었습니다.\n",
            "나무를 8번 찍었습니다.\n",
            "나무를 9번 찍었습니다.\n",
            "나무를 10번 찍었습니다.\n",
            "나무 넘어갑니다\n"
          ],
          "name": "stdout"
        }
      ]
    },
    {
      "cell_type": "code",
      "metadata": {
        "id": "Dc_kAsu2Gl8F",
        "colab_type": "code",
        "colab": {},
        "outputId": "f0e5f434-3ad7-4aaa-f1a1-3313e4d33d91"
      },
      "source": [
        "#format 사용법\n",
        "a = \"아경\"\n",
        "print(\"{} 청년 아카데미\". format(a))"
      ],
      "execution_count": null,
      "outputs": [
        {
          "output_type": "stream",
          "text": [
            "아경 청년 아카데미\n"
          ],
          "name": "stdout"
        }
      ]
    },
    {
      "cell_type": "code",
      "metadata": {
        "id": "UEcTPuU9Gl8H",
        "colab_type": "code",
        "colab": {},
        "outputId": "c5d4fe63-bed1-4085-bfc0-1cddc903d487"
      },
      "source": [
        "#%d - 숫자, %s - 문자\n",
        "a=\"청년\"\n",
        "print(\"아경 %s 아카데미\" %a)"
      ],
      "execution_count": null,
      "outputs": [
        {
          "output_type": "stream",
          "text": [
            "아경 청년 아카데미\n"
          ],
          "name": "stdout"
        }
      ]
    },
    {
      "cell_type": "code",
      "metadata": {
        "id": "zzqQSZM_Gl8M",
        "colab_type": "code",
        "colab": {},
        "outputId": "059d2200-ec44-41d2-ac15-c9224f3c433b"
      },
      "source": [
        "#중복사용 %s\n",
        "a=\"청년\"\n",
        "b=\"데미\"\n",
        "print(\"아경 %s 아카%s\"%(a,b))"
      ],
      "execution_count": null,
      "outputs": [
        {
          "output_type": "stream",
          "text": [
            "아경 청년 아카데미\n"
          ],
          "name": "stdout"
        }
      ]
    },
    {
      "cell_type": "code",
      "metadata": {
        "id": "KDX2sip-Gl8P",
        "colab_type": "code",
        "colab": {}
      },
      "source": [
        ""
      ],
      "execution_count": null,
      "outputs": []
    }
  ]
}