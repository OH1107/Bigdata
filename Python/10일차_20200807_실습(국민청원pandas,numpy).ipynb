{
 "cells": [
  {
   "cell_type": "markdown",
   "metadata": {},
   "source": [
    "# (실습) pandas로 국민청원 데이터 분석하기"
   ]
  },
  {
   "cell_type": "code",
   "execution_count": 1,
   "metadata": {},
   "outputs": [],
   "source": [
    "import pandas as pd\n",
    "import numpy as np"
   ]
  },
  {
   "cell_type": "markdown",
   "metadata": {},
   "source": [
    "### CSV 데이터를 불러오기\n",
    "##### petition.csv 국민청원 데이터셋 다운로드\n",
    "##### pandas 읽기"
   ]
  },
  {
   "cell_type": "code",
   "execution_count": 2,
   "metadata": {},
   "outputs": [],
   "source": [
    "# parse_dates 문구를 삽입하면 데이터를 시간으로 수집\n",
    "# {:.5f} 부동소수점의 소수점 아래 5자리까지 표시\n",
    "df = pd.read_csv(\"c://Ohhhhh/petitiondata/petition.csv\", parse_dates=['start','end'])"
   ]
  },
  {
   "cell_type": "code",
   "execution_count": 3,
   "metadata": {},
   "outputs": [],
   "source": [
    "# 판다스 확인할 때 지수 표현식을 실수표현으로 바꾸기\n",
    "\n",
    "pd.options.display.float_format='{:.2f}'.format"
   ]
  },
  {
   "cell_type": "code",
   "execution_count": 4,
   "metadata": {},
   "outputs": [
    {
     "name": "stdout",
     "output_type": "stream",
     "text": [
      "<class 'pandas.core.frame.DataFrame'>\n",
      "RangeIndex: 395547 entries, 0 to 395546\n",
      "Data columns (total 8 columns):\n",
      " #   Column      Non-Null Count   Dtype         \n",
      "---  ------      --------------   -----         \n",
      " 0   article_id  395547 non-null  int64         \n",
      " 1   start       395547 non-null  datetime64[ns]\n",
      " 2   end         395547 non-null  datetime64[ns]\n",
      " 3   answered    395547 non-null  int64         \n",
      " 4   votes       395547 non-null  int64         \n",
      " 5   category    395547 non-null  object        \n",
      " 6   title       395547 non-null  object        \n",
      " 7   content     395546 non-null  object        \n",
      "dtypes: datetime64[ns](2), int64(3), object(3)\n",
      "memory usage: 24.1+ MB\n"
     ]
    }
   ],
   "source": [
    "df.info()"
   ]
  },
  {
   "cell_type": "code",
   "execution_count": 5,
   "metadata": {},
   "outputs": [
    {
     "data": {
      "text/plain": [
       "(395547, 8)"
      ]
     },
     "execution_count": 5,
     "metadata": {},
     "output_type": "execute_result"
    }
   ],
   "source": [
    "df.shape"
   ]
  },
  {
   "cell_type": "code",
   "execution_count": 6,
   "metadata": {},
   "outputs": [
    {
     "data": {
      "text/plain": [
       "Index(['article_id', 'start', 'end', 'answered', 'votes', 'category', 'title',\n",
       "       'content'],\n",
       "      dtype='object')"
      ]
     },
     "execution_count": 6,
     "metadata": {},
     "output_type": "execute_result"
    }
   ],
   "source": [
    "df.columns"
   ]
  },
  {
   "cell_type": "code",
   "execution_count": 7,
   "metadata": {},
   "outputs": [
    {
     "data": {
      "text/plain": [
       "article_id             int64\n",
       "start         datetime64[ns]\n",
       "end           datetime64[ns]\n",
       "answered               int64\n",
       "votes                  int64\n",
       "category              object\n",
       "title                 object\n",
       "content               object\n",
       "dtype: object"
      ]
     },
     "execution_count": 7,
     "metadata": {},
     "output_type": "execute_result"
    }
   ],
   "source": [
    "df.dtypes"
   ]
  },
  {
   "cell_type": "code",
   "execution_count": 8,
   "metadata": {},
   "outputs": [
    {
     "data": {
      "text/html": [
       "<div>\n",
       "<style scoped>\n",
       "    .dataframe tbody tr th:only-of-type {\n",
       "        vertical-align: middle;\n",
       "    }\n",
       "\n",
       "    .dataframe tbody tr th {\n",
       "        vertical-align: top;\n",
       "    }\n",
       "\n",
       "    .dataframe thead th {\n",
       "        text-align: right;\n",
       "    }\n",
       "</style>\n",
       "<table border=\"1\" class=\"dataframe\">\n",
       "  <thead>\n",
       "    <tr style=\"text-align: right;\">\n",
       "      <th></th>\n",
       "      <th>article_id</th>\n",
       "      <th>start</th>\n",
       "      <th>end</th>\n",
       "      <th>answered</th>\n",
       "      <th>votes</th>\n",
       "      <th>category</th>\n",
       "      <th>title</th>\n",
       "      <th>content</th>\n",
       "    </tr>\n",
       "  </thead>\n",
       "  <tbody>\n",
       "    <tr>\n",
       "      <th>0</th>\n",
       "      <td>21</td>\n",
       "      <td>2017-08-19</td>\n",
       "      <td>2017-11-17</td>\n",
       "      <td>0</td>\n",
       "      <td>9</td>\n",
       "      <td>안전/환경</td>\n",
       "      <td>스텔라 데이지호에 대한 제안입니다.</td>\n",
       "      <td>스텔라 데이지호에 대한 제안입니다.\\n3월31일 스텔라 데이지호가 침몰하고 5달째가...</td>\n",
       "    </tr>\n",
       "    <tr>\n",
       "      <th>1</th>\n",
       "      <td>22</td>\n",
       "      <td>2017-08-19</td>\n",
       "      <td>2017-11-17</td>\n",
       "      <td>0</td>\n",
       "      <td>17</td>\n",
       "      <td>기타</td>\n",
       "      <td>비리제보처를 만들어주세요.</td>\n",
       "      <td>현 정부에 국민들이 가장 원하는 것은 부패척결입니다.  우리 사회에 각종 비리들이 ...</td>\n",
       "    </tr>\n",
       "    <tr>\n",
       "      <th>2</th>\n",
       "      <td>23</td>\n",
       "      <td>2017-08-19</td>\n",
       "      <td>2017-09-03</td>\n",
       "      <td>0</td>\n",
       "      <td>0</td>\n",
       "      <td>미래</td>\n",
       "      <td>제2의 개성공단</td>\n",
       "      <td>만일 하시는 대통령님 및 각 부처 장관님,주무관님들 안녕하세요!!\\n전남 목포에서 ...</td>\n",
       "    </tr>\n",
       "    <tr>\n",
       "      <th>3</th>\n",
       "      <td>24</td>\n",
       "      <td>2017-08-19</td>\n",
       "      <td>2017-08-26</td>\n",
       "      <td>0</td>\n",
       "      <td>53</td>\n",
       "      <td>일자리</td>\n",
       "      <td>공공기관 무조건적인 정규직전환을 반대합니다.</td>\n",
       "      <td>현정부에서 정규직 일자리를 늘리는 것에 찬성합니다. 그런데 공공기관 비정규직들은 인...</td>\n",
       "    </tr>\n",
       "    <tr>\n",
       "      <th>4</th>\n",
       "      <td>25</td>\n",
       "      <td>2017-08-19</td>\n",
       "      <td>2017-09-03</td>\n",
       "      <td>0</td>\n",
       "      <td>0</td>\n",
       "      <td>미래</td>\n",
       "      <td>제2의 개성공단</td>\n",
       "      <td>만일 하시는 대통령님 및 각 부처 장관님,주무관님들 안녕하세요!!\\n전남 목포에서 ...</td>\n",
       "    </tr>\n",
       "  </tbody>\n",
       "</table>\n",
       "</div>"
      ],
      "text/plain": [
       "   article_id      start        end  answered  votes category  \\\n",
       "0          21 2017-08-19 2017-11-17         0      9    안전/환경   \n",
       "1          22 2017-08-19 2017-11-17         0     17       기타   \n",
       "2          23 2017-08-19 2017-09-03         0      0       미래   \n",
       "3          24 2017-08-19 2017-08-26         0     53      일자리   \n",
       "4          25 2017-08-19 2017-09-03         0      0       미래   \n",
       "\n",
       "                      title                                            content  \n",
       "0       스텔라 데이지호에 대한 제안입니다.  스텔라 데이지호에 대한 제안입니다.\\n3월31일 스텔라 데이지호가 침몰하고 5달째가...  \n",
       "1            비리제보처를 만들어주세요.  현 정부에 국민들이 가장 원하는 것은 부패척결입니다.  우리 사회에 각종 비리들이 ...  \n",
       "2                  제2의 개성공단  만일 하시는 대통령님 및 각 부처 장관님,주무관님들 안녕하세요!!\\n전남 목포에서 ...  \n",
       "3  공공기관 무조건적인 정규직전환을 반대합니다.  현정부에서 정규직 일자리를 늘리는 것에 찬성합니다. 그런데 공공기관 비정규직들은 인...  \n",
       "4                  제2의 개성공단  만일 하시는 대통령님 및 각 부처 장관님,주무관님들 안녕하세요!!\\n전남 목포에서 ...  "
      ]
     },
     "execution_count": 8,
     "metadata": {},
     "output_type": "execute_result"
    }
   ],
   "source": [
    "df.head()"
   ]
  },
  {
   "cell_type": "code",
   "execution_count": 9,
   "metadata": {},
   "outputs": [
    {
     "data": {
      "text/html": [
       "<div>\n",
       "<style scoped>\n",
       "    .dataframe tbody tr th:only-of-type {\n",
       "        vertical-align: middle;\n",
       "    }\n",
       "\n",
       "    .dataframe tbody tr th {\n",
       "        vertical-align: top;\n",
       "    }\n",
       "\n",
       "    .dataframe thead th {\n",
       "        text-align: right;\n",
       "    }\n",
       "</style>\n",
       "<table border=\"1\" class=\"dataframe\">\n",
       "  <thead>\n",
       "    <tr style=\"text-align: right;\">\n",
       "      <th></th>\n",
       "      <th>article_id</th>\n",
       "      <th>start</th>\n",
       "      <th>end</th>\n",
       "      <th>answered</th>\n",
       "      <th>votes</th>\n",
       "      <th>category</th>\n",
       "      <th>title</th>\n",
       "      <th>content</th>\n",
       "    </tr>\n",
       "  </thead>\n",
       "  <tbody>\n",
       "    <tr>\n",
       "      <th>395542</th>\n",
       "      <td>517117</td>\n",
       "      <td>2019-02-04</td>\n",
       "      <td>2019-03-06</td>\n",
       "      <td>0</td>\n",
       "      <td>3</td>\n",
       "      <td>보건복지</td>\n",
       "      <td>명절연휴 고속도로 무료반대</td>\n",
       "      <td>명절고속도로 무료보단 대다수의 서민들이 이용하는 대중교통 무료와 명절기간 증차로 했...</td>\n",
       "    </tr>\n",
       "    <tr>\n",
       "      <th>395543</th>\n",
       "      <td>517119</td>\n",
       "      <td>2019-02-04</td>\n",
       "      <td>2019-03-06</td>\n",
       "      <td>0</td>\n",
       "      <td>23</td>\n",
       "      <td>보건복지</td>\n",
       "      <td>광주사태 가짜 유공자들 정수기로 걸려내야함</td>\n",
       "      <td>광주사태 유공자들 차고 넘치는데 이래 많은 유공자들 그냥놓아두면 재앙이다.\\n김대중...</td>\n",
       "    </tr>\n",
       "    <tr>\n",
       "      <th>395544</th>\n",
       "      <td>517120</td>\n",
       "      <td>2019-02-04</td>\n",
       "      <td>2019-03-06</td>\n",
       "      <td>0</td>\n",
       "      <td>0</td>\n",
       "      <td>안전/환경</td>\n",
       "      <td>환경문제</td>\n",
       "      <td>명절이면 후로 제일문제는 쓰레기 문제 입니다.\\n제일문제는 선물세트와 농산물세트 입...</td>\n",
       "    </tr>\n",
       "    <tr>\n",
       "      <th>395545</th>\n",
       "      <td>517121</td>\n",
       "      <td>2019-02-04</td>\n",
       "      <td>2019-03-06</td>\n",
       "      <td>0</td>\n",
       "      <td>20</td>\n",
       "      <td>정치개혁</td>\n",
       "      <td>청화대,더불어민주당, 당장 답하라,,,,,,</td>\n",
       "      <td>좌파 더불어민주당, 좌파 정권 청화대는 선한 국민들을 더는 기망하지 말고 담장 답하...</td>\n",
       "    </tr>\n",
       "    <tr>\n",
       "      <th>395546</th>\n",
       "      <td>517122</td>\n",
       "      <td>2019-02-04</td>\n",
       "      <td>2019-03-06</td>\n",
       "      <td>0</td>\n",
       "      <td>16</td>\n",
       "      <td>인권/성평등</td>\n",
       "      <td>여성부 폐지</td>\n",
       "      <td>국민들이 원합니다\\n폐지 좀 시키세요;</td>\n",
       "    </tr>\n",
       "  </tbody>\n",
       "</table>\n",
       "</div>"
      ],
      "text/plain": [
       "        article_id      start        end  answered  votes category  \\\n",
       "395542      517117 2019-02-04 2019-03-06         0      3     보건복지   \n",
       "395543      517119 2019-02-04 2019-03-06         0     23     보건복지   \n",
       "395544      517120 2019-02-04 2019-03-06         0      0    안전/환경   \n",
       "395545      517121 2019-02-04 2019-03-06         0     20     정치개혁   \n",
       "395546      517122 2019-02-04 2019-03-06         0     16   인권/성평등   \n",
       "\n",
       "                           title  \\\n",
       "395542            명절연휴 고속도로 무료반대   \n",
       "395543   광주사태 가짜 유공자들 정수기로 걸려내야함   \n",
       "395544                      환경문제   \n",
       "395545  청화대,더불어민주당, 당장 답하라,,,,,,   \n",
       "395546                    여성부 폐지   \n",
       "\n",
       "                                                  content  \n",
       "395542  명절고속도로 무료보단 대다수의 서민들이 이용하는 대중교통 무료와 명절기간 증차로 했...  \n",
       "395543  광주사태 유공자들 차고 넘치는데 이래 많은 유공자들 그냥놓아두면 재앙이다.\\n김대중...  \n",
       "395544  명절이면 후로 제일문제는 쓰레기 문제 입니다.\\n제일문제는 선물세트와 농산물세트 입...  \n",
       "395545  좌파 더불어민주당, 좌파 정권 청화대는 선한 국민들을 더는 기망하지 말고 담장 답하...  \n",
       "395546                              국민들이 원합니다\\n폐지 좀 시키세요;  "
      ]
     },
     "execution_count": 9,
     "metadata": {},
     "output_type": "execute_result"
    }
   ],
   "source": [
    "df.tail()"
   ]
  },
  {
   "cell_type": "code",
   "execution_count": 10,
   "metadata": {},
   "outputs": [
    {
     "data": {
      "text/plain": [
       "article_id    0\n",
       "start         0\n",
       "end           0\n",
       "answered      0\n",
       "votes         0\n",
       "category      0\n",
       "title         0\n",
       "content       1\n",
       "dtype: int64"
      ]
     },
     "execution_count": 10,
     "metadata": {},
     "output_type": "execute_result"
    }
   ],
   "source": [
    "df.isnull().sum()"
   ]
  },
  {
   "cell_type": "code",
   "execution_count": 11,
   "metadata": {},
   "outputs": [
    {
     "data": {
      "text/html": [
       "<div>\n",
       "<style scoped>\n",
       "    .dataframe tbody tr th:only-of-type {\n",
       "        vertical-align: middle;\n",
       "    }\n",
       "\n",
       "    .dataframe tbody tr th {\n",
       "        vertical-align: top;\n",
       "    }\n",
       "\n",
       "    .dataframe thead th {\n",
       "        text-align: right;\n",
       "    }\n",
       "</style>\n",
       "<table border=\"1\" class=\"dataframe\">\n",
       "  <thead>\n",
       "    <tr style=\"text-align: right;\">\n",
       "      <th></th>\n",
       "      <th>article_id</th>\n",
       "      <th>answered</th>\n",
       "      <th>votes</th>\n",
       "    </tr>\n",
       "  </thead>\n",
       "  <tbody>\n",
       "    <tr>\n",
       "      <th>count</th>\n",
       "      <td>395547.00</td>\n",
       "      <td>395547.00</td>\n",
       "      <td>395547.00</td>\n",
       "    </tr>\n",
       "    <tr>\n",
       "      <th>mean</th>\n",
       "      <td>251608.93</td>\n",
       "      <td>0.00</td>\n",
       "      <td>150.12</td>\n",
       "    </tr>\n",
       "    <tr>\n",
       "      <th>std</th>\n",
       "      <td>153219.22</td>\n",
       "      <td>0.01</td>\n",
       "      <td>4802.58</td>\n",
       "    </tr>\n",
       "    <tr>\n",
       "      <th>min</th>\n",
       "      <td>21.00</td>\n",
       "      <td>0.00</td>\n",
       "      <td>0.00</td>\n",
       "    </tr>\n",
       "    <tr>\n",
       "      <th>25%</th>\n",
       "      <td>115236.50</td>\n",
       "      <td>0.00</td>\n",
       "      <td>2.00</td>\n",
       "    </tr>\n",
       "    <tr>\n",
       "      <th>50%</th>\n",
       "      <td>253682.00</td>\n",
       "      <td>0.00</td>\n",
       "      <td>5.00</td>\n",
       "    </tr>\n",
       "    <tr>\n",
       "      <th>75%</th>\n",
       "      <td>386137.50</td>\n",
       "      <td>0.00</td>\n",
       "      <td>15.00</td>\n",
       "    </tr>\n",
       "    <tr>\n",
       "      <th>max</th>\n",
       "      <td>517122.00</td>\n",
       "      <td>1.00</td>\n",
       "      <td>1192049.00</td>\n",
       "    </tr>\n",
       "  </tbody>\n",
       "</table>\n",
       "</div>"
      ],
      "text/plain": [
       "       article_id  answered      votes\n",
       "count   395547.00 395547.00  395547.00\n",
       "mean    251608.93      0.00     150.12\n",
       "std     153219.22      0.01    4802.58\n",
       "min         21.00      0.00       0.00\n",
       "25%     115236.50      0.00       2.00\n",
       "50%     253682.00      0.00       5.00\n",
       "75%     386137.50      0.00      15.00\n",
       "max     517122.00      1.00 1192049.00"
      ]
     },
     "execution_count": 11,
     "metadata": {},
     "output_type": "execute_result"
    }
   ],
   "source": [
    "df.describe()"
   ]
  },
  {
   "cell_type": "markdown",
   "metadata": {},
   "source": [
    "# 오브젝트형 데이터 요약 보는 방법"
   ]
  },
  {
   "cell_type": "code",
   "execution_count": 12,
   "metadata": {},
   "outputs": [
    {
     "data": {
      "text/html": [
       "<div>\n",
       "<style scoped>\n",
       "    .dataframe tbody tr th:only-of-type {\n",
       "        vertical-align: middle;\n",
       "    }\n",
       "\n",
       "    .dataframe tbody tr th {\n",
       "        vertical-align: top;\n",
       "    }\n",
       "\n",
       "    .dataframe thead th {\n",
       "        text-align: right;\n",
       "    }\n",
       "</style>\n",
       "<table border=\"1\" class=\"dataframe\">\n",
       "  <thead>\n",
       "    <tr style=\"text-align: right;\">\n",
       "      <th></th>\n",
       "      <th>category</th>\n",
       "      <th>title</th>\n",
       "      <th>content</th>\n",
       "    </tr>\n",
       "  </thead>\n",
       "  <tbody>\n",
       "    <tr>\n",
       "      <th>count</th>\n",
       "      <td>395547</td>\n",
       "      <td>395547</td>\n",
       "      <td>395546</td>\n",
       "    </tr>\n",
       "    <tr>\n",
       "      <th>unique</th>\n",
       "      <td>17</td>\n",
       "      <td>346524</td>\n",
       "      <td>375224</td>\n",
       "    </tr>\n",
       "    <tr>\n",
       "      <th>top</th>\n",
       "      <td>정치개혁</td>\n",
       "      <td>이명박 출국금지</td>\n",
       "      <td>이명박 출국금지</td>\n",
       "    </tr>\n",
       "    <tr>\n",
       "      <th>freq</th>\n",
       "      <td>62750</td>\n",
       "      <td>3018</td>\n",
       "      <td>597</td>\n",
       "    </tr>\n",
       "  </tbody>\n",
       "</table>\n",
       "</div>"
      ],
      "text/plain": [
       "       category     title   content\n",
       "count    395547    395547    395546\n",
       "unique       17    346524    375224\n",
       "top        정치개혁  이명박 출국금지  이명박 출국금지\n",
       "freq      62750      3018       597"
      ]
     },
     "execution_count": 12,
     "metadata": {},
     "output_type": "execute_result"
    }
   ],
   "source": [
    "df.describe(include=np.object)"
   ]
  },
  {
   "cell_type": "markdown",
   "metadata": {},
   "source": [
    "# 답변대상 청원 보기\n",
    "\n",
    "### 20만건 이상 투표를 받으면 답변 대상 청원이 됩니다.\n",
    "\n",
    "### 20만건 이상 청원 받은내용으로 데이터 프레임 만들기 -> df_20\n",
    "\n",
    "### 20만건 이상 투표를 받은 청원의 갯수를 세어보세요."
   ]
  },
  {
   "cell_type": "code",
   "execution_count": 13,
   "metadata": {},
   "outputs": [],
   "source": [
    "df_20 = df[df['votes'] >= 200000]"
   ]
  },
  {
   "cell_type": "code",
   "execution_count": 14,
   "metadata": {},
   "outputs": [
    {
     "data": {
      "text/html": [
       "<div>\n",
       "<style scoped>\n",
       "    .dataframe tbody tr th:only-of-type {\n",
       "        vertical-align: middle;\n",
       "    }\n",
       "\n",
       "    .dataframe tbody tr th {\n",
       "        vertical-align: top;\n",
       "    }\n",
       "\n",
       "    .dataframe thead th {\n",
       "        text-align: right;\n",
       "    }\n",
       "</style>\n",
       "<table border=\"1\" class=\"dataframe\">\n",
       "  <thead>\n",
       "    <tr style=\"text-align: right;\">\n",
       "      <th></th>\n",
       "      <th>article_id</th>\n",
       "      <th>start</th>\n",
       "      <th>end</th>\n",
       "      <th>answered</th>\n",
       "      <th>votes</th>\n",
       "      <th>category</th>\n",
       "      <th>title</th>\n",
       "      <th>content</th>\n",
       "    </tr>\n",
       "  </thead>\n",
       "  <tbody>\n",
       "    <tr>\n",
       "      <th>1752</th>\n",
       "      <td>1785</td>\n",
       "      <td>2017-09-03</td>\n",
       "      <td>2017-11-02</td>\n",
       "      <td>1</td>\n",
       "      <td>296330</td>\n",
       "      <td>인권/성평등</td>\n",
       "      <td>청소년이란 이유로 보호법을 악용하는 잔인무도한 청소년들이 늘어나고있습니다. 반드시 ...</td>\n",
       "      <td>안녕하십니까. 청소년보호법이란 명목하에 나쁜짓을 일삼는 청소년들이 너무나 많아지고 ...</td>\n",
       "    </tr>\n",
       "    <tr>\n",
       "      <th>10894</th>\n",
       "      <td>10949</td>\n",
       "      <td>2017-09-06</td>\n",
       "      <td>2017-12-05</td>\n",
       "      <td>1</td>\n",
       "      <td>615354</td>\n",
       "      <td>미래</td>\n",
       "      <td>조두순 출소반대</td>\n",
       "      <td>제발 조두순 재심다시해서 무기징역으로 해야됩니다!!!</td>\n",
       "    </tr>\n",
       "    <tr>\n",
       "      <th>18111</th>\n",
       "      <td>18278</td>\n",
       "      <td>2017-09-30</td>\n",
       "      <td>2017-10-30</td>\n",
       "      <td>1</td>\n",
       "      <td>235372</td>\n",
       "      <td>인권/성평등</td>\n",
       "      <td>낙태죄 폐지와 자연유산 유도약(미프진) 합법화 및 도입을 부탁드립니다.</td>\n",
       "      <td>안녕하세요. 존경하는 대통령님 의원님\\n낙태죄 폐지를 청원합니다.\\n현재 대한민국은...</td>\n",
       "    </tr>\n",
       "    <tr>\n",
       "      <th>25032</th>\n",
       "      <td>26024</td>\n",
       "      <td>2017-11-04</td>\n",
       "      <td>2017-12-04</td>\n",
       "      <td>1</td>\n",
       "      <td>216774</td>\n",
       "      <td>안전/환경</td>\n",
       "      <td>'주취감형(술을 먹으면 형벌 감형)' 폐지를 건의(청원)합니다.</td>\n",
       "      <td>'주취감형'이란, 술을 먹고 범행을 저지를 때, 심신미약 (이성이 없고 우발적)이라...</td>\n",
       "    </tr>\n",
       "    <tr>\n",
       "      <th>43992</th>\n",
       "      <td>45581</td>\n",
       "      <td>2017-11-17</td>\n",
       "      <td>2017-12-17</td>\n",
       "      <td>1</td>\n",
       "      <td>281985</td>\n",
       "      <td>보건복지</td>\n",
       "      <td>권역외상센터 (이국종 교수님) 추가적, 제도적, 환경적, 인력 지원</td>\n",
       "      <td>청원사항)\\n중증외상분야의 추가적, 제도적, 환경적, 인력 지원 방안마련\\n현 의료...</td>\n",
       "    </tr>\n",
       "    <tr>\n",
       "      <th>...</th>\n",
       "      <td>...</td>\n",
       "      <td>...</td>\n",
       "      <td>...</td>\n",
       "      <td>...</td>\n",
       "      <td>...</td>\n",
       "      <td>...</td>\n",
       "      <td>...</td>\n",
       "      <td>...</td>\n",
       "    </tr>\n",
       "    <tr>\n",
       "      <th>363005</th>\n",
       "      <td>472309</td>\n",
       "      <td>2018-12-18</td>\n",
       "      <td>2019-01-17</td>\n",
       "      <td>0</td>\n",
       "      <td>269110</td>\n",
       "      <td>인권/성평등</td>\n",
       "      <td>조재범 코치를 강력처벌해주세요</td>\n",
       "      <td>그는 국가대표 심석희 외 다수의 여자선수들을 지속적으로 적어도 14년간 폭행해온 쓰...</td>\n",
       "    </tr>\n",
       "    <tr>\n",
       "      <th>375654</th>\n",
       "      <td>489302</td>\n",
       "      <td>2019-01-07</td>\n",
       "      <td>2019-02-06</td>\n",
       "      <td>0</td>\n",
       "      <td>302856</td>\n",
       "      <td>정치개혁</td>\n",
       "      <td>여.야는 속히 공수처 신설하라 !!!</td>\n",
       "      <td>지금 대한 민국은 나라를 바로 잡기 위해 반드시 이번 정부내에 검찰과 법원의 확실한...</td>\n",
       "    </tr>\n",
       "    <tr>\n",
       "      <th>390787</th>\n",
       "      <td>510422</td>\n",
       "      <td>2019-01-29</td>\n",
       "      <td>2019-02-28</td>\n",
       "      <td>0</td>\n",
       "      <td>312197</td>\n",
       "      <td>기타</td>\n",
       "      <td>경사 ***, 경장 *** 외 ***에서 뇌물받는지 조사부탁드립니다.</td>\n",
       "      <td>경사 ***, 경장 *** 등등 ***에서 뇌물받는지 조사부탁드립니다.\\nㅡㅡㅡㅡㅡ...</td>\n",
       "    </tr>\n",
       "    <tr>\n",
       "      <th>391208</th>\n",
       "      <td>511075</td>\n",
       "      <td>2019-01-29</td>\n",
       "      <td>2019-02-28</td>\n",
       "      <td>0</td>\n",
       "      <td>207784</td>\n",
       "      <td>인권/성평등</td>\n",
       "      <td>공공연한 여성 대상 약물 범죄 처벌과 ***을 비롯한 클럽, 유흥업소와 경찰 간의 ...</td>\n",
       "      <td>*** 사태의 핵심은 클럽&amp;유흥업소 운영 관리인들의 의도적 약물 사용이 의심되는 납...</td>\n",
       "    </tr>\n",
       "    <tr>\n",
       "      <th>391984</th>\n",
       "      <td>512112</td>\n",
       "      <td>2019-01-30</td>\n",
       "      <td>2019-03-01</td>\n",
       "      <td>0</td>\n",
       "      <td>270999</td>\n",
       "      <td>정치개혁</td>\n",
       "      <td>시민의 이름으로, 이번 김경수 지사 재판에 관련된 법원 판사 전원의 사퇴를 명령합니다.</td>\n",
       "      <td>촛불혁명으로 세운 정부와 달리, 사법부는 여전히 과거의 구습과 적폐적 습관을 버리지...</td>\n",
       "    </tr>\n",
       "  </tbody>\n",
       "</table>\n",
       "<p>80 rows × 8 columns</p>\n",
       "</div>"
      ],
      "text/plain": [
       "        article_id      start        end  answered   votes category  \\\n",
       "1752          1785 2017-09-03 2017-11-02         1  296330   인권/성평등   \n",
       "10894        10949 2017-09-06 2017-12-05         1  615354       미래   \n",
       "18111        18278 2017-09-30 2017-10-30         1  235372   인권/성평등   \n",
       "25032        26024 2017-11-04 2017-12-04         1  216774    안전/환경   \n",
       "43992        45581 2017-11-17 2017-12-17         1  281985     보건복지   \n",
       "...            ...        ...        ...       ...     ...      ...   \n",
       "363005      472309 2018-12-18 2019-01-17         0  269110   인권/성평등   \n",
       "375654      489302 2019-01-07 2019-02-06         0  302856     정치개혁   \n",
       "390787      510422 2019-01-29 2019-02-28         0  312197       기타   \n",
       "391208      511075 2019-01-29 2019-02-28         0  207784   인권/성평등   \n",
       "391984      512112 2019-01-30 2019-03-01         0  270999     정치개혁   \n",
       "\n",
       "                                                    title  \\\n",
       "1752    청소년이란 이유로 보호법을 악용하는 잔인무도한 청소년들이 늘어나고있습니다. 반드시 ...   \n",
       "10894                                            조두순 출소반대   \n",
       "18111             낙태죄 폐지와 자연유산 유도약(미프진) 합법화 및 도입을 부탁드립니다.   \n",
       "25032                 '주취감형(술을 먹으면 형벌 감형)' 폐지를 건의(청원)합니다.   \n",
       "43992               권역외상센터 (이국종 교수님) 추가적, 제도적, 환경적, 인력 지원   \n",
       "...                                                   ...   \n",
       "363005                                   조재범 코치를 강력처벌해주세요   \n",
       "375654                               여.야는 속히 공수처 신설하라 !!!   \n",
       "390787             경사 ***, 경장 *** 외 ***에서 뇌물받는지 조사부탁드립니다.   \n",
       "391208  공공연한 여성 대상 약물 범죄 처벌과 ***을 비롯한 클럽, 유흥업소와 경찰 간의 ...   \n",
       "391984   시민의 이름으로, 이번 김경수 지사 재판에 관련된 법원 판사 전원의 사퇴를 명령합니다.   \n",
       "\n",
       "                                                  content  \n",
       "1752    안녕하십니까. 청소년보호법이란 명목하에 나쁜짓을 일삼는 청소년들이 너무나 많아지고 ...  \n",
       "10894                       제발 조두순 재심다시해서 무기징역으로 해야됩니다!!!  \n",
       "18111   안녕하세요. 존경하는 대통령님 의원님\\n낙태죄 폐지를 청원합니다.\\n현재 대한민국은...  \n",
       "25032   '주취감형'이란, 술을 먹고 범행을 저지를 때, 심신미약 (이성이 없고 우발적)이라...  \n",
       "43992   청원사항)\\n중증외상분야의 추가적, 제도적, 환경적, 인력 지원 방안마련\\n현 의료...  \n",
       "...                                                   ...  \n",
       "363005  그는 국가대표 심석희 외 다수의 여자선수들을 지속적으로 적어도 14년간 폭행해온 쓰...  \n",
       "375654  지금 대한 민국은 나라를 바로 잡기 위해 반드시 이번 정부내에 검찰과 법원의 확실한...  \n",
       "390787  경사 ***, 경장 *** 등등 ***에서 뇌물받는지 조사부탁드립니다.\\nㅡㅡㅡㅡㅡ...  \n",
       "391208  *** 사태의 핵심은 클럽&유흥업소 운영 관리인들의 의도적 약물 사용이 의심되는 납...  \n",
       "391984  촛불혁명으로 세운 정부와 달리, 사법부는 여전히 과거의 구습과 적폐적 습관을 버리지...  \n",
       "\n",
       "[80 rows x 8 columns]"
      ]
     },
     "execution_count": 14,
     "metadata": {},
     "output_type": "execute_result"
    }
   ],
   "source": [
    "df_20"
   ]
  },
  {
   "cell_type": "code",
   "execution_count": 15,
   "metadata": {},
   "outputs": [
    {
     "data": {
      "text/plain": [
       "인권/성평등         24\n",
       "안전/환경          10\n",
       "기타              8\n",
       "정치개혁            8\n",
       "문화/예술/체육/언론     7\n",
       "반려동물            4\n",
       "외교/통일/국방        4\n",
       "보건복지            3\n",
       "육아/교육           3\n",
       "교통/건축/국토        3\n",
       "성장동력            2\n",
       "경제민주화           2\n",
       "미래              1\n",
       "행정              1\n",
       "Name: category, dtype: int64"
      ]
     },
     "execution_count": 15,
     "metadata": {},
     "output_type": "execute_result"
    }
   ],
   "source": [
    "# 카테고리별로 데이터수 확인하기\n",
    "\n",
    "#df_20['category'].value_counts() 도 가틍\n",
    "df_20.category.value_counts()"
   ]
  },
  {
   "cell_type": "code",
   "execution_count": 16,
   "metadata": {},
   "outputs": [
    {
     "data": {
      "text/plain": [
       "인권/성평등         24\n",
       "안전/환경          10\n",
       "기타              8\n",
       "정치개혁            8\n",
       "문화/예술/체육/언론     7\n",
       "반려동물            4\n",
       "외교/통일/국방        4\n",
       "보건복지            3\n",
       "육아/교육           3\n",
       "교통/건축/국토        3\n",
       "성장동력            2\n",
       "경제민주화           2\n",
       "미래              1\n",
       "행정              1\n",
       "Name: category, dtype: int64"
      ]
     },
     "execution_count": 16,
     "metadata": {},
     "output_type": "execute_result"
    }
   ],
   "source": [
    "df_20['category'].value_counts() "
   ]
  },
  {
   "cell_type": "code",
   "execution_count": 17,
   "metadata": {},
   "outputs": [
    {
     "data": {
      "text/html": [
       "<div>\n",
       "<style scoped>\n",
       "    .dataframe tbody tr th:only-of-type {\n",
       "        vertical-align: middle;\n",
       "    }\n",
       "\n",
       "    .dataframe tbody tr th {\n",
       "        vertical-align: top;\n",
       "    }\n",
       "\n",
       "    .dataframe thead th {\n",
       "        text-align: right;\n",
       "    }\n",
       "</style>\n",
       "<table border=\"1\" class=\"dataframe\">\n",
       "  <thead>\n",
       "    <tr style=\"text-align: right;\">\n",
       "      <th></th>\n",
       "      <th>title</th>\n",
       "      <th>content</th>\n",
       "      <th>votes</th>\n",
       "    </tr>\n",
       "  </thead>\n",
       "  <tbody>\n",
       "    <tr>\n",
       "      <th>1752</th>\n",
       "      <td>청소년이란 이유로 보호법을 악용하는 잔인무도한 청소년들이 늘어나고있습니다. 반드시 ...</td>\n",
       "      <td>안녕하십니까. 청소년보호법이란 명목하에 나쁜짓을 일삼는 청소년들이 너무나 많아지고 ...</td>\n",
       "      <td>296330</td>\n",
       "    </tr>\n",
       "    <tr>\n",
       "      <th>10894</th>\n",
       "      <td>조두순 출소반대</td>\n",
       "      <td>제발 조두순 재심다시해서 무기징역으로 해야됩니다!!!</td>\n",
       "      <td>615354</td>\n",
       "    </tr>\n",
       "    <tr>\n",
       "      <th>18111</th>\n",
       "      <td>낙태죄 폐지와 자연유산 유도약(미프진) 합법화 및 도입을 부탁드립니다.</td>\n",
       "      <td>안녕하세요. 존경하는 대통령님 의원님\\n낙태죄 폐지를 청원합니다.\\n현재 대한민국은...</td>\n",
       "      <td>235372</td>\n",
       "    </tr>\n",
       "    <tr>\n",
       "      <th>25032</th>\n",
       "      <td>'주취감형(술을 먹으면 형벌 감형)' 폐지를 건의(청원)합니다.</td>\n",
       "      <td>'주취감형'이란, 술을 먹고 범행을 저지를 때, 심신미약 (이성이 없고 우발적)이라...</td>\n",
       "      <td>216774</td>\n",
       "    </tr>\n",
       "    <tr>\n",
       "      <th>43992</th>\n",
       "      <td>권역외상센터 (이국종 교수님) 추가적, 제도적, 환경적, 인력 지원</td>\n",
       "      <td>청원사항)\\n중증외상분야의 추가적, 제도적, 환경적, 인력 지원 방안마련\\n현 의료...</td>\n",
       "      <td>281985</td>\n",
       "    </tr>\n",
       "    <tr>\n",
       "      <th>...</th>\n",
       "      <td>...</td>\n",
       "      <td>...</td>\n",
       "      <td>...</td>\n",
       "    </tr>\n",
       "    <tr>\n",
       "      <th>363005</th>\n",
       "      <td>조재범 코치를 강력처벌해주세요</td>\n",
       "      <td>그는 국가대표 심석희 외 다수의 여자선수들을 지속적으로 적어도 14년간 폭행해온 쓰...</td>\n",
       "      <td>269110</td>\n",
       "    </tr>\n",
       "    <tr>\n",
       "      <th>375654</th>\n",
       "      <td>여.야는 속히 공수처 신설하라 !!!</td>\n",
       "      <td>지금 대한 민국은 나라를 바로 잡기 위해 반드시 이번 정부내에 검찰과 법원의 확실한...</td>\n",
       "      <td>302856</td>\n",
       "    </tr>\n",
       "    <tr>\n",
       "      <th>390787</th>\n",
       "      <td>경사 ***, 경장 *** 외 ***에서 뇌물받는지 조사부탁드립니다.</td>\n",
       "      <td>경사 ***, 경장 *** 등등 ***에서 뇌물받는지 조사부탁드립니다.\\nㅡㅡㅡㅡㅡ...</td>\n",
       "      <td>312197</td>\n",
       "    </tr>\n",
       "    <tr>\n",
       "      <th>391208</th>\n",
       "      <td>공공연한 여성 대상 약물 범죄 처벌과 ***을 비롯한 클럽, 유흥업소와 경찰 간의 ...</td>\n",
       "      <td>*** 사태의 핵심은 클럽&amp;유흥업소 운영 관리인들의 의도적 약물 사용이 의심되는 납...</td>\n",
       "      <td>207784</td>\n",
       "    </tr>\n",
       "    <tr>\n",
       "      <th>391984</th>\n",
       "      <td>시민의 이름으로, 이번 김경수 지사 재판에 관련된 법원 판사 전원의 사퇴를 명령합니다.</td>\n",
       "      <td>촛불혁명으로 세운 정부와 달리, 사법부는 여전히 과거의 구습과 적폐적 습관을 버리지...</td>\n",
       "      <td>270999</td>\n",
       "    </tr>\n",
       "  </tbody>\n",
       "</table>\n",
       "<p>80 rows × 3 columns</p>\n",
       "</div>"
      ],
      "text/plain": [
       "                                                    title  \\\n",
       "1752    청소년이란 이유로 보호법을 악용하는 잔인무도한 청소년들이 늘어나고있습니다. 반드시 ...   \n",
       "10894                                            조두순 출소반대   \n",
       "18111             낙태죄 폐지와 자연유산 유도약(미프진) 합법화 및 도입을 부탁드립니다.   \n",
       "25032                 '주취감형(술을 먹으면 형벌 감형)' 폐지를 건의(청원)합니다.   \n",
       "43992               권역외상센터 (이국종 교수님) 추가적, 제도적, 환경적, 인력 지원   \n",
       "...                                                   ...   \n",
       "363005                                   조재범 코치를 강력처벌해주세요   \n",
       "375654                               여.야는 속히 공수처 신설하라 !!!   \n",
       "390787             경사 ***, 경장 *** 외 ***에서 뇌물받는지 조사부탁드립니다.   \n",
       "391208  공공연한 여성 대상 약물 범죄 처벌과 ***을 비롯한 클럽, 유흥업소와 경찰 간의 ...   \n",
       "391984   시민의 이름으로, 이번 김경수 지사 재판에 관련된 법원 판사 전원의 사퇴를 명령합니다.   \n",
       "\n",
       "                                                  content   votes  \n",
       "1752    안녕하십니까. 청소년보호법이란 명목하에 나쁜짓을 일삼는 청소년들이 너무나 많아지고 ...  296330  \n",
       "10894                       제발 조두순 재심다시해서 무기징역으로 해야됩니다!!!  615354  \n",
       "18111   안녕하세요. 존경하는 대통령님 의원님\\n낙태죄 폐지를 청원합니다.\\n현재 대한민국은...  235372  \n",
       "25032   '주취감형'이란, 술을 먹고 범행을 저지를 때, 심신미약 (이성이 없고 우발적)이라...  216774  \n",
       "43992   청원사항)\\n중증외상분야의 추가적, 제도적, 환경적, 인력 지원 방안마련\\n현 의료...  281985  \n",
       "...                                                   ...     ...  \n",
       "363005  그는 국가대표 심석희 외 다수의 여자선수들을 지속적으로 적어도 14년간 폭행해온 쓰...  269110  \n",
       "375654  지금 대한 민국은 나라를 바로 잡기 위해 반드시 이번 정부내에 검찰과 법원의 확실한...  302856  \n",
       "390787  경사 ***, 경장 *** 등등 ***에서 뇌물받는지 조사부탁드립니다.\\nㅡㅡㅡㅡㅡ...  312197  \n",
       "391208  *** 사태의 핵심은 클럽&유흥업소 운영 관리인들의 의도적 약물 사용이 의심되는 납...  207784  \n",
       "391984  촛불혁명으로 세운 정부와 달리, 사법부는 여전히 과거의 구습과 적폐적 습관을 버리지...  270999  \n",
       "\n",
       "[80 rows x 3 columns]"
      ]
     },
     "execution_count": 17,
     "metadata": {},
     "output_type": "execute_result"
    }
   ],
   "source": [
    "df_20_1=df_20[['title','content','votes']]\n",
    "df_20_1"
   ]
  },
  {
   "cell_type": "markdown",
   "metadata": {},
   "source": [
    "- 투표수가 많은 상위 5개 보기"
   ]
  },
  {
   "cell_type": "code",
   "execution_count": 37,
   "metadata": {},
   "outputs": [
    {
     "data": {
      "text/html": [
       "<div>\n",
       "<style scoped>\n",
       "    .dataframe tbody tr th:only-of-type {\n",
       "        vertical-align: middle;\n",
       "    }\n",
       "\n",
       "    .dataframe tbody tr th {\n",
       "        vertical-align: top;\n",
       "    }\n",
       "\n",
       "    .dataframe thead th {\n",
       "        text-align: right;\n",
       "    }\n",
       "</style>\n",
       "<table border=\"1\" class=\"dataframe\">\n",
       "  <thead>\n",
       "    <tr style=\"text-align: right;\">\n",
       "      <th></th>\n",
       "      <th>article_id</th>\n",
       "      <th>start</th>\n",
       "      <th>end</th>\n",
       "      <th>answered</th>\n",
       "      <th>votes</th>\n",
       "      <th>category</th>\n",
       "      <th>title</th>\n",
       "      <th>content</th>\n",
       "    </tr>\n",
       "  </thead>\n",
       "  <tbody>\n",
       "    <tr>\n",
       "      <th>313314</th>\n",
       "      <td>408609</td>\n",
       "      <td>2018-10-17</td>\n",
       "      <td>2018-11-16</td>\n",
       "      <td>0</td>\n",
       "      <td>1192049</td>\n",
       "      <td>안전/환경</td>\n",
       "      <td>강서구 피시방 살인 사건. 또 심신미약 피의자입니다.</td>\n",
       "      <td>2018년 10월 14일 엊그제 일어난 강서구 피시방 살인사건에 대한 청원입니다.\\...</td>\n",
       "    </tr>\n",
       "    <tr>\n",
       "      <th>208597</th>\n",
       "      <td>269548</td>\n",
       "      <td>2018-06-13</td>\n",
       "      <td>2018-07-13</td>\n",
       "      <td>0</td>\n",
       "      <td>714875</td>\n",
       "      <td>외교/통일/국방</td>\n",
       "      <td>제주도 불법 난민 신청 문제에 따른 난민법, 무사증 입국, 난민신청허가 폐지/개헌 ...</td>\n",
       "      <td>2012년 난민법 제정으로 인해 외국인은 한달 무비자로 입국할 수 있으나 난민신청자...</td>\n",
       "    </tr>\n",
       "    <tr>\n",
       "      <th>10894</th>\n",
       "      <td>10949</td>\n",
       "      <td>2017-09-06</td>\n",
       "      <td>2017-12-05</td>\n",
       "      <td>1</td>\n",
       "      <td>615354</td>\n",
       "      <td>미래</td>\n",
       "      <td>조두순 출소반대</td>\n",
       "      <td>제발 조두순 재심다시해서 무기징역으로 해야됩니다!!!</td>\n",
       "    </tr>\n",
       "    <tr>\n",
       "      <th>118970</th>\n",
       "      <td>142600</td>\n",
       "      <td>2018-02-19</td>\n",
       "      <td>2018-03-21</td>\n",
       "      <td>1</td>\n",
       "      <td>614127</td>\n",
       "      <td>문화/예술/체육/언론</td>\n",
       "      <td>김보름, 박지우 선수의 자격박탈과 적폐 빙상연맹의 엄중 처벌을 청원합니다</td>\n",
       "      <td>오늘 여자 단체전 팀추월에서 김보름, 박지우 선수는 팀전인데도 불구하고 개인의 영달...</td>\n",
       "    </tr>\n",
       "    <tr>\n",
       "      <th>183791</th>\n",
       "      <td>230552</td>\n",
       "      <td>2018-05-11</td>\n",
       "      <td>2018-06-10</td>\n",
       "      <td>1</td>\n",
       "      <td>419006</td>\n",
       "      <td>인권/성평등</td>\n",
       "      <td>여성도 대한민국 국민입니다. 성별 관계없는 국가의 보호를 요청합니다.</td>\n",
       "      <td>최근 홍대 누드크로키 모델의 불법촬영 사건이 있었습니다.\\n사건은 굉장히 빠르게 처...</td>\n",
       "    </tr>\n",
       "  </tbody>\n",
       "</table>\n",
       "</div>"
      ],
      "text/plain": [
       "        article_id      start        end  answered    votes     category  \\\n",
       "313314      408609 2018-10-17 2018-11-16         0  1192049        안전/환경   \n",
       "208597      269548 2018-06-13 2018-07-13         0   714875     외교/통일/국방   \n",
       "10894        10949 2017-09-06 2017-12-05         1   615354           미래   \n",
       "118970      142600 2018-02-19 2018-03-21         1   614127  문화/예술/체육/언론   \n",
       "183791      230552 2018-05-11 2018-06-10         1   419006       인권/성평등   \n",
       "\n",
       "                                                    title  \\\n",
       "313314                      강서구 피시방 살인 사건. 또 심신미약 피의자입니다.   \n",
       "208597  제주도 불법 난민 신청 문제에 따른 난민법, 무사증 입국, 난민신청허가 폐지/개헌 ...   \n",
       "10894                                            조두순 출소반대   \n",
       "118970           김보름, 박지우 선수의 자격박탈과 적폐 빙상연맹의 엄중 처벌을 청원합니다   \n",
       "183791             여성도 대한민국 국민입니다. 성별 관계없는 국가의 보호를 요청합니다.   \n",
       "\n",
       "                                                  content  \n",
       "313314  2018년 10월 14일 엊그제 일어난 강서구 피시방 살인사건에 대한 청원입니다.\\...  \n",
       "208597  2012년 난민법 제정으로 인해 외국인은 한달 무비자로 입국할 수 있으나 난민신청자...  \n",
       "10894                       제발 조두순 재심다시해서 무기징역으로 해야됩니다!!!  \n",
       "118970  오늘 여자 단체전 팀추월에서 김보름, 박지우 선수는 팀전인데도 불구하고 개인의 영달...  \n",
       "183791  최근 홍대 누드크로키 모델의 불법촬영 사건이 있었습니다.\\n사건은 굉장히 빠르게 처...  "
      ]
     },
     "execution_count": 37,
     "metadata": {},
     "output_type": "execute_result"
    }
   ],
   "source": [
    "df_20.sort_values('votes', ascending=False).head()"
   ]
  },
  {
   "cell_type": "markdown",
   "metadata": {},
   "source": [
    "- 20만건 이상 투표 받은 청원을 별도 컬럼을 만들어 줍니다. 컬럼 이름은 answer\n",
    "- True / False로"
   ]
  },
  {
   "cell_type": "code",
   "execution_count": 26,
   "metadata": {},
   "outputs": [
    {
     "name": "stdout",
     "output_type": "stream",
     "text": [
      "0    395467\n",
      "1        80\n",
      "Name: answer, dtype: int64\n",
      "0    395518\n",
      "1        29\n",
      "Name: answered, dtype: int64\n"
     ]
    }
   ],
   "source": [
    "df.loc[df[\"votes\"]>=200000, \"answer\"] = 1\n",
    "df.loc[df[\"votes\"]<200000, \"answer\"] = 0\n",
    "\n",
    "# df['answer'] = df['votes'] > 200000 도 가능\n",
    "\n",
    "print(df['answer'].value_counts())\n",
    "print(df['answered'].value_counts())"
   ]
  },
  {
   "cell_type": "markdown",
   "metadata": {},
   "source": [
    "- 새로 생성해 준 answer 컬럼 데이터 타입 변경\n",
    "- bool 타입을 int 타입으로"
   ]
  },
  {
   "cell_type": "code",
   "execution_count": 23,
   "metadata": {},
   "outputs": [
    {
     "data": {
      "text/plain": [
       "article_id             int64\n",
       "start         datetime64[ns]\n",
       "end           datetime64[ns]\n",
       "answered               int64\n",
       "votes                  int64\n",
       "category              object\n",
       "title                 object\n",
       "content               object\n",
       "answer                 int32\n",
       "dtype: object"
      ]
     },
     "execution_count": 23,
     "metadata": {},
     "output_type": "execute_result"
    }
   ],
   "source": [
    "df.astype({'answer':'int'}).dtypes"
   ]
  },
  {
   "cell_type": "code",
   "execution_count": 24,
   "metadata": {},
   "outputs": [
    {
     "data": {
      "text/html": [
       "<div>\n",
       "<style scoped>\n",
       "    .dataframe tbody tr th:only-of-type {\n",
       "        vertical-align: middle;\n",
       "    }\n",
       "\n",
       "    .dataframe tbody tr th {\n",
       "        vertical-align: top;\n",
       "    }\n",
       "\n",
       "    .dataframe thead th {\n",
       "        text-align: right;\n",
       "    }\n",
       "</style>\n",
       "<table border=\"1\" class=\"dataframe\">\n",
       "  <thead>\n",
       "    <tr style=\"text-align: right;\">\n",
       "      <th></th>\n",
       "      <th>article_id</th>\n",
       "      <th>start</th>\n",
       "      <th>end</th>\n",
       "      <th>answered</th>\n",
       "      <th>votes</th>\n",
       "      <th>category</th>\n",
       "      <th>title</th>\n",
       "      <th>content</th>\n",
       "      <th>answer</th>\n",
       "    </tr>\n",
       "  </thead>\n",
       "  <tbody>\n",
       "    <tr>\n",
       "      <th>0</th>\n",
       "      <td>21</td>\n",
       "      <td>2017-08-19</td>\n",
       "      <td>2017-11-17</td>\n",
       "      <td>0</td>\n",
       "      <td>9</td>\n",
       "      <td>안전/환경</td>\n",
       "      <td>스텔라 데이지호에 대한 제안입니다.</td>\n",
       "      <td>스텔라 데이지호에 대한 제안입니다.\\n3월31일 스텔라 데이지호가 침몰하고 5달째가...</td>\n",
       "      <td>0</td>\n",
       "    </tr>\n",
       "    <tr>\n",
       "      <th>1</th>\n",
       "      <td>22</td>\n",
       "      <td>2017-08-19</td>\n",
       "      <td>2017-11-17</td>\n",
       "      <td>0</td>\n",
       "      <td>17</td>\n",
       "      <td>기타</td>\n",
       "      <td>비리제보처를 만들어주세요.</td>\n",
       "      <td>현 정부에 국민들이 가장 원하는 것은 부패척결입니다.  우리 사회에 각종 비리들이 ...</td>\n",
       "      <td>0</td>\n",
       "    </tr>\n",
       "    <tr>\n",
       "      <th>2</th>\n",
       "      <td>23</td>\n",
       "      <td>2017-08-19</td>\n",
       "      <td>2017-09-03</td>\n",
       "      <td>0</td>\n",
       "      <td>0</td>\n",
       "      <td>미래</td>\n",
       "      <td>제2의 개성공단</td>\n",
       "      <td>만일 하시는 대통령님 및 각 부처 장관님,주무관님들 안녕하세요!!\\n전남 목포에서 ...</td>\n",
       "      <td>0</td>\n",
       "    </tr>\n",
       "    <tr>\n",
       "      <th>3</th>\n",
       "      <td>24</td>\n",
       "      <td>2017-08-19</td>\n",
       "      <td>2017-08-26</td>\n",
       "      <td>0</td>\n",
       "      <td>53</td>\n",
       "      <td>일자리</td>\n",
       "      <td>공공기관 무조건적인 정규직전환을 반대합니다.</td>\n",
       "      <td>현정부에서 정규직 일자리를 늘리는 것에 찬성합니다. 그런데 공공기관 비정규직들은 인...</td>\n",
       "      <td>0</td>\n",
       "    </tr>\n",
       "    <tr>\n",
       "      <th>4</th>\n",
       "      <td>25</td>\n",
       "      <td>2017-08-19</td>\n",
       "      <td>2017-09-03</td>\n",
       "      <td>0</td>\n",
       "      <td>0</td>\n",
       "      <td>미래</td>\n",
       "      <td>제2의 개성공단</td>\n",
       "      <td>만일 하시는 대통령님 및 각 부처 장관님,주무관님들 안녕하세요!!\\n전남 목포에서 ...</td>\n",
       "      <td>0</td>\n",
       "    </tr>\n",
       "    <tr>\n",
       "      <th>...</th>\n",
       "      <td>...</td>\n",
       "      <td>...</td>\n",
       "      <td>...</td>\n",
       "      <td>...</td>\n",
       "      <td>...</td>\n",
       "      <td>...</td>\n",
       "      <td>...</td>\n",
       "      <td>...</td>\n",
       "      <td>...</td>\n",
       "    </tr>\n",
       "    <tr>\n",
       "      <th>395542</th>\n",
       "      <td>517117</td>\n",
       "      <td>2019-02-04</td>\n",
       "      <td>2019-03-06</td>\n",
       "      <td>0</td>\n",
       "      <td>3</td>\n",
       "      <td>보건복지</td>\n",
       "      <td>명절연휴 고속도로 무료반대</td>\n",
       "      <td>명절고속도로 무료보단 대다수의 서민들이 이용하는 대중교통 무료와 명절기간 증차로 했...</td>\n",
       "      <td>0</td>\n",
       "    </tr>\n",
       "    <tr>\n",
       "      <th>395543</th>\n",
       "      <td>517119</td>\n",
       "      <td>2019-02-04</td>\n",
       "      <td>2019-03-06</td>\n",
       "      <td>0</td>\n",
       "      <td>23</td>\n",
       "      <td>보건복지</td>\n",
       "      <td>광주사태 가짜 유공자들 정수기로 걸려내야함</td>\n",
       "      <td>광주사태 유공자들 차고 넘치는데 이래 많은 유공자들 그냥놓아두면 재앙이다.\\n김대중...</td>\n",
       "      <td>0</td>\n",
       "    </tr>\n",
       "    <tr>\n",
       "      <th>395544</th>\n",
       "      <td>517120</td>\n",
       "      <td>2019-02-04</td>\n",
       "      <td>2019-03-06</td>\n",
       "      <td>0</td>\n",
       "      <td>0</td>\n",
       "      <td>안전/환경</td>\n",
       "      <td>환경문제</td>\n",
       "      <td>명절이면 후로 제일문제는 쓰레기 문제 입니다.\\n제일문제는 선물세트와 농산물세트 입...</td>\n",
       "      <td>0</td>\n",
       "    </tr>\n",
       "    <tr>\n",
       "      <th>395545</th>\n",
       "      <td>517121</td>\n",
       "      <td>2019-02-04</td>\n",
       "      <td>2019-03-06</td>\n",
       "      <td>0</td>\n",
       "      <td>20</td>\n",
       "      <td>정치개혁</td>\n",
       "      <td>청화대,더불어민주당, 당장 답하라,,,,,,</td>\n",
       "      <td>좌파 더불어민주당, 좌파 정권 청화대는 선한 국민들을 더는 기망하지 말고 담장 답하...</td>\n",
       "      <td>0</td>\n",
       "    </tr>\n",
       "    <tr>\n",
       "      <th>395546</th>\n",
       "      <td>517122</td>\n",
       "      <td>2019-02-04</td>\n",
       "      <td>2019-03-06</td>\n",
       "      <td>0</td>\n",
       "      <td>16</td>\n",
       "      <td>인권/성평등</td>\n",
       "      <td>여성부 폐지</td>\n",
       "      <td>국민들이 원합니다\\n폐지 좀 시키세요;</td>\n",
       "      <td>0</td>\n",
       "    </tr>\n",
       "  </tbody>\n",
       "</table>\n",
       "<p>395547 rows × 9 columns</p>\n",
       "</div>"
      ],
      "text/plain": [
       "        article_id      start        end  answered  votes category  \\\n",
       "0               21 2017-08-19 2017-11-17         0      9    안전/환경   \n",
       "1               22 2017-08-19 2017-11-17         0     17       기타   \n",
       "2               23 2017-08-19 2017-09-03         0      0       미래   \n",
       "3               24 2017-08-19 2017-08-26         0     53      일자리   \n",
       "4               25 2017-08-19 2017-09-03         0      0       미래   \n",
       "...            ...        ...        ...       ...    ...      ...   \n",
       "395542      517117 2019-02-04 2019-03-06         0      3     보건복지   \n",
       "395543      517119 2019-02-04 2019-03-06         0     23     보건복지   \n",
       "395544      517120 2019-02-04 2019-03-06         0      0    안전/환경   \n",
       "395545      517121 2019-02-04 2019-03-06         0     20     정치개혁   \n",
       "395546      517122 2019-02-04 2019-03-06         0     16   인권/성평등   \n",
       "\n",
       "                           title  \\\n",
       "0            스텔라 데이지호에 대한 제안입니다.   \n",
       "1                 비리제보처를 만들어주세요.   \n",
       "2                       제2의 개성공단   \n",
       "3       공공기관 무조건적인 정규직전환을 반대합니다.   \n",
       "4                       제2의 개성공단   \n",
       "...                          ...   \n",
       "395542            명절연휴 고속도로 무료반대   \n",
       "395543   광주사태 가짜 유공자들 정수기로 걸려내야함   \n",
       "395544                      환경문제   \n",
       "395545  청화대,더불어민주당, 당장 답하라,,,,,,   \n",
       "395546                    여성부 폐지   \n",
       "\n",
       "                                                  content answer  \n",
       "0       스텔라 데이지호에 대한 제안입니다.\\n3월31일 스텔라 데이지호가 침몰하고 5달째가...      0  \n",
       "1       현 정부에 국민들이 가장 원하는 것은 부패척결입니다.  우리 사회에 각종 비리들이 ...      0  \n",
       "2       만일 하시는 대통령님 및 각 부처 장관님,주무관님들 안녕하세요!!\\n전남 목포에서 ...      0  \n",
       "3       현정부에서 정규직 일자리를 늘리는 것에 찬성합니다. 그런데 공공기관 비정규직들은 인...      0  \n",
       "4       만일 하시는 대통령님 및 각 부처 장관님,주무관님들 안녕하세요!!\\n전남 목포에서 ...      0  \n",
       "...                                                   ...    ...  \n",
       "395542  명절고속도로 무료보단 대다수의 서민들이 이용하는 대중교통 무료와 명절기간 증차로 했...      0  \n",
       "395543  광주사태 유공자들 차고 넘치는데 이래 많은 유공자들 그냥놓아두면 재앙이다.\\n김대중...      0  \n",
       "395544  명절이면 후로 제일문제는 쓰레기 문제 입니다.\\n제일문제는 선물세트와 농산물세트 입...      0  \n",
       "395545  좌파 더불어민주당, 좌파 정권 청화대는 선한 국민들을 더는 기망하지 말고 담장 답하...      0  \n",
       "395546                              국민들이 원합니다\\n폐지 좀 시키세요;      0  \n",
       "\n",
       "[395547 rows x 9 columns]"
      ]
     },
     "execution_count": 24,
     "metadata": {},
     "output_type": "execute_result"
    }
   ],
   "source": [
    "df"
   ]
  },
  {
   "cell_type": "markdown",
   "metadata": {},
   "source": [
    "- 답변대상 청원중 아직 답변되지 않은 청원의 수를 계산해보시오."
   ]
  },
  {
   "cell_type": "code",
   "execution_count": 33,
   "metadata": {
    "scrolled": true
   },
   "outputs": [
    {
     "name": "stdout",
     "output_type": "stream",
     "text": [
      "<class 'pandas.core.frame.DataFrame'>\n",
      "Int64Index: 51 entries, 137035 to 391984\n",
      "Data columns (total 9 columns):\n",
      " #   Column      Non-Null Count  Dtype         \n",
      "---  ------      --------------  -----         \n",
      " 0   article_id  51 non-null     int64         \n",
      " 1   start       51 non-null     datetime64[ns]\n",
      " 2   end         51 non-null     datetime64[ns]\n",
      " 3   answered    51 non-null     int64         \n",
      " 4   votes       51 non-null     int64         \n",
      " 5   category    51 non-null     object        \n",
      " 6   title       51 non-null     object        \n",
      " 7   content     51 non-null     object        \n",
      " 8   answer      51 non-null     object        \n",
      "dtypes: datetime64[ns](2), int64(3), object(4)\n",
      "memory usage: 4.0+ KB\n"
     ]
    }
   ],
   "source": [
    "answered=df['answered'] == 0\n",
    "answer=df['answer'] == 1\n",
    "\n",
    "df[answered & answer].info()"
   ]
  },
  {
   "cell_type": "code",
   "execution_count": 35,
   "metadata": {},
   "outputs": [
    {
     "data": {
      "text/plain": [
       "0    51\n",
       "1    29\n",
       "Name: answered, dtype: int64"
      ]
     },
     "execution_count": 35,
     "metadata": {},
     "output_type": "execute_result"
    }
   ],
   "source": [
    "df[df['answer']==1][\"answered\"].value_counts()"
   ]
  },
  {
   "cell_type": "markdown",
   "metadata": {},
   "source": [
    "# 어느 분야 청원이 가장 많이 들어왔는지?\n",
    "- 청원이 많이 들어온 순서 3개는 어느 분야?"
   ]
  },
  {
   "cell_type": "code",
   "execution_count": 54,
   "metadata": {},
   "outputs": [
    {
     "data": {
      "text/plain": [
       "정치개혁           62750\n",
       "기타             48682\n",
       "인권/성평등         34993\n",
       "안전/환경          30638\n",
       "교통/건축/국토       28184\n",
       "외교/통일/국방       26626\n",
       "육아/교육          25537\n",
       "보건복지           24848\n",
       "일자리            23225\n",
       "행정             20268\n",
       "문화/예술/체육/언론    18207\n",
       "미래             18000\n",
       "경제민주화          16793\n",
       "성장동력            7253\n",
       "반려동물            4057\n",
       "저출산/고령화대책       3584\n",
       "농산어촌            1902\n",
       "Name: category, dtype: int64"
      ]
     },
     "execution_count": 54,
     "metadata": {},
     "output_type": "execute_result"
    }
   ],
   "source": [
    "df.category.value_counts()"
   ]
  },
  {
   "cell_type": "code",
   "execution_count": 55,
   "metadata": {},
   "outputs": [
    {
     "data": {
      "text/plain": [
       "정치개혁      62750\n",
       "기타        48682\n",
       "인권/성평등    34993\n",
       "Name: category, dtype: int64"
      ]
     },
     "execution_count": 55,
     "metadata": {},
     "output_type": "execute_result"
    }
   ],
   "source": [
    "df.category.value_counts().head(3)"
   ]
  },
  {
   "cell_type": "code",
   "execution_count": 56,
   "metadata": {},
   "outputs": [
    {
     "data": {
      "text/html": [
       "<div>\n",
       "<style scoped>\n",
       "    .dataframe tbody tr th:only-of-type {\n",
       "        vertical-align: middle;\n",
       "    }\n",
       "\n",
       "    .dataframe tbody tr th {\n",
       "        vertical-align: top;\n",
       "    }\n",
       "\n",
       "    .dataframe thead th {\n",
       "        text-align: right;\n",
       "    }\n",
       "</style>\n",
       "<table border=\"1\" class=\"dataframe\">\n",
       "  <thead>\n",
       "    <tr style=\"text-align: right;\">\n",
       "      <th></th>\n",
       "      <th>category</th>\n",
       "    </tr>\n",
       "  </thead>\n",
       "  <tbody>\n",
       "    <tr>\n",
       "      <th>정치개혁</th>\n",
       "      <td>62750</td>\n",
       "    </tr>\n",
       "    <tr>\n",
       "      <th>기타</th>\n",
       "      <td>48682</td>\n",
       "    </tr>\n",
       "    <tr>\n",
       "      <th>인권/성평등</th>\n",
       "      <td>34993</td>\n",
       "    </tr>\n",
       "  </tbody>\n",
       "</table>\n",
       "</div>"
      ],
      "text/plain": [
       "        category\n",
       "정치개혁       62750\n",
       "기타         48682\n",
       "인권/성평등     34993"
      ]
     },
     "execution_count": 56,
     "metadata": {},
     "output_type": "execute_result"
    }
   ],
   "source": [
    "# reset_index : 기존의 행 인덱스를 제거하고 인덱스를 데이터 열로 추가\n",
    "\n",
    "category=pd.DataFrame(df['category'].value_counts())\n",
    "category.head(3)"
   ]
  },
  {
   "cell_type": "code",
   "execution_count": 58,
   "metadata": {},
   "outputs": [
    {
     "data": {
      "text/html": [
       "<div>\n",
       "<style scoped>\n",
       "    .dataframe tbody tr th:only-of-type {\n",
       "        vertical-align: middle;\n",
       "    }\n",
       "\n",
       "    .dataframe tbody tr th {\n",
       "        vertical-align: top;\n",
       "    }\n",
       "\n",
       "    .dataframe thead th {\n",
       "        text-align: right;\n",
       "    }\n",
       "</style>\n",
       "<table border=\"1\" class=\"dataframe\">\n",
       "  <thead>\n",
       "    <tr style=\"text-align: right;\">\n",
       "      <th></th>\n",
       "      <th>index</th>\n",
       "      <th>category</th>\n",
       "    </tr>\n",
       "  </thead>\n",
       "  <tbody>\n",
       "    <tr>\n",
       "      <th>0</th>\n",
       "      <td>정치개혁</td>\n",
       "      <td>62750</td>\n",
       "    </tr>\n",
       "    <tr>\n",
       "      <th>1</th>\n",
       "      <td>기타</td>\n",
       "      <td>48682</td>\n",
       "    </tr>\n",
       "    <tr>\n",
       "      <th>2</th>\n",
       "      <td>인권/성평등</td>\n",
       "      <td>34993</td>\n",
       "    </tr>\n",
       "  </tbody>\n",
       "</table>\n",
       "</div>"
      ],
      "text/plain": [
       "    index  category\n",
       "0    정치개혁     62750\n",
       "1      기타     48682\n",
       "2  인권/성평등     34993"
      ]
     },
     "execution_count": 58,
     "metadata": {},
     "output_type": "execute_result"
    }
   ],
   "source": [
    "category = pd.DataFrame(df['category'].value_counts()).reset_index()\n",
    "category.head(3)"
   ]
  },
  {
   "cell_type": "code",
   "execution_count": 59,
   "metadata": {},
   "outputs": [
    {
     "data": {
      "text/html": [
       "<div>\n",
       "<style scoped>\n",
       "    .dataframe tbody tr th:only-of-type {\n",
       "        vertical-align: middle;\n",
       "    }\n",
       "\n",
       "    .dataframe tbody tr th {\n",
       "        vertical-align: top;\n",
       "    }\n",
       "\n",
       "    .dataframe thead th {\n",
       "        text-align: right;\n",
       "    }\n",
       "</style>\n",
       "<table border=\"1\" class=\"dataframe\">\n",
       "  <thead>\n",
       "    <tr style=\"text-align: right;\">\n",
       "      <th></th>\n",
       "      <th>category</th>\n",
       "      <th>counts</th>\n",
       "    </tr>\n",
       "  </thead>\n",
       "  <tbody>\n",
       "    <tr>\n",
       "      <th>0</th>\n",
       "      <td>정치개혁</td>\n",
       "      <td>62750</td>\n",
       "    </tr>\n",
       "    <tr>\n",
       "      <th>1</th>\n",
       "      <td>기타</td>\n",
       "      <td>48682</td>\n",
       "    </tr>\n",
       "    <tr>\n",
       "      <th>2</th>\n",
       "      <td>인권/성평등</td>\n",
       "      <td>34993</td>\n",
       "    </tr>\n",
       "  </tbody>\n",
       "</table>\n",
       "</div>"
      ],
      "text/plain": [
       "  category  counts\n",
       "0     정치개혁   62750\n",
       "1       기타   48682\n",
       "2   인권/성평등   34993"
      ]
     },
     "execution_count": 59,
     "metadata": {},
     "output_type": "execute_result"
    }
   ],
   "source": [
    "category.columns=['category','counts']\n",
    "category.head(3)"
   ]
  },
  {
   "cell_type": "markdown",
   "metadata": {},
   "source": [
    "# 중간 까먹은거 독학하기"
   ]
  },
  {
   "cell_type": "code",
   "execution_count": null,
   "metadata": {},
   "outputs": [],
   "source": []
  },
  {
   "cell_type": "code",
   "execution_count": null,
   "metadata": {},
   "outputs": [],
   "source": []
  },
  {
   "cell_type": "code",
   "execution_count": null,
   "metadata": {},
   "outputs": [],
   "source": []
  },
  {
   "cell_type": "markdown",
   "metadata": {},
   "source": [
    "# 시계열 데이터 보기\n",
    "- 월별 청원수를 집계해 보세요\n",
    "- 청원이 가장 많이 들어온 달은?\n",
    "- 요일별 청원수는?"
   ]
  },
  {
   "cell_type": "code",
   "execution_count": 41,
   "metadata": {},
   "outputs": [
    {
     "data": {
      "text/plain": [
       "0        2017-08-19\n",
       "1        2017-08-19\n",
       "2        2017-08-19\n",
       "3        2017-08-19\n",
       "4        2017-08-19\n",
       "            ...    \n",
       "395542   2019-02-04\n",
       "395543   2019-02-04\n",
       "395544   2019-02-04\n",
       "395545   2019-02-04\n",
       "395546   2019-02-04\n",
       "Name: start, Length: 395547, dtype: datetime64[ns]"
      ]
     },
     "execution_count": 41,
     "metadata": {},
     "output_type": "execute_result"
    }
   ],
   "source": [
    "# 이건 진짜 모르겠다\n",
    "df['start']"
   ]
  },
  {
   "cell_type": "code",
   "execution_count": 43,
   "metadata": {},
   "outputs": [],
   "source": [
    "df['start_date'] = df['start'].dt.date # YYYY-MM-DD 문자\n",
    "df['start_dow']= df['start'].dt.dayofweek"
   ]
  },
  {
   "cell_type": "markdown",
   "metadata": {},
   "source": [
    "- df['start_day']        = df['start'].dt.day          # 일(숫자)\n",
    "- df['start_time']       = df['start'].dt.time         # HH:MM:SS(문자)\n",
    "- df['start_hour']       = df['start'].dt.hour         # 시(숫자)\n",
    "- df['start_minute']     = df['start'].dt.minute       # 분(숫자)\n",
    "- df['start_second']     = df['start'].dt.second       # 초(숫자)"
   ]
  },
  {
   "cell_type": "markdown",
   "metadata": {},
   "source": [
    "- df['Birth_quarter']       = df['Birth'].dt.quarter       # 분기(숫자)\n",
    "- df['Birth_weekday_name']  = df['Birth'].dt.weekday_name  # 요일이름(문자) (=day_name())\n",
    "- df['Birth_weekday']       = df['Birth'].dt.weekday       # 요일숫자(0-월, 1-화) (=dayofweek)\n",
    "- df['Birth_weekofyear']    = df['Birth'].dt.weekofyear    # 연 기준 몇주째(숫자) (=week)\n",
    "- df['Birth_dayofyear']     = df['Birth'].dt.dayofyear     # 연 기준 몇일째(숫자)\n",
    "- df['Birth_days_in_month'] = df['Birth'].dt.days_in_month # 월 일수(숫자) (=daysinmonth)"
   ]
  },
  {
   "cell_type": "code",
   "execution_count": 45,
   "metadata": {},
   "outputs": [
    {
     "data": {
      "text/plain": [
       "1     52941\n",
       "11    52847\n",
       "9     40888\n",
       "12    38498\n",
       "10    31687\n",
       "8     28851\n",
       "2     28117\n",
       "7     25714\n",
       "5     25499\n",
       "6     25483\n",
       "4     23227\n",
       "3     21795\n",
       "Name: start_month, dtype: int64"
      ]
     },
     "execution_count": 45,
     "metadata": {},
     "output_type": "execute_result"
    }
   ],
   "source": [
    "# 월별로 들어온 청원 카운트\n",
    "df['start_month'].value_counts()"
   ]
  },
  {
   "cell_type": "code",
   "execution_count": 47,
   "metadata": {},
   "outputs": [
    {
     "data": {
      "text/plain": [
       "0    54234\n",
       "1    65229\n",
       "2    61966\n",
       "3    63072\n",
       "4    56646\n",
       "5    50984\n",
       "6    43416\n",
       "Name: start_dow, dtype: int64"
      ]
     },
     "execution_count": 47,
     "metadata": {},
     "output_type": "execute_result"
    }
   ],
   "source": [
    "# 요일별로 들어온 청원 카운트 , 뒤에는 인덱스 오름정렬로 보기 편하게\n",
    "df['start_dow'].value_counts().sort_index()"
   ]
  },
  {
   "cell_type": "code",
   "execution_count": 49,
   "metadata": {},
   "outputs": [],
   "source": [
    "# title에 특정 문자열이 들어간 데이터 수집방법\n",
    "\n",
    "import re\n",
    "p=r' *(돌봄|아이|초등|보육).*'\n",
    "care = df[df['title'].str.match(p) | df['content'].str.match(p, flags=re.MULTILINE)]"
   ]
  },
  {
   "cell_type": "code",
   "execution_count": 51,
   "metadata": {},
   "outputs": [
    {
     "data": {
      "text/html": [
       "<div>\n",
       "<style scoped>\n",
       "    .dataframe tbody tr th:only-of-type {\n",
       "        vertical-align: middle;\n",
       "    }\n",
       "\n",
       "    .dataframe tbody tr th {\n",
       "        vertical-align: top;\n",
       "    }\n",
       "\n",
       "    .dataframe thead th {\n",
       "        text-align: right;\n",
       "    }\n",
       "</style>\n",
       "<table border=\"1\" class=\"dataframe\">\n",
       "  <thead>\n",
       "    <tr style=\"text-align: right;\">\n",
       "      <th></th>\n",
       "      <th>article_id</th>\n",
       "      <th>start</th>\n",
       "      <th>end</th>\n",
       "      <th>answered</th>\n",
       "      <th>votes</th>\n",
       "      <th>category</th>\n",
       "      <th>title</th>\n",
       "      <th>content</th>\n",
       "      <th>answer</th>\n",
       "      <th>start_date</th>\n",
       "      <th>start_year</th>\n",
       "      <th>start_month</th>\n",
       "      <th>start_month_name</th>\n",
       "      <th>start_dow</th>\n",
       "    </tr>\n",
       "  </thead>\n",
       "  <tbody>\n",
       "    <tr>\n",
       "      <th>23</th>\n",
       "      <td>45</td>\n",
       "      <td>2017-08-19</td>\n",
       "      <td>2017-11-17</td>\n",
       "      <td>0</td>\n",
       "      <td>0</td>\n",
       "      <td>육아/교육</td>\n",
       "      <td>초등학교 교사 임용 시험 관련 해결방안</td>\n",
       "      <td>초등학교 교사 임용 시험을 수능 시험 처럼 전국 단위로 실시하고난 후에\\n1지망 2...</td>\n",
       "      <td>0</td>\n",
       "      <td>2017-08-19</td>\n",
       "      <td>2017</td>\n",
       "      <td>8</td>\n",
       "      <td>August</td>\n",
       "      <td>5</td>\n",
       "    </tr>\n",
       "    <tr>\n",
       "      <th>49</th>\n",
       "      <td>72</td>\n",
       "      <td>2017-08-20</td>\n",
       "      <td>2017-11-18</td>\n",
       "      <td>0</td>\n",
       "      <td>212</td>\n",
       "      <td>육아/교육</td>\n",
       "      <td>초등학교의 영어회화전문강사를 비롯한 강사들의 무기계약 전환 시도는 교육대학교와 초등...</td>\n",
       "      <td>초등학교의 영어회화전문강사를 비롯한 강사들의 무기계약 전환 시도는 교육대학교와 초등...</td>\n",
       "      <td>0</td>\n",
       "      <td>2017-08-20</td>\n",
       "      <td>2017</td>\n",
       "      <td>8</td>\n",
       "      <td>August</td>\n",
       "      <td>6</td>\n",
       "    </tr>\n",
       "    <tr>\n",
       "      <th>253</th>\n",
       "      <td>278</td>\n",
       "      <td>2017-08-22</td>\n",
       "      <td>2017-09-21</td>\n",
       "      <td>0</td>\n",
       "      <td>6</td>\n",
       "      <td>육아/교육</td>\n",
       "      <td>아이들의 보금자리를 지켜주세요.</td>\n",
       "      <td>나이가 어린 영아일수록 부모의 손길이 더 필요하다고 생각하는 현직 보육교사입니다. ...</td>\n",
       "      <td>0</td>\n",
       "      <td>2017-08-22</td>\n",
       "      <td>2017</td>\n",
       "      <td>8</td>\n",
       "      <td>August</td>\n",
       "      <td>1</td>\n",
       "    </tr>\n",
       "    <tr>\n",
       "      <th>498</th>\n",
       "      <td>526</td>\n",
       "      <td>2017-08-25</td>\n",
       "      <td>2017-11-23</td>\n",
       "      <td>0</td>\n",
       "      <td>4</td>\n",
       "      <td>육아/교육</td>\n",
       "      <td>기간제교사전환?</td>\n",
       "      <td>초등학교 1학년 자녀를 둔 맞벌이부모입니다.\\n저희학교는 맞벌이등을 위한 돌봄교실이...</td>\n",
       "      <td>0</td>\n",
       "      <td>2017-08-25</td>\n",
       "      <td>2017</td>\n",
       "      <td>8</td>\n",
       "      <td>August</td>\n",
       "      <td>4</td>\n",
       "    </tr>\n",
       "    <tr>\n",
       "      <th>518</th>\n",
       "      <td>546</td>\n",
       "      <td>2017-08-25</td>\n",
       "      <td>2017-11-23</td>\n",
       "      <td>0</td>\n",
       "      <td>0</td>\n",
       "      <td>육아/교육</td>\n",
       "      <td>아이를 죽음으로 몰수있는 식품규제 청원드립니다.</td>\n",
       "      <td>일본에 수입되는 곤약젤리에 대한 청원입니다.\\n컵형태 용기에 담긴 곤약젤리로 기도에...</td>\n",
       "      <td>0</td>\n",
       "      <td>2017-08-25</td>\n",
       "      <td>2017</td>\n",
       "      <td>8</td>\n",
       "      <td>August</td>\n",
       "      <td>4</td>\n",
       "    </tr>\n",
       "  </tbody>\n",
       "</table>\n",
       "</div>"
      ],
      "text/plain": [
       "     article_id      start        end  answered  votes category  \\\n",
       "23           45 2017-08-19 2017-11-17         0      0    육아/교육   \n",
       "49           72 2017-08-20 2017-11-18         0    212    육아/교육   \n",
       "253         278 2017-08-22 2017-09-21         0      6    육아/교육   \n",
       "498         526 2017-08-25 2017-11-23         0      4    육아/교육   \n",
       "518         546 2017-08-25 2017-11-23         0      0    육아/교육   \n",
       "\n",
       "                                                 title  \\\n",
       "23                               초등학교 교사 임용 시험 관련 해결방안   \n",
       "49   초등학교의 영어회화전문강사를 비롯한 강사들의 무기계약 전환 시도는 교육대학교와 초등...   \n",
       "253                                  아이들의 보금자리를 지켜주세요.   \n",
       "498                                           기간제교사전환?   \n",
       "518                         아이를 죽음으로 몰수있는 식품규제 청원드립니다.   \n",
       "\n",
       "                                               content answer  start_date  \\\n",
       "23   초등학교 교사 임용 시험을 수능 시험 처럼 전국 단위로 실시하고난 후에\\n1지망 2...      0  2017-08-19   \n",
       "49   초등학교의 영어회화전문강사를 비롯한 강사들의 무기계약 전환 시도는 교육대학교와 초등...      0  2017-08-20   \n",
       "253  나이가 어린 영아일수록 부모의 손길이 더 필요하다고 생각하는 현직 보육교사입니다. ...      0  2017-08-22   \n",
       "498  초등학교 1학년 자녀를 둔 맞벌이부모입니다.\\n저희학교는 맞벌이등을 위한 돌봄교실이...      0  2017-08-25   \n",
       "518  일본에 수입되는 곤약젤리에 대한 청원입니다.\\n컵형태 용기에 담긴 곤약젤리로 기도에...      0  2017-08-25   \n",
       "\n",
       "     start_year  start_month start_month_name  start_dow  \n",
       "23         2017            8           August          5  \n",
       "49         2017            8           August          6  \n",
       "253        2017            8           August          1  \n",
       "498        2017            8           August          4  \n",
       "518        2017            8           August          4  "
      ]
     },
     "execution_count": 51,
     "metadata": {},
     "output_type": "execute_result"
    }
   ],
   "source": [
    "care.head()"
   ]
  },
  {
   "cell_type": "code",
   "execution_count": null,
   "metadata": {},
   "outputs": [],
   "source": []
  }
 ],
 "metadata": {
  "kernelspec": {
   "display_name": "Python 3",
   "language": "python",
   "name": "python3"
  },
  "language_info": {
   "codemirror_mode": {
    "name": "ipython",
    "version": 3
   },
   "file_extension": ".py",
   "mimetype": "text/x-python",
   "name": "python",
   "nbconvert_exporter": "python",
   "pygments_lexer": "ipython3",
   "version": "3.8.3"
  }
 },
 "nbformat": 4,
 "nbformat_minor": 4
}
