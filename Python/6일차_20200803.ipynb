{
 "cells": [
  {
   "cell_type": "code",
   "execution_count": 35,
   "metadata": {},
   "outputs": [
    {
     "name": "stdout",
     "output_type": "stream",
     "text": [
      "Name : 홍길동  Average :  83.0  Max :  90  Min :  77  합격\n",
      "Name : 이순신  Average :  74.75  Max :  96  Min :  55  합격\n",
      "Name : 허준  Average :  59.75  Max :  66  Min :  53  불합격\n",
      "Name : 문익점  Average :  68.5  Max :  89  Min :  39  불합격\n"
     ]
    }
   ],
   "source": [
    "#국어, 영어, 수학, 과학 점수\n",
    "test_score={\"홍길동\":[90,85,77,80],\n",
    "            \"이순신\":[88,96,55,60],\n",
    "            \"허준\":[56,53,64,66],\n",
    "            \"문익점\":[76,89,39,70]}\n",
    "#다음과 같은 딕셔너리 형태의 학생의 국어, 영어, 수학, 과학 점수가 있다.\n",
    "#시험은 과락 40점, 평균 60점을 넘어야 pass이다.\n",
    "#1)학생별 채점 결과는 (평균, 과목최고, 과목최저 점수)?\n",
    "#2)합격자는 누구인가?\n",
    "#3)과목별 최고점수, 최저 점수는?\n",
    "\n",
    "import pandas as pd\n",
    "df=pd.DataFrame(test_score, index=[\"국어\",\"영어\",\"수학\",\"과학\"])\n",
    "\n",
    "for i in df:\n",
    "    if (df[i].mean() >= 60 and df[i].min()>=40):\n",
    "        print(\"Name :\", i,\" Average : \", df[i].mean(), \" Max : \", df[i].max(),\" Min : \", df[i].min(), \" 합격\")\n",
    "    else:\n",
    "        print(\"Name :\", i,\" Average : \", df[i].mean(), \" Max : \", df[i].max(),\" Min : \", df[i].min(), \" 불합격\")"
   ]
  },
  {
   "cell_type": "code",
   "execution_count": 36,
   "metadata": {},
   "outputs": [
    {
     "name": "stdout",
     "output_type": "stream",
     "text": [
      "국어  최고점 :  90  최저점 :  56\n",
      "영어  최고점 :  96  최저점 :  53\n",
      "수학  최고점 :  96  최저점 :  39\n",
      "과학  최고점 :  96  최저점 :  39\n"
     ]
    }
   ],
   "source": [
    "M=0\n",
    "m=100\n",
    "df2=df.T\n",
    "\n",
    "for i in df2:\n",
    "    if (M <= df2[i].max()):\n",
    "        M=df2[i].max()        \n",
    "    if (m >= df2[i].min()):\n",
    "        m=df2[i].min()\n",
    "    print (i,\" 최고점 : \", M,\" 최저점 : \", m)"
   ]
  },
  {
   "cell_type": "code",
   "execution_count": null,
   "metadata": {},
   "outputs": [],
   "source": []
  },
  {
   "cell_type": "code",
   "execution_count": null,
   "metadata": {},
   "outputs": [],
   "source": []
  },
  {
   "cell_type": "code",
   "execution_count": 15,
   "metadata": {},
   "outputs": [
    {
     "data": {
      "text/plain": [
       "{'홍길동': [90, 85, 77, 80],\n",
       " '이순신': [88, 96, 55, 60],\n",
       " '허준': [56, 53, 64, 66],\n",
       " '문익점': [76, 89, 39, 70]}"
      ]
     },
     "execution_count": 15,
     "metadata": {},
     "output_type": "execute_result"
    }
   ],
   "source": [
    "test_score"
   ]
  },
  {
   "cell_type": "code",
   "execution_count": 17,
   "metadata": {},
   "outputs": [
    {
     "name": "stdout",
     "output_type": "stream",
     "text": [
      "Name :  홍길동  Avg :  83.0  Max :  90  Min :  77\n",
      "Name :  이순신  Avg :  74.75  Max :  96  Min :  55\n",
      "Name :  허준  Avg :  59.75  Max :  66  Min :  53\n",
      "Name :  문익점  Avg :  68.5  Max :  89  Min :  39\n",
      "합격자 :  ['홍길동', '이순신']\n"
     ]
    }
   ],
   "source": [
    "##선생님 방법\n",
    "\n",
    "exam_result=[]\n",
    "\n",
    "for exam_score in test_score.items():\n",
    "    name=exam_score[0]\n",
    "    score=exam_score[1]\n",
    "    avg=sum(score)/len(score)\n",
    "    if(avg>60 and min(score)>40):\n",
    "        exam_result.append(name)\n",
    "    print(\"Name : \", name,\" Avg : \", avg,\" Max : \",max(score),\" Min : \",min(score))\n",
    "    \n",
    "print(\"합격자 : \", exam_result)"
   ]
  },
  {
   "cell_type": "code",
   "execution_count": 28,
   "metadata": {},
   "outputs": [
    {
     "name": "stdout",
     "output_type": "stream",
     "text": [
      "max =  [90, 96, 77, 80]\n",
      "min =  [56, 53, 39, 60]\n"
     ]
    }
   ],
   "source": [
    "### 선생님 방법\n",
    "\n",
    "class_max=[100,100,100,100]\n",
    "class_min=[0,0,0,0]\n",
    "\n",
    "for student, exam_score in enumerate(test_score.items()):\n",
    "    if student == 0:\n",
    "        class_max = exam_score[1][:]\n",
    "        class_min = exam_score[1][:]\n",
    "        \n",
    "    for subject,score in enumerate(exam_score[1]):\n",
    "        if class_max[subject] < score:\n",
    "            class_max[subject] = score\n",
    "        if class_min[subject] > score:\n",
    "            class_min[subject] = score\n",
    "            \n",
    "print(\"max = \", class_max)\n",
    "print(\"min = \", class_min)"
   ]
  },
  {
   "cell_type": "code",
   "execution_count": 37,
   "metadata": {},
   "outputs": [
    {
     "data": {
      "text/plain": [
       "dict_items([('홍길동', [90, 85, 77, 80]), ('이순신', [88, 96, 55, 60]), ('허준', [56, 53, 64, 66]), ('문익점', [76, 89, 39, 70])])"
      ]
     },
     "execution_count": 37,
     "metadata": {},
     "output_type": "execute_result"
    }
   ],
   "source": [
    "test_score.items()"
   ]
  },
  {
   "cell_type": "code",
   "execution_count": null,
   "metadata": {},
   "outputs": [],
   "source": []
  },
  {
   "cell_type": "code",
   "execution_count": 29,
   "metadata": {},
   "outputs": [
    {
     "name": "stdout",
     "output_type": "stream",
     "text": [
      "홍길동  Ave :  83.0  Max :  90  Min =  77\n",
      "이순신  Ave :  74.75  Max :  96  Min =  55\n",
      "허준  Ave :  59.75  Max :  66  Min =  53\n",
      "문익점  Ave :  68.5  Max :  89  Min =  39\n"
     ]
    }
   ],
   "source": [
    "#df 사용없이 해결해보기\n",
    "\n",
    "for i in test_score:\n",
    "    hab=0\n",
    "    M=0\n",
    "    m=100\n",
    "    for j in range(0,len(test_score[i])):\n",
    "        hab = test_score[i][j] + hab\n",
    "        if (M <= test_score[i][j]):\n",
    "            M=test_score[i][j]\n",
    "            \n",
    "        elif(m >= test_score[i][j]):\n",
    "            m=test_score[i][j]\n",
    "            \n",
    "    print(i, \" Ave : \", hab/4,\" Max : \",M,\" Min = \",m)"
   ]
  },
  {
   "cell_type": "code",
   "execution_count": 30,
   "metadata": {},
   "outputs": [
    {
     "name": "stdout",
     "output_type": "stream",
     "text": [
      "홍길동 합격\n",
      "이순신 합격\n",
      "허준 불합격\n",
      "문익점 불합격\n"
     ]
    }
   ],
   "source": [
    "for i in test_score:\n",
    "    hab = 0\n",
    "    m=100\n",
    "    for j in range(0,len(test_score[i])):\n",
    "        hab = test_score[i][j] + hab\n",
    "        if (m >= test_score[i][j]):\n",
    "            m=test_score[i][j]\n",
    "    if (hab/4 >= 60 and m>=40):\n",
    "        print(i, \"합격\")\n",
    "    else:\n",
    "        print(i, \"불합격\")"
   ]
  },
  {
   "cell_type": "code",
   "execution_count": 25,
   "metadata": {},
   "outputs": [
    {
     "name": "stdout",
     "output_type": "stream",
     "text": [
      "문익점\n"
     ]
    }
   ],
   "source": [
    "for i in test_score:    \n",
    "    sm=100\n",
    "    sM=0\n",
    "    if(sM <= test_score[i][1]):\n",
    "        sM = test_score[i][1]\n",
    "        \n",
    "print(i)"
   ]
  },
  {
   "cell_type": "code",
   "execution_count": null,
   "metadata": {},
   "outputs": [],
   "source": []
  }
 ],
 "metadata": {
  "kernelspec": {
   "display_name": "Python 3",
   "language": "python",
   "name": "python3"
  },
  "language_info": {
   "codemirror_mode": {
    "name": "ipython",
    "version": 3
   },
   "file_extension": ".py",
   "mimetype": "text/x-python",
   "name": "python",
   "nbconvert_exporter": "python",
   "pygments_lexer": "ipython3",
   "version": "3.8.3"
  }
 },
 "nbformat": 4,
 "nbformat_minor": 4
}
