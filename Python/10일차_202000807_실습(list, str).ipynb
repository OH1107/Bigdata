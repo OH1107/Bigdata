{
 "cells": [
  {
   "cell_type": "markdown",
   "metadata": {},
   "source": [
    "# 1~1000에서 각 숫자의 개수 구하기\n",
    "\n",
    "### ex ) 10~ 15 까지의 각 숫자의 개수를 구해보자\n",
    "### 10 = 1,0\n",
    "### 11 = 1,1\n",
    "### 12 = 1,2\n",
    "### 13 = 1,3\n",
    "### 14 = 1,4\n",
    "### 15 = 1,5\n",
    "### 그러므로 이 경우의 답은 0:1개 1:7개 2:1개 3:1개 4:1개 5:1개"
   ]
  },
  {
   "cell_type": "code",
   "execution_count": 4,
   "metadata": {},
   "outputs": [],
   "source": [
    "import numpy as np"
   ]
  },
  {
   "cell_type": "code",
   "execution_count": 11,
   "metadata": {},
   "outputs": [
    {
     "name": "stdout",
     "output_type": "stream",
     "text": [
      "[10, 11, 12, 13, 14, 15]\n"
     ]
    }
   ],
   "source": [
    "n = np.arange(10,16)\n",
    "print(list(n))"
   ]
  },
  {
   "cell_type": "code",
   "execution_count": 13,
   "metadata": {},
   "outputs": [
    {
     "data": {
      "text/plain": [
       "numpy.int32"
      ]
     },
     "execution_count": 13,
     "metadata": {},
     "output_type": "execute_result"
    }
   ],
   "source": [
    "type(n[0])"
   ]
  },
  {
   "cell_type": "code",
   "execution_count": 26,
   "metadata": {},
   "outputs": [],
   "source": [
    "s = map(str, n)\n",
    "s_=''.join(s)"
   ]
  },
  {
   "cell_type": "code",
   "execution_count": 35,
   "metadata": {},
   "outputs": [
    {
     "name": "stdout",
     "output_type": "stream",
     "text": [
      "101112131415\n"
     ]
    }
   ],
   "source": [
    "print(s_)"
   ]
  },
  {
   "cell_type": "code",
   "execution_count": 37,
   "metadata": {},
   "outputs": [
    {
     "name": "stdout",
     "output_type": "stream",
     "text": [
      "1\n",
      "7\n",
      "1\n",
      "1\n",
      "1\n",
      "1\n"
     ]
    }
   ],
   "source": [
    "print(s_.count('0'))\n",
    "print(s_.count('1'))\n",
    "print(s_.count('2'))\n",
    "print(s_.count('3'))\n",
    "print(s_.count('4'))\n",
    "print(s_.count('5'))"
   ]
  },
  {
   "cell_type": "code",
   "execution_count": 38,
   "metadata": {},
   "outputs": [
    {
     "name": "stdout",
     "output_type": "stream",
     "text": [
      "0  :  1 개\n",
      "1  :  7 개\n",
      "2  :  1 개\n",
      "3  :  1 개\n",
      "4  :  1 개\n",
      "5  :  1 개\n",
      "6  :  0 개\n",
      "7  :  0 개\n",
      "8  :  0 개\n",
      "9  :  0 개\n"
     ]
    }
   ],
   "source": [
    "for ind, count in enumerate(range(0,10)):\n",
    "    print(ind, \" : \", s_.count(str(count)), \"개\")"
   ]
  },
  {
   "cell_type": "code",
   "execution_count": 47,
   "metadata": {},
   "outputs": [],
   "source": [
    "def count_n(start, stop):\n",
    "    ar = np.arange(start, stop+1)\n",
    "    st = ''.join(map(str, ar))\n",
    "    for ind, count in enumerate(range(0,10)):\n",
    "        print(ind, \" : \", st.count(str(count)), \"개\")"
   ]
  },
  {
   "cell_type": "code",
   "execution_count": 56,
   "metadata": {},
   "outputs": [
    {
     "name": "stdout",
     "output_type": "stream",
     "text": [
      "0  :  1 개\n",
      "1  :  7 개\n",
      "2  :  1 개\n",
      "3  :  1 개\n",
      "4  :  1 개\n",
      "5  :  1 개\n",
      "6  :  0 개\n",
      "7  :  0 개\n",
      "8  :  0 개\n",
      "9  :  0 개\n"
     ]
    }
   ],
   "source": [
    "count_n(10,15)"
   ]
  },
  {
   "cell_type": "code",
   "execution_count": 57,
   "metadata": {},
   "outputs": [
    {
     "name": "stdout",
     "output_type": "stream",
     "text": [
      "[192, 301, 300, 300, 300, 300, 300, 300, 300, 300]\n"
     ]
    }
   ],
   "source": [
    "# 선생님 방법\n",
    "\n",
    "num = [0 for i in range(10)]\n",
    "\n",
    "for i in range(1,1001):\n",
    "    for x in str(i):\n",
    "        num[int(x)] += 1\n",
    "print(num)"
   ]
  },
  {
   "cell_type": "code",
   "execution_count": null,
   "metadata": {},
   "outputs": [],
   "source": []
  },
  {
   "cell_type": "markdown",
   "metadata": {},
   "source": [
    "# 1차원의 점들이 주어졌을 때, 그 중 가장 거리가 짧은 것의 쌍을 출력하는 함수를 작성하시오. \n",
    "\n",
    "## (정렬후 작업이 필요)\n",
    "\n",
    "## S = [1,8,4,17,20,13,3]"
   ]
  },
  {
   "cell_type": "code",
   "execution_count": 140,
   "metadata": {},
   "outputs": [
    {
     "name": "stdout",
     "output_type": "stream",
     "text": [
      "최소거리 =  1 [ 3 , 4 ]\n"
     ]
    }
   ],
   "source": [
    "s=[1,  8,   4,  17, 20, 13,  3]\n",
    "s.sort()\n",
    "\n",
    "for i in range(0, len(s)-1):\n",
    "    x[i] = abs(s[i]-s[i+1])\n",
    "    \n",
    "for j in range(0, len(x)-1):\n",
    "    if (x[j] == min(x)):\n",
    "        print(\"최소거리 = \",x[j],'[',s[j],',',s[j+1],']')  "
   ]
  },
  {
   "cell_type": "code",
   "execution_count": null,
   "metadata": {},
   "outputs": [],
   "source": [
    "      "
   ]
  },
  {
   "cell_type": "code",
   "execution_count": 138,
   "metadata": {},
   "outputs": [],
   "source": [
    "def short_dis(li):\n",
    "    li.sort()\n",
    "    for i in range(0, len(li)-1):\n",
    "        x[i] = abs(li[i]-li[i+1])    \n",
    "    for j in range(0, len(x)-1):\n",
    "        if (x[j] == min(x)):\n",
    "            print(\"최소거리 = \",x[j],' : [',li[j],',',li[j+1],']') "
   ]
  },
  {
   "cell_type": "code",
   "execution_count": 139,
   "metadata": {
    "scrolled": true
   },
   "outputs": [
    {
     "name": "stdout",
     "output_type": "stream",
     "text": [
      "최소거리 =  1  : [ 3 , 4 ]\n"
     ]
    }
   ],
   "source": [
    "s=[1,8,4,17,20,13,3]\n",
    "short_dis(s)"
   ]
  },
  {
   "cell_type": "code",
   "execution_count": 142,
   "metadata": {},
   "outputs": [
    {
     "data": {
      "text/plain": [
       "[1, 3, 4, 8, 13, 17, 20]"
      ]
     },
     "execution_count": 142,
     "metadata": {},
     "output_type": "execute_result"
    }
   ],
   "source": [
    "s[0:]"
   ]
  },
  {
   "cell_type": "code",
   "execution_count": 143,
   "metadata": {},
   "outputs": [
    {
     "data": {
      "text/plain": [
       "[3, 4, 8, 13, 17, 20]"
      ]
     },
     "execution_count": 143,
     "metadata": {},
     "output_type": "execute_result"
    }
   ],
   "source": [
    "s[1:]"
   ]
  },
  {
   "cell_type": "code",
   "execution_count": 144,
   "metadata": {},
   "outputs": [
    {
     "name": "stdout",
     "output_type": "stream",
     "text": [
      "[1, 3, 4, 8, 13, 17, 20]\n",
      "[3, 4, 8, 13, 17, 20]\n"
     ]
    }
   ],
   "source": [
    "# 선생님 방법 (0번이 아닌 1번부터 시작하는 리스트를 하나 더 만들어서 zip으로 묶음)\n",
    "\n",
    "# 그 다음 차이를 구해서 최소값을 출력\n",
    "print(s[0:])\n",
    "print(s[1:])\n",
    "\n",
    "# zip으로 묶으니까 남는건 걍 없어지네"
   ]
  },
  {
   "cell_type": "code",
   "execution_count": 145,
   "metadata": {},
   "outputs": [
    {
     "data": {
      "text/plain": [
       "[(1, 3), (3, 4), (4, 8), (8, 13), (13, 17), (17, 20)]"
      ]
     },
     "execution_count": 145,
     "metadata": {},
     "output_type": "execute_result"
    }
   ],
   "source": [
    "pairs = list(zip(s[0:],s[1:]))\n",
    "pairs"
   ]
  },
  {
   "cell_type": "code",
   "execution_count": 150,
   "metadata": {},
   "outputs": [
    {
     "name": "stdout",
     "output_type": "stream",
     "text": [
      "i =  (1, 3)  i[0] =  1  i[1] =  3\n",
      "diff =  2\n",
      "i =  (3, 4)  i[0] =  3  i[1] =  4\n",
      "diff =  1\n",
      "i =  (4, 8)  i[0] =  4  i[1] =  8\n",
      "diff =  4\n",
      "i =  (8, 13)  i[0] =  8  i[1] =  13\n",
      "diff =  5\n",
      "i =  (13, 17)  i[0] =  13  i[1] =  17\n",
      "diff =  4\n",
      "i =  (17, 20)  i[0] =  17  i[1] =  20\n",
      "diff =  3\n"
     ]
    }
   ],
   "source": [
    "# 한 쌍끼리의 차이값을 구하는 과정\n",
    "\n",
    "for i in pairs:\n",
    "    print(\"i = \", i, \" i[0] = \", i[0], \" i[1] = \", i[1])\n",
    "    diff= i[1] - i[0]\n",
    "    print(\"diff = \", diff)"
   ]
  },
  {
   "cell_type": "code",
   "execution_count": 158,
   "metadata": {},
   "outputs": [
    {
     "name": "stdout",
     "output_type": "stream",
     "text": [
      "i =  (3, 4)  i[0] =  3  i[1] =  4\n",
      "diff =  1\n",
      "i =  (1, 3)  i[0] =  1  i[1] =  3\n",
      "diff =  2\n",
      "i =  (17, 20)  i[0] =  17  i[1] =  20\n",
      "diff =  3\n",
      "i =  (4, 8)  i[0] =  4  i[1] =  8\n",
      "diff =  4\n",
      "i =  (13, 17)  i[0] =  13  i[1] =  17\n",
      "diff =  4\n",
      "i =  (8, 13)  i[0] =  8  i[1] =  13\n",
      "diff =  5\n"
     ]
    }
   ],
   "source": [
    "# 구한 차이 값으로 최소값을 구하는 과정\n",
    "# new 딕셔너리 키 값에 차이값을, 두 좌표를 밸류 값으로 전달\n",
    "\n",
    "new_pairs = {}\n",
    "for i in pairs:\n",
    "    print(\"i = \", i, \" i[0] = \", i[0], \" i[1] = \", i[1])\n",
    "    diff= i[1] - i[0]\n",
    "    print(\"diff = \", diff)\n",
    "    new_pairs[diff]=i"
   ]
  },
  {
   "cell_type": "code",
   "execution_count": 159,
   "metadata": {},
   "outputs": [
    {
     "data": {
      "text/plain": [
       "{1: (3, 4), 2: (1, 3), 3: (17, 20), 4: (13, 17), 5: (8, 13)}"
      ]
     },
     "execution_count": 159,
     "metadata": {},
     "output_type": "execute_result"
    }
   ],
   "source": [
    "new_pairs"
   ]
  },
  {
   "cell_type": "code",
   "execution_count": null,
   "metadata": {},
   "outputs": [],
   "source": []
  },
  {
   "cell_type": "code",
   "execution_count": 157,
   "metadata": {},
   "outputs": [
    {
     "data": {
      "text/plain": [
       "[(3, 4), (1, 3), (17, 20), (4, 8), (13, 17), (8, 13)]"
      ]
     },
     "execution_count": 157,
     "metadata": {},
     "output_type": "execute_result"
    }
   ],
   "source": [
    "s = [1,3,4,8,13,17,20]\n",
    "pairs=list(zip(s[0:],s[1:]))\n",
    "pairs.sort(key=lambda x:x[1]-x[0])\n",
    "pairs"
   ]
  },
  {
   "cell_type": "code",
   "execution_count": null,
   "metadata": {},
   "outputs": [],
   "source": []
  }
 ],
 "metadata": {
  "kernelspec": {
   "display_name": "Python 3",
   "language": "python",
   "name": "python3"
  },
  "language_info": {
   "codemirror_mode": {
    "name": "ipython",
    "version": 3
   },
   "file_extension": ".py",
   "mimetype": "text/x-python",
   "name": "python",
   "nbconvert_exporter": "python",
   "pygments_lexer": "ipython3",
   "version": "3.8.3"
  }
 },
 "nbformat": 4,
 "nbformat_minor": 4
}
